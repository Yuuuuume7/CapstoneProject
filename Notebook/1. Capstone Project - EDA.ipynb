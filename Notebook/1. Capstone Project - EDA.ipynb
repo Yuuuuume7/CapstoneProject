{
 "cells": [
  {
   "cell_type": "markdown",
   "id": "cfe80575",
   "metadata": {},
   "source": [
    "# Capstone Project - EDA\n",
    "## Sprint 1"
   ]
  },
  {
   "cell_type": "markdown",
   "id": "3f7acc22",
   "metadata": {},
   "source": [
    "### 1. Import libraries and read dataset"
   ]
  },
  {
   "cell_type": "code",
   "execution_count": 2,
   "id": "c4406fd9",
   "metadata": {},
   "outputs": [],
   "source": [
    "import pandas as pd\n",
    "import numpy as np\n",
    "\n",
    "import matplotlib.pyplot as plt\n",
    "import seaborn as sns\n",
    "import scipy as stats"
   ]
  },
  {
   "cell_type": "code",
   "execution_count": 3,
   "id": "d1ccc014",
   "metadata": {},
   "outputs": [],
   "source": [
    "cvt_df = pd.read_csv(\"heart_2020_cleaned.csv\")"
   ]
  },
  {
   "cell_type": "code",
   "execution_count": 4,
   "id": "ad3d971c",
   "metadata": {},
   "outputs": [
    {
     "data": {
      "text/html": [
       "<div>\n",
       "<style scoped>\n",
       "    .dataframe tbody tr th:only-of-type {\n",
       "        vertical-align: middle;\n",
       "    }\n",
       "\n",
       "    .dataframe tbody tr th {\n",
       "        vertical-align: top;\n",
       "    }\n",
       "\n",
       "    .dataframe thead th {\n",
       "        text-align: right;\n",
       "    }\n",
       "</style>\n",
       "<table border=\"1\" class=\"dataframe\">\n",
       "  <thead>\n",
       "    <tr style=\"text-align: right;\">\n",
       "      <th></th>\n",
       "      <th>HeartDisease</th>\n",
       "      <th>BMI</th>\n",
       "      <th>Smoking</th>\n",
       "      <th>AlcoholDrinking</th>\n",
       "      <th>Stroke</th>\n",
       "      <th>PhysicalHealth</th>\n",
       "      <th>MentalHealth</th>\n",
       "      <th>DiffWalking</th>\n",
       "      <th>Sex</th>\n",
       "      <th>AgeCategory</th>\n",
       "      <th>Race</th>\n",
       "      <th>Diabetic</th>\n",
       "      <th>PhysicalActivity</th>\n",
       "      <th>GenHealth</th>\n",
       "      <th>SleepTime</th>\n",
       "      <th>Asthma</th>\n",
       "      <th>KidneyDisease</th>\n",
       "      <th>SkinCancer</th>\n",
       "    </tr>\n",
       "  </thead>\n",
       "  <tbody>\n",
       "    <tr>\n",
       "      <th>0</th>\n",
       "      <td>No</td>\n",
       "      <td>16.60</td>\n",
       "      <td>Yes</td>\n",
       "      <td>No</td>\n",
       "      <td>No</td>\n",
       "      <td>3.0</td>\n",
       "      <td>30.0</td>\n",
       "      <td>No</td>\n",
       "      <td>Female</td>\n",
       "      <td>55-59</td>\n",
       "      <td>White</td>\n",
       "      <td>Yes</td>\n",
       "      <td>Yes</td>\n",
       "      <td>Very good</td>\n",
       "      <td>5.0</td>\n",
       "      <td>Yes</td>\n",
       "      <td>No</td>\n",
       "      <td>Yes</td>\n",
       "    </tr>\n",
       "    <tr>\n",
       "      <th>1</th>\n",
       "      <td>No</td>\n",
       "      <td>20.34</td>\n",
       "      <td>No</td>\n",
       "      <td>No</td>\n",
       "      <td>Yes</td>\n",
       "      <td>0.0</td>\n",
       "      <td>0.0</td>\n",
       "      <td>No</td>\n",
       "      <td>Female</td>\n",
       "      <td>80 or older</td>\n",
       "      <td>White</td>\n",
       "      <td>No</td>\n",
       "      <td>Yes</td>\n",
       "      <td>Very good</td>\n",
       "      <td>7.0</td>\n",
       "      <td>No</td>\n",
       "      <td>No</td>\n",
       "      <td>No</td>\n",
       "    </tr>\n",
       "    <tr>\n",
       "      <th>2</th>\n",
       "      <td>No</td>\n",
       "      <td>26.58</td>\n",
       "      <td>Yes</td>\n",
       "      <td>No</td>\n",
       "      <td>No</td>\n",
       "      <td>20.0</td>\n",
       "      <td>30.0</td>\n",
       "      <td>No</td>\n",
       "      <td>Male</td>\n",
       "      <td>65-69</td>\n",
       "      <td>White</td>\n",
       "      <td>Yes</td>\n",
       "      <td>Yes</td>\n",
       "      <td>Fair</td>\n",
       "      <td>8.0</td>\n",
       "      <td>Yes</td>\n",
       "      <td>No</td>\n",
       "      <td>No</td>\n",
       "    </tr>\n",
       "    <tr>\n",
       "      <th>3</th>\n",
       "      <td>No</td>\n",
       "      <td>24.21</td>\n",
       "      <td>No</td>\n",
       "      <td>No</td>\n",
       "      <td>No</td>\n",
       "      <td>0.0</td>\n",
       "      <td>0.0</td>\n",
       "      <td>No</td>\n",
       "      <td>Female</td>\n",
       "      <td>75-79</td>\n",
       "      <td>White</td>\n",
       "      <td>No</td>\n",
       "      <td>No</td>\n",
       "      <td>Good</td>\n",
       "      <td>6.0</td>\n",
       "      <td>No</td>\n",
       "      <td>No</td>\n",
       "      <td>Yes</td>\n",
       "    </tr>\n",
       "    <tr>\n",
       "      <th>4</th>\n",
       "      <td>No</td>\n",
       "      <td>23.71</td>\n",
       "      <td>No</td>\n",
       "      <td>No</td>\n",
       "      <td>No</td>\n",
       "      <td>28.0</td>\n",
       "      <td>0.0</td>\n",
       "      <td>Yes</td>\n",
       "      <td>Female</td>\n",
       "      <td>40-44</td>\n",
       "      <td>White</td>\n",
       "      <td>No</td>\n",
       "      <td>Yes</td>\n",
       "      <td>Very good</td>\n",
       "      <td>8.0</td>\n",
       "      <td>No</td>\n",
       "      <td>No</td>\n",
       "      <td>No</td>\n",
       "    </tr>\n",
       "  </tbody>\n",
       "</table>\n",
       "</div>"
      ],
      "text/plain": [
       "  HeartDisease    BMI Smoking AlcoholDrinking Stroke  PhysicalHealth  \\\n",
       "0           No  16.60     Yes              No     No             3.0   \n",
       "1           No  20.34      No              No    Yes             0.0   \n",
       "2           No  26.58     Yes              No     No            20.0   \n",
       "3           No  24.21      No              No     No             0.0   \n",
       "4           No  23.71      No              No     No            28.0   \n",
       "\n",
       "   MentalHealth DiffWalking     Sex  AgeCategory   Race Diabetic  \\\n",
       "0          30.0          No  Female        55-59  White      Yes   \n",
       "1           0.0          No  Female  80 or older  White       No   \n",
       "2          30.0          No    Male        65-69  White      Yes   \n",
       "3           0.0          No  Female        75-79  White       No   \n",
       "4           0.0         Yes  Female        40-44  White       No   \n",
       "\n",
       "  PhysicalActivity  GenHealth  SleepTime Asthma KidneyDisease SkinCancer  \n",
       "0              Yes  Very good        5.0    Yes            No        Yes  \n",
       "1              Yes  Very good        7.0     No            No         No  \n",
       "2              Yes       Fair        8.0    Yes            No         No  \n",
       "3               No       Good        6.0     No            No        Yes  \n",
       "4              Yes  Very good        8.0     No            No         No  "
      ]
     },
     "execution_count": 4,
     "metadata": {},
     "output_type": "execute_result"
    }
   ],
   "source": [
    "cvt_df.head()"
   ]
  },
  {
   "cell_type": "markdown",
   "id": "8d05798f",
   "metadata": {},
   "source": [
    "### Data infomation  \n",
    "**HeartDisease** : Respondents that have ever reported having coronary heart disease (CHD) or myocardial infarction (MI) / categorical    \n",
    "**BMI** : Body Mass Index (BMI) / numeric  \n",
    "**Smoking** : Have you smoked at least 100 cigarettes in your entire life? (Note: 5 packs = 100 cigarettes) / categorical  \n",
    "**AlcoholDrinking** : Heavy drinkers (adult men having more than 14 drinks per week and adult women having more than 7 drinks per week) / categorical  \n",
    "**Stroke** : (Ever told) (you had) a stroke? / categorical  \n",
    "**PhysicalHealth** : Now thinking about your physical health, which includes physical illness and injury, for how many days during the past 30 / numeric  \n",
    "**MentalHealth** : Thinking about your mental health, for how many days during the past 30 days was your mental health not good? / numeric  \n",
    "**DiffWalking** : Do you have serious difficulty walking or climbing stairs? / categorical  \n",
    "**Sex** : Are you male or female? / categorical  \n",
    "**AgeCategory** : Fourteen-level age category / categorical  \n",
    "**Race** : Imputed race/ethnicity value / categorical  \n",
    "**Diabetic** : (Ever told) (you had) diabetes? / categorical  \n",
    "**PhysicalActivity** : Adults who reported doing physical activity or exercise during the past 30 days other than their regular job / categorical  \n",
    "**GenHealth** : Would you say that in general your health is... / categorical  \n",
    "**SleepTime** : On average, how many hours of sleep do you get in a 24-hour period? / numeric  \n",
    "**Asthma** : (Ever told) (you had) asthma? / categorical  \n",
    "**KidneyDisease** : Not including kidney stones, bladder infection or incontinence, were you ever told you had kidney disease? / categorical  \n",
    "**SkinCancer** : (Ever told) (you had) skin cancer? / categorical"
   ]
  },
  {
   "cell_type": "code",
   "execution_count": 5,
   "id": "0660dab1",
   "metadata": {},
   "outputs": [
    {
     "data": {
      "text/plain": [
       "(319795, 18)"
      ]
     },
     "execution_count": 5,
     "metadata": {},
     "output_type": "execute_result"
    }
   ],
   "source": [
    "cvt_df.shape"
   ]
  },
  {
   "cell_type": "code",
   "execution_count": 6,
   "id": "c765f643",
   "metadata": {},
   "outputs": [
    {
     "name": "stdout",
     "output_type": "stream",
     "text": [
      "<class 'pandas.core.frame.DataFrame'>\n",
      "RangeIndex: 319795 entries, 0 to 319794\n",
      "Data columns (total 18 columns):\n",
      " #   Column            Non-Null Count   Dtype  \n",
      "---  ------            --------------   -----  \n",
      " 0   HeartDisease      319795 non-null  object \n",
      " 1   BMI               319795 non-null  float64\n",
      " 2   Smoking           319795 non-null  object \n",
      " 3   AlcoholDrinking   319795 non-null  object \n",
      " 4   Stroke            319795 non-null  object \n",
      " 5   PhysicalHealth    319795 non-null  float64\n",
      " 6   MentalHealth      319795 non-null  float64\n",
      " 7   DiffWalking       319795 non-null  object \n",
      " 8   Sex               319795 non-null  object \n",
      " 9   AgeCategory       319795 non-null  object \n",
      " 10  Race              319795 non-null  object \n",
      " 11  Diabetic          319795 non-null  object \n",
      " 12  PhysicalActivity  319795 non-null  object \n",
      " 13  GenHealth         319795 non-null  object \n",
      " 14  SleepTime         319795 non-null  float64\n",
      " 15  Asthma            319795 non-null  object \n",
      " 16  KidneyDisease     319795 non-null  object \n",
      " 17  SkinCancer        319795 non-null  object \n",
      "dtypes: float64(4), object(14)\n",
      "memory usage: 43.9+ MB\n"
     ]
    }
   ],
   "source": [
    "cvt_df.info()"
   ]
  },
  {
   "cell_type": "code",
   "execution_count": 7,
   "id": "44667564",
   "metadata": {},
   "outputs": [
    {
     "data": {
      "text/html": [
       "<div>\n",
       "<style scoped>\n",
       "    .dataframe tbody tr th:only-of-type {\n",
       "        vertical-align: middle;\n",
       "    }\n",
       "\n",
       "    .dataframe tbody tr th {\n",
       "        vertical-align: top;\n",
       "    }\n",
       "\n",
       "    .dataframe thead th {\n",
       "        text-align: right;\n",
       "    }\n",
       "</style>\n",
       "<table border=\"1\" class=\"dataframe\">\n",
       "  <thead>\n",
       "    <tr style=\"text-align: right;\">\n",
       "      <th></th>\n",
       "      <th>BMI</th>\n",
       "      <th>PhysicalHealth</th>\n",
       "      <th>MentalHealth</th>\n",
       "      <th>SleepTime</th>\n",
       "    </tr>\n",
       "  </thead>\n",
       "  <tbody>\n",
       "    <tr>\n",
       "      <th>count</th>\n",
       "      <td>319795.000000</td>\n",
       "      <td>319795.00000</td>\n",
       "      <td>319795.000000</td>\n",
       "      <td>319795.000000</td>\n",
       "    </tr>\n",
       "    <tr>\n",
       "      <th>mean</th>\n",
       "      <td>28.325399</td>\n",
       "      <td>3.37171</td>\n",
       "      <td>3.898366</td>\n",
       "      <td>7.097075</td>\n",
       "    </tr>\n",
       "    <tr>\n",
       "      <th>std</th>\n",
       "      <td>6.356100</td>\n",
       "      <td>7.95085</td>\n",
       "      <td>7.955235</td>\n",
       "      <td>1.436007</td>\n",
       "    </tr>\n",
       "    <tr>\n",
       "      <th>min</th>\n",
       "      <td>12.020000</td>\n",
       "      <td>0.00000</td>\n",
       "      <td>0.000000</td>\n",
       "      <td>1.000000</td>\n",
       "    </tr>\n",
       "    <tr>\n",
       "      <th>25%</th>\n",
       "      <td>24.030000</td>\n",
       "      <td>0.00000</td>\n",
       "      <td>0.000000</td>\n",
       "      <td>6.000000</td>\n",
       "    </tr>\n",
       "    <tr>\n",
       "      <th>50%</th>\n",
       "      <td>27.340000</td>\n",
       "      <td>0.00000</td>\n",
       "      <td>0.000000</td>\n",
       "      <td>7.000000</td>\n",
       "    </tr>\n",
       "    <tr>\n",
       "      <th>75%</th>\n",
       "      <td>31.420000</td>\n",
       "      <td>2.00000</td>\n",
       "      <td>3.000000</td>\n",
       "      <td>8.000000</td>\n",
       "    </tr>\n",
       "    <tr>\n",
       "      <th>max</th>\n",
       "      <td>94.850000</td>\n",
       "      <td>30.00000</td>\n",
       "      <td>30.000000</td>\n",
       "      <td>24.000000</td>\n",
       "    </tr>\n",
       "  </tbody>\n",
       "</table>\n",
       "</div>"
      ],
      "text/plain": [
       "                 BMI  PhysicalHealth   MentalHealth      SleepTime\n",
       "count  319795.000000    319795.00000  319795.000000  319795.000000\n",
       "mean       28.325399         3.37171       3.898366       7.097075\n",
       "std         6.356100         7.95085       7.955235       1.436007\n",
       "min        12.020000         0.00000       0.000000       1.000000\n",
       "25%        24.030000         0.00000       0.000000       6.000000\n",
       "50%        27.340000         0.00000       0.000000       7.000000\n",
       "75%        31.420000         2.00000       3.000000       8.000000\n",
       "max        94.850000        30.00000      30.000000      24.000000"
      ]
     },
     "execution_count": 7,
     "metadata": {},
     "output_type": "execute_result"
    }
   ],
   "source": [
    "cvt_df.describe()"
   ]
  },
  {
   "cell_type": "code",
   "execution_count": 8,
   "id": "ea43673d",
   "metadata": {},
   "outputs": [
    {
     "data": {
      "text/html": [
       "<div>\n",
       "<style scoped>\n",
       "    .dataframe tbody tr th:only-of-type {\n",
       "        vertical-align: middle;\n",
       "    }\n",
       "\n",
       "    .dataframe tbody tr th {\n",
       "        vertical-align: top;\n",
       "    }\n",
       "\n",
       "    .dataframe thead th {\n",
       "        text-align: right;\n",
       "    }\n",
       "</style>\n",
       "<table border=\"1\" class=\"dataframe\">\n",
       "  <thead>\n",
       "    <tr style=\"text-align: right;\">\n",
       "      <th></th>\n",
       "      <th>HeartDisease</th>\n",
       "      <th>BMI</th>\n",
       "      <th>Smoking</th>\n",
       "      <th>AlcoholDrinking</th>\n",
       "      <th>Stroke</th>\n",
       "      <th>PhysicalHealth</th>\n",
       "      <th>MentalHealth</th>\n",
       "      <th>DiffWalking</th>\n",
       "      <th>Sex</th>\n",
       "      <th>AgeCategory</th>\n",
       "      <th>Race</th>\n",
       "      <th>Diabetic</th>\n",
       "      <th>PhysicalActivity</th>\n",
       "      <th>GenHealth</th>\n",
       "      <th>SleepTime</th>\n",
       "      <th>Asthma</th>\n",
       "      <th>KidneyDisease</th>\n",
       "      <th>SkinCancer</th>\n",
       "    </tr>\n",
       "  </thead>\n",
       "  <tbody>\n",
       "    <tr>\n",
       "      <th>count</th>\n",
       "      <td>319795</td>\n",
       "      <td>319795.000000</td>\n",
       "      <td>319795</td>\n",
       "      <td>319795</td>\n",
       "      <td>319795</td>\n",
       "      <td>319795.00000</td>\n",
       "      <td>319795.000000</td>\n",
       "      <td>319795</td>\n",
       "      <td>319795</td>\n",
       "      <td>319795</td>\n",
       "      <td>319795</td>\n",
       "      <td>319795</td>\n",
       "      <td>319795</td>\n",
       "      <td>319795</td>\n",
       "      <td>319795.000000</td>\n",
       "      <td>319795</td>\n",
       "      <td>319795</td>\n",
       "      <td>319795</td>\n",
       "    </tr>\n",
       "    <tr>\n",
       "      <th>unique</th>\n",
       "      <td>2</td>\n",
       "      <td>NaN</td>\n",
       "      <td>2</td>\n",
       "      <td>2</td>\n",
       "      <td>2</td>\n",
       "      <td>NaN</td>\n",
       "      <td>NaN</td>\n",
       "      <td>2</td>\n",
       "      <td>2</td>\n",
       "      <td>13</td>\n",
       "      <td>6</td>\n",
       "      <td>4</td>\n",
       "      <td>2</td>\n",
       "      <td>5</td>\n",
       "      <td>NaN</td>\n",
       "      <td>2</td>\n",
       "      <td>2</td>\n",
       "      <td>2</td>\n",
       "    </tr>\n",
       "    <tr>\n",
       "      <th>top</th>\n",
       "      <td>No</td>\n",
       "      <td>NaN</td>\n",
       "      <td>No</td>\n",
       "      <td>No</td>\n",
       "      <td>No</td>\n",
       "      <td>NaN</td>\n",
       "      <td>NaN</td>\n",
       "      <td>No</td>\n",
       "      <td>Female</td>\n",
       "      <td>65-69</td>\n",
       "      <td>White</td>\n",
       "      <td>No</td>\n",
       "      <td>Yes</td>\n",
       "      <td>Very good</td>\n",
       "      <td>NaN</td>\n",
       "      <td>No</td>\n",
       "      <td>No</td>\n",
       "      <td>No</td>\n",
       "    </tr>\n",
       "    <tr>\n",
       "      <th>freq</th>\n",
       "      <td>292422</td>\n",
       "      <td>NaN</td>\n",
       "      <td>187887</td>\n",
       "      <td>298018</td>\n",
       "      <td>307726</td>\n",
       "      <td>NaN</td>\n",
       "      <td>NaN</td>\n",
       "      <td>275385</td>\n",
       "      <td>167805</td>\n",
       "      <td>34151</td>\n",
       "      <td>245212</td>\n",
       "      <td>269653</td>\n",
       "      <td>247957</td>\n",
       "      <td>113858</td>\n",
       "      <td>NaN</td>\n",
       "      <td>276923</td>\n",
       "      <td>308016</td>\n",
       "      <td>289976</td>\n",
       "    </tr>\n",
       "    <tr>\n",
       "      <th>mean</th>\n",
       "      <td>NaN</td>\n",
       "      <td>28.325399</td>\n",
       "      <td>NaN</td>\n",
       "      <td>NaN</td>\n",
       "      <td>NaN</td>\n",
       "      <td>3.37171</td>\n",
       "      <td>3.898366</td>\n",
       "      <td>NaN</td>\n",
       "      <td>NaN</td>\n",
       "      <td>NaN</td>\n",
       "      <td>NaN</td>\n",
       "      <td>NaN</td>\n",
       "      <td>NaN</td>\n",
       "      <td>NaN</td>\n",
       "      <td>7.097075</td>\n",
       "      <td>NaN</td>\n",
       "      <td>NaN</td>\n",
       "      <td>NaN</td>\n",
       "    </tr>\n",
       "    <tr>\n",
       "      <th>std</th>\n",
       "      <td>NaN</td>\n",
       "      <td>6.356100</td>\n",
       "      <td>NaN</td>\n",
       "      <td>NaN</td>\n",
       "      <td>NaN</td>\n",
       "      <td>7.95085</td>\n",
       "      <td>7.955235</td>\n",
       "      <td>NaN</td>\n",
       "      <td>NaN</td>\n",
       "      <td>NaN</td>\n",
       "      <td>NaN</td>\n",
       "      <td>NaN</td>\n",
       "      <td>NaN</td>\n",
       "      <td>NaN</td>\n",
       "      <td>1.436007</td>\n",
       "      <td>NaN</td>\n",
       "      <td>NaN</td>\n",
       "      <td>NaN</td>\n",
       "    </tr>\n",
       "    <tr>\n",
       "      <th>min</th>\n",
       "      <td>NaN</td>\n",
       "      <td>12.020000</td>\n",
       "      <td>NaN</td>\n",
       "      <td>NaN</td>\n",
       "      <td>NaN</td>\n",
       "      <td>0.00000</td>\n",
       "      <td>0.000000</td>\n",
       "      <td>NaN</td>\n",
       "      <td>NaN</td>\n",
       "      <td>NaN</td>\n",
       "      <td>NaN</td>\n",
       "      <td>NaN</td>\n",
       "      <td>NaN</td>\n",
       "      <td>NaN</td>\n",
       "      <td>1.000000</td>\n",
       "      <td>NaN</td>\n",
       "      <td>NaN</td>\n",
       "      <td>NaN</td>\n",
       "    </tr>\n",
       "    <tr>\n",
       "      <th>25%</th>\n",
       "      <td>NaN</td>\n",
       "      <td>24.030000</td>\n",
       "      <td>NaN</td>\n",
       "      <td>NaN</td>\n",
       "      <td>NaN</td>\n",
       "      <td>0.00000</td>\n",
       "      <td>0.000000</td>\n",
       "      <td>NaN</td>\n",
       "      <td>NaN</td>\n",
       "      <td>NaN</td>\n",
       "      <td>NaN</td>\n",
       "      <td>NaN</td>\n",
       "      <td>NaN</td>\n",
       "      <td>NaN</td>\n",
       "      <td>6.000000</td>\n",
       "      <td>NaN</td>\n",
       "      <td>NaN</td>\n",
       "      <td>NaN</td>\n",
       "    </tr>\n",
       "    <tr>\n",
       "      <th>50%</th>\n",
       "      <td>NaN</td>\n",
       "      <td>27.340000</td>\n",
       "      <td>NaN</td>\n",
       "      <td>NaN</td>\n",
       "      <td>NaN</td>\n",
       "      <td>0.00000</td>\n",
       "      <td>0.000000</td>\n",
       "      <td>NaN</td>\n",
       "      <td>NaN</td>\n",
       "      <td>NaN</td>\n",
       "      <td>NaN</td>\n",
       "      <td>NaN</td>\n",
       "      <td>NaN</td>\n",
       "      <td>NaN</td>\n",
       "      <td>7.000000</td>\n",
       "      <td>NaN</td>\n",
       "      <td>NaN</td>\n",
       "      <td>NaN</td>\n",
       "    </tr>\n",
       "    <tr>\n",
       "      <th>75%</th>\n",
       "      <td>NaN</td>\n",
       "      <td>31.420000</td>\n",
       "      <td>NaN</td>\n",
       "      <td>NaN</td>\n",
       "      <td>NaN</td>\n",
       "      <td>2.00000</td>\n",
       "      <td>3.000000</td>\n",
       "      <td>NaN</td>\n",
       "      <td>NaN</td>\n",
       "      <td>NaN</td>\n",
       "      <td>NaN</td>\n",
       "      <td>NaN</td>\n",
       "      <td>NaN</td>\n",
       "      <td>NaN</td>\n",
       "      <td>8.000000</td>\n",
       "      <td>NaN</td>\n",
       "      <td>NaN</td>\n",
       "      <td>NaN</td>\n",
       "    </tr>\n",
       "    <tr>\n",
       "      <th>max</th>\n",
       "      <td>NaN</td>\n",
       "      <td>94.850000</td>\n",
       "      <td>NaN</td>\n",
       "      <td>NaN</td>\n",
       "      <td>NaN</td>\n",
       "      <td>30.00000</td>\n",
       "      <td>30.000000</td>\n",
       "      <td>NaN</td>\n",
       "      <td>NaN</td>\n",
       "      <td>NaN</td>\n",
       "      <td>NaN</td>\n",
       "      <td>NaN</td>\n",
       "      <td>NaN</td>\n",
       "      <td>NaN</td>\n",
       "      <td>24.000000</td>\n",
       "      <td>NaN</td>\n",
       "      <td>NaN</td>\n",
       "      <td>NaN</td>\n",
       "    </tr>\n",
       "  </tbody>\n",
       "</table>\n",
       "</div>"
      ],
      "text/plain": [
       "       HeartDisease            BMI Smoking AlcoholDrinking  Stroke  \\\n",
       "count        319795  319795.000000  319795          319795  319795   \n",
       "unique            2            NaN       2               2       2   \n",
       "top              No            NaN      No              No      No   \n",
       "freq         292422            NaN  187887          298018  307726   \n",
       "mean            NaN      28.325399     NaN             NaN     NaN   \n",
       "std             NaN       6.356100     NaN             NaN     NaN   \n",
       "min             NaN      12.020000     NaN             NaN     NaN   \n",
       "25%             NaN      24.030000     NaN             NaN     NaN   \n",
       "50%             NaN      27.340000     NaN             NaN     NaN   \n",
       "75%             NaN      31.420000     NaN             NaN     NaN   \n",
       "max             NaN      94.850000     NaN             NaN     NaN   \n",
       "\n",
       "        PhysicalHealth   MentalHealth DiffWalking     Sex AgeCategory    Race  \\\n",
       "count     319795.00000  319795.000000      319795  319795      319795  319795   \n",
       "unique             NaN            NaN           2       2          13       6   \n",
       "top                NaN            NaN          No  Female       65-69   White   \n",
       "freq               NaN            NaN      275385  167805       34151  245212   \n",
       "mean           3.37171       3.898366         NaN     NaN         NaN     NaN   \n",
       "std            7.95085       7.955235         NaN     NaN         NaN     NaN   \n",
       "min            0.00000       0.000000         NaN     NaN         NaN     NaN   \n",
       "25%            0.00000       0.000000         NaN     NaN         NaN     NaN   \n",
       "50%            0.00000       0.000000         NaN     NaN         NaN     NaN   \n",
       "75%            2.00000       3.000000         NaN     NaN         NaN     NaN   \n",
       "max           30.00000      30.000000         NaN     NaN         NaN     NaN   \n",
       "\n",
       "       Diabetic PhysicalActivity  GenHealth      SleepTime  Asthma  \\\n",
       "count    319795           319795     319795  319795.000000  319795   \n",
       "unique        4                2          5            NaN       2   \n",
       "top          No              Yes  Very good            NaN      No   \n",
       "freq     269653           247957     113858            NaN  276923   \n",
       "mean        NaN              NaN        NaN       7.097075     NaN   \n",
       "std         NaN              NaN        NaN       1.436007     NaN   \n",
       "min         NaN              NaN        NaN       1.000000     NaN   \n",
       "25%         NaN              NaN        NaN       6.000000     NaN   \n",
       "50%         NaN              NaN        NaN       7.000000     NaN   \n",
       "75%         NaN              NaN        NaN       8.000000     NaN   \n",
       "max         NaN              NaN        NaN      24.000000     NaN   \n",
       "\n",
       "       KidneyDisease SkinCancer  \n",
       "count         319795     319795  \n",
       "unique             2          2  \n",
       "top               No         No  \n",
       "freq          308016     289976  \n",
       "mean             NaN        NaN  \n",
       "std              NaN        NaN  \n",
       "min              NaN        NaN  \n",
       "25%              NaN        NaN  \n",
       "50%              NaN        NaN  \n",
       "75%              NaN        NaN  \n",
       "max              NaN        NaN  "
      ]
     },
     "execution_count": 8,
     "metadata": {},
     "output_type": "execute_result"
    }
   ],
   "source": [
    "cvt_df.describe(include=\"all\")"
   ]
  },
  {
   "cell_type": "markdown",
   "id": "1c526c5e",
   "metadata": {},
   "source": [
    "This dataset has 319795 rows, and you can see there are no null values in any columns with this dataset. There are only 4 numerical columns, so you only can see mean, standered deviation, minimum, maximum and so forth of those columns. Many columns have \"Yes\"/\"No\" values, such as \"HeartDisease\", \"Smoking\", \"AlcoholDrinking\", \"Stroke\", \"DiffWalking\", \"PhysicalActivity\", \"Asthma\", \"KidneyDisease\", and \"SkinCancer\". \"Diabetic\" column has yes/no values too, but you can see there are 4 unique values in that column from above. Also, there are 13 unique values in AgeCategory column, 6 unique values in Race column, and 5 unique values in GenHealth column."
   ]
  },
  {
   "cell_type": "markdown",
   "id": "965a9f75",
   "metadata": {},
   "source": [
    "### 2. Data Cleaning"
   ]
  },
  {
   "cell_type": "markdown",
   "id": "74865ac4",
   "metadata": {},
   "source": [
    "**Checking duplicated rows**"
   ]
  },
  {
   "cell_type": "markdown",
   "id": "97a9da44",
   "metadata": {},
   "source": [
    "There are no null values in this dataset (see above), so I'll check if there are duplicated rows now."
   ]
  },
  {
   "cell_type": "code",
   "execution_count": 9,
   "id": "ad3540bd",
   "metadata": {},
   "outputs": [
    {
     "data": {
      "text/plain": [
       "18078"
      ]
     },
     "execution_count": 9,
     "metadata": {},
     "output_type": "execute_result"
    }
   ],
   "source": [
    "cvt_df.duplicated().sum()"
   ]
  },
  {
   "cell_type": "code",
   "execution_count": 10,
   "id": "40d51f04",
   "metadata": {},
   "outputs": [
    {
     "name": "stdout",
     "output_type": "stream",
     "text": [
      "5.65% of rows in this dataset are duplicated.\n"
     ]
    }
   ],
   "source": [
    "print(f\"{cvt_df.duplicated().sum()/len(cvt_df)*100:4.3}% of rows in this dataset are duplicated.\")"
   ]
  },
  {
   "cell_type": "markdown",
   "id": "20d8acd2",
   "metadata": {},
   "source": [
    "There are many duplicated values. However, this dataset is large, so the duplicated rows are only 5.65% of the dataset. I'm goint to see what the duplicated rows looks like, then decide if I'll drop them or not."
   ]
  },
  {
   "cell_type": "code",
   "execution_count": 11,
   "id": "1891b494",
   "metadata": {},
   "outputs": [
    {
     "data": {
      "text/html": [
       "<div>\n",
       "<style scoped>\n",
       "    .dataframe tbody tr th:only-of-type {\n",
       "        vertical-align: middle;\n",
       "    }\n",
       "\n",
       "    .dataframe tbody tr th {\n",
       "        vertical-align: top;\n",
       "    }\n",
       "\n",
       "    .dataframe thead th {\n",
       "        text-align: right;\n",
       "    }\n",
       "</style>\n",
       "<table border=\"1\" class=\"dataframe\">\n",
       "  <thead>\n",
       "    <tr style=\"text-align: right;\">\n",
       "      <th></th>\n",
       "      <th>HeartDisease</th>\n",
       "      <th>BMI</th>\n",
       "      <th>Smoking</th>\n",
       "      <th>AlcoholDrinking</th>\n",
       "      <th>Stroke</th>\n",
       "      <th>PhysicalHealth</th>\n",
       "      <th>MentalHealth</th>\n",
       "      <th>DiffWalking</th>\n",
       "      <th>Sex</th>\n",
       "      <th>AgeCategory</th>\n",
       "      <th>Race</th>\n",
       "      <th>Diabetic</th>\n",
       "      <th>PhysicalActivity</th>\n",
       "      <th>GenHealth</th>\n",
       "      <th>SleepTime</th>\n",
       "      <th>Asthma</th>\n",
       "      <th>KidneyDisease</th>\n",
       "      <th>SkinCancer</th>\n",
       "    </tr>\n",
       "  </thead>\n",
       "  <tbody>\n",
       "    <tr>\n",
       "      <th>2182</th>\n",
       "      <td>No</td>\n",
       "      <td>19.85</td>\n",
       "      <td>No</td>\n",
       "      <td>No</td>\n",
       "      <td>No</td>\n",
       "      <td>0.0</td>\n",
       "      <td>0.0</td>\n",
       "      <td>No</td>\n",
       "      <td>Female</td>\n",
       "      <td>80 or older</td>\n",
       "      <td>White</td>\n",
       "      <td>No</td>\n",
       "      <td>Yes</td>\n",
       "      <td>Excellent</td>\n",
       "      <td>7.0</td>\n",
       "      <td>No</td>\n",
       "      <td>No</td>\n",
       "      <td>No</td>\n",
       "    </tr>\n",
       "    <tr>\n",
       "      <th>3182</th>\n",
       "      <td>No</td>\n",
       "      <td>28.19</td>\n",
       "      <td>No</td>\n",
       "      <td>No</td>\n",
       "      <td>No</td>\n",
       "      <td>0.0</td>\n",
       "      <td>0.0</td>\n",
       "      <td>No</td>\n",
       "      <td>Female</td>\n",
       "      <td>50-54</td>\n",
       "      <td>White</td>\n",
       "      <td>No</td>\n",
       "      <td>Yes</td>\n",
       "      <td>Excellent</td>\n",
       "      <td>7.0</td>\n",
       "      <td>No</td>\n",
       "      <td>No</td>\n",
       "      <td>No</td>\n",
       "    </tr>\n",
       "    <tr>\n",
       "      <th>3397</th>\n",
       "      <td>No</td>\n",
       "      <td>26.54</td>\n",
       "      <td>No</td>\n",
       "      <td>No</td>\n",
       "      <td>No</td>\n",
       "      <td>0.0</td>\n",
       "      <td>0.0</td>\n",
       "      <td>No</td>\n",
       "      <td>Male</td>\n",
       "      <td>45-49</td>\n",
       "      <td>White</td>\n",
       "      <td>No</td>\n",
       "      <td>Yes</td>\n",
       "      <td>Excellent</td>\n",
       "      <td>6.0</td>\n",
       "      <td>No</td>\n",
       "      <td>No</td>\n",
       "      <td>No</td>\n",
       "    </tr>\n",
       "    <tr>\n",
       "      <th>3650</th>\n",
       "      <td>No</td>\n",
       "      <td>32.89</td>\n",
       "      <td>Yes</td>\n",
       "      <td>No</td>\n",
       "      <td>No</td>\n",
       "      <td>2.0</td>\n",
       "      <td>1.0</td>\n",
       "      <td>No</td>\n",
       "      <td>Female</td>\n",
       "      <td>50-54</td>\n",
       "      <td>White</td>\n",
       "      <td>No</td>\n",
       "      <td>Yes</td>\n",
       "      <td>Good</td>\n",
       "      <td>9.0</td>\n",
       "      <td>No</td>\n",
       "      <td>No</td>\n",
       "      <td>No</td>\n",
       "    </tr>\n",
       "    <tr>\n",
       "      <th>4061</th>\n",
       "      <td>No</td>\n",
       "      <td>25.84</td>\n",
       "      <td>No</td>\n",
       "      <td>No</td>\n",
       "      <td>No</td>\n",
       "      <td>0.0</td>\n",
       "      <td>0.0</td>\n",
       "      <td>No</td>\n",
       "      <td>Female</td>\n",
       "      <td>40-44</td>\n",
       "      <td>White</td>\n",
       "      <td>No</td>\n",
       "      <td>Yes</td>\n",
       "      <td>Excellent</td>\n",
       "      <td>8.0</td>\n",
       "      <td>No</td>\n",
       "      <td>No</td>\n",
       "      <td>No</td>\n",
       "    </tr>\n",
       "  </tbody>\n",
       "</table>\n",
       "</div>"
      ],
      "text/plain": [
       "     HeartDisease    BMI Smoking AlcoholDrinking Stroke  PhysicalHealth  \\\n",
       "2182           No  19.85      No              No     No             0.0   \n",
       "3182           No  28.19      No              No     No             0.0   \n",
       "3397           No  26.54      No              No     No             0.0   \n",
       "3650           No  32.89     Yes              No     No             2.0   \n",
       "4061           No  25.84      No              No     No             0.0   \n",
       "\n",
       "      MentalHealth DiffWalking     Sex  AgeCategory   Race Diabetic  \\\n",
       "2182           0.0          No  Female  80 or older  White       No   \n",
       "3182           0.0          No  Female        50-54  White       No   \n",
       "3397           0.0          No    Male        45-49  White       No   \n",
       "3650           1.0          No  Female        50-54  White       No   \n",
       "4061           0.0          No  Female        40-44  White       No   \n",
       "\n",
       "     PhysicalActivity  GenHealth  SleepTime Asthma KidneyDisease SkinCancer  \n",
       "2182              Yes  Excellent        7.0     No            No         No  \n",
       "3182              Yes  Excellent        7.0     No            No         No  \n",
       "3397              Yes  Excellent        6.0     No            No         No  \n",
       "3650              Yes       Good        9.0     No            No         No  \n",
       "4061              Yes  Excellent        8.0     No            No         No  "
      ]
     },
     "execution_count": 11,
     "metadata": {},
     "output_type": "execute_result"
    }
   ],
   "source": [
    "# Create a dataframe which is only contain the duplicated rows from the original dataset\n",
    "duplicated = cvt_df[cvt_df.duplicated()]\n",
    "duplicated.head()"
   ]
  },
  {
   "cell_type": "code",
   "execution_count": 12,
   "id": "a3afba93",
   "metadata": {},
   "outputs": [
    {
     "data": {
      "text/plain": [
       "No     17966\n",
       "Yes      112\n",
       "Name: HeartDisease, dtype: int64"
      ]
     },
     "execution_count": 12,
     "metadata": {},
     "output_type": "execute_result"
    }
   ],
   "source": [
    "# See how many \"Yes\" value of HeartDisease column in duplicated rows\n",
    "duplicated[\"HeartDisease\"].value_counts()"
   ]
  },
  {
   "cell_type": "code",
   "execution_count": 13,
   "id": "d6fdf6aa",
   "metadata": {},
   "outputs": [
    {
     "data": {
      "text/html": [
       "<div>\n",
       "<style scoped>\n",
       "    .dataframe tbody tr th:only-of-type {\n",
       "        vertical-align: middle;\n",
       "    }\n",
       "\n",
       "    .dataframe tbody tr th {\n",
       "        vertical-align: top;\n",
       "    }\n",
       "\n",
       "    .dataframe thead th {\n",
       "        text-align: right;\n",
       "    }\n",
       "</style>\n",
       "<table border=\"1\" class=\"dataframe\">\n",
       "  <thead>\n",
       "    <tr style=\"text-align: right;\">\n",
       "      <th></th>\n",
       "      <th>HeartDisease</th>\n",
       "      <th>BMI</th>\n",
       "      <th>Smoking</th>\n",
       "      <th>AlcoholDrinking</th>\n",
       "      <th>Stroke</th>\n",
       "      <th>PhysicalHealth</th>\n",
       "      <th>MentalHealth</th>\n",
       "      <th>DiffWalking</th>\n",
       "      <th>Sex</th>\n",
       "      <th>AgeCategory</th>\n",
       "      <th>Race</th>\n",
       "      <th>Diabetic</th>\n",
       "      <th>PhysicalActivity</th>\n",
       "      <th>GenHealth</th>\n",
       "      <th>SleepTime</th>\n",
       "      <th>Asthma</th>\n",
       "      <th>KidneyDisease</th>\n",
       "      <th>SkinCancer</th>\n",
       "    </tr>\n",
       "  </thead>\n",
       "  <tbody>\n",
       "    <tr>\n",
       "      <th>42568</th>\n",
       "      <td>Yes</td>\n",
       "      <td>25.39</td>\n",
       "      <td>No</td>\n",
       "      <td>No</td>\n",
       "      <td>No</td>\n",
       "      <td>0.0</td>\n",
       "      <td>0.0</td>\n",
       "      <td>No</td>\n",
       "      <td>Male</td>\n",
       "      <td>70-74</td>\n",
       "      <td>White</td>\n",
       "      <td>No</td>\n",
       "      <td>Yes</td>\n",
       "      <td>Very good</td>\n",
       "      <td>8.0</td>\n",
       "      <td>No</td>\n",
       "      <td>No</td>\n",
       "      <td>No</td>\n",
       "    </tr>\n",
       "    <tr>\n",
       "      <th>59185</th>\n",
       "      <td>Yes</td>\n",
       "      <td>26.78</td>\n",
       "      <td>Yes</td>\n",
       "      <td>No</td>\n",
       "      <td>No</td>\n",
       "      <td>0.0</td>\n",
       "      <td>0.0</td>\n",
       "      <td>No</td>\n",
       "      <td>Male</td>\n",
       "      <td>75-79</td>\n",
       "      <td>White</td>\n",
       "      <td>Yes</td>\n",
       "      <td>Yes</td>\n",
       "      <td>Good</td>\n",
       "      <td>8.0</td>\n",
       "      <td>No</td>\n",
       "      <td>No</td>\n",
       "      <td>Yes</td>\n",
       "    </tr>\n",
       "    <tr>\n",
       "      <th>62181</th>\n",
       "      <td>Yes</td>\n",
       "      <td>26.63</td>\n",
       "      <td>Yes</td>\n",
       "      <td>No</td>\n",
       "      <td>No</td>\n",
       "      <td>0.0</td>\n",
       "      <td>0.0</td>\n",
       "      <td>No</td>\n",
       "      <td>Female</td>\n",
       "      <td>70-74</td>\n",
       "      <td>White</td>\n",
       "      <td>No</td>\n",
       "      <td>Yes</td>\n",
       "      <td>Excellent</td>\n",
       "      <td>8.0</td>\n",
       "      <td>No</td>\n",
       "      <td>No</td>\n",
       "      <td>Yes</td>\n",
       "    </tr>\n",
       "    <tr>\n",
       "      <th>82434</th>\n",
       "      <td>Yes</td>\n",
       "      <td>29.16</td>\n",
       "      <td>Yes</td>\n",
       "      <td>No</td>\n",
       "      <td>No</td>\n",
       "      <td>0.0</td>\n",
       "      <td>0.0</td>\n",
       "      <td>No</td>\n",
       "      <td>Male</td>\n",
       "      <td>65-69</td>\n",
       "      <td>White</td>\n",
       "      <td>No</td>\n",
       "      <td>Yes</td>\n",
       "      <td>Good</td>\n",
       "      <td>6.0</td>\n",
       "      <td>No</td>\n",
       "      <td>No</td>\n",
       "      <td>No</td>\n",
       "    </tr>\n",
       "    <tr>\n",
       "      <th>88069</th>\n",
       "      <td>Yes</td>\n",
       "      <td>26.63</td>\n",
       "      <td>No</td>\n",
       "      <td>No</td>\n",
       "      <td>No</td>\n",
       "      <td>0.0</td>\n",
       "      <td>0.0</td>\n",
       "      <td>No</td>\n",
       "      <td>Male</td>\n",
       "      <td>80 or older</td>\n",
       "      <td>White</td>\n",
       "      <td>No</td>\n",
       "      <td>Yes</td>\n",
       "      <td>Very good</td>\n",
       "      <td>8.0</td>\n",
       "      <td>No</td>\n",
       "      <td>No</td>\n",
       "      <td>No</td>\n",
       "    </tr>\n",
       "    <tr>\n",
       "      <th>...</th>\n",
       "      <td>...</td>\n",
       "      <td>...</td>\n",
       "      <td>...</td>\n",
       "      <td>...</td>\n",
       "      <td>...</td>\n",
       "      <td>...</td>\n",
       "      <td>...</td>\n",
       "      <td>...</td>\n",
       "      <td>...</td>\n",
       "      <td>...</td>\n",
       "      <td>...</td>\n",
       "      <td>...</td>\n",
       "      <td>...</td>\n",
       "      <td>...</td>\n",
       "      <td>...</td>\n",
       "      <td>...</td>\n",
       "      <td>...</td>\n",
       "      <td>...</td>\n",
       "    </tr>\n",
       "    <tr>\n",
       "      <th>306090</th>\n",
       "      <td>Yes</td>\n",
       "      <td>28.34</td>\n",
       "      <td>Yes</td>\n",
       "      <td>No</td>\n",
       "      <td>No</td>\n",
       "      <td>0.0</td>\n",
       "      <td>0.0</td>\n",
       "      <td>No</td>\n",
       "      <td>Female</td>\n",
       "      <td>80 or older</td>\n",
       "      <td>White</td>\n",
       "      <td>Yes</td>\n",
       "      <td>Yes</td>\n",
       "      <td>Good</td>\n",
       "      <td>7.0</td>\n",
       "      <td>No</td>\n",
       "      <td>No</td>\n",
       "      <td>No</td>\n",
       "    </tr>\n",
       "    <tr>\n",
       "      <th>307478</th>\n",
       "      <td>Yes</td>\n",
       "      <td>32.55</td>\n",
       "      <td>No</td>\n",
       "      <td>No</td>\n",
       "      <td>No</td>\n",
       "      <td>0.0</td>\n",
       "      <td>0.0</td>\n",
       "      <td>No</td>\n",
       "      <td>Male</td>\n",
       "      <td>65-69</td>\n",
       "      <td>White</td>\n",
       "      <td>No</td>\n",
       "      <td>Yes</td>\n",
       "      <td>Very good</td>\n",
       "      <td>8.0</td>\n",
       "      <td>No</td>\n",
       "      <td>No</td>\n",
       "      <td>No</td>\n",
       "    </tr>\n",
       "    <tr>\n",
       "      <th>307535</th>\n",
       "      <td>Yes</td>\n",
       "      <td>23.73</td>\n",
       "      <td>No</td>\n",
       "      <td>No</td>\n",
       "      <td>No</td>\n",
       "      <td>0.0</td>\n",
       "      <td>0.0</td>\n",
       "      <td>No</td>\n",
       "      <td>Male</td>\n",
       "      <td>65-69</td>\n",
       "      <td>White</td>\n",
       "      <td>No</td>\n",
       "      <td>Yes</td>\n",
       "      <td>Very good</td>\n",
       "      <td>8.0</td>\n",
       "      <td>No</td>\n",
       "      <td>No</td>\n",
       "      <td>No</td>\n",
       "    </tr>\n",
       "    <tr>\n",
       "      <th>309539</th>\n",
       "      <td>Yes</td>\n",
       "      <td>28.70</td>\n",
       "      <td>No</td>\n",
       "      <td>No</td>\n",
       "      <td>No</td>\n",
       "      <td>0.0</td>\n",
       "      <td>0.0</td>\n",
       "      <td>No</td>\n",
       "      <td>Male</td>\n",
       "      <td>65-69</td>\n",
       "      <td>White</td>\n",
       "      <td>No</td>\n",
       "      <td>Yes</td>\n",
       "      <td>Good</td>\n",
       "      <td>8.0</td>\n",
       "      <td>No</td>\n",
       "      <td>No</td>\n",
       "      <td>No</td>\n",
       "    </tr>\n",
       "    <tr>\n",
       "      <th>311776</th>\n",
       "      <td>Yes</td>\n",
       "      <td>29.29</td>\n",
       "      <td>Yes</td>\n",
       "      <td>No</td>\n",
       "      <td>No</td>\n",
       "      <td>0.0</td>\n",
       "      <td>0.0</td>\n",
       "      <td>No</td>\n",
       "      <td>Female</td>\n",
       "      <td>80 or older</td>\n",
       "      <td>White</td>\n",
       "      <td>No</td>\n",
       "      <td>Yes</td>\n",
       "      <td>Good</td>\n",
       "      <td>7.0</td>\n",
       "      <td>No</td>\n",
       "      <td>No</td>\n",
       "      <td>No</td>\n",
       "    </tr>\n",
       "  </tbody>\n",
       "</table>\n",
       "<p>112 rows × 18 columns</p>\n",
       "</div>"
      ],
      "text/plain": [
       "       HeartDisease    BMI Smoking AlcoholDrinking Stroke  PhysicalHealth  \\\n",
       "42568           Yes  25.39      No              No     No             0.0   \n",
       "59185           Yes  26.78     Yes              No     No             0.0   \n",
       "62181           Yes  26.63     Yes              No     No             0.0   \n",
       "82434           Yes  29.16     Yes              No     No             0.0   \n",
       "88069           Yes  26.63      No              No     No             0.0   \n",
       "...             ...    ...     ...             ...    ...             ...   \n",
       "306090          Yes  28.34     Yes              No     No             0.0   \n",
       "307478          Yes  32.55      No              No     No             0.0   \n",
       "307535          Yes  23.73      No              No     No             0.0   \n",
       "309539          Yes  28.70      No              No     No             0.0   \n",
       "311776          Yes  29.29     Yes              No     No             0.0   \n",
       "\n",
       "        MentalHealth DiffWalking     Sex  AgeCategory   Race Diabetic  \\\n",
       "42568            0.0          No    Male        70-74  White       No   \n",
       "59185            0.0          No    Male        75-79  White      Yes   \n",
       "62181            0.0          No  Female        70-74  White       No   \n",
       "82434            0.0          No    Male        65-69  White       No   \n",
       "88069            0.0          No    Male  80 or older  White       No   \n",
       "...              ...         ...     ...          ...    ...      ...   \n",
       "306090           0.0          No  Female  80 or older  White      Yes   \n",
       "307478           0.0          No    Male        65-69  White       No   \n",
       "307535           0.0          No    Male        65-69  White       No   \n",
       "309539           0.0          No    Male        65-69  White       No   \n",
       "311776           0.0          No  Female  80 or older  White       No   \n",
       "\n",
       "       PhysicalActivity  GenHealth  SleepTime Asthma KidneyDisease SkinCancer  \n",
       "42568               Yes  Very good        8.0     No            No         No  \n",
       "59185               Yes       Good        8.0     No            No        Yes  \n",
       "62181               Yes  Excellent        8.0     No            No        Yes  \n",
       "82434               Yes       Good        6.0     No            No         No  \n",
       "88069               Yes  Very good        8.0     No            No         No  \n",
       "...                 ...        ...        ...    ...           ...        ...  \n",
       "306090              Yes       Good        7.0     No            No         No  \n",
       "307478              Yes  Very good        8.0     No            No         No  \n",
       "307535              Yes  Very good        8.0     No            No         No  \n",
       "309539              Yes       Good        8.0     No            No         No  \n",
       "311776              Yes       Good        7.0     No            No         No  \n",
       "\n",
       "[112 rows x 18 columns]"
      ]
     },
     "execution_count": 13,
     "metadata": {},
     "output_type": "execute_result"
    }
   ],
   "source": [
    "duplicated[duplicated[\"HeartDisease\"]==\"Yes\"]"
   ]
  },
  {
   "cell_type": "markdown",
   "id": "8443d4ed",
   "metadata": {},
   "source": [
    "Most of the columns are \"Yes\"/\"No\" binaries, so it could happen that all the answer of respondent match with other person's answer. In addition, all the numerical columns have limits, such as 0 to 30 in PhysicalHealth and MentalHealth columns. And the answer between percentage of 25% to 75% which means 50% of answers at least don't have big gaps (see above), such as from about 24 to 31 in BMI column and from 6 hours to 8 hours in SleepTime column. There were 319795 respondents and half of them answered within those numbers, then there could be some people answered exact same things. Therefore, duplicated rows don't always mean they are actual duplicates. For those reasons, I keep those duplicated rows.  \n",
    "\n",
    "Now, I'll check for duplicates of columns."
   ]
  },
  {
   "cell_type": "markdown",
   "id": "2db71ab8",
   "metadata": {},
   "source": [
    "**Checking duplicated columns**"
   ]
  },
  {
   "cell_type": "code",
   "execution_count": 14,
   "id": "cf825725",
   "metadata": {
    "scrolled": true
   },
   "outputs": [
    {
     "data": {
      "text/plain": [
       "HeartDisease        False\n",
       "BMI                 False\n",
       "Smoking             False\n",
       "AlcoholDrinking     False\n",
       "Stroke              False\n",
       "PhysicalHealth      False\n",
       "MentalHealth        False\n",
       "DiffWalking         False\n",
       "Sex                 False\n",
       "AgeCategory         False\n",
       "Race                False\n",
       "Diabetic            False\n",
       "PhysicalActivity    False\n",
       "GenHealth           False\n",
       "SleepTime           False\n",
       "Asthma              False\n",
       "KidneyDisease       False\n",
       "SkinCancer          False\n",
       "dtype: bool"
      ]
     },
     "execution_count": 14,
     "metadata": {},
     "output_type": "execute_result"
    }
   ],
   "source": [
    "cvt_df.T.duplicated()"
   ]
  },
  {
   "cell_type": "markdown",
   "id": "9069769d",
   "metadata": {},
   "source": [
    "There are no duplicated columns, so I'll keep continue.\n",
    "\n",
    "Now I'm going to check outliers."
   ]
  },
  {
   "cell_type": "markdown",
   "id": "54db2fe9",
   "metadata": {},
   "source": [
    "**Checking outliers**"
   ]
  },
  {
   "cell_type": "code",
   "execution_count": 15,
   "id": "f617e6f1",
   "metadata": {},
   "outputs": [
    {
     "data": {
      "text/html": [
       "<div>\n",
       "<style scoped>\n",
       "    .dataframe tbody tr th:only-of-type {\n",
       "        vertical-align: middle;\n",
       "    }\n",
       "\n",
       "    .dataframe tbody tr th {\n",
       "        vertical-align: top;\n",
       "    }\n",
       "\n",
       "    .dataframe thead th {\n",
       "        text-align: right;\n",
       "    }\n",
       "</style>\n",
       "<table border=\"1\" class=\"dataframe\">\n",
       "  <thead>\n",
       "    <tr style=\"text-align: right;\">\n",
       "      <th></th>\n",
       "      <th>HeartDisease</th>\n",
       "      <th>BMI</th>\n",
       "      <th>Smoking</th>\n",
       "      <th>AlcoholDrinking</th>\n",
       "      <th>Stroke</th>\n",
       "      <th>PhysicalHealth</th>\n",
       "      <th>MentalHealth</th>\n",
       "      <th>DiffWalking</th>\n",
       "      <th>Sex</th>\n",
       "      <th>AgeCategory</th>\n",
       "      <th>Race</th>\n",
       "      <th>Diabetic</th>\n",
       "      <th>PhysicalActivity</th>\n",
       "      <th>GenHealth</th>\n",
       "      <th>SleepTime</th>\n",
       "      <th>Asthma</th>\n",
       "      <th>KidneyDisease</th>\n",
       "      <th>SkinCancer</th>\n",
       "    </tr>\n",
       "  </thead>\n",
       "  <tbody>\n",
       "    <tr>\n",
       "      <th>count</th>\n",
       "      <td>319795</td>\n",
       "      <td>319795.000000</td>\n",
       "      <td>319795</td>\n",
       "      <td>319795</td>\n",
       "      <td>319795</td>\n",
       "      <td>319795.00000</td>\n",
       "      <td>319795.000000</td>\n",
       "      <td>319795</td>\n",
       "      <td>319795</td>\n",
       "      <td>319795</td>\n",
       "      <td>319795</td>\n",
       "      <td>319795</td>\n",
       "      <td>319795</td>\n",
       "      <td>319795</td>\n",
       "      <td>319795.000000</td>\n",
       "      <td>319795</td>\n",
       "      <td>319795</td>\n",
       "      <td>319795</td>\n",
       "    </tr>\n",
       "    <tr>\n",
       "      <th>unique</th>\n",
       "      <td>2</td>\n",
       "      <td>NaN</td>\n",
       "      <td>2</td>\n",
       "      <td>2</td>\n",
       "      <td>2</td>\n",
       "      <td>NaN</td>\n",
       "      <td>NaN</td>\n",
       "      <td>2</td>\n",
       "      <td>2</td>\n",
       "      <td>13</td>\n",
       "      <td>6</td>\n",
       "      <td>4</td>\n",
       "      <td>2</td>\n",
       "      <td>5</td>\n",
       "      <td>NaN</td>\n",
       "      <td>2</td>\n",
       "      <td>2</td>\n",
       "      <td>2</td>\n",
       "    </tr>\n",
       "    <tr>\n",
       "      <th>top</th>\n",
       "      <td>No</td>\n",
       "      <td>NaN</td>\n",
       "      <td>No</td>\n",
       "      <td>No</td>\n",
       "      <td>No</td>\n",
       "      <td>NaN</td>\n",
       "      <td>NaN</td>\n",
       "      <td>No</td>\n",
       "      <td>Female</td>\n",
       "      <td>65-69</td>\n",
       "      <td>White</td>\n",
       "      <td>No</td>\n",
       "      <td>Yes</td>\n",
       "      <td>Very good</td>\n",
       "      <td>NaN</td>\n",
       "      <td>No</td>\n",
       "      <td>No</td>\n",
       "      <td>No</td>\n",
       "    </tr>\n",
       "    <tr>\n",
       "      <th>freq</th>\n",
       "      <td>292422</td>\n",
       "      <td>NaN</td>\n",
       "      <td>187887</td>\n",
       "      <td>298018</td>\n",
       "      <td>307726</td>\n",
       "      <td>NaN</td>\n",
       "      <td>NaN</td>\n",
       "      <td>275385</td>\n",
       "      <td>167805</td>\n",
       "      <td>34151</td>\n",
       "      <td>245212</td>\n",
       "      <td>269653</td>\n",
       "      <td>247957</td>\n",
       "      <td>113858</td>\n",
       "      <td>NaN</td>\n",
       "      <td>276923</td>\n",
       "      <td>308016</td>\n",
       "      <td>289976</td>\n",
       "    </tr>\n",
       "    <tr>\n",
       "      <th>mean</th>\n",
       "      <td>NaN</td>\n",
       "      <td>28.325399</td>\n",
       "      <td>NaN</td>\n",
       "      <td>NaN</td>\n",
       "      <td>NaN</td>\n",
       "      <td>3.37171</td>\n",
       "      <td>3.898366</td>\n",
       "      <td>NaN</td>\n",
       "      <td>NaN</td>\n",
       "      <td>NaN</td>\n",
       "      <td>NaN</td>\n",
       "      <td>NaN</td>\n",
       "      <td>NaN</td>\n",
       "      <td>NaN</td>\n",
       "      <td>7.097075</td>\n",
       "      <td>NaN</td>\n",
       "      <td>NaN</td>\n",
       "      <td>NaN</td>\n",
       "    </tr>\n",
       "    <tr>\n",
       "      <th>std</th>\n",
       "      <td>NaN</td>\n",
       "      <td>6.356100</td>\n",
       "      <td>NaN</td>\n",
       "      <td>NaN</td>\n",
       "      <td>NaN</td>\n",
       "      <td>7.95085</td>\n",
       "      <td>7.955235</td>\n",
       "      <td>NaN</td>\n",
       "      <td>NaN</td>\n",
       "      <td>NaN</td>\n",
       "      <td>NaN</td>\n",
       "      <td>NaN</td>\n",
       "      <td>NaN</td>\n",
       "      <td>NaN</td>\n",
       "      <td>1.436007</td>\n",
       "      <td>NaN</td>\n",
       "      <td>NaN</td>\n",
       "      <td>NaN</td>\n",
       "    </tr>\n",
       "    <tr>\n",
       "      <th>min</th>\n",
       "      <td>NaN</td>\n",
       "      <td>12.020000</td>\n",
       "      <td>NaN</td>\n",
       "      <td>NaN</td>\n",
       "      <td>NaN</td>\n",
       "      <td>0.00000</td>\n",
       "      <td>0.000000</td>\n",
       "      <td>NaN</td>\n",
       "      <td>NaN</td>\n",
       "      <td>NaN</td>\n",
       "      <td>NaN</td>\n",
       "      <td>NaN</td>\n",
       "      <td>NaN</td>\n",
       "      <td>NaN</td>\n",
       "      <td>1.000000</td>\n",
       "      <td>NaN</td>\n",
       "      <td>NaN</td>\n",
       "      <td>NaN</td>\n",
       "    </tr>\n",
       "    <tr>\n",
       "      <th>25%</th>\n",
       "      <td>NaN</td>\n",
       "      <td>24.030000</td>\n",
       "      <td>NaN</td>\n",
       "      <td>NaN</td>\n",
       "      <td>NaN</td>\n",
       "      <td>0.00000</td>\n",
       "      <td>0.000000</td>\n",
       "      <td>NaN</td>\n",
       "      <td>NaN</td>\n",
       "      <td>NaN</td>\n",
       "      <td>NaN</td>\n",
       "      <td>NaN</td>\n",
       "      <td>NaN</td>\n",
       "      <td>NaN</td>\n",
       "      <td>6.000000</td>\n",
       "      <td>NaN</td>\n",
       "      <td>NaN</td>\n",
       "      <td>NaN</td>\n",
       "    </tr>\n",
       "    <tr>\n",
       "      <th>50%</th>\n",
       "      <td>NaN</td>\n",
       "      <td>27.340000</td>\n",
       "      <td>NaN</td>\n",
       "      <td>NaN</td>\n",
       "      <td>NaN</td>\n",
       "      <td>0.00000</td>\n",
       "      <td>0.000000</td>\n",
       "      <td>NaN</td>\n",
       "      <td>NaN</td>\n",
       "      <td>NaN</td>\n",
       "      <td>NaN</td>\n",
       "      <td>NaN</td>\n",
       "      <td>NaN</td>\n",
       "      <td>NaN</td>\n",
       "      <td>7.000000</td>\n",
       "      <td>NaN</td>\n",
       "      <td>NaN</td>\n",
       "      <td>NaN</td>\n",
       "    </tr>\n",
       "    <tr>\n",
       "      <th>75%</th>\n",
       "      <td>NaN</td>\n",
       "      <td>31.420000</td>\n",
       "      <td>NaN</td>\n",
       "      <td>NaN</td>\n",
       "      <td>NaN</td>\n",
       "      <td>2.00000</td>\n",
       "      <td>3.000000</td>\n",
       "      <td>NaN</td>\n",
       "      <td>NaN</td>\n",
       "      <td>NaN</td>\n",
       "      <td>NaN</td>\n",
       "      <td>NaN</td>\n",
       "      <td>NaN</td>\n",
       "      <td>NaN</td>\n",
       "      <td>8.000000</td>\n",
       "      <td>NaN</td>\n",
       "      <td>NaN</td>\n",
       "      <td>NaN</td>\n",
       "    </tr>\n",
       "    <tr>\n",
       "      <th>max</th>\n",
       "      <td>NaN</td>\n",
       "      <td>94.850000</td>\n",
       "      <td>NaN</td>\n",
       "      <td>NaN</td>\n",
       "      <td>NaN</td>\n",
       "      <td>30.00000</td>\n",
       "      <td>30.000000</td>\n",
       "      <td>NaN</td>\n",
       "      <td>NaN</td>\n",
       "      <td>NaN</td>\n",
       "      <td>NaN</td>\n",
       "      <td>NaN</td>\n",
       "      <td>NaN</td>\n",
       "      <td>NaN</td>\n",
       "      <td>24.000000</td>\n",
       "      <td>NaN</td>\n",
       "      <td>NaN</td>\n",
       "      <td>NaN</td>\n",
       "    </tr>\n",
       "  </tbody>\n",
       "</table>\n",
       "</div>"
      ],
      "text/plain": [
       "       HeartDisease            BMI Smoking AlcoholDrinking  Stroke  \\\n",
       "count        319795  319795.000000  319795          319795  319795   \n",
       "unique            2            NaN       2               2       2   \n",
       "top              No            NaN      No              No      No   \n",
       "freq         292422            NaN  187887          298018  307726   \n",
       "mean            NaN      28.325399     NaN             NaN     NaN   \n",
       "std             NaN       6.356100     NaN             NaN     NaN   \n",
       "min             NaN      12.020000     NaN             NaN     NaN   \n",
       "25%             NaN      24.030000     NaN             NaN     NaN   \n",
       "50%             NaN      27.340000     NaN             NaN     NaN   \n",
       "75%             NaN      31.420000     NaN             NaN     NaN   \n",
       "max             NaN      94.850000     NaN             NaN     NaN   \n",
       "\n",
       "        PhysicalHealth   MentalHealth DiffWalking     Sex AgeCategory    Race  \\\n",
       "count     319795.00000  319795.000000      319795  319795      319795  319795   \n",
       "unique             NaN            NaN           2       2          13       6   \n",
       "top                NaN            NaN          No  Female       65-69   White   \n",
       "freq               NaN            NaN      275385  167805       34151  245212   \n",
       "mean           3.37171       3.898366         NaN     NaN         NaN     NaN   \n",
       "std            7.95085       7.955235         NaN     NaN         NaN     NaN   \n",
       "min            0.00000       0.000000         NaN     NaN         NaN     NaN   \n",
       "25%            0.00000       0.000000         NaN     NaN         NaN     NaN   \n",
       "50%            0.00000       0.000000         NaN     NaN         NaN     NaN   \n",
       "75%            2.00000       3.000000         NaN     NaN         NaN     NaN   \n",
       "max           30.00000      30.000000         NaN     NaN         NaN     NaN   \n",
       "\n",
       "       Diabetic PhysicalActivity  GenHealth      SleepTime  Asthma  \\\n",
       "count    319795           319795     319795  319795.000000  319795   \n",
       "unique        4                2          5            NaN       2   \n",
       "top          No              Yes  Very good            NaN      No   \n",
       "freq     269653           247957     113858            NaN  276923   \n",
       "mean        NaN              NaN        NaN       7.097075     NaN   \n",
       "std         NaN              NaN        NaN       1.436007     NaN   \n",
       "min         NaN              NaN        NaN       1.000000     NaN   \n",
       "25%         NaN              NaN        NaN       6.000000     NaN   \n",
       "50%         NaN              NaN        NaN       7.000000     NaN   \n",
       "75%         NaN              NaN        NaN       8.000000     NaN   \n",
       "max         NaN              NaN        NaN      24.000000     NaN   \n",
       "\n",
       "       KidneyDisease SkinCancer  \n",
       "count         319795     319795  \n",
       "unique             2          2  \n",
       "top               No         No  \n",
       "freq          308016     289976  \n",
       "mean             NaN        NaN  \n",
       "std              NaN        NaN  \n",
       "min              NaN        NaN  \n",
       "25%              NaN        NaN  \n",
       "50%              NaN        NaN  \n",
       "75%              NaN        NaN  \n",
       "max              NaN        NaN  "
      ]
     },
     "execution_count": 15,
     "metadata": {},
     "output_type": "execute_result"
    }
   ],
   "source": [
    "cvt_df.describe(include=\"all\")"
   ]
  },
  {
   "cell_type": "code",
   "execution_count": 16,
   "id": "cd0dd511",
   "metadata": {},
   "outputs": [],
   "source": [
    "# Get only numerical columns name\n",
    "columns = ['BMI', 'PhysicalHealth', 'MentalHealth', 'SleepTime']"
   ]
  },
  {
   "cell_type": "code",
   "execution_count": 17,
   "id": "64cbf179",
   "metadata": {},
   "outputs": [
    {
     "name": "stdout",
     "output_type": "stream",
     "text": [
      "319795\n",
      "RangeIndex(start=0, stop=319795, step=1)\n"
     ]
    }
   ],
   "source": [
    "print(len(cvt_df['BMI'].values))\n",
    "print(cvt_df['BMI'].index)"
   ]
  },
  {
   "cell_type": "code",
   "execution_count": 18,
   "id": "f9143cc7",
   "metadata": {},
   "outputs": [
    {
     "data": {
      "image/png": "[encoded data removed]",
      "text/plain": [
       "<Figure size 432x288 with 1 Axes>"
      ]
     },
     "metadata": {
      "needs_background": "light"
     },
     "output_type": "display_data"
    },
    {
     "data": {
      "image/png": "[encoded data removed]",
      "text/plain": [
       "<Figure size 432x288 with 1 Axes>"
      ]
     },
     "metadata": {
      "needs_background": "light"
     },
     "output_type": "display_data"
    },
    {
     "data": {
      "image/png": "[encoded data removed]",
      "text/plain": [
       "<Figure size 432x288 with 1 Axes>"
      ]
     },
     "metadata": {
      "needs_background": "light"
     },
     "output_type": "display_data"
    },
    {
     "data": {
      "image/png": "[encoded data removed]",
      "text/plain": [
       "<Figure size 432x288 with 1 Axes>"
      ]
     },
     "metadata": {
      "needs_background": "light"
     },
     "output_type": "display_data"
    }
   ],
   "source": [
    "for column in columns:\n",
    "    plt.scatter(x=cvt_df[column].value_counts().index, y=cvt_df[column].value_counts().values)\n",
    "    plt.ylabel('Count')\n",
    "    plt.title(column)\n",
    "    plt.show()"
   ]
  },
  {
   "cell_type": "code",
   "execution_count": 19,
   "id": "511585c4",
   "metadata": {},
   "outputs": [
    {
     "data": {
      "text/plain": [
       "91.44045404086994"
      ]
     },
     "execution_count": 19,
     "metadata": {},
     "output_type": "execute_result"
    }
   ],
   "source": [
    "# the rate of people who doesn't have heart disease\n",
    "sum(cvt_df['HeartDisease']=='No')/len(cvt_df)*100"
   ]
  },
  {
   "cell_type": "markdown",
   "id": "4863ab34",
   "metadata": {},
   "source": [
    "Looking at the plot of BMI, we can see that the peak is a BMI of around 30. Also, it looks like there are very low amount of people with a BMI of more than 60. This plot is hard to see, so I'll zoom it in.   \n",
    "\n",
    "About the plots of PhysicalHealth and MentalHealth, there are a lot of value of 0 since the rate of people who doesn't have heart disease is about 91%. Except that, I don't see any outliers.  \n",
    "\n",
    "The last plot, the peak is between 5 hour to 10 hour, and rest of the hours are low values. Since this plot shows people's sleep time, too long/short sleep hours might be typing error. Therefore, I'll check this column."
   ]
  },
  {
   "cell_type": "markdown",
   "id": "f39b2e6c",
   "metadata": {},
   "source": [
    "**Checking outliers of BMI data**"
   ]
  },
  {
   "cell_type": "code",
   "execution_count": 20,
   "id": "14eaaec4",
   "metadata": {},
   "outputs": [
    {
     "data": {
      "image/png": "[encoded data removed]",
      "text/plain": [
       "<Figure size 432x288 with 1 Axes>"
      ]
     },
     "metadata": {
      "needs_background": "light"
     },
     "output_type": "display_data"
    }
   ],
   "source": [
    "# Enlarged BMI plot\n",
    "Figure, ax = plt.subplots()\n",
    "\n",
    "plt.scatter(x=cvt_df['BMI'].value_counts().index, y=cvt_df['BMI'].value_counts().values)\n",
    "plt.title('BMI')\n",
    "ax.set_ylim([0, 500])\n",
    "plt.show()"
   ]
  },
  {
   "cell_type": "markdown",
   "id": "1dca9a4d",
   "metadata": {},
   "source": [
    "It looks like there are very few people with a BMI of more than 60."
   ]
  },
  {
   "cell_type": "markdown",
   "id": "f5fb145e",
   "metadata": {},
   "source": [
    "Before thinking and removing data, here is a little bit about BMI. The following table shows the BMI categories and their corresponding weight status:\n",
    "\n",
    "|**BMI**|**Wheigh Status**|\n",
    "|-|-|\n",
    "|< 18.5|Underweight|\n",
    "|18.5-24.9|Normal weight|\n",
    "|25-29.9|Overweight|\n",
    "|30-34.9|Obesity class I|\n",
    "|35-39.9|Obesity class II|\n",
    "|>=40|Obesity class III|"
   ]
  },
  {
   "cell_type": "markdown",
   "id": "bb31bd03",
   "metadata": {},
   "source": [
    "As you can see, a BMI of 30 or higher is considered to be obesity. Especially, a BMI of 40 or higher is considered to be in the class III obesity category, which is also known as extreme or severe obesity. According to CDC, the overall prevalence of obesity in the US is 30.5%"
   ]
  },
  {
   "cell_type": "code",
   "execution_count": 21,
   "id": "746b4f5b",
   "metadata": {
    "scrolled": true
   },
   "outputs": [
    {
     "name": "stdout",
     "output_type": "stream",
     "text": [
      "102842\n",
      "32.158726684282115\n"
     ]
    }
   ],
   "source": [
    "# See total number of people with a BMI of more than 30\n",
    "print(sum(cvt_df['BMI']>=30))\n",
    "print(sum(cvt_df['BMI']>=30)/len(cvt_df)*100)"
   ]
  },
  {
   "cell_type": "markdown",
   "id": "45269193",
   "metadata": {},
   "source": [
    "The people with a BMI of more than 30 in this dataset was 32.16%, so this dataset seems close to general data with this point."
   ]
  },
  {
   "cell_type": "markdown",
   "id": "180f70f3",
   "metadata": {},
   "source": [
    "Now, here is some example of hight and weight with a BMI around 50 and 60:\n",
    "\n",
    "|**Wheiht**|**Hight**| |**BMI**|\n",
    "|-|-|-|-|\n",
    "|120kg(264.6lb)|152cm(5ft)| |51.9|\n",
    "|140kg(264.6lb)|152cm(5ft)| |60.6|\n",
    "|170kg(374.8lb)|182cm(6ft)| |51.3|\n",
    "|200kg(374.8lb)|182cm(6ft)| |60.4|"
   ]
  },
  {
   "cell_type": "code",
   "execution_count": 22,
   "id": "76ff6a19",
   "metadata": {},
   "outputs": [
    {
     "name": "stdout",
     "output_type": "stream",
     "text": [
      "492\n",
      "0.15384855923325882\n"
     ]
    }
   ],
   "source": [
    "# See total number of people with a BMI of more than 60\n",
    "print(sum(cvt_df['BMI']>=60))\n",
    "print(sum(cvt_df['BMI']>=60)/len(cvt_df)*100)"
   ]
  },
  {
   "cell_type": "markdown",
   "id": "01eaed5a",
   "metadata": {},
   "source": [
    "The weights with a BMI of 60 or higher look very heavy and also not common since there are only 0.15% of people with a BMI of 60 or higher. So I'll drop the data with a BMI of 60 or higher."
   ]
  },
  {
   "cell_type": "code",
   "execution_count": 23,
   "id": "40a4fa8f",
   "metadata": {},
   "outputs": [
    {
     "data": {
      "text/plain": [
       "0"
      ]
     },
     "execution_count": 23,
     "metadata": {},
     "output_type": "execute_result"
    }
   ],
   "source": [
    "# Drop the data with a BMI of 60 or higher\n",
    "rows_to_drop_BMI = cvt_df.index[cvt_df['BMI']>=60]\n",
    "cvt_df = cvt_df.drop(rows_to_drop_BMI)\n",
    "\n",
    "# Check if I drop the data with a BMI of 60 or higher\n",
    "sum(cvt_df['BMI']>=60)"
   ]
  },
  {
   "cell_type": "markdown",
   "id": "0a5c883a",
   "metadata": {},
   "source": [
    "**Checking outliers of Sleep Time data**"
   ]
  },
  {
   "cell_type": "code",
   "execution_count": 24,
   "id": "c861526c",
   "metadata": {},
   "outputs": [
    {
     "data": {
      "image/png": "[encoded data removed]",
      "text/plain": [
       "<Figure size 432x288 with 1 Axes>"
      ]
     },
     "metadata": {
      "needs_background": "light"
     },
     "output_type": "display_data"
    }
   ],
   "source": [
    "# Enlarged SleepTime plot\n",
    "Figure, ax = plt.subplots()\n",
    "\n",
    "plt.scatter(x=cvt_df['SleepTime'].value_counts().index, y=cvt_df['SleepTime'].value_counts().values)\n",
    "plt.title('SleepTime')\n",
    "plt.axvline(x=13, color=\"lightgray\")\n",
    "ax.set_ylim([-100, 8000])\n",
    "plt.show()"
   ]
  },
  {
   "cell_type": "markdown",
   "id": "640c6232",
   "metadata": {},
   "source": [
    "Looks like the values of more than 13 hours sleep time are low."
   ]
  },
  {
   "cell_type": "code",
   "execution_count": 25,
   "id": "7a4afdb8",
   "metadata": {},
   "outputs": [
    {
     "data": {
      "image/png": "[encoded data removed]",
      "text/plain": [
       "<Figure size 432x288 with 1 Axes>"
      ]
     },
     "metadata": {
      "needs_background": "light"
     },
     "output_type": "display_data"
    }
   ],
   "source": [
    "# Enlarged SleepTime plot no.2\n",
    "Figure, ax = plt.subplots()\n",
    "\n",
    "plt.scatter(x=cvt_df['SleepTime'].value_counts().index, y=cvt_df['SleepTime'].value_counts().values)\n",
    "plt.title('SleepTime')\n",
    "plt.axvline(x=13, color=\"lightgray\")\n",
    "ax.set_ylim([-20, 1000])\n",
    "plt.show()"
   ]
  },
  {
   "cell_type": "markdown",
   "id": "f06349a5",
   "metadata": {},
   "source": [
    "This data is about people's avarage sleep time, and it is said that most adults need 7-9 hours of sleep per night. It could happen that people sleep in and get about 15 hours of sleep a day, but I think that is not usual things to happen, so 15 hours of avarage sleep time is not usuall things.\n",
    "\n",
    "The number of people decreased at the point of 13 hours of sleep time, but it got increased a little bit at the point of 14 to 16 hours. I thought some of those data were mistyping and got extra \"1\" in front of the actual number. However, it doesn't look happened to the sleep time between 17 to 19. Therefore, I consider there are no mistyping in those range. Also, the number of people whose average sleep time is more than 17 is low, so I'll drop those data."
   ]
  },
  {
   "cell_type": "code",
   "execution_count": 26,
   "id": "a5cece07",
   "metadata": {},
   "outputs": [
    {
     "name": "stdout",
     "output_type": "stream",
     "text": [
      "230\n",
      "0.07203189447014278\n"
     ]
    }
   ],
   "source": [
    "# number of rows and percentage of 17 hours or more of sleep time\n",
    "print(sum(cvt_df['SleepTime']>=17))\n",
    "print(sum(cvt_df['SleepTime']>=17)/len(cvt_df)*100)"
   ]
  },
  {
   "cell_type": "code",
   "execution_count": 27,
   "id": "57696253",
   "metadata": {},
   "outputs": [
    {
     "data": {
      "text/plain": [
       "0"
      ]
     },
     "execution_count": 27,
     "metadata": {},
     "output_type": "execute_result"
    }
   ],
   "source": [
    "# Drop the data with a BMI of 60 or higher\n",
    "rows_to_drop_sleep = cvt_df.index[cvt_df['SleepTime']>=17]\n",
    "cvt_df = cvt_df.drop(rows_to_drop_sleep)\n",
    "\n",
    "# Check if I drop the data with a BMI of 60 or higher\n",
    "sum(cvt_df['SleepTime']>=17)"
   ]
  },
  {
   "cell_type": "code",
   "execution_count": 28,
   "id": "9e418cbb",
   "metadata": {},
   "outputs": [
    {
     "name": "stdout",
     "output_type": "stream",
     "text": [
      "<class 'pandas.core.frame.DataFrame'>\n",
      "Int64Index: 319073 entries, 0 to 319794\n",
      "Data columns (total 18 columns):\n",
      " #   Column            Non-Null Count   Dtype  \n",
      "---  ------            --------------   -----  \n",
      " 0   HeartDisease      319073 non-null  object \n",
      " 1   BMI               319073 non-null  float64\n",
      " 2   Smoking           319073 non-null  object \n",
      " 3   AlcoholDrinking   319073 non-null  object \n",
      " 4   Stroke            319073 non-null  object \n",
      " 5   PhysicalHealth    319073 non-null  float64\n",
      " 6   MentalHealth      319073 non-null  float64\n",
      " 7   DiffWalking       319073 non-null  object \n",
      " 8   Sex               319073 non-null  object \n",
      " 9   AgeCategory       319073 non-null  object \n",
      " 10  Race              319073 non-null  object \n",
      " 11  Diabetic          319073 non-null  object \n",
      " 12  PhysicalActivity  319073 non-null  object \n",
      " 13  GenHealth         319073 non-null  object \n",
      " 14  SleepTime         319073 non-null  float64\n",
      " 15  Asthma            319073 non-null  object \n",
      " 16  KidneyDisease     319073 non-null  object \n",
      " 17  SkinCancer        319073 non-null  object \n",
      "dtypes: float64(4), object(14)\n",
      "memory usage: 46.3+ MB\n"
     ]
    }
   ],
   "source": [
    "cvt_df.info()"
   ]
  },
  {
   "cell_type": "code",
   "execution_count": 29,
   "id": "c4fb052a",
   "metadata": {},
   "outputs": [
    {
     "data": {
      "text/html": [
       "<div>\n",
       "<style scoped>\n",
       "    .dataframe tbody tr th:only-of-type {\n",
       "        vertical-align: middle;\n",
       "    }\n",
       "\n",
       "    .dataframe tbody tr th {\n",
       "        vertical-align: top;\n",
       "    }\n",
       "\n",
       "    .dataframe thead th {\n",
       "        text-align: right;\n",
       "    }\n",
       "</style>\n",
       "<table border=\"1\" class=\"dataframe\">\n",
       "  <thead>\n",
       "    <tr style=\"text-align: right;\">\n",
       "      <th></th>\n",
       "      <th>BMI</th>\n",
       "      <th>PhysicalHealth</th>\n",
       "      <th>MentalHealth</th>\n",
       "      <th>SleepTime</th>\n",
       "    </tr>\n",
       "  </thead>\n",
       "  <tbody>\n",
       "    <tr>\n",
       "      <th>count</th>\n",
       "      <td>319073.000000</td>\n",
       "      <td>319073.000000</td>\n",
       "      <td>319073.000000</td>\n",
       "      <td>319073.000000</td>\n",
       "    </tr>\n",
       "    <tr>\n",
       "      <th>mean</th>\n",
       "      <td>28.264732</td>\n",
       "      <td>3.355618</td>\n",
       "      <td>3.887211</td>\n",
       "      <td>7.088594</td>\n",
       "    </tr>\n",
       "    <tr>\n",
       "      <th>std</th>\n",
       "      <td>6.167446</td>\n",
       "      <td>7.929974</td>\n",
       "      <td>7.940627</td>\n",
       "      <td>1.394768</td>\n",
       "    </tr>\n",
       "    <tr>\n",
       "      <th>min</th>\n",
       "      <td>12.020000</td>\n",
       "      <td>0.000000</td>\n",
       "      <td>0.000000</td>\n",
       "      <td>1.000000</td>\n",
       "    </tr>\n",
       "    <tr>\n",
       "      <th>25%</th>\n",
       "      <td>24.030000</td>\n",
       "      <td>0.000000</td>\n",
       "      <td>0.000000</td>\n",
       "      <td>6.000000</td>\n",
       "    </tr>\n",
       "    <tr>\n",
       "      <th>50%</th>\n",
       "      <td>27.320000</td>\n",
       "      <td>0.000000</td>\n",
       "      <td>0.000000</td>\n",
       "      <td>7.000000</td>\n",
       "    </tr>\n",
       "    <tr>\n",
       "      <th>75%</th>\n",
       "      <td>31.380000</td>\n",
       "      <td>2.000000</td>\n",
       "      <td>3.000000</td>\n",
       "      <td>8.000000</td>\n",
       "    </tr>\n",
       "    <tr>\n",
       "      <th>max</th>\n",
       "      <td>59.970000</td>\n",
       "      <td>30.000000</td>\n",
       "      <td>30.000000</td>\n",
       "      <td>16.000000</td>\n",
       "    </tr>\n",
       "  </tbody>\n",
       "</table>\n",
       "</div>"
      ],
      "text/plain": [
       "                 BMI  PhysicalHealth   MentalHealth      SleepTime\n",
       "count  319073.000000   319073.000000  319073.000000  319073.000000\n",
       "mean       28.264732        3.355618       3.887211       7.088594\n",
       "std         6.167446        7.929974       7.940627       1.394768\n",
       "min        12.020000        0.000000       0.000000       1.000000\n",
       "25%        24.030000        0.000000       0.000000       6.000000\n",
       "50%        27.320000        0.000000       0.000000       7.000000\n",
       "75%        31.380000        2.000000       3.000000       8.000000\n",
       "max        59.970000       30.000000      30.000000      16.000000"
      ]
     },
     "execution_count": 29,
     "metadata": {},
     "output_type": "execute_result"
    }
   ],
   "source": [
    "cvt_df.describe()"
   ]
  },
  {
   "cell_type": "markdown",
   "id": "8d0a4fec",
   "metadata": {},
   "source": [
    "**Dropping unnecessary columns**"
   ]
  },
  {
   "cell_type": "markdown",
   "id": "e5b76bd9",
   "metadata": {},
   "source": [
    "Since I'm making a prediction model for ordinary people, I consider most of people doesn't know if they have diabetes or other disease. However, asthma develops when you are child in mose cases. So I think many people who have asthma already knows that they have asthma since the youngest age category is from 18 years old. Therefore, I'll keep Asthma column and remove \"Stroke\", \"Diabetic\", \"KidneyDisease\" and \"SkinCancer\" columns."
   ]
  },
  {
   "cell_type": "code",
   "execution_count": 31,
   "id": "170186c1",
   "metadata": {},
   "outputs": [
    {
     "data": {
      "text/plain": [
       "65-69          34099\n",
       "60-64          33614\n",
       "70-74          31024\n",
       "55-59          29665\n",
       "50-54          25300\n",
       "80 or older    24120\n",
       "45-49          21715\n",
       "75-79          21457\n",
       "18-24          21027\n",
       "40-44          20942\n",
       "35-39          20486\n",
       "30-34          18699\n",
       "25-29          16925\n",
       "Name: AgeCategory, dtype: int64"
      ]
     },
     "execution_count": 31,
     "metadata": {},
     "output_type": "execute_result"
    }
   ],
   "source": [
    "# Checking the youngest age in this dataset for the explanation above\n",
    "cvt_df[\"AgeCategory\"].value_counts()"
   ]
  },
  {
   "cell_type": "code",
   "execution_count": 32,
   "id": "da678b21",
   "metadata": {},
   "outputs": [],
   "source": [
    "# drop \"Stroke\", \"Diabetic\", \"KidneyDisease\" and \"SkinCancer\" columns and create cvt_df_clean dataframe\n",
    "cvt_df_clean = cvt_df.drop(columns=[\"Stroke\", \"Diabetic\", \"KidneyDisease\", \"SkinCancer\"]).copy()\n",
    "cvt_df_clean.reset_index(drop=True, inplace=True)"
   ]
  },
  {
   "cell_type": "markdown",
   "id": "af469dbc",
   "metadata": {},
   "source": [
    "Now my data set is clean."
   ]
  },
  {
   "cell_type": "code",
   "execution_count": 33,
   "id": "5af6b85d",
   "metadata": {},
   "outputs": [
    {
     "data": {
      "text/html": [
       "<div>\n",
       "<style scoped>\n",
       "    .dataframe tbody tr th:only-of-type {\n",
       "        vertical-align: middle;\n",
       "    }\n",
       "\n",
       "    .dataframe tbody tr th {\n",
       "        vertical-align: top;\n",
       "    }\n",
       "\n",
       "    .dataframe thead th {\n",
       "        text-align: right;\n",
       "    }\n",
       "</style>\n",
       "<table border=\"1\" class=\"dataframe\">\n",
       "  <thead>\n",
       "    <tr style=\"text-align: right;\">\n",
       "      <th></th>\n",
       "      <th>HeartDisease</th>\n",
       "      <th>BMI</th>\n",
       "      <th>Smoking</th>\n",
       "      <th>AlcoholDrinking</th>\n",
       "      <th>PhysicalHealth</th>\n",
       "      <th>MentalHealth</th>\n",
       "      <th>DiffWalking</th>\n",
       "      <th>Sex</th>\n",
       "      <th>AgeCategory</th>\n",
       "      <th>Race</th>\n",
       "      <th>PhysicalActivity</th>\n",
       "      <th>GenHealth</th>\n",
       "      <th>SleepTime</th>\n",
       "      <th>Asthma</th>\n",
       "    </tr>\n",
       "  </thead>\n",
       "  <tbody>\n",
       "    <tr>\n",
       "      <th>0</th>\n",
       "      <td>No</td>\n",
       "      <td>16.60</td>\n",
       "      <td>Yes</td>\n",
       "      <td>No</td>\n",
       "      <td>3.0</td>\n",
       "      <td>30.0</td>\n",
       "      <td>No</td>\n",
       "      <td>Female</td>\n",
       "      <td>55-59</td>\n",
       "      <td>White</td>\n",
       "      <td>Yes</td>\n",
       "      <td>Very good</td>\n",
       "      <td>5.0</td>\n",
       "      <td>Yes</td>\n",
       "    </tr>\n",
       "    <tr>\n",
       "      <th>1</th>\n",
       "      <td>No</td>\n",
       "      <td>20.34</td>\n",
       "      <td>No</td>\n",
       "      <td>No</td>\n",
       "      <td>0.0</td>\n",
       "      <td>0.0</td>\n",
       "      <td>No</td>\n",
       "      <td>Female</td>\n",
       "      <td>80 or older</td>\n",
       "      <td>White</td>\n",
       "      <td>Yes</td>\n",
       "      <td>Very good</td>\n",
       "      <td>7.0</td>\n",
       "      <td>No</td>\n",
       "    </tr>\n",
       "    <tr>\n",
       "      <th>2</th>\n",
       "      <td>No</td>\n",
       "      <td>26.58</td>\n",
       "      <td>Yes</td>\n",
       "      <td>No</td>\n",
       "      <td>20.0</td>\n",
       "      <td>30.0</td>\n",
       "      <td>No</td>\n",
       "      <td>Male</td>\n",
       "      <td>65-69</td>\n",
       "      <td>White</td>\n",
       "      <td>Yes</td>\n",
       "      <td>Fair</td>\n",
       "      <td>8.0</td>\n",
       "      <td>Yes</td>\n",
       "    </tr>\n",
       "    <tr>\n",
       "      <th>3</th>\n",
       "      <td>No</td>\n",
       "      <td>24.21</td>\n",
       "      <td>No</td>\n",
       "      <td>No</td>\n",
       "      <td>0.0</td>\n",
       "      <td>0.0</td>\n",
       "      <td>No</td>\n",
       "      <td>Female</td>\n",
       "      <td>75-79</td>\n",
       "      <td>White</td>\n",
       "      <td>No</td>\n",
       "      <td>Good</td>\n",
       "      <td>6.0</td>\n",
       "      <td>No</td>\n",
       "    </tr>\n",
       "    <tr>\n",
       "      <th>4</th>\n",
       "      <td>No</td>\n",
       "      <td>23.71</td>\n",
       "      <td>No</td>\n",
       "      <td>No</td>\n",
       "      <td>28.0</td>\n",
       "      <td>0.0</td>\n",
       "      <td>Yes</td>\n",
       "      <td>Female</td>\n",
       "      <td>40-44</td>\n",
       "      <td>White</td>\n",
       "      <td>Yes</td>\n",
       "      <td>Very good</td>\n",
       "      <td>8.0</td>\n",
       "      <td>No</td>\n",
       "    </tr>\n",
       "    <tr>\n",
       "      <th>5</th>\n",
       "      <td>Yes</td>\n",
       "      <td>28.87</td>\n",
       "      <td>Yes</td>\n",
       "      <td>No</td>\n",
       "      <td>6.0</td>\n",
       "      <td>0.0</td>\n",
       "      <td>Yes</td>\n",
       "      <td>Female</td>\n",
       "      <td>75-79</td>\n",
       "      <td>Black</td>\n",
       "      <td>No</td>\n",
       "      <td>Fair</td>\n",
       "      <td>12.0</td>\n",
       "      <td>No</td>\n",
       "    </tr>\n",
       "    <tr>\n",
       "      <th>6</th>\n",
       "      <td>No</td>\n",
       "      <td>21.63</td>\n",
       "      <td>No</td>\n",
       "      <td>No</td>\n",
       "      <td>15.0</td>\n",
       "      <td>0.0</td>\n",
       "      <td>No</td>\n",
       "      <td>Female</td>\n",
       "      <td>70-74</td>\n",
       "      <td>White</td>\n",
       "      <td>Yes</td>\n",
       "      <td>Fair</td>\n",
       "      <td>4.0</td>\n",
       "      <td>Yes</td>\n",
       "    </tr>\n",
       "    <tr>\n",
       "      <th>7</th>\n",
       "      <td>No</td>\n",
       "      <td>31.64</td>\n",
       "      <td>Yes</td>\n",
       "      <td>No</td>\n",
       "      <td>5.0</td>\n",
       "      <td>0.0</td>\n",
       "      <td>Yes</td>\n",
       "      <td>Female</td>\n",
       "      <td>80 or older</td>\n",
       "      <td>White</td>\n",
       "      <td>No</td>\n",
       "      <td>Good</td>\n",
       "      <td>9.0</td>\n",
       "      <td>Yes</td>\n",
       "    </tr>\n",
       "    <tr>\n",
       "      <th>8</th>\n",
       "      <td>No</td>\n",
       "      <td>26.45</td>\n",
       "      <td>No</td>\n",
       "      <td>No</td>\n",
       "      <td>0.0</td>\n",
       "      <td>0.0</td>\n",
       "      <td>No</td>\n",
       "      <td>Female</td>\n",
       "      <td>80 or older</td>\n",
       "      <td>White</td>\n",
       "      <td>No</td>\n",
       "      <td>Fair</td>\n",
       "      <td>5.0</td>\n",
       "      <td>No</td>\n",
       "    </tr>\n",
       "    <tr>\n",
       "      <th>9</th>\n",
       "      <td>No</td>\n",
       "      <td>40.69</td>\n",
       "      <td>No</td>\n",
       "      <td>No</td>\n",
       "      <td>0.0</td>\n",
       "      <td>0.0</td>\n",
       "      <td>Yes</td>\n",
       "      <td>Male</td>\n",
       "      <td>65-69</td>\n",
       "      <td>White</td>\n",
       "      <td>Yes</td>\n",
       "      <td>Good</td>\n",
       "      <td>10.0</td>\n",
       "      <td>No</td>\n",
       "    </tr>\n",
       "  </tbody>\n",
       "</table>\n",
       "</div>"
      ],
      "text/plain": [
       "  HeartDisease    BMI Smoking AlcoholDrinking  PhysicalHealth  MentalHealth  \\\n",
       "0           No  16.60     Yes              No             3.0          30.0   \n",
       "1           No  20.34      No              No             0.0           0.0   \n",
       "2           No  26.58     Yes              No            20.0          30.0   \n",
       "3           No  24.21      No              No             0.0           0.0   \n",
       "4           No  23.71      No              No            28.0           0.0   \n",
       "5          Yes  28.87     Yes              No             6.0           0.0   \n",
       "6           No  21.63      No              No            15.0           0.0   \n",
       "7           No  31.64     Yes              No             5.0           0.0   \n",
       "8           No  26.45      No              No             0.0           0.0   \n",
       "9           No  40.69      No              No             0.0           0.0   \n",
       "\n",
       "  DiffWalking     Sex  AgeCategory   Race PhysicalActivity  GenHealth  \\\n",
       "0          No  Female        55-59  White              Yes  Very good   \n",
       "1          No  Female  80 or older  White              Yes  Very good   \n",
       "2          No    Male        65-69  White              Yes       Fair   \n",
       "3          No  Female        75-79  White               No       Good   \n",
       "4         Yes  Female        40-44  White              Yes  Very good   \n",
       "5         Yes  Female        75-79  Black               No       Fair   \n",
       "6          No  Female        70-74  White              Yes       Fair   \n",
       "7         Yes  Female  80 or older  White               No       Good   \n",
       "8          No  Female  80 or older  White               No       Fair   \n",
       "9         Yes    Male        65-69  White              Yes       Good   \n",
       "\n",
       "   SleepTime Asthma  \n",
       "0        5.0    Yes  \n",
       "1        7.0     No  \n",
       "2        8.0    Yes  \n",
       "3        6.0     No  \n",
       "4        8.0     No  \n",
       "5       12.0     No  \n",
       "6        4.0    Yes  \n",
       "7        9.0    Yes  \n",
       "8        5.0     No  \n",
       "9       10.0     No  "
      ]
     },
     "execution_count": 33,
     "metadata": {},
     "output_type": "execute_result"
    }
   ],
   "source": [
    "cvt_df_clean.head(10)"
   ]
  },
  {
   "cell_type": "markdown",
   "id": "1683c2d1",
   "metadata": {},
   "source": [
    "### 3. Explore data"
   ]
  },
  {
   "cell_type": "markdown",
   "id": "b703a8ca",
   "metadata": {},
   "source": [
    "Now that I've cleaned the data, so I'll explore the data."
   ]
  },
  {
   "cell_type": "code",
   "execution_count": 34,
   "id": "0e890c40",
   "metadata": {},
   "outputs": [
    {
     "name": "stdout",
     "output_type": "stream",
     "text": [
      "<class 'pandas.core.frame.DataFrame'>\n",
      "RangeIndex: 319073 entries, 0 to 319072\n",
      "Data columns (total 14 columns):\n",
      " #   Column            Non-Null Count   Dtype  \n",
      "---  ------            --------------   -----  \n",
      " 0   HeartDisease      319073 non-null  object \n",
      " 1   BMI               319073 non-null  float64\n",
      " 2   Smoking           319073 non-null  object \n",
      " 3   AlcoholDrinking   319073 non-null  object \n",
      " 4   PhysicalHealth    319073 non-null  float64\n",
      " 5   MentalHealth      319073 non-null  float64\n",
      " 6   DiffWalking       319073 non-null  object \n",
      " 7   Sex               319073 non-null  object \n",
      " 8   AgeCategory       319073 non-null  object \n",
      " 9   Race              319073 non-null  object \n",
      " 10  PhysicalActivity  319073 non-null  object \n",
      " 11  GenHealth         319073 non-null  object \n",
      " 12  SleepTime         319073 non-null  float64\n",
      " 13  Asthma            319073 non-null  object \n",
      "dtypes: float64(4), object(10)\n",
      "memory usage: 34.1+ MB\n"
     ]
    }
   ],
   "source": [
    "cvt_df_clean.info()"
   ]
  },
  {
   "cell_type": "code",
   "execution_count": 35,
   "id": "b428ea6c",
   "metadata": {},
   "outputs": [
    {
     "data": {
      "text/html": [
       "<div>\n",
       "<style scoped>\n",
       "    .dataframe tbody tr th:only-of-type {\n",
       "        vertical-align: middle;\n",
       "    }\n",
       "\n",
       "    .dataframe tbody tr th {\n",
       "        vertical-align: top;\n",
       "    }\n",
       "\n",
       "    .dataframe thead th {\n",
       "        text-align: right;\n",
       "    }\n",
       "</style>\n",
       "<table border=\"1\" class=\"dataframe\">\n",
       "  <thead>\n",
       "    <tr style=\"text-align: right;\">\n",
       "      <th></th>\n",
       "      <th>HeartDisease</th>\n",
       "      <th>BMI</th>\n",
       "      <th>Smoking</th>\n",
       "      <th>AlcoholDrinking</th>\n",
       "      <th>PhysicalHealth</th>\n",
       "      <th>MentalHealth</th>\n",
       "      <th>DiffWalking</th>\n",
       "      <th>Sex</th>\n",
       "      <th>AgeCategory</th>\n",
       "      <th>Race</th>\n",
       "      <th>PhysicalActivity</th>\n",
       "      <th>GenHealth</th>\n",
       "      <th>SleepTime</th>\n",
       "      <th>Asthma</th>\n",
       "    </tr>\n",
       "  </thead>\n",
       "  <tbody>\n",
       "    <tr>\n",
       "      <th>count</th>\n",
       "      <td>319073</td>\n",
       "      <td>319073.000000</td>\n",
       "      <td>319073</td>\n",
       "      <td>319073</td>\n",
       "      <td>319073.000000</td>\n",
       "      <td>319073.000000</td>\n",
       "      <td>319073</td>\n",
       "      <td>319073</td>\n",
       "      <td>319073</td>\n",
       "      <td>319073</td>\n",
       "      <td>319073</td>\n",
       "      <td>319073</td>\n",
       "      <td>319073.000000</td>\n",
       "      <td>319073</td>\n",
       "    </tr>\n",
       "    <tr>\n",
       "      <th>unique</th>\n",
       "      <td>2</td>\n",
       "      <td>NaN</td>\n",
       "      <td>2</td>\n",
       "      <td>2</td>\n",
       "      <td>NaN</td>\n",
       "      <td>NaN</td>\n",
       "      <td>2</td>\n",
       "      <td>2</td>\n",
       "      <td>13</td>\n",
       "      <td>6</td>\n",
       "      <td>2</td>\n",
       "      <td>5</td>\n",
       "      <td>NaN</td>\n",
       "      <td>2</td>\n",
       "    </tr>\n",
       "    <tr>\n",
       "      <th>top</th>\n",
       "      <td>No</td>\n",
       "      <td>NaN</td>\n",
       "      <td>No</td>\n",
       "      <td>No</td>\n",
       "      <td>NaN</td>\n",
       "      <td>NaN</td>\n",
       "      <td>No</td>\n",
       "      <td>Female</td>\n",
       "      <td>65-69</td>\n",
       "      <td>White</td>\n",
       "      <td>Yes</td>\n",
       "      <td>Very good</td>\n",
       "      <td>NaN</td>\n",
       "      <td>No</td>\n",
       "    </tr>\n",
       "    <tr>\n",
       "      <th>freq</th>\n",
       "      <td>291804</td>\n",
       "      <td>NaN</td>\n",
       "      <td>187479</td>\n",
       "      <td>297340</td>\n",
       "      <td>NaN</td>\n",
       "      <td>NaN</td>\n",
       "      <td>275038</td>\n",
       "      <td>167368</td>\n",
       "      <td>34099</td>\n",
       "      <td>244825</td>\n",
       "      <td>247606</td>\n",
       "      <td>113770</td>\n",
       "      <td>NaN</td>\n",
       "      <td>276395</td>\n",
       "    </tr>\n",
       "    <tr>\n",
       "      <th>mean</th>\n",
       "      <td>NaN</td>\n",
       "      <td>28.264732</td>\n",
       "      <td>NaN</td>\n",
       "      <td>NaN</td>\n",
       "      <td>3.355618</td>\n",
       "      <td>3.887211</td>\n",
       "      <td>NaN</td>\n",
       "      <td>NaN</td>\n",
       "      <td>NaN</td>\n",
       "      <td>NaN</td>\n",
       "      <td>NaN</td>\n",
       "      <td>NaN</td>\n",
       "      <td>7.088594</td>\n",
       "      <td>NaN</td>\n",
       "    </tr>\n",
       "    <tr>\n",
       "      <th>std</th>\n",
       "      <td>NaN</td>\n",
       "      <td>6.167446</td>\n",
       "      <td>NaN</td>\n",
       "      <td>NaN</td>\n",
       "      <td>7.929974</td>\n",
       "      <td>7.940627</td>\n",
       "      <td>NaN</td>\n",
       "      <td>NaN</td>\n",
       "      <td>NaN</td>\n",
       "      <td>NaN</td>\n",
       "      <td>NaN</td>\n",
       "      <td>NaN</td>\n",
       "      <td>1.394768</td>\n",
       "      <td>NaN</td>\n",
       "    </tr>\n",
       "    <tr>\n",
       "      <th>min</th>\n",
       "      <td>NaN</td>\n",
       "      <td>12.020000</td>\n",
       "      <td>NaN</td>\n",
       "      <td>NaN</td>\n",
       "      <td>0.000000</td>\n",
       "      <td>0.000000</td>\n",
       "      <td>NaN</td>\n",
       "      <td>NaN</td>\n",
       "      <td>NaN</td>\n",
       "      <td>NaN</td>\n",
       "      <td>NaN</td>\n",
       "      <td>NaN</td>\n",
       "      <td>1.000000</td>\n",
       "      <td>NaN</td>\n",
       "    </tr>\n",
       "    <tr>\n",
       "      <th>25%</th>\n",
       "      <td>NaN</td>\n",
       "      <td>24.030000</td>\n",
       "      <td>NaN</td>\n",
       "      <td>NaN</td>\n",
       "      <td>0.000000</td>\n",
       "      <td>0.000000</td>\n",
       "      <td>NaN</td>\n",
       "      <td>NaN</td>\n",
       "      <td>NaN</td>\n",
       "      <td>NaN</td>\n",
       "      <td>NaN</td>\n",
       "      <td>NaN</td>\n",
       "      <td>6.000000</td>\n",
       "      <td>NaN</td>\n",
       "    </tr>\n",
       "    <tr>\n",
       "      <th>50%</th>\n",
       "      <td>NaN</td>\n",
       "      <td>27.320000</td>\n",
       "      <td>NaN</td>\n",
       "      <td>NaN</td>\n",
       "      <td>0.000000</td>\n",
       "      <td>0.000000</td>\n",
       "      <td>NaN</td>\n",
       "      <td>NaN</td>\n",
       "      <td>NaN</td>\n",
       "      <td>NaN</td>\n",
       "      <td>NaN</td>\n",
       "      <td>NaN</td>\n",
       "      <td>7.000000</td>\n",
       "      <td>NaN</td>\n",
       "    </tr>\n",
       "    <tr>\n",
       "      <th>75%</th>\n",
       "      <td>NaN</td>\n",
       "      <td>31.380000</td>\n",
       "      <td>NaN</td>\n",
       "      <td>NaN</td>\n",
       "      <td>2.000000</td>\n",
       "      <td>3.000000</td>\n",
       "      <td>NaN</td>\n",
       "      <td>NaN</td>\n",
       "      <td>NaN</td>\n",
       "      <td>NaN</td>\n",
       "      <td>NaN</td>\n",
       "      <td>NaN</td>\n",
       "      <td>8.000000</td>\n",
       "      <td>NaN</td>\n",
       "    </tr>\n",
       "    <tr>\n",
       "      <th>max</th>\n",
       "      <td>NaN</td>\n",
       "      <td>59.970000</td>\n",
       "      <td>NaN</td>\n",
       "      <td>NaN</td>\n",
       "      <td>30.000000</td>\n",
       "      <td>30.000000</td>\n",
       "      <td>NaN</td>\n",
       "      <td>NaN</td>\n",
       "      <td>NaN</td>\n",
       "      <td>NaN</td>\n",
       "      <td>NaN</td>\n",
       "      <td>NaN</td>\n",
       "      <td>16.000000</td>\n",
       "      <td>NaN</td>\n",
       "    </tr>\n",
       "  </tbody>\n",
       "</table>\n",
       "</div>"
      ],
      "text/plain": [
       "       HeartDisease            BMI Smoking AlcoholDrinking  PhysicalHealth  \\\n",
       "count        319073  319073.000000  319073          319073   319073.000000   \n",
       "unique            2            NaN       2               2             NaN   \n",
       "top              No            NaN      No              No             NaN   \n",
       "freq         291804            NaN  187479          297340             NaN   \n",
       "mean            NaN      28.264732     NaN             NaN        3.355618   \n",
       "std             NaN       6.167446     NaN             NaN        7.929974   \n",
       "min             NaN      12.020000     NaN             NaN        0.000000   \n",
       "25%             NaN      24.030000     NaN             NaN        0.000000   \n",
       "50%             NaN      27.320000     NaN             NaN        0.000000   \n",
       "75%             NaN      31.380000     NaN             NaN        2.000000   \n",
       "max             NaN      59.970000     NaN             NaN       30.000000   \n",
       "\n",
       "         MentalHealth DiffWalking     Sex AgeCategory    Race  \\\n",
       "count   319073.000000      319073  319073      319073  319073   \n",
       "unique            NaN           2       2          13       6   \n",
       "top               NaN          No  Female       65-69   White   \n",
       "freq              NaN      275038  167368       34099  244825   \n",
       "mean         3.887211         NaN     NaN         NaN     NaN   \n",
       "std          7.940627         NaN     NaN         NaN     NaN   \n",
       "min          0.000000         NaN     NaN         NaN     NaN   \n",
       "25%          0.000000         NaN     NaN         NaN     NaN   \n",
       "50%          0.000000         NaN     NaN         NaN     NaN   \n",
       "75%          3.000000         NaN     NaN         NaN     NaN   \n",
       "max         30.000000         NaN     NaN         NaN     NaN   \n",
       "\n",
       "       PhysicalActivity  GenHealth      SleepTime  Asthma  \n",
       "count            319073     319073  319073.000000  319073  \n",
       "unique                2          5            NaN       2  \n",
       "top                 Yes  Very good            NaN      No  \n",
       "freq             247606     113770            NaN  276395  \n",
       "mean                NaN        NaN       7.088594     NaN  \n",
       "std                 NaN        NaN       1.394768     NaN  \n",
       "min                 NaN        NaN       1.000000     NaN  \n",
       "25%                 NaN        NaN       6.000000     NaN  \n",
       "50%                 NaN        NaN       7.000000     NaN  \n",
       "75%                 NaN        NaN       8.000000     NaN  \n",
       "max                 NaN        NaN      16.000000     NaN  "
      ]
     },
     "execution_count": 35,
     "metadata": {},
     "output_type": "execute_result"
    }
   ],
   "source": [
    "cvt_df_clean.describe(include=\"all\")"
   ]
  },
  {
   "cell_type": "code",
   "execution_count": 36,
   "id": "465a6d8c",
   "metadata": {},
   "outputs": [
    {
     "data": {
      "image/png": "[encoded data removed]",
      "text/plain": [
       "<Figure size 432x288 with 1 Axes>"
      ]
     },
     "metadata": {
      "needs_background": "light"
     },
     "output_type": "display_data"
    }
   ],
   "source": [
    "# Bar chart of target variable\n",
    "cvt_df_clean[\"HeartDisease\"].value_counts(normalize=True).plot(kind=\"bar\")\n",
    "plt.title(\"Heart Disease Existence\")\n",
    "plt.text(-0.12, 0.8, cvt_df_clean[\"HeartDisease\"].value_counts()[0])\n",
    "plt.text(0.9, 0.035, cvt_df_clean[\"HeartDisease\"].value_counts()[1])\n",
    "plt.show()"
   ]
  },
  {
   "cell_type": "code",
   "execution_count": 37,
   "id": "97cad745",
   "metadata": {},
   "outputs": [
    {
     "data": {
      "image/png": "[encoded data removed]",
      "text/plain": [
       "<Figure size 432x288 with 1 Axes>"
      ]
     },
     "metadata": {
      "needs_background": "light"
     },
     "output_type": "display_data"
    },
    {
     "data": {
      "image/png": "[encoded data removed]",
      "text/plain": [
       "<Figure size 432x288 with 1 Axes>"
      ]
     },
     "metadata": {
      "needs_background": "light"
     },
     "output_type": "display_data"
    },
    {
     "data": {
      "image/png": "[encoded data removed]",
      "text/plain": [
       "<Figure size 432x288 with 1 Axes>"
      ]
     },
     "metadata": {
      "needs_background": "light"
     },
     "output_type": "display_data"
    },
    {
     "data": {
      "image/png": "[encoded data removed]",
      "text/plain": [
       "<Figure size 432x288 with 1 Axes>"
      ]
     },
     "metadata": {
      "needs_background": "light"
     },
     "output_type": "display_data"
    },
    {
     "data": {
      "image/png": "[encoded data removed]",
      "text/plain": [
       "<Figure size 432x288 with 1 Axes>"
      ]
     },
     "metadata": {
      "needs_background": "light"
     },
     "output_type": "display_data"
    },
    {
     "data": {
      "image/png": "[encoded data removed]",
      "text/plain": [
       "<Figure size 432x288 with 1 Axes>"
      ]
     },
     "metadata": {
      "needs_background": "light"
     },
     "output_type": "display_data"
    },
    {
     "data": {
      "image/png": "[encoded data removed]",
      "text/plain": [
       "<Figure size 432x288 with 1 Axes>"
      ]
     },
     "metadata": {
      "needs_background": "light"
     },
     "output_type": "display_data"
    },
    {
     "data": {
      "image/png": "[encoded data removed]",
      "text/plain": [
       "<Figure size 432x288 with 1 Axes>"
      ]
     },
     "metadata": {
      "needs_background": "light"
     },
     "output_type": "display_data"
    },
    {
     "data": {
      "image/png": "[encoded data removed]",
      "text/plain": [
       "<Figure size 432x288 with 1 Axes>"
      ]
     },
     "metadata": {
      "needs_background": "light"
     },
     "output_type": "display_data"
    },
    {
     "data": {
      "image/png": "[encoded data removed]",
      "text/plain": [
       "<Figure size 432x288 with 1 Axes>"
      ]
     },
     "metadata": {
      "needs_background": "light"
     },
     "output_type": "display_data"
    }
   ],
   "source": [
    "# Check the relation between categorical columns and the target variable\n",
    "for column in cvt_df_clean.select_dtypes([\"object\"]).columns:\n",
    "    rate_data = cvt_df_clean.groupby([column, \"HeartDisease\"])[\"HeartDisease\"].count() / cvt_df_clean.groupby(column)[\"HeartDisease\"].count()\n",
    "\n",
    "    rate_data.unstack()[[\"Yes\", \"No\"]].sort_values(\"Yes\").plot(kind=\"barh\", stacked=True, color=[\"cornflowerblue\", \"lightcoral\"])\n",
    "    plt.title(f\"Percentage for Heart Disease Existance by {column}\")\n",
    "    sns.despine()\n",
    "    plt.legend(loc=\"upper left\", bbox_to_anchor=(1, 1))\n",
    "    plt.show()"
   ]
  },
  {
   "cell_type": "markdown",
   "id": "702b9132",
   "metadata": {},
   "source": [
    "\"No\" value of the target variable is very large, so some of the plots are hard to see. However, you can see the \"Yes\" value of the target variable is larger in yes values of DiffWaking column. I'll check the relation between the categorical variables and heart disease in different ways."
   ]
  },
  {
   "cell_type": "markdown",
   "id": "a2c7db11",
   "metadata": {},
   "source": [
    "I'm goint to see how heart desease exist by age. AgeCategory column is not numeric value, and the order of age category is not in order. So I'll sort the AgeCategory column from young to old."
   ]
  },
  {
   "cell_type": "code",
   "execution_count": 38,
   "id": "1155580a",
   "metadata": {},
   "outputs": [
    {
     "data": {
      "text/plain": [
       "Index(['18-24', '25-29', '30-34', '35-39', '40-44', '45-49', '50-54', '55-59',\n",
       "       '60-64', '65-69', '70-74', '75-79', '80 or older'],\n",
       "      dtype='object')"
      ]
     },
     "execution_count": 38,
     "metadata": {},
     "output_type": "execute_result"
    }
   ],
   "source": [
    "# re-order AgeCategory column from young to old\n",
    "age = cvt_df_clean[\"AgeCategory\"].value_counts().index.sort_values()\n",
    "age"
   ]
  },
  {
   "cell_type": "code",
   "execution_count": 39,
   "id": "2dbc6bb1",
   "metadata": {},
   "outputs": [
    {
     "data": {
      "text/plain": [
       "<AxesSubplot:xlabel='AgeCategory', ylabel='count'>"
      ]
     },
     "execution_count": 39,
     "metadata": {},
     "output_type": "execute_result"
    },
    {
     "data": {
      "image/png": "[encoded data removed]",
      "text/plain": [
       "<Figure size 864x432 with 1 Axes>"
      ]
     },
     "metadata": {
      "needs_background": "light"
     },
     "output_type": "display_data"
    }
   ],
   "source": [
    "# Create a plot of heart disease existance by age\n",
    "plt.figure(figsize=(12,6))\n",
    "sns.countplot(x='AgeCategory', hue='HeartDisease', order=age, data=cvt_df_clean)"
   ]
  },
  {
   "cell_type": "code",
   "execution_count": 40,
   "id": "ab37fb06",
   "metadata": {},
   "outputs": [
    {
     "data": {
      "text/plain": [
       "<AxesSubplot:xlabel='AgeCategory', ylabel='count'>"
      ]
     },
     "execution_count": 40,
     "metadata": {},
     "output_type": "execute_result"
    },
    {
     "data": {
      "image/png": "[encoded data removed]",
      "text/plain": [
       "<Figure size 864x432 with 1 Axes>"
      ]
     },
     "metadata": {
      "needs_background": "light"
     },
     "output_type": "display_data"
    }
   ],
   "source": [
    "# Show the same plot with log\n",
    "plt.figure(figsize=(12,6))\n",
    "sns.countplot(x='AgeCategory', hue='HeartDisease', order=age, data=cvt_df_clean, log=True)"
   ]
  },
  {
   "cell_type": "markdown",
   "id": "10f11c4c",
   "metadata": {},
   "source": [
    "I can see the number of people who have heart desease is low in the young generation, and it gets increased as the age increases. On the other hand, the number of people who don't have heart desease is almost same for all age groups. Therefore, the prevalence of heart disease increases as age increases."
   ]
  },
  {
   "cell_type": "markdown",
   "id": "5a9a3016",
   "metadata": {},
   "source": [
    "Now I'm going to see the heart desease excistance by binary data"
   ]
  },
  {
   "cell_type": "code",
   "execution_count": 41,
   "id": "c8b5ea01",
   "metadata": {},
   "outputs": [
    {
     "data": {
      "text/html": [
       "<div>\n",
       "<style scoped>\n",
       "    .dataframe tbody tr th:only-of-type {\n",
       "        vertical-align: middle;\n",
       "    }\n",
       "\n",
       "    .dataframe tbody tr th {\n",
       "        vertical-align: top;\n",
       "    }\n",
       "\n",
       "    .dataframe thead th {\n",
       "        text-align: right;\n",
       "    }\n",
       "</style>\n",
       "<table border=\"1\" class=\"dataframe\">\n",
       "  <thead>\n",
       "    <tr style=\"text-align: right;\">\n",
       "      <th></th>\n",
       "      <th>Smoking</th>\n",
       "      <th>AlcoholDrinking</th>\n",
       "      <th>DiffWalking</th>\n",
       "      <th>PhysicalActivity</th>\n",
       "      <th>Asthma</th>\n",
       "    </tr>\n",
       "  </thead>\n",
       "  <tbody>\n",
       "    <tr>\n",
       "      <th>0</th>\n",
       "      <td>Yes</td>\n",
       "      <td>No</td>\n",
       "      <td>No</td>\n",
       "      <td>Yes</td>\n",
       "      <td>Yes</td>\n",
       "    </tr>\n",
       "    <tr>\n",
       "      <th>1</th>\n",
       "      <td>No</td>\n",
       "      <td>No</td>\n",
       "      <td>No</td>\n",
       "      <td>Yes</td>\n",
       "      <td>No</td>\n",
       "    </tr>\n",
       "    <tr>\n",
       "      <th>2</th>\n",
       "      <td>Yes</td>\n",
       "      <td>No</td>\n",
       "      <td>No</td>\n",
       "      <td>Yes</td>\n",
       "      <td>Yes</td>\n",
       "    </tr>\n",
       "    <tr>\n",
       "      <th>3</th>\n",
       "      <td>No</td>\n",
       "      <td>No</td>\n",
       "      <td>No</td>\n",
       "      <td>No</td>\n",
       "      <td>No</td>\n",
       "    </tr>\n",
       "    <tr>\n",
       "      <th>4</th>\n",
       "      <td>No</td>\n",
       "      <td>No</td>\n",
       "      <td>Yes</td>\n",
       "      <td>Yes</td>\n",
       "      <td>No</td>\n",
       "    </tr>\n",
       "    <tr>\n",
       "      <th>...</th>\n",
       "      <td>...</td>\n",
       "      <td>...</td>\n",
       "      <td>...</td>\n",
       "      <td>...</td>\n",
       "      <td>...</td>\n",
       "    </tr>\n",
       "    <tr>\n",
       "      <th>319068</th>\n",
       "      <td>Yes</td>\n",
       "      <td>No</td>\n",
       "      <td>Yes</td>\n",
       "      <td>No</td>\n",
       "      <td>Yes</td>\n",
       "    </tr>\n",
       "    <tr>\n",
       "      <th>319069</th>\n",
       "      <td>Yes</td>\n",
       "      <td>No</td>\n",
       "      <td>No</td>\n",
       "      <td>Yes</td>\n",
       "      <td>Yes</td>\n",
       "    </tr>\n",
       "    <tr>\n",
       "      <th>319070</th>\n",
       "      <td>No</td>\n",
       "      <td>No</td>\n",
       "      <td>No</td>\n",
       "      <td>Yes</td>\n",
       "      <td>No</td>\n",
       "    </tr>\n",
       "    <tr>\n",
       "      <th>319071</th>\n",
       "      <td>No</td>\n",
       "      <td>No</td>\n",
       "      <td>No</td>\n",
       "      <td>No</td>\n",
       "      <td>No</td>\n",
       "    </tr>\n",
       "    <tr>\n",
       "      <th>319072</th>\n",
       "      <td>No</td>\n",
       "      <td>No</td>\n",
       "      <td>No</td>\n",
       "      <td>Yes</td>\n",
       "      <td>No</td>\n",
       "    </tr>\n",
       "  </tbody>\n",
       "</table>\n",
       "<p>319073 rows × 5 columns</p>\n",
       "</div>"
      ],
      "text/plain": [
       "       Smoking AlcoholDrinking DiffWalking PhysicalActivity Asthma\n",
       "0          Yes              No          No              Yes    Yes\n",
       "1           No              No          No              Yes     No\n",
       "2          Yes              No          No              Yes    Yes\n",
       "3           No              No          No               No     No\n",
       "4           No              No         Yes              Yes     No\n",
       "...        ...             ...         ...              ...    ...\n",
       "319068     Yes              No         Yes               No    Yes\n",
       "319069     Yes              No          No              Yes    Yes\n",
       "319070      No              No          No              Yes     No\n",
       "319071      No              No          No               No     No\n",
       "319072      No              No          No              Yes     No\n",
       "\n",
       "[319073 rows x 5 columns]"
      ]
     },
     "execution_count": 41,
     "metadata": {},
     "output_type": "execute_result"
    }
   ],
   "source": [
    "# Create a data frame with \"Yes/No\" value columns except HeartDesease \n",
    "binary_df = cvt_df_clean.loc[:, ['Smoking', 'AlcoholDrinking', 'DiffWalking', 'PhysicalActivity', 'Asthma']]\n",
    "binary_df"
   ]
  },
  {
   "cell_type": "code",
   "execution_count": 42,
   "id": "3b042a10",
   "metadata": {},
   "outputs": [
    {
     "data": {
      "text/plain": [
       "<AxesSubplot:xlabel='variable', ylabel='count'>"
      ]
     },
     "execution_count": 42,
     "metadata": {},
     "output_type": "execute_result"
    },
    {
     "data": {
      "image/png": "[encoded data removed]",
      "text/plain": [
       "<Figure size 576x432 with 1 Axes>"
      ]
     },
     "metadata": {
      "needs_background": "light"
     },
     "output_type": "display_data"
    }
   ],
   "source": [
    "# Create a plot of binary column data\n",
    "plt.figure(figsize=(8, 6))\n",
    "sns.countplot(x=\"variable\", hue=\"value\", data=pd.melt(binary_df))"
   ]
  },
  {
   "cell_type": "code",
   "execution_count": 43,
   "id": "8aa7e6c7",
   "metadata": {},
   "outputs": [
    {
     "data": {
      "text/plain": [
       "<seaborn.axisgrid.FacetGrid at 0x1b80074c850>"
      ]
     },
     "execution_count": 43,
     "metadata": {},
     "output_type": "execute_result"
    },
    {
     "data": {
      "image/png": "[encoded data removed]",
      "text/plain": [
       "<Figure size 772x360 with 2 Axes>"
      ]
     },
     "metadata": {
      "needs_background": "light"
     },
     "output_type": "display_data"
    }
   ],
   "source": [
    "binary_with_heartD = pd.melt(cvt_df_clean, id_vars=['HeartDisease'], value_vars=['Smoking', 'AlcoholDrinking', 'DiffWalking', 'PhysicalActivity', 'Asthma'])\n",
    "\n",
    "bar = sns.catplot(x=\"variable\", hue=\"value\", col=\"HeartDisease\", data=binary_with_heartD, kind=\"count\")\n",
    "bar.set_xticklabels(labels=['Smoking', 'AlcoholDrinking', 'DiffWalking', 'PhysicalActivity', 'Asthma'], rotation=45)\n"
   ]
  },
  {
   "cell_type": "code",
   "execution_count": 44,
   "id": "8b579610",
   "metadata": {},
   "outputs": [
    {
     "data": {
      "text/plain": [
       "8.546320121100814"
      ]
     },
     "execution_count": 44,
     "metadata": {},
     "output_type": "execute_result"
    }
   ],
   "source": [
    "# Percentage of prevalence of heart desease\n",
    "len(cvt_df_clean[cvt_df_clean[\"HeartDisease\"]==\"Yes\"])/len(cvt_df_clean)*100"
   ]
  },
  {
   "cell_type": "markdown",
   "id": "97f61cf7",
   "metadata": {},
   "source": [
    "There are only 8.55% of people have heart disease, so you can see many values in \"HeartDisease = No\" chart. Look at \"HeartDisease = Yes\" chart, I was expecting that the \"Yes\" values are larger than \"No\" values for all columns except PhysicalActivity column. However, the \"No\" values are larger for AlcoholDrinking, DiffWalking and Asthma columns than \"Yes\" values in this data set. That is probably because most of people answered \"No\" for those questions, so there was a significant difference between \"Yes\" and \"No\" from the beginning. About smoking, there are less smoker in this data set, but more than half people who has heart disease smoke. Therefore, smoking might increase the prevalence of heart disease."
   ]
  },
  {
   "cell_type": "markdown",
   "id": "c9053594",
   "metadata": {},
   "source": [
    "Now, I'll ckech the relation between gender and prevalence of heart disease."
   ]
  },
  {
   "cell_type": "code",
   "execution_count": 45,
   "id": "adfc0c30",
   "metadata": {},
   "outputs": [
    {
     "data": {
      "image/png": "[encoded data removed]",
      "text/plain": [
       "<Figure size 432x288 with 1 Axes>"
      ]
     },
     "metadata": {
      "needs_background": "light"
     },
     "output_type": "display_data"
    }
   ],
   "source": [
    "# Create a plot for the gender balance of the data\n",
    "cvt_df_clean['Sex'].value_counts().plot(kind='bar')\n",
    "plt.title(\"The Number by Gender\")\n",
    "plt.text(-0.12, 155000, cvt_df_clean[\"Sex\"].value_counts()[0])\n",
    "plt.text(0.9, 140000, cvt_df_clean[\"Sex\"].value_counts()[1])\n",
    "plt.show()"
   ]
  },
  {
   "cell_type": "code",
   "execution_count": 46,
   "id": "a505ae51",
   "metadata": {},
   "outputs": [
    {
     "data": {
      "image/png": "[encoded data removed]",
      "text/plain": [
       "<Figure size 864x432 with 1 Axes>"
      ]
     },
     "metadata": {
      "needs_background": "light"
     },
     "output_type": "display_data"
    },
    {
     "name": "stdout",
     "output_type": "stream",
     "text": [
      "The percentage of the prevalance for female: 6.68 %\n",
      "The percentage of the prevalance for male: 10.6 %\n"
     ]
    }
   ],
   "source": [
    "# Create a plot of heart desease existance by gender\n",
    "plt.figure(figsize=(12,6))\n",
    "sns.countplot(x='Sex', hue='HeartDisease', data=cvt_df_clean)\n",
    "plt.title(\"The prevalence of Heart Disease by Gender\")\n",
    "plt.show()\n",
    "\n",
    "# The percentage of the prevalance of female\n",
    "female_rate = len(cvt_df_clean[(cvt_df_clean['Sex']=='Female') & (cvt_df_clean['HeartDisease']=='Yes')])/len(cvt_df_clean[cvt_df_clean['Sex']=='Female'])*100\n",
    "\n",
    "# The percentage of the prevalance of male\n",
    "male_rate = len(cvt_df_clean[(cvt_df_clean['Sex']=='Male') & (cvt_df_clean['HeartDisease']=='Yes')])/len(cvt_df_clean[cvt_df_clean['Sex']=='Male'])*100\n",
    "\n",
    "print(f\"The percentage of the prevalance for female: {female_rate:4.3} %\")\n",
    "print(f\"The percentage of the prevalance for male: {male_rate:4.3} %\") "
   ]
  },
  {
   "cell_type": "markdown",
   "id": "c863af0e",
   "metadata": {},
   "source": [
    "Look at above, there are more data of female than data of male in this data set, but the 'Yes' value for male is greater than female. From those reasons, male might have higher possibility to have heart disease than female have."
   ]
  },
  {
   "cell_type": "markdown",
   "id": "b3cdd384",
   "metadata": {},
   "source": [
    "Now, I'll ckech the relation between race and prevalence of heart disease."
   ]
  },
  {
   "cell_type": "code",
   "execution_count": 47,
   "id": "0fc30b02",
   "metadata": {},
   "outputs": [
    {
     "data": {
      "image/png": "[encoded data removed]",
      "text/plain": [
       "<Figure size 432x288 with 1 Axes>"
      ]
     },
     "metadata": {
      "needs_background": "light"
     },
     "output_type": "display_data"
    }
   ],
   "source": [
    "# Create a plot for the race balance of the data\n",
    "cvt_df_clean['Race'].value_counts().plot(kind='bar')\n",
    "plt.title(\"The Number by Race\")\n",
    "plt.show()"
   ]
  },
  {
   "cell_type": "code",
   "execution_count": 48,
   "id": "e3d7f3fa",
   "metadata": {},
   "outputs": [
    {
     "name": "stdout",
     "output_type": "stream",
     "text": [
      "The percentage of White people in this data set: 76.7 %\n",
      "The percentage of Hispanic people in this data set: 8.57 %\n",
      "The percentage of Black people in this data set: 7.14 %\n",
      "The percentage of Asian people in this data set: 2.53 %\n",
      "The percentage of American Indian/Alaskan Native people in this data set: 1.62 %\n",
      "The percentage of Other people in this data set: 3.41 %\n"
     ]
    }
   ],
   "source": [
    "races = ['White', 'Hispanic', 'Black', 'Asian', 'American Indian/Alaskan Native',\n",
    "       'Other']\n",
    "\n",
    "for race in races:\n",
    "    percentage = len(cvt_df_clean[(cvt_df_clean['Race']==race)])/len(cvt_df_clean)*100\n",
    "    print(f\"The percentage of {race} people in this data set: {percentage:4.3} %\")"
   ]
  },
  {
   "cell_type": "markdown",
   "id": "6505bfc7",
   "metadata": {},
   "source": [
    "This data is about the health status of U.S. residents in 2020. You can see that there is a lot of data for white people in this data set. Accoeding to [United States Census Bureau](https://www.census.gov/library/stories/2021/08/2020-united-states-population-more-racially-ethnically-diverse-than-2010.html), as of July 1, 2020, the racial and ethnic composition of the US population was as follows:\n",
    "\n",
    "|**Race/Ethnicity**|**Percentage of Total Population**|\n",
    "|-|-|\n",
    "|White alone, not Hispanic or Latino|57.8%|\n",
    "|Hispanic or Latino|18.7%|\n",
    "|Black or African American alone|12.4%|\n",
    "|Asian alone|6.1%|\n",
    "|American Indian and Alaska Native alone|0.9%|\n",
    "|Native Hawaiian and Other Pacific Islander alone|0.2%|\n",
    "|Two or more races|2.8%|\n",
    "\n",
    "Comparing those numbers above with this data set, there is a large percentage of data for white people in this data set than the percentage of white people in the US and a less percentage of data for other races than the percentage of each races in the US."
   ]
  },
  {
   "cell_type": "code",
   "execution_count": 49,
   "id": "a39d922c",
   "metadata": {},
   "outputs": [
    {
     "data": {
      "image/png": "[encoded data removed]",
      "text/plain": [
       "<Figure size 864x432 with 1 Axes>"
      ]
     },
     "metadata": {},
     "output_type": "display_data"
    }
   ],
   "source": [
    "# Create a plot of heart desease existance by race\n",
    "sns.set()\n",
    "plt.figure(figsize=(12,6))\n",
    "sns.countplot(x='Race', hue='HeartDisease', data=cvt_df_clean)\n",
    "plt.title(\"The prevalence of Heart Disease by Race\")\n",
    "plt.show()"
   ]
  },
  {
   "cell_type": "code",
   "execution_count": 50,
   "id": "8b93fe0c",
   "metadata": {},
   "outputs": [
    {
     "data": {
      "image/png": "[encoded data removed]",
      "text/plain": [
       "<Figure size 864x432 with 1 Axes>"
      ]
     },
     "metadata": {},
     "output_type": "display_data"
    }
   ],
   "source": [
    "# Create an enlarged plot of heart desease existance by race \n",
    "sns.set()\n",
    "plt.figure(figsize=(12,6))\n",
    "sns.countplot(x='Race', hue='HeartDisease', data=cvt_df_clean)\n",
    "plt.ylim(0, 30000)\n",
    "plt.title(\"The prevalence of Heart Disease by Race\")\n",
    "plt.show()"
   ]
  },
  {
   "cell_type": "code",
   "execution_count": 51,
   "id": "217d690a",
   "metadata": {},
   "outputs": [
    {
     "name": "stdout",
     "output_type": "stream",
     "text": [
      "The percentage of the prevalance for White people: 9.17 %\n",
      "The percentage of the prevalance for Hispanic people: 5.23 %\n",
      "The percentage of the prevalance for Black people: 7.47 %\n",
      "The percentage of the prevalance for Asian people: 3.25 %\n",
      "The percentage of the prevalance for American Indian/Alaskan Native people: 10.4 %\n",
      "The percentage of the prevalance for Other people: 8.11 %\n"
     ]
    }
   ],
   "source": [
    "for race in races:\n",
    "    prevalance = len(cvt_df_clean[(cvt_df_clean['Race']==race) & (cvt_df_clean['HeartDisease']=='Yes')])/len(cvt_df_clean[cvt_df_clean['Race']==race])*100\n",
    "    print(f\"The percentage of the prevalance for {race} people: {prevalance:4.3} %\")"
   ]
  },
  {
   "cell_type": "markdown",
   "id": "f78be4b5",
   "metadata": {},
   "source": [
    "Look at above, the percentage of the prevalance of heart disease for American Indian/Alaskan Native people is the highest, and the percentage of the prevalance of heart disease for Asian people is the lowest. Therefore, it might be the possibility to have heart disease is different depending on race."
   ]
  },
  {
   "cell_type": "markdown",
   "id": "667cf101",
   "metadata": {},
   "source": [
    "Now, I'll ckech the relation between general health that people think by themselves and prevalence of heart disease."
   ]
  },
  {
   "cell_type": "code",
   "execution_count": 52,
   "id": "b846b3bb",
   "metadata": {},
   "outputs": [
    {
     "data": {
      "image/png": "[encoded data removed]",
      "text/plain": [
       "<Figure size 864x432 with 1 Axes>"
      ]
     },
     "metadata": {},
     "output_type": "display_data"
    }
   ],
   "source": [
    "# Create a plot for the general health pattern in the data\n",
    "health_order = ['Excellent', 'Very good', 'Good', 'Fair', 'Poor']\n",
    "\n",
    "plt.figure(figsize=(12,6))\n",
    "sns.countplot(x='GenHealth', order=health_order, data=cvt_df_clean)\n",
    "plt.title(\"The Number by GenHealth\")\n",
    "plt.show()"
   ]
  },
  {
   "cell_type": "code",
   "execution_count": 53,
   "id": "27d7ff1a",
   "metadata": {},
   "outputs": [
    {
     "data": {
      "image/png": "[encoded data removed]",
      "text/plain": [
       "<Figure size 864x432 with 1 Axes>"
      ]
     },
     "metadata": {},
     "output_type": "display_data"
    }
   ],
   "source": [
    "# Create a plot of heart desease existance by general health status\n",
    "sns.set()\n",
    "plt.figure(figsize=(12,6))\n",
    "sns.countplot(x='GenHealth', hue='HeartDisease', order=health_order, data=cvt_df_clean)\n",
    "plt.title(\"The prevalence of Heart Disease by General Health Status\")\n",
    "plt.show()"
   ]
  },
  {
   "cell_type": "code",
   "execution_count": 54,
   "id": "741e9648",
   "metadata": {},
   "outputs": [
    {
     "name": "stdout",
     "output_type": "stream",
     "text": [
      "The percentage of the prevalance for Excellent people: 2.24 %\n",
      "The percentage of the prevalance for Very good people: 4.73 %\n",
      "The percentage of the prevalance for Good people: 10.3 %\n",
      "The percentage of the prevalance for Fair people: 20.5 %\n",
      "The percentage of the prevalance for Poor people: 34.2 %\n"
     ]
    }
   ],
   "source": [
    "for health in health_order:\n",
    "    prevalance = len(cvt_df_clean[(cvt_df_clean['GenHealth']==health) & (cvt_df_clean['HeartDisease']=='Yes')])/len(cvt_df_clean[cvt_df_clean['GenHealth']==health])*100\n",
    "    print(f\"The percentage of the prevalance for {health} people: {prevalance:4.3} %\")"
   ]
  },
  {
   "cell_type": "markdown",
   "id": "392e5d34",
   "metadata": {},
   "source": [
    "As you can see, the percentage of the prevalance of heart disease is higher when people feel their health is poor, and it's lower when people feel their health is excellent. "
   ]
  },
  {
   "cell_type": "markdown",
   "id": "b9310147",
   "metadata": {},
   "source": [
    "Now, I'll ckech the relation between the numerical variables and prevalence of heart disease."
   ]
  },
  {
   "cell_type": "code",
   "execution_count": 55,
   "id": "b0bec197",
   "metadata": {},
   "outputs": [
    {
     "data": {
      "image/png": "[encoded data removed]",
      "text/plain": [
       "<Figure size 432x288 with 1 Axes>"
      ]
     },
     "metadata": {},
     "output_type": "display_data"
    },
    {
     "data": {
      "image/png": "[encoded data removed]",
      "text/plain": [
       "<Figure size 432x288 with 1 Axes>"
      ]
     },
     "metadata": {},
     "output_type": "display_data"
    },
    {
     "data": {
      "image/png": "[encoded data removed]",
      "text/plain": [
       "<Figure size 432x288 with 1 Axes>"
      ]
     },
     "metadata": {},
     "output_type": "display_data"
    },
    {
     "data": {
      "image/png": "[encoded data removed]",
      "text/plain": [
       "<Figure size 432x288 with 1 Axes>"
      ]
     },
     "metadata": {},
     "output_type": "display_data"
    }
   ],
   "source": [
    "# Create plots for the relation between numeric columns and heart disease\n",
    "numerics = ['BMI', 'PhysicalHealth', 'MentalHealth', 'SleepTime']\n",
    "\n",
    "for numeric in numerics:\n",
    "    sns.boxplot(x='HeartDisease', y=numeric, data=cvt_df_clean)\n",
    "    plt.show()"
   ]
  },
  {
   "cell_type": "markdown",
   "id": "a1271b73",
   "metadata": {},
   "source": [
    "You can see the big difference in the plot of PhysicalHealth and HeartDisease. PhysicalHealth means \"how many days do you have physical health problem, which includes physical illness and injury, during the past 30.\" For that reason, most of people who have heart disease feel something wrong with their health or body. Beside PhysicalHealth, I don't really see big difference in those plots."
   ]
  },
  {
   "cell_type": "code",
   "execution_count": 57,
   "id": "ce39d48c",
   "metadata": {},
   "outputs": [],
   "source": [
    "# Save the data\n",
    "cvt_df_clean.to_csv(\"./capstone_clean_heart_disease.csv\", index=False)"
   ]
  }
 ],
 "metadata": {
  "kernelspec": {
   "display_name": "Python 3 (ipykernel)",
   "language": "python",
   "name": "python3"
  },
  "language_info": {
   "codemirror_mode": {
    "name": "ipython",
    "version": 3
   },
   "file_extension": ".py",
   "mimetype": "text/x-python",
   "name": "python",
   "nbconvert_exporter": "python",
   "pygments_lexer": "ipython3",
   "version": "3.9.7"
  }
 },
 "nbformat": 4,
 "nbformat_minor": 5
}
