{
 "cells": [
  {
   "cell_type": "markdown",
   "id": "227479fa",
   "metadata": {},
   "source": [
    "# 7. Capstone Project - Hyperparameter Optimization; Random Forest"
   ]
  },
  {
   "cell_type": "markdown",
   "id": "86ca5492",
   "metadata": {},
   "source": [
    "#### Loading data and libralies"
   ]
  },
  {
   "cell_type": "code",
   "execution_count": 1,
   "id": "5edf0509",
   "metadata": {},
   "outputs": [],
   "source": [
    "import pandas as pd\n",
    "import numpy as np\n",
    "import matplotlib.pyplot as plt\n",
    "import seaborn as sns\n",
    "import scipy as stats\n",
    "\n",
    "from sklearn.preprocessing import StandardScaler\n",
    "from sklearn.linear_model import LogisticRegression"
   ]
  },
  {
   "cell_type": "code",
   "execution_count": 2,
   "id": "92f56c3c",
   "metadata": {},
   "outputs": [],
   "source": [
    "from sklearn.metrics import accuracy_score\n",
    "from sklearn.metrics import classification_report"
   ]
  },
  {
   "cell_type": "code",
   "execution_count": 3,
   "id": "68315005",
   "metadata": {},
   "outputs": [],
   "source": [
    "# Original data set\n",
    "original_df = pd.read_csv(\"./capstone_clean_heart_disease_fe.csv\")\n",
    "\n",
    "# Train set : Under sampled data set and Over sampled data set\n",
    "under_sampled_df = pd.read_csv(\"./under_sampled_df_fe.csv\")\n",
    "over_sampled_df = pd.read_csv(\"./over_sampled_df_fe.csv\")\n",
    "# Test set : Under sampled data set and Over sampled data set\n",
    "test_sampled_df = pd.read_csv(\"./test_sampled_df_fe.csv\")\n",
    "               \n",
    "# Train set : SMOTE data set         \n",
    "smote_df = pd.read_csv(\"./smote_df.csv\")\n",
    "# Test set : SMOTE data set  \n",
    "test_smote_df = pd.read_csv(\"./test_smote_df.csv\")"
   ]
  },
  {
   "cell_type": "markdown",
   "id": "fc0d33cb",
   "metadata": {},
   "source": [
    "Split each dataset into train set and test set"
   ]
  },
  {
   "cell_type": "code",
   "execution_count": 4,
   "id": "2828fc68",
   "metadata": {},
   "outputs": [],
   "source": [
    "# Split the original data set into train and test set\n",
    "X = original_df.drop(columns=\"HeartDisease\")\n",
    "y = original_df[\"HeartDisease\"]\n",
    "\n",
    "from sklearn.model_selection import train_test_split\n",
    "\n",
    "X_train_original, X_test_original, y_train_original, y_test_original = train_test_split(X, y, test_size = 0.3, random_state=42)"
   ]
  },
  {
   "cell_type": "code",
   "execution_count": 5,
   "id": "7a5f8bda",
   "metadata": {},
   "outputs": [],
   "source": [
    "# Split other data set into X and y\n",
    "X_train_under = under_sampled_df.drop(columns=\"HeartDisease\")\n",
    "y_train_under = under_sampled_df[\"HeartDisease\"]\n",
    "\n",
    "X_train_over = over_sampled_df.drop(columns=\"HeartDisease\")\n",
    "y_train_over = over_sampled_df[\"HeartDisease\"]\n",
    "\n",
    "X_test_sampled = test_sampled_df.drop(columns=\"HeartDisease\")\n",
    "y_test_sampled = test_sampled_df[\"HeartDisease\"]\n",
    "\n",
    "X_train_smote = smote_df.drop(columns=\"HeartDisease\")\n",
    "y_train_smote = smote_df[\"HeartDisease\"]\n",
    "\n",
    "X_test_smote = test_smote_df.drop(columns=\"HeartDisease\")\n",
    "y_test_smote = test_smote_df[\"HeartDisease\"]"
   ]
  },
  {
   "cell_type": "code",
   "execution_count": 6,
   "id": "274afe0e",
   "metadata": {},
   "outputs": [],
   "source": [
    "X_train = [X_train_original, X_train_under, X_train_over, X_train_smote]\n",
    "X_test = [X_test_original, X_test_sampled, X_test_sampled, X_test_smote]\n",
    "y_train = [y_train_original, y_train_under, y_train_over,y_train_smote]\n",
    "y_test = [y_test_original, y_test_sampled, y_test_sampled, y_test_smote]\n",
    "\n",
    "train_score = []\n",
    "test_score = []\n",
    "\n",
    "for index in range(4):\n",
    "    \n",
    "    scaler = StandardScaler()\n",
    "    scaler.fit(X_train[index])\n",
    "    X_scaled_train = scaler.transform(X_train[index])\n",
    "    X_scaled_test = scaler.transform(X_test[index])\n",
    "    \n",
    "    model = LogisticRegression(max_iter=1000, random_state=42)\n",
    "    model.fit(X_scaled_train,y_train[index])\n",
    "    \n",
    "    train_score.append(model.score(X_scaled_train,y_train[index])*100)\n",
    "    test_score.append(model.score(X_scaled_test,y_test[index])*100)"
   ]
  },
  {
   "cell_type": "code",
   "execution_count": 7,
   "id": "faf6e454",
   "metadata": {},
   "outputs": [
    {
     "data": {
      "text/html": [
       "<div>\n",
       "<style scoped>\n",
       "    .dataframe tbody tr th:only-of-type {\n",
       "        vertical-align: middle;\n",
       "    }\n",
       "\n",
       "    .dataframe tbody tr th {\n",
       "        vertical-align: top;\n",
       "    }\n",
       "\n",
       "    .dataframe thead th {\n",
       "        text-align: right;\n",
       "    }\n",
       "</style>\n",
       "<table border=\"1\" class=\"dataframe\">\n",
       "  <thead>\n",
       "    <tr style=\"text-align: right;\">\n",
       "      <th></th>\n",
       "      <th>Original</th>\n",
       "      <th>Under Sampled</th>\n",
       "      <th>Over Sampled</th>\n",
       "      <th>SMOTE</th>\n",
       "    </tr>\n",
       "  </thead>\n",
       "  <tbody>\n",
       "    <tr>\n",
       "      <th>Train score</th>\n",
       "      <td>91.452915</td>\n",
       "      <td>75.787020</td>\n",
       "      <td>75.675365</td>\n",
       "      <td>80.968618</td>\n",
       "    </tr>\n",
       "    <tr>\n",
       "      <th>Test score</th>\n",
       "      <td>91.389649</td>\n",
       "      <td>73.322747</td>\n",
       "      <td>73.284094</td>\n",
       "      <td>77.891185</td>\n",
       "    </tr>\n",
       "  </tbody>\n",
       "</table>\n",
       "</div>"
      ],
      "text/plain": [
       "              Original  Under Sampled  Over Sampled      SMOTE\n",
       "Train score  91.452915      75.787020     75.675365  80.968618\n",
       "Test score   91.389649      73.322747     73.284094  77.891185"
      ]
     },
     "execution_count": 7,
     "metadata": {},
     "output_type": "execute_result"
    }
   ],
   "source": [
    "before_selection = pd.DataFrame((train_score, test_score), columns=[\"Original\", \"Under Sampled\", \"Over Sampled\", \"SMOTE\"], \n",
    "                                index=[\"Train score\", \"Test score\"])\n",
    "before_selection"
   ]
  },
  {
   "cell_type": "markdown",
   "id": "5a5499a7",
   "metadata": {},
   "source": [
    "**Festure selection: RFE**  \n",
    "The columns that I'll use for modeling"
   ]
  },
  {
   "cell_type": "code",
   "execution_count": 8,
   "id": "932af7b7",
   "metadata": {},
   "outputs": [],
   "source": [
    "# RFE : Original data final\n",
    "\n",
    "from sklearn.feature_selection import RFE\n",
    "\n",
    "scaler = StandardScaler()\n",
    "scaler.fit(X_train_original)\n",
    "X_scaled_train = scaler.transform(X_train_original)\n",
    "X_scaled_test = scaler.transform(X_test_original)\n",
    "\n",
    "rfe_original = RFE(estimator=LogisticRegression(max_iter=1000, random_state=42), n_features_to_select=7)\n",
    "rfe_original.fit(X_scaled_train,y_train_original)\n",
    "    \n",
    "train_score_or_rfe = rfe_original.score(X_scaled_train,y_train_original)\n",
    "test_score_or_rfe = rfe_original.score(X_scaled_test,y_test_original)"
   ]
  },
  {
   "cell_type": "code",
   "execution_count": 9,
   "id": "ef0c14db",
   "metadata": {},
   "outputs": [
    {
     "data": {
      "text/html": [
       "<div>\n",
       "<style scoped>\n",
       "    .dataframe tbody tr th:only-of-type {\n",
       "        vertical-align: middle;\n",
       "    }\n",
       "\n",
       "    .dataframe tbody tr th {\n",
       "        vertical-align: top;\n",
       "    }\n",
       "\n",
       "    .dataframe thead th {\n",
       "        text-align: right;\n",
       "    }\n",
       "</style>\n",
       "<table border=\"1\" class=\"dataframe\">\n",
       "  <thead>\n",
       "    <tr style=\"text-align: right;\">\n",
       "      <th></th>\n",
       "      <th>BMI</th>\n",
       "      <th>Smoking</th>\n",
       "      <th>DiffWalking</th>\n",
       "      <th>Sex</th>\n",
       "      <th>AgeCategory</th>\n",
       "      <th>GenHealth</th>\n",
       "      <th>Asthma</th>\n",
       "    </tr>\n",
       "  </thead>\n",
       "  <tbody>\n",
       "    <tr>\n",
       "      <th>176993</th>\n",
       "      <td>27.12</td>\n",
       "      <td>1</td>\n",
       "      <td>0</td>\n",
       "      <td>1</td>\n",
       "      <td>35</td>\n",
       "      <td>3</td>\n",
       "      <td>0</td>\n",
       "    </tr>\n",
       "    <tr>\n",
       "      <th>267593</th>\n",
       "      <td>30.23</td>\n",
       "      <td>0</td>\n",
       "      <td>0</td>\n",
       "      <td>0</td>\n",
       "      <td>18</td>\n",
       "      <td>2</td>\n",
       "      <td>0</td>\n",
       "    </tr>\n",
       "    <tr>\n",
       "      <th>175707</th>\n",
       "      <td>32.55</td>\n",
       "      <td>0</td>\n",
       "      <td>0</td>\n",
       "      <td>1</td>\n",
       "      <td>60</td>\n",
       "      <td>3</td>\n",
       "      <td>0</td>\n",
       "    </tr>\n",
       "    <tr>\n",
       "      <th>317039</th>\n",
       "      <td>33.07</td>\n",
       "      <td>0</td>\n",
       "      <td>0</td>\n",
       "      <td>0</td>\n",
       "      <td>55</td>\n",
       "      <td>3</td>\n",
       "      <td>0</td>\n",
       "    </tr>\n",
       "    <tr>\n",
       "      <th>262926</th>\n",
       "      <td>23.06</td>\n",
       "      <td>0</td>\n",
       "      <td>0</td>\n",
       "      <td>1</td>\n",
       "      <td>30</td>\n",
       "      <td>4</td>\n",
       "      <td>0</td>\n",
       "    </tr>\n",
       "    <tr>\n",
       "      <th>...</th>\n",
       "      <td>...</td>\n",
       "      <td>...</td>\n",
       "      <td>...</td>\n",
       "      <td>...</td>\n",
       "      <td>...</td>\n",
       "      <td>...</td>\n",
       "      <td>...</td>\n",
       "    </tr>\n",
       "    <tr>\n",
       "      <th>119879</th>\n",
       "      <td>26.62</td>\n",
       "      <td>0</td>\n",
       "      <td>0</td>\n",
       "      <td>0</td>\n",
       "      <td>40</td>\n",
       "      <td>4</td>\n",
       "      <td>0</td>\n",
       "    </tr>\n",
       "    <tr>\n",
       "      <th>259178</th>\n",
       "      <td>25.04</td>\n",
       "      <td>0</td>\n",
       "      <td>0</td>\n",
       "      <td>1</td>\n",
       "      <td>25</td>\n",
       "      <td>4</td>\n",
       "      <td>0</td>\n",
       "    </tr>\n",
       "    <tr>\n",
       "      <th>131932</th>\n",
       "      <td>36.05</td>\n",
       "      <td>0</td>\n",
       "      <td>0</td>\n",
       "      <td>0</td>\n",
       "      <td>18</td>\n",
       "      <td>1</td>\n",
       "      <td>0</td>\n",
       "    </tr>\n",
       "    <tr>\n",
       "      <th>146867</th>\n",
       "      <td>27.44</td>\n",
       "      <td>0</td>\n",
       "      <td>0</td>\n",
       "      <td>0</td>\n",
       "      <td>40</td>\n",
       "      <td>3</td>\n",
       "      <td>0</td>\n",
       "    </tr>\n",
       "    <tr>\n",
       "      <th>121958</th>\n",
       "      <td>19.77</td>\n",
       "      <td>1</td>\n",
       "      <td>0</td>\n",
       "      <td>1</td>\n",
       "      <td>55</td>\n",
       "      <td>4</td>\n",
       "      <td>0</td>\n",
       "    </tr>\n",
       "  </tbody>\n",
       "</table>\n",
       "<p>223351 rows × 7 columns</p>\n",
       "</div>"
      ],
      "text/plain": [
       "          BMI  Smoking  DiffWalking  Sex  AgeCategory  GenHealth  Asthma\n",
       "176993  27.12        1            0    1           35          3       0\n",
       "267593  30.23        0            0    0           18          2       0\n",
       "175707  32.55        0            0    1           60          3       0\n",
       "317039  33.07        0            0    0           55          3       0\n",
       "262926  23.06        0            0    1           30          4       0\n",
       "...       ...      ...          ...  ...          ...        ...     ...\n",
       "119879  26.62        0            0    0           40          4       0\n",
       "259178  25.04        0            0    1           25          4       0\n",
       "131932  36.05        0            0    0           18          1       0\n",
       "146867  27.44        0            0    0           40          3       0\n",
       "121958  19.77        1            0    1           55          4       0\n",
       "\n",
       "[223351 rows x 7 columns]"
      ]
     },
     "execution_count": 9,
     "metadata": {},
     "output_type": "execute_result"
    }
   ],
   "source": [
    "X_train_original.loc[:, rfe_original.support_]"
   ]
  },
  {
   "cell_type": "code",
   "execution_count": 10,
   "id": "5ca83560",
   "metadata": {},
   "outputs": [],
   "source": [
    "# RFE : Under sampled data final\n",
    "\n",
    "scaler = StandardScaler()\n",
    "scaler.fit(X_train_under)\n",
    "X_scaled_train = scaler.transform(X_train_under)\n",
    "X_scaled_test = scaler.transform(X_test_sampled)\n",
    "   \n",
    "rfe_under = RFE(estimator=LogisticRegression(max_iter=1000, random_state=42), n_features_to_select=9)\n",
    "rfe_under.fit(X_scaled_train,y_train_under)\n",
    "    \n",
    "train_score_u_rfe = rfe_under.score(X_scaled_train,y_train_under)\n",
    "test_score_u_rfe = rfe_under.score(X_scaled_test,y_test_sampled)"
   ]
  },
  {
   "cell_type": "code",
   "execution_count": 11,
   "id": "eda056a6",
   "metadata": {},
   "outputs": [
    {
     "data": {
      "text/html": [
       "<div>\n",
       "<style scoped>\n",
       "    .dataframe tbody tr th:only-of-type {\n",
       "        vertical-align: middle;\n",
       "    }\n",
       "\n",
       "    .dataframe tbody tr th {\n",
       "        vertical-align: top;\n",
       "    }\n",
       "\n",
       "    .dataframe thead th {\n",
       "        text-align: right;\n",
       "    }\n",
       "</style>\n",
       "<table border=\"1\" class=\"dataframe\">\n",
       "  <thead>\n",
       "    <tr style=\"text-align: right;\">\n",
       "      <th></th>\n",
       "      <th>Smoking</th>\n",
       "      <th>AlcoholDrinking</th>\n",
       "      <th>PhysicalHealth</th>\n",
       "      <th>DiffWalking</th>\n",
       "      <th>Sex</th>\n",
       "      <th>AgeCategory</th>\n",
       "      <th>GenHealth</th>\n",
       "      <th>Asthma</th>\n",
       "      <th>Race_Asian</th>\n",
       "    </tr>\n",
       "  </thead>\n",
       "  <tbody>\n",
       "    <tr>\n",
       "      <th>0</th>\n",
       "      <td>1</td>\n",
       "      <td>0</td>\n",
       "      <td>0.0</td>\n",
       "      <td>0</td>\n",
       "      <td>1</td>\n",
       "      <td>65</td>\n",
       "      <td>1</td>\n",
       "      <td>0</td>\n",
       "      <td>0</td>\n",
       "    </tr>\n",
       "    <tr>\n",
       "      <th>1</th>\n",
       "      <td>0</td>\n",
       "      <td>0</td>\n",
       "      <td>5.0</td>\n",
       "      <td>0</td>\n",
       "      <td>0</td>\n",
       "      <td>80</td>\n",
       "      <td>0</td>\n",
       "      <td>0</td>\n",
       "      <td>0</td>\n",
       "    </tr>\n",
       "    <tr>\n",
       "      <th>2</th>\n",
       "      <td>0</td>\n",
       "      <td>0</td>\n",
       "      <td>0.0</td>\n",
       "      <td>0</td>\n",
       "      <td>0</td>\n",
       "      <td>40</td>\n",
       "      <td>4</td>\n",
       "      <td>0</td>\n",
       "      <td>0</td>\n",
       "    </tr>\n",
       "    <tr>\n",
       "      <th>3</th>\n",
       "      <td>0</td>\n",
       "      <td>0</td>\n",
       "      <td>7.0</td>\n",
       "      <td>1</td>\n",
       "      <td>0</td>\n",
       "      <td>60</td>\n",
       "      <td>2</td>\n",
       "      <td>0</td>\n",
       "      <td>0</td>\n",
       "    </tr>\n",
       "    <tr>\n",
       "      <th>4</th>\n",
       "      <td>1</td>\n",
       "      <td>0</td>\n",
       "      <td>0.0</td>\n",
       "      <td>0</td>\n",
       "      <td>1</td>\n",
       "      <td>70</td>\n",
       "      <td>3</td>\n",
       "      <td>0</td>\n",
       "      <td>0</td>\n",
       "    </tr>\n",
       "    <tr>\n",
       "      <th>...</th>\n",
       "      <td>...</td>\n",
       "      <td>...</td>\n",
       "      <td>...</td>\n",
       "      <td>...</td>\n",
       "      <td>...</td>\n",
       "      <td>...</td>\n",
       "      <td>...</td>\n",
       "      <td>...</td>\n",
       "      <td>...</td>\n",
       "    </tr>\n",
       "    <tr>\n",
       "      <th>38177</th>\n",
       "      <td>0</td>\n",
       "      <td>0</td>\n",
       "      <td>0.0</td>\n",
       "      <td>0</td>\n",
       "      <td>1</td>\n",
       "      <td>75</td>\n",
       "      <td>3</td>\n",
       "      <td>0</td>\n",
       "      <td>0</td>\n",
       "    </tr>\n",
       "    <tr>\n",
       "      <th>38178</th>\n",
       "      <td>0</td>\n",
       "      <td>0</td>\n",
       "      <td>30.0</td>\n",
       "      <td>1</td>\n",
       "      <td>0</td>\n",
       "      <td>50</td>\n",
       "      <td>0</td>\n",
       "      <td>0</td>\n",
       "      <td>0</td>\n",
       "    </tr>\n",
       "    <tr>\n",
       "      <th>38179</th>\n",
       "      <td>0</td>\n",
       "      <td>0</td>\n",
       "      <td>0.0</td>\n",
       "      <td>0</td>\n",
       "      <td>0</td>\n",
       "      <td>75</td>\n",
       "      <td>2</td>\n",
       "      <td>0</td>\n",
       "      <td>0</td>\n",
       "    </tr>\n",
       "    <tr>\n",
       "      <th>38180</th>\n",
       "      <td>1</td>\n",
       "      <td>0</td>\n",
       "      <td>15.0</td>\n",
       "      <td>0</td>\n",
       "      <td>1</td>\n",
       "      <td>70</td>\n",
       "      <td>3</td>\n",
       "      <td>0</td>\n",
       "      <td>0</td>\n",
       "    </tr>\n",
       "    <tr>\n",
       "      <th>38181</th>\n",
       "      <td>1</td>\n",
       "      <td>0</td>\n",
       "      <td>4.0</td>\n",
       "      <td>0</td>\n",
       "      <td>1</td>\n",
       "      <td>50</td>\n",
       "      <td>2</td>\n",
       "      <td>0</td>\n",
       "      <td>0</td>\n",
       "    </tr>\n",
       "  </tbody>\n",
       "</table>\n",
       "<p>38182 rows × 9 columns</p>\n",
       "</div>"
      ],
      "text/plain": [
       "       Smoking  AlcoholDrinking  PhysicalHealth  DiffWalking  Sex  \\\n",
       "0            1                0             0.0            0    1   \n",
       "1            0                0             5.0            0    0   \n",
       "2            0                0             0.0            0    0   \n",
       "3            0                0             7.0            1    0   \n",
       "4            1                0             0.0            0    1   \n",
       "...        ...              ...             ...          ...  ...   \n",
       "38177        0                0             0.0            0    1   \n",
       "38178        0                0            30.0            1    0   \n",
       "38179        0                0             0.0            0    0   \n",
       "38180        1                0            15.0            0    1   \n",
       "38181        1                0             4.0            0    1   \n",
       "\n",
       "       AgeCategory  GenHealth  Asthma  Race_Asian  \n",
       "0               65          1       0           0  \n",
       "1               80          0       0           0  \n",
       "2               40          4       0           0  \n",
       "3               60          2       0           0  \n",
       "4               70          3       0           0  \n",
       "...            ...        ...     ...         ...  \n",
       "38177           75          3       0           0  \n",
       "38178           50          0       0           0  \n",
       "38179           75          2       0           0  \n",
       "38180           70          3       0           0  \n",
       "38181           50          2       0           0  \n",
       "\n",
       "[38182 rows x 9 columns]"
      ]
     },
     "execution_count": 11,
     "metadata": {},
     "output_type": "execute_result"
    }
   ],
   "source": [
    "X_train_under.loc[:, rfe_under.support_]"
   ]
  },
  {
   "cell_type": "code",
   "execution_count": 12,
   "id": "2dd1752e",
   "metadata": {},
   "outputs": [],
   "source": [
    "# RFE : Over sampled data final\n",
    "\n",
    "scaler = StandardScaler()\n",
    "scaler.fit(X_train_over)\n",
    "X_scaled_train = scaler.transform(X_train_over)\n",
    "X_scaled_test = scaler.transform(X_test_sampled)\n",
    "   \n",
    "rfe_over = RFE(estimator=LogisticRegression(max_iter=1000, random_state=42), n_features_to_select=11)\n",
    "rfe_over.fit(X_scaled_train,y_train_over)\n",
    "    \n",
    "train_score_ov_rfe = rfe_over.score(X_scaled_train,y_train_over)\n",
    "test_score_ov_rfe = rfe_over.score(X_scaled_test,y_test_sampled)"
   ]
  },
  {
   "cell_type": "code",
   "execution_count": 13,
   "id": "57f8a14a",
   "metadata": {},
   "outputs": [
    {
     "data": {
      "text/html": [
       "<div>\n",
       "<style scoped>\n",
       "    .dataframe tbody tr th:only-of-type {\n",
       "        vertical-align: middle;\n",
       "    }\n",
       "\n",
       "    .dataframe tbody tr th {\n",
       "        vertical-align: top;\n",
       "    }\n",
       "\n",
       "    .dataframe thead th {\n",
       "        text-align: right;\n",
       "    }\n",
       "</style>\n",
       "<table border=\"1\" class=\"dataframe\">\n",
       "  <thead>\n",
       "    <tr style=\"text-align: right;\">\n",
       "      <th></th>\n",
       "      <th>BMI</th>\n",
       "      <th>Smoking</th>\n",
       "      <th>AlcoholDrinking</th>\n",
       "      <th>PhysicalHealth</th>\n",
       "      <th>MentalHealth</th>\n",
       "      <th>DiffWalking</th>\n",
       "      <th>Sex</th>\n",
       "      <th>AgeCategory</th>\n",
       "      <th>GenHealth</th>\n",
       "      <th>Asthma</th>\n",
       "      <th>Race_Asian</th>\n",
       "    </tr>\n",
       "  </thead>\n",
       "  <tbody>\n",
       "    <tr>\n",
       "      <th>0</th>\n",
       "      <td>27.12</td>\n",
       "      <td>1</td>\n",
       "      <td>0</td>\n",
       "      <td>0.0</td>\n",
       "      <td>2.0</td>\n",
       "      <td>0</td>\n",
       "      <td>1</td>\n",
       "      <td>35</td>\n",
       "      <td>3</td>\n",
       "      <td>0</td>\n",
       "      <td>0</td>\n",
       "    </tr>\n",
       "    <tr>\n",
       "      <th>1</th>\n",
       "      <td>30.23</td>\n",
       "      <td>0</td>\n",
       "      <td>0</td>\n",
       "      <td>0.0</td>\n",
       "      <td>0.0</td>\n",
       "      <td>0</td>\n",
       "      <td>0</td>\n",
       "      <td>18</td>\n",
       "      <td>2</td>\n",
       "      <td>0</td>\n",
       "      <td>0</td>\n",
       "    </tr>\n",
       "    <tr>\n",
       "      <th>2</th>\n",
       "      <td>32.55</td>\n",
       "      <td>0</td>\n",
       "      <td>0</td>\n",
       "      <td>0.0</td>\n",
       "      <td>0.0</td>\n",
       "      <td>0</td>\n",
       "      <td>1</td>\n",
       "      <td>60</td>\n",
       "      <td>3</td>\n",
       "      <td>0</td>\n",
       "      <td>0</td>\n",
       "    </tr>\n",
       "    <tr>\n",
       "      <th>3</th>\n",
       "      <td>33.07</td>\n",
       "      <td>0</td>\n",
       "      <td>0</td>\n",
       "      <td>0.0</td>\n",
       "      <td>0.0</td>\n",
       "      <td>0</td>\n",
       "      <td>0</td>\n",
       "      <td>55</td>\n",
       "      <td>3</td>\n",
       "      <td>0</td>\n",
       "      <td>0</td>\n",
       "    </tr>\n",
       "    <tr>\n",
       "      <th>4</th>\n",
       "      <td>23.06</td>\n",
       "      <td>0</td>\n",
       "      <td>0</td>\n",
       "      <td>0.0</td>\n",
       "      <td>0.0</td>\n",
       "      <td>0</td>\n",
       "      <td>1</td>\n",
       "      <td>30</td>\n",
       "      <td>4</td>\n",
       "      <td>0</td>\n",
       "      <td>0</td>\n",
       "    </tr>\n",
       "    <tr>\n",
       "      <th>...</th>\n",
       "      <td>...</td>\n",
       "      <td>...</td>\n",
       "      <td>...</td>\n",
       "      <td>...</td>\n",
       "      <td>...</td>\n",
       "      <td>...</td>\n",
       "      <td>...</td>\n",
       "      <td>...</td>\n",
       "      <td>...</td>\n",
       "      <td>...</td>\n",
       "      <td>...</td>\n",
       "    </tr>\n",
       "    <tr>\n",
       "      <th>408515</th>\n",
       "      <td>42.87</td>\n",
       "      <td>0</td>\n",
       "      <td>0</td>\n",
       "      <td>30.0</td>\n",
       "      <td>0.0</td>\n",
       "      <td>1</td>\n",
       "      <td>0</td>\n",
       "      <td>60</td>\n",
       "      <td>2</td>\n",
       "      <td>0</td>\n",
       "      <td>0</td>\n",
       "    </tr>\n",
       "    <tr>\n",
       "      <th>408516</th>\n",
       "      <td>24.41</td>\n",
       "      <td>0</td>\n",
       "      <td>0</td>\n",
       "      <td>0.0</td>\n",
       "      <td>0.0</td>\n",
       "      <td>0</td>\n",
       "      <td>1</td>\n",
       "      <td>65</td>\n",
       "      <td>2</td>\n",
       "      <td>0</td>\n",
       "      <td>0</td>\n",
       "    </tr>\n",
       "    <tr>\n",
       "      <th>408517</th>\n",
       "      <td>33.00</td>\n",
       "      <td>0</td>\n",
       "      <td>0</td>\n",
       "      <td>0.0</td>\n",
       "      <td>0.0</td>\n",
       "      <td>0</td>\n",
       "      <td>1</td>\n",
       "      <td>60</td>\n",
       "      <td>1</td>\n",
       "      <td>0</td>\n",
       "      <td>0</td>\n",
       "    </tr>\n",
       "    <tr>\n",
       "      <th>408518</th>\n",
       "      <td>31.32</td>\n",
       "      <td>1</td>\n",
       "      <td>0</td>\n",
       "      <td>3.0</td>\n",
       "      <td>2.0</td>\n",
       "      <td>0</td>\n",
       "      <td>0</td>\n",
       "      <td>65</td>\n",
       "      <td>2</td>\n",
       "      <td>1</td>\n",
       "      <td>0</td>\n",
       "    </tr>\n",
       "    <tr>\n",
       "      <th>408519</th>\n",
       "      <td>27.71</td>\n",
       "      <td>1</td>\n",
       "      <td>0</td>\n",
       "      <td>15.0</td>\n",
       "      <td>30.0</td>\n",
       "      <td>1</td>\n",
       "      <td>1</td>\n",
       "      <td>75</td>\n",
       "      <td>1</td>\n",
       "      <td>0</td>\n",
       "      <td>0</td>\n",
       "    </tr>\n",
       "  </tbody>\n",
       "</table>\n",
       "<p>408520 rows × 11 columns</p>\n",
       "</div>"
      ],
      "text/plain": [
       "          BMI  Smoking  AlcoholDrinking  PhysicalHealth  MentalHealth  \\\n",
       "0       27.12        1                0             0.0           2.0   \n",
       "1       30.23        0                0             0.0           0.0   \n",
       "2       32.55        0                0             0.0           0.0   \n",
       "3       33.07        0                0             0.0           0.0   \n",
       "4       23.06        0                0             0.0           0.0   \n",
       "...       ...      ...              ...             ...           ...   \n",
       "408515  42.87        0                0            30.0           0.0   \n",
       "408516  24.41        0                0             0.0           0.0   \n",
       "408517  33.00        0                0             0.0           0.0   \n",
       "408518  31.32        1                0             3.0           2.0   \n",
       "408519  27.71        1                0            15.0          30.0   \n",
       "\n",
       "        DiffWalking  Sex  AgeCategory  GenHealth  Asthma  Race_Asian  \n",
       "0                 0    1           35          3       0           0  \n",
       "1                 0    0           18          2       0           0  \n",
       "2                 0    1           60          3       0           0  \n",
       "3                 0    0           55          3       0           0  \n",
       "4                 0    1           30          4       0           0  \n",
       "...             ...  ...          ...        ...     ...         ...  \n",
       "408515            1    0           60          2       0           0  \n",
       "408516            0    1           65          2       0           0  \n",
       "408517            0    1           60          1       0           0  \n",
       "408518            0    0           65          2       1           0  \n",
       "408519            1    1           75          1       0           0  \n",
       "\n",
       "[408520 rows x 11 columns]"
      ]
     },
     "execution_count": 13,
     "metadata": {},
     "output_type": "execute_result"
    }
   ],
   "source": [
    "X_train_over.loc[:, rfe_over.support_]"
   ]
  },
  {
   "cell_type": "code",
   "execution_count": 14,
   "id": "759d5896",
   "metadata": {},
   "outputs": [],
   "source": [
    "# RFE : SMOTE data final\n",
    "\n",
    "scaler = StandardScaler()\n",
    "scaler.fit(X_train_smote)\n",
    "X_scaled_train = scaler.transform(X_train_smote)\n",
    "X_scaled_test = scaler.transform(X_test_smote)\n",
    "    \n",
    "rfe_smote = RFE(estimator=LogisticRegression(max_iter=1500, random_state=42), n_features_to_select=10)\n",
    "rfe_smote.fit(X_scaled_train,y_train_smote)\n",
    "    \n",
    "train_score_s_rfe = rfe_smote.score(X_scaled_train,y_train_smote)\n",
    "test_score_s_rfe = rfe_smote.score(X_scaled_test,y_test_smote)"
   ]
  },
  {
   "cell_type": "code",
   "execution_count": 15,
   "id": "9744f360",
   "metadata": {},
   "outputs": [
    {
     "data": {
      "text/html": [
       "<div>\n",
       "<style scoped>\n",
       "    .dataframe tbody tr th:only-of-type {\n",
       "        vertical-align: middle;\n",
       "    }\n",
       "\n",
       "    .dataframe tbody tr th {\n",
       "        vertical-align: top;\n",
       "    }\n",
       "\n",
       "    .dataframe thead th {\n",
       "        text-align: right;\n",
       "    }\n",
       "</style>\n",
       "<table border=\"1\" class=\"dataframe\">\n",
       "  <thead>\n",
       "    <tr style=\"text-align: right;\">\n",
       "      <th></th>\n",
       "      <th>AlcoholDrinking</th>\n",
       "      <th>AgeCategory</th>\n",
       "      <th>GenHealth</th>\n",
       "      <th>Asthma</th>\n",
       "      <th>Race_American Indian/Alaskan Native</th>\n",
       "      <th>Race_Asian</th>\n",
       "      <th>Race_Black</th>\n",
       "      <th>Race_Hispanic</th>\n",
       "      <th>Race_Other</th>\n",
       "      <th>Race_White</th>\n",
       "    </tr>\n",
       "  </thead>\n",
       "  <tbody>\n",
       "    <tr>\n",
       "      <th>0</th>\n",
       "      <td>0</td>\n",
       "      <td>35</td>\n",
       "      <td>3</td>\n",
       "      <td>0</td>\n",
       "      <td>0</td>\n",
       "      <td>0</td>\n",
       "      <td>0</td>\n",
       "      <td>0</td>\n",
       "      <td>0</td>\n",
       "      <td>1</td>\n",
       "    </tr>\n",
       "    <tr>\n",
       "      <th>1</th>\n",
       "      <td>0</td>\n",
       "      <td>18</td>\n",
       "      <td>2</td>\n",
       "      <td>0</td>\n",
       "      <td>0</td>\n",
       "      <td>0</td>\n",
       "      <td>0</td>\n",
       "      <td>1</td>\n",
       "      <td>0</td>\n",
       "      <td>0</td>\n",
       "    </tr>\n",
       "    <tr>\n",
       "      <th>2</th>\n",
       "      <td>0</td>\n",
       "      <td>60</td>\n",
       "      <td>3</td>\n",
       "      <td>0</td>\n",
       "      <td>0</td>\n",
       "      <td>0</td>\n",
       "      <td>0</td>\n",
       "      <td>0</td>\n",
       "      <td>0</td>\n",
       "      <td>1</td>\n",
       "    </tr>\n",
       "    <tr>\n",
       "      <th>3</th>\n",
       "      <td>0</td>\n",
       "      <td>55</td>\n",
       "      <td>3</td>\n",
       "      <td>0</td>\n",
       "      <td>0</td>\n",
       "      <td>0</td>\n",
       "      <td>0</td>\n",
       "      <td>1</td>\n",
       "      <td>0</td>\n",
       "      <td>0</td>\n",
       "    </tr>\n",
       "    <tr>\n",
       "      <th>4</th>\n",
       "      <td>0</td>\n",
       "      <td>30</td>\n",
       "      <td>4</td>\n",
       "      <td>0</td>\n",
       "      <td>0</td>\n",
       "      <td>0</td>\n",
       "      <td>1</td>\n",
       "      <td>0</td>\n",
       "      <td>0</td>\n",
       "      <td>0</td>\n",
       "    </tr>\n",
       "    <tr>\n",
       "      <th>...</th>\n",
       "      <td>...</td>\n",
       "      <td>...</td>\n",
       "      <td>...</td>\n",
       "      <td>...</td>\n",
       "      <td>...</td>\n",
       "      <td>...</td>\n",
       "      <td>...</td>\n",
       "      <td>...</td>\n",
       "      <td>...</td>\n",
       "      <td>...</td>\n",
       "    </tr>\n",
       "    <tr>\n",
       "      <th>408515</th>\n",
       "      <td>0</td>\n",
       "      <td>80</td>\n",
       "      <td>1</td>\n",
       "      <td>0</td>\n",
       "      <td>0</td>\n",
       "      <td>0</td>\n",
       "      <td>0</td>\n",
       "      <td>0</td>\n",
       "      <td>0</td>\n",
       "      <td>1</td>\n",
       "    </tr>\n",
       "    <tr>\n",
       "      <th>408516</th>\n",
       "      <td>0</td>\n",
       "      <td>65</td>\n",
       "      <td>3</td>\n",
       "      <td>0</td>\n",
       "      <td>0</td>\n",
       "      <td>0</td>\n",
       "      <td>0</td>\n",
       "      <td>0</td>\n",
       "      <td>0</td>\n",
       "      <td>1</td>\n",
       "    </tr>\n",
       "    <tr>\n",
       "      <th>408517</th>\n",
       "      <td>0</td>\n",
       "      <td>70</td>\n",
       "      <td>2</td>\n",
       "      <td>0</td>\n",
       "      <td>0</td>\n",
       "      <td>0</td>\n",
       "      <td>0</td>\n",
       "      <td>0</td>\n",
       "      <td>0</td>\n",
       "      <td>0</td>\n",
       "    </tr>\n",
       "    <tr>\n",
       "      <th>408518</th>\n",
       "      <td>0</td>\n",
       "      <td>75</td>\n",
       "      <td>2</td>\n",
       "      <td>0</td>\n",
       "      <td>0</td>\n",
       "      <td>0</td>\n",
       "      <td>0</td>\n",
       "      <td>0</td>\n",
       "      <td>0</td>\n",
       "      <td>1</td>\n",
       "    </tr>\n",
       "    <tr>\n",
       "      <th>408519</th>\n",
       "      <td>0</td>\n",
       "      <td>75</td>\n",
       "      <td>3</td>\n",
       "      <td>0</td>\n",
       "      <td>0</td>\n",
       "      <td>0</td>\n",
       "      <td>0</td>\n",
       "      <td>0</td>\n",
       "      <td>0</td>\n",
       "      <td>1</td>\n",
       "    </tr>\n",
       "  </tbody>\n",
       "</table>\n",
       "<p>408520 rows × 10 columns</p>\n",
       "</div>"
      ],
      "text/plain": [
       "        AlcoholDrinking  AgeCategory  GenHealth  Asthma  \\\n",
       "0                     0           35          3       0   \n",
       "1                     0           18          2       0   \n",
       "2                     0           60          3       0   \n",
       "3                     0           55          3       0   \n",
       "4                     0           30          4       0   \n",
       "...                 ...          ...        ...     ...   \n",
       "408515                0           80          1       0   \n",
       "408516                0           65          3       0   \n",
       "408517                0           70          2       0   \n",
       "408518                0           75          2       0   \n",
       "408519                0           75          3       0   \n",
       "\n",
       "        Race_American Indian/Alaskan Native  Race_Asian  Race_Black  \\\n",
       "0                                         0           0           0   \n",
       "1                                         0           0           0   \n",
       "2                                         0           0           0   \n",
       "3                                         0           0           0   \n",
       "4                                         0           0           1   \n",
       "...                                     ...         ...         ...   \n",
       "408515                                    0           0           0   \n",
       "408516                                    0           0           0   \n",
       "408517                                    0           0           0   \n",
       "408518                                    0           0           0   \n",
       "408519                                    0           0           0   \n",
       "\n",
       "        Race_Hispanic  Race_Other  Race_White  \n",
       "0                   0           0           1  \n",
       "1                   1           0           0  \n",
       "2                   0           0           1  \n",
       "3                   1           0           0  \n",
       "4                   0           0           0  \n",
       "...               ...         ...         ...  \n",
       "408515              0           0           1  \n",
       "408516              0           0           1  \n",
       "408517              0           0           0  \n",
       "408518              0           0           1  \n",
       "408519              0           0           1  \n",
       "\n",
       "[408520 rows x 10 columns]"
      ]
     },
     "execution_count": 15,
     "metadata": {},
     "output_type": "execute_result"
    }
   ],
   "source": [
    "X_train_smote.loc[:, rfe_smote.support_]"
   ]
  },
  {
   "cell_type": "markdown",
   "id": "71fd13ff",
   "metadata": {},
   "source": [
    "### Optimizing Hyperparameters: Random Forest"
   ]
  },
  {
   "cell_type": "markdown",
   "id": "128e673f",
   "metadata": {},
   "source": [
    "### Baseline Model"
   ]
  },
  {
   "cell_type": "code",
   "execution_count": 19,
   "id": "071844ff",
   "metadata": {},
   "outputs": [],
   "source": [
    "from sklearn.ensemble import RandomForestClassifier\n",
    "from sklearn.metrics import f1_score\n",
    "from sklearn.decomposition import PCA"
   ]
  },
  {
   "cell_type": "code",
   "execution_count": 32,
   "id": "2c44132b",
   "metadata": {},
   "outputs": [],
   "source": [
    "def R_forest(X_train, y_train, X_test, y_test):\n",
    "    \n",
    "    RF_model = RandomForestClassifier()\n",
    "    RF_model.fit(X_train, y_train)\n",
    "    \n",
    "    train_score = RF_model.score(X_train, y_train)\n",
    "    test_score = RF_model.score(X_test, y_test)\n",
    "    \n",
    "    # Evaluation(precision & Recall)\n",
    "    y_pred = RF_model.predict(X_test)\n",
    "\n",
    "    report_initial = classification_report(y_test, y_pred)\n",
    "    \n",
    "    return print(f\"Train score: {train_score}\\nTest score: {test_score}\\n{report_initial}\")"
   ]
  },
  {
   "cell_type": "code",
   "execution_count": 33,
   "id": "db821e5c",
   "metadata": {},
   "outputs": [],
   "source": [
    "def R_forest_w_normalize(X_train, y_train, X_test, y_test):\n",
    "    \n",
    "    scaler = StandardScaler()\n",
    "    scaler.fit(X_train)\n",
    "    X_scaled_train = scaler.transform(X_train)\n",
    "    X_scaled_test = scaler.transform(X_test)\n",
    "    \n",
    "    RF_model = RandomForestClassifier()\n",
    "    RF_model.fit(X_scaled_train, y_train)\n",
    "    \n",
    "    train_score = RF_model.score(X_scaled_train, y_train)\n",
    "    test_score = RF_model.score(X_scaled_test, y_test)\n",
    "    \n",
    "    # Evaluation(precision & Recall)\n",
    "    y_pred = RF_model.predict(X_scaled_test)\n",
    "\n",
    "    report_initial = classification_report(y_test, y_pred)\n",
    "    \n",
    "    return print(f\"Train score: {train_score}\\nTest score: {test_score}\\n{report_initial}\")"
   ]
  },
  {
   "cell_type": "code",
   "execution_count": 34,
   "id": "930a046e",
   "metadata": {},
   "outputs": [],
   "source": [
    "def R_forest_w_pca_normalize(X_train, y_train, X_test, y_test):\n",
    "    \n",
    "    scaler = StandardScaler()\n",
    "    scaler.fit(X_train)\n",
    "    X_scaled_train = scaler.transform(X_train)\n",
    "    X_scaled_test = scaler.transform(X_test)\n",
    "    \n",
    "    my_PCA = PCA()\n",
    "    my_PCA.fit(X_scaled_train)\n",
    "\n",
    "    X_train_PCA = my_PCA.transform(X_scaled_train)\n",
    "    X_test_PCA = my_PCA.transform(X_scaled_test)   \n",
    "    \n",
    "    RF_model = RandomForestClassifier()\n",
    "    RF_model.fit(X_train_PCA, y_train)\n",
    "    \n",
    "    train_score = RF_model.score(X_train_PCA, y_train)\n",
    "    test_score = RF_model.score(X_test_PCA, y_test)\n",
    "    \n",
    "    # Evaluation(precision & Recall)\n",
    "    y_pred = RF_model.predict(X_test_PCA)\n",
    "\n",
    "    report_initial = classification_report(y_test, y_pred)\n",
    "    \n",
    "    return print(f\"Train score: {train_score}\\nTest score: {test_score}\\n{report_initial}\")"
   ]
  },
  {
   "cell_type": "markdown",
   "id": "52b72377",
   "metadata": {},
   "source": [
    "**Original data**"
   ]
  },
  {
   "cell_type": "code",
   "execution_count": 23,
   "id": "66da3e1b",
   "metadata": {},
   "outputs": [
    {
     "name": "stdout",
     "output_type": "stream",
     "text": [
      "Before normalization and reducing dimention\n",
      "\n",
      "Original dataset\n",
      "Train score: 0.9625656477920403\n",
      "Test score: 0.8874971270972191\n",
      "              precision    recall  f1-score   support\n",
      "\n",
      "           0       0.93      0.95      0.94     87544\n",
      "           1       0.26      0.18      0.21      8178\n",
      "\n",
      "    accuracy                           0.89     95722\n",
      "   macro avg       0.59      0.57      0.58     95722\n",
      "weighted avg       0.87      0.89      0.88     95722\n",
      "\n"
     ]
    }
   ],
   "source": [
    "print(\"Before normalization and reducing dimention\\n\")\n",
    "\n",
    "print(\"Original dataset\")\n",
    "R_forest(X_train_original.loc[:, rfe_original.support_], y_train_original, \\\n",
    "            X_test_original.loc[:, rfe_original.support_], y_test_original)"
   ]
  },
  {
   "cell_type": "code",
   "execution_count": 24,
   "id": "9be3071d",
   "metadata": {},
   "outputs": [
    {
     "name": "stdout",
     "output_type": "stream",
     "text": [
      "Only normalization\n",
      "\n",
      "Original dataset\n",
      "Train score: 0.9625477387609637\n",
      "Test score: 0.8872672948747414\n",
      "              precision    recall  f1-score   support\n",
      "\n",
      "           0       0.93      0.95      0.94     87544\n",
      "           1       0.26      0.18      0.21      8178\n",
      "\n",
      "    accuracy                           0.89     95722\n",
      "   macro avg       0.59      0.57      0.58     95722\n",
      "weighted avg       0.87      0.89      0.88     95722\n",
      "\n"
     ]
    }
   ],
   "source": [
    "print(\"Only normalization\\n\")\n",
    "\n",
    "print(\"Original dataset\")\n",
    "R_forest_w_normalize(X_train_original.loc[:, rfe_original.support_], y_train_original, \\\n",
    "            X_test_original.loc[:, rfe_original.support_], y_test_original)"
   ]
  },
  {
   "cell_type": "code",
   "execution_count": 119,
   "id": "37457807",
   "metadata": {},
   "outputs": [
    {
     "name": "stdout",
     "output_type": "stream",
     "text": [
      "Normalization and reducing dimention\n",
      "\n",
      "Original dataset\n",
      "Train score: 0.9626148976275011\n",
      "Test score: 0.8910804203840288\n",
      "              precision    recall  f1-score   support\n",
      "\n",
      "           0       0.92      0.96      0.94     87544\n",
      "           1       0.27      0.16      0.20      8178\n",
      "\n",
      "    accuracy                           0.89     95722\n",
      "   macro avg       0.60      0.56      0.57     95722\n",
      "weighted avg       0.87      0.89      0.88     95722\n",
      "\n"
     ]
    }
   ],
   "source": [
    "print(\"Normalization and reducing dimention\\n\")\n",
    "\n",
    "print(\"Original dataset\")\n",
    "R_forest_w_pca_normalize(X_train_original.loc[:, rfe_original.support_], y_train_original, \\\n",
    "            X_test_original.loc[:, rfe_original.support_], y_test_original)"
   ]
  },
  {
   "cell_type": "markdown",
   "id": "357515a2",
   "metadata": {},
   "source": [
    "The test score became a little bit higher when the model is with PCA. However, the recall score for 1 became 0. Therefore, I'll do GridSearch with no PCA. Then I'll check if the model is better with PCA."
   ]
  },
  {
   "cell_type": "markdown",
   "id": "a1b23f46",
   "metadata": {},
   "source": [
    "**Under Sampled data**"
   ]
  },
  {
   "cell_type": "code",
   "execution_count": 26,
   "id": "57362689",
   "metadata": {},
   "outputs": [
    {
     "name": "stdout",
     "output_type": "stream",
     "text": [
      "Before normalization and reducing dimention\n",
      "\n",
      "Under sampled dataset\n",
      "Train score: 0.8012152323084176\n",
      "Test score: 0.7071728547251416\n",
      "              precision    recall  f1-score   support\n",
      "\n",
      "           0       0.97      0.70      0.81     87544\n",
      "           1       0.19      0.77      0.31      8178\n",
      "\n",
      "    accuracy                           0.71     95722\n",
      "   macro avg       0.58      0.74      0.56     95722\n",
      "weighted avg       0.90      0.71      0.77     95722\n",
      "\n"
     ]
    }
   ],
   "source": [
    "print(\"Before normalization and reducing dimention\\n\")\n",
    "\n",
    "print(\"Under sampled dataset\")\n",
    "R_forest(X_train_under.loc[:, rfe_under.support_], y_train_under, \\\n",
    "        X_test_sampled.loc[:, rfe_under.support_], y_test_sampled)"
   ]
  },
  {
   "cell_type": "code",
   "execution_count": 27,
   "id": "df7316c1",
   "metadata": {},
   "outputs": [
    {
     "name": "stdout",
     "output_type": "stream",
     "text": [
      "Only normalization\n",
      "\n",
      "Under sampled dataset\n",
      "Train score: 0.8011890419569431\n",
      "Test score: 0.7087816802824847\n",
      "              precision    recall  f1-score   support\n",
      "\n",
      "           0       0.97      0.70      0.82     87544\n",
      "           1       0.19      0.77      0.31      8178\n",
      "\n",
      "    accuracy                           0.71     95722\n",
      "   macro avg       0.58      0.74      0.56     95722\n",
      "weighted avg       0.90      0.71      0.77     95722\n",
      "\n"
     ]
    }
   ],
   "source": [
    "print(\"Only normalization\\n\")\n",
    "\n",
    "print(\"Under sampled dataset\")\n",
    "R_forest_w_normalize(X_train_under.loc[:, rfe_under.support_], y_train_under, \\\n",
    "        X_test_sampled.loc[:, rfe_under.support_], y_test_sampled)"
   ]
  },
  {
   "cell_type": "code",
   "execution_count": 120,
   "id": "26dc0ea3",
   "metadata": {},
   "outputs": [
    {
     "name": "stdout",
     "output_type": "stream",
     "text": [
      "Normalization and reducing dimention\n",
      "\n",
      "Under sampled dataset\n",
      "Train score: 0.8012152323084176\n",
      "Test score: 0.70601324669355\n",
      "              precision    recall  f1-score   support\n",
      "\n",
      "           0       0.97      0.70      0.81     87544\n",
      "           1       0.19      0.77      0.31      8178\n",
      "\n",
      "    accuracy                           0.71     95722\n",
      "   macro avg       0.58      0.73      0.56     95722\n",
      "weighted avg       0.90      0.71      0.77     95722\n",
      "\n"
     ]
    }
   ],
   "source": [
    "print(\"Normalization and reducing dimention\\n\")\n",
    "\n",
    "print(\"Under sampled dataset\")\n",
    "R_forest_w_pca_normalize(X_train_under.loc[:, rfe_under.support_], y_train_under, \\\n",
    "        X_test_sampled.loc[:, rfe_under.support_], y_test_sampled)"
   ]
  },
  {
   "cell_type": "markdown",
   "id": "5b22e34b",
   "metadata": {},
   "source": [
    "The both scores of test and recall for 1 became lower when the model is with PCA. Therefore, I'll do GridSearch with no PCA. Then I'll check if the model is better with PCA."
   ]
  },
  {
   "cell_type": "markdown",
   "id": "8e85c4b8",
   "metadata": {},
   "source": [
    "**Over Sampled data**"
   ]
  },
  {
   "cell_type": "code",
   "execution_count": 29,
   "id": "31e28994",
   "metadata": {},
   "outputs": [
    {
     "name": "stdout",
     "output_type": "stream",
     "text": [
      "Before normalization and reducing dimention\n",
      "\n",
      "Over sampled dataset\n",
      "Train score: 0.9753035347106629\n",
      "Test score: 0.8478719625582416\n",
      "              precision    recall  f1-score   support\n",
      "\n",
      "           0       0.93      0.90      0.92     87544\n",
      "           1       0.20      0.26      0.23      8178\n",
      "\n",
      "    accuracy                           0.85     95722\n",
      "   macro avg       0.56      0.58      0.57     95722\n",
      "weighted avg       0.87      0.85      0.86     95722\n",
      "\n"
     ]
    }
   ],
   "source": [
    "print(\"Before normalization and reducing dimention\\n\")\n",
    "\n",
    "print(\"Over sampled dataset\")\n",
    "R_forest(X_train_over.loc[:, rfe_over.support_], y_train_over, \\\n",
    "        X_test_sampled.loc[:, rfe_over.support_], y_test_sampled)"
   ]
  },
  {
   "cell_type": "code",
   "execution_count": 30,
   "id": "f8c28e46",
   "metadata": {},
   "outputs": [
    {
     "name": "stdout",
     "output_type": "stream",
     "text": [
      "Only normalization\n",
      "\n",
      "Over sampled dataset\n",
      "Train score: 0.975301086850093\n",
      "Test score: 0.8483107331647897\n",
      "              precision    recall  f1-score   support\n",
      "\n",
      "           0       0.93      0.90      0.92     87544\n",
      "           1       0.20      0.26      0.23      8178\n",
      "\n",
      "    accuracy                           0.85     95722\n",
      "   macro avg       0.57      0.58      0.57     95722\n",
      "weighted avg       0.87      0.85      0.86     95722\n",
      "\n"
     ]
    }
   ],
   "source": [
    "print(\"Only normalization\\n\")\n",
    "\n",
    "print(\"Over sampled dataset\")\n",
    "R_forest_w_normalize(X_train_over.loc[:, rfe_over.support_], y_train_over, \\\n",
    "        X_test_sampled.loc[:, rfe_over.support_], y_test_sampled)"
   ]
  },
  {
   "cell_type": "code",
   "execution_count": 121,
   "id": "5ef05a96",
   "metadata": {},
   "outputs": [
    {
     "name": "stdout",
     "output_type": "stream",
     "text": [
      "Normalization and reducing dimention\n",
      "\n",
      "Over sampled dataset\n",
      "Train score: 0.9753084304318026\n",
      "Test score: 0.8531998913520403\n",
      "              precision    recall  f1-score   support\n",
      "\n",
      "           0       0.93      0.91      0.92     87544\n",
      "           1       0.21      0.25      0.23      8178\n",
      "\n",
      "    accuracy                           0.85     95722\n",
      "   macro avg       0.57      0.58      0.57     95722\n",
      "weighted avg       0.87      0.85      0.86     95722\n",
      "\n"
     ]
    }
   ],
   "source": [
    "print(\"Normalization and reducing dimention\\n\")\n",
    "\n",
    "print(\"Over sampled dataset\")\n",
    "R_forest_w_pca_normalize(X_train_over.loc[:, rfe_over.support_], y_train_over, \\\n",
    "        X_test_sampled.loc[:, rfe_over.support_], y_test_sampled)"
   ]
  },
  {
   "cell_type": "markdown",
   "id": "f5322ff0",
   "metadata": {},
   "source": [
    "The test score increased when it's with PCA. However, the recall score for 1 became 0. Therefore, I'll do GridSearch with no PCA. Then I'll check if the model is better with PCA."
   ]
  },
  {
   "cell_type": "markdown",
   "id": "b61983e2",
   "metadata": {},
   "source": [
    "**SMOTE data**"
   ]
  },
  {
   "cell_type": "code",
   "execution_count": 32,
   "id": "aaf94a38",
   "metadata": {},
   "outputs": [
    {
     "name": "stdout",
     "output_type": "stream",
     "text": [
      "Before normalization and reducing dimention\n",
      "\n",
      "SMOTE dataset\n",
      "Train score: 0.8059654362087535\n",
      "Test score: 0.7534422598775621\n",
      "              precision    recall  f1-score   support\n",
      "\n",
      "           0       0.96      0.76      0.85     87544\n",
      "           1       0.20      0.64      0.31      8178\n",
      "\n",
      "    accuracy                           0.75     95722\n",
      "   macro avg       0.58      0.70      0.58     95722\n",
      "weighted avg       0.89      0.75      0.80     95722\n",
      "\n"
     ]
    }
   ],
   "source": [
    "print(\"Before normalization and reducing dimention\\n\")\n",
    "\n",
    "print(\"SMOTE dataset\")\n",
    "R_forest(X_train_smote.loc[:, rfe_smote.support_], y_train_smote, \\\n",
    "        X_test_smote.loc[:, rfe_smote.support_], y_test_smote)"
   ]
  },
  {
   "cell_type": "code",
   "execution_count": 33,
   "id": "0e0aba13",
   "metadata": {},
   "outputs": [
    {
     "name": "stdout",
     "output_type": "stream",
     "text": [
      "Only normalization\n",
      "\n",
      "SMOTE dataset\n",
      "Train score: 0.8059678840693234\n",
      "Test score: 0.7534527067967657\n",
      "              precision    recall  f1-score   support\n",
      "\n",
      "           0       0.96      0.76      0.85     87544\n",
      "           1       0.20      0.64      0.31      8178\n",
      "\n",
      "    accuracy                           0.75     95722\n",
      "   macro avg       0.58      0.70      0.58     95722\n",
      "weighted avg       0.89      0.75      0.80     95722\n",
      "\n"
     ]
    }
   ],
   "source": [
    "print(\"Only normalization\\n\")\n",
    "\n",
    "print(\"SMOTE dataset\")\n",
    "R_forest_w_normalize(X_train_smote.loc[:, rfe_smote.support_], y_train_smote, \\\n",
    "        X_test_smote.loc[:, rfe_smote.support_], y_test_smote)"
   ]
  },
  {
   "cell_type": "code",
   "execution_count": 122,
   "id": "382976c8",
   "metadata": {},
   "outputs": [
    {
     "name": "stdout",
     "output_type": "stream",
     "text": [
      "Normalization and reducing dimention\n",
      "\n",
      "SMOTE dataset\n",
      "Train score: 0.8059629883481837\n",
      "Test score: 0.7530870646246421\n",
      "              precision    recall  f1-score   support\n",
      "\n",
      "           0       0.96      0.76      0.85     87544\n",
      "           1       0.20      0.64      0.31      8178\n",
      "\n",
      "    accuracy                           0.75     95722\n",
      "   macro avg       0.58      0.70      0.58     95722\n",
      "weighted avg       0.89      0.75      0.80     95722\n",
      "\n"
     ]
    }
   ],
   "source": [
    "print(\"Normalization and reducing dimention\\n\")\n",
    "\n",
    "print(\"SMOTE dataset\")\n",
    "R_forest_w_pca_normalize(X_train_smote.loc[:, rfe_smote.support_], y_train_smote, \\\n",
    "        X_test_smote.loc[:, rfe_smote.support_], y_test_smote)"
   ]
  },
  {
   "cell_type": "markdown",
   "id": "80ecced3",
   "metadata": {},
   "source": [
    "The test score became slightly lower when the model is with PCA. Also, the other evaluation scores became lower. Therefore, I'll do GridSearch with no PCA. Then I'll check if the model is better with PCA."
   ]
  },
  {
   "cell_type": "markdown",
   "id": "53d68880",
   "metadata": {},
   "source": [
    "### GridSearchCV"
   ]
  },
  {
   "cell_type": "code",
   "execution_count": 20,
   "id": "1437ebc1",
   "metadata": {},
   "outputs": [],
   "source": [
    "from sklearn.model_selection import GridSearchCV\n",
    "from sklearn.metrics import f1_score\n",
    "\n",
    "def RF_gridsearch(num_tree, depth, split, leaf, X_train, y_train, X_test, y_test):\n",
    "    RF_param = {\n",
    "            'n_estimators': num_tree,\n",
    "            'max_depth': depth,\n",
    "            'min_samples_split': split,\n",
    "            'min_samples_leaf': leaf,\n",
    "            'max_features': [\"sqrt\", \"log2\", None],\n",
    "        #    'criterion': [\"gini\", \"entropy\", \"log_loss\"],\n",
    "            'random_state': [42]\n",
    "        }\n",
    "\n",
    "    scaler = StandardScaler()\n",
    "    scaler.fit(X_train)\n",
    "    X_scaled_train = scaler.transform(X_train)\n",
    "    X_scaled_test = scaler.transform(X_test)\n",
    "    \n",
    "\n",
    "    # Create Randomized Search\n",
    "    clf = GridSearchCV(RandomForestClassifier(), RF_param, cv=5, scoring=\"f1\")\n",
    "    # Fit the model\n",
    "    clf.fit(X_scaled_train, y_train)\n",
    "    \n",
    "    # prediction and evaluation\n",
    "    y_pred = clf.predict(X_scaled_test)\n",
    "    score = f1_score(y_test, y_pred)\n",
    "\n",
    "    \n",
    "    # Result\n",
    "    best_clf = clf.best_estimator_\n",
    "    print('Hyperparameter :\\n', best_clf)\n",
    "    print('Train score:\\n', best_clf.score(X_scaled_train, y_train))\n",
    "    print('Test score:\\n', best_clf.score(X_scaled_test, y_test))\n",
    "    print(f\"Best F1 Score: {score}\")"
   ]
  },
  {
   "cell_type": "markdown",
   "id": "5cde94f1",
   "metadata": {},
   "source": [
    "GridSearch takes too long time, so I'll use sample rows from each datasets. Thefore, I'll take samples and do GridSearch."
   ]
  },
  {
   "cell_type": "code",
   "execution_count": 21,
   "id": "1416fff4",
   "metadata": {},
   "outputs": [],
   "source": [
    "# Take samples for GridSearch\n",
    "\n",
    "X_GS_original, X_rest_original, y_GS_original, y_rest_original = \\\n",
    "                train_test_split(X_train_original.loc[:, rfe_original.support_], y_train_original, train_size = 0.1, random_state=42)\n",
    "\n",
    "X_GS_under, X_rest_under, y_GS_under, y_rest_under = \\\n",
    "                train_test_split(X_train_under.loc[:, rfe_under.support_], y_train_under, train_size = 0.1, random_state=42)\n",
    "\n",
    "X_GS_over, X_rest_over, y_GS_over, y_rest_over = \\\n",
    "                train_test_split(X_train_over.loc[:, rfe_over.support_], y_train_over, train_size = 0.1, random_state=42)\n",
    "\n",
    "X_GS_smote, X_rest_smote, y_GS_smote, y_rest_smote = \\\n",
    "                train_test_split(X_train_smote.loc[:, rfe_smote.support_], y_train_smote, train_size = 0.1, random_state=42)"
   ]
  },
  {
   "cell_type": "markdown",
   "id": "cfe2c8eb",
   "metadata": {},
   "source": [
    "**Original data**"
   ]
  },
  {
   "cell_type": "markdown",
   "id": "3a70455a",
   "metadata": {},
   "source": [
    "train size = 0.1　　 "
   ]
  },
  {
   "cell_type": "code",
   "execution_count": 105,
   "id": "2a05909b",
   "metadata": {},
   "outputs": [
    {
     "name": "stdout",
     "output_type": "stream",
     "text": [
      "Hyperparameter :\n",
      " RandomForestClassifier(max_depth=30, n_estimators=500, random_state=42)\n",
      "Train score:\n",
      " 0.9883143049026192\n",
      "Test score:\n",
      " 0.8789724410271411\n",
      "Best F1 Score: 0.20666986235704993\n",
      "CPU times: total: 1h 14min 34s\n",
      "Wall time: 1h 15min 34s\n"
     ]
    }
   ],
   "source": [
    "%%time\n",
    "\n",
    "num_tree = [10, 100, 500]\n",
    "depth = [10, 20, 30, None]\n",
    "split = [2, 5, 10]\n",
    "leaf =  [1, 2, 4]\n",
    "\n",
    "RF_gridsearch(num_tree, depth, split, leaf, X_GS_original, y_GS_original, \\\n",
    "        X_test_original.loc[:, rfe_original.support_], y_test_original)"
   ]
  },
  {
   "cell_type": "markdown",
   "id": "80f0f5b5",
   "metadata": {},
   "source": [
    "The parameter of max_depth is on the edge of the range, so max_depth could be higher. Therefore, I'll set the range higher and check the accuracy score."
   ]
  },
  {
   "cell_type": "code",
   "execution_count": 117,
   "id": "8814730d",
   "metadata": {},
   "outputs": [
    {
     "name": "stdout",
     "output_type": "stream",
     "text": [
      "Hyperparameter :\n",
      " RandomForestClassifier(max_depth=30, n_estimators=500, random_state=42)\n",
      "Train score:\n",
      " 0.9883143049026192\n",
      "Test score:\n",
      " 0.8789724410271411\n",
      "Best F1 Score: 0.20666986235704993\n",
      "CPU times: total: 1h 2min 48s\n",
      "Wall time: 1h 38min 22s\n"
     ]
    }
   ],
   "source": [
    "%%time\n",
    "\n",
    "num_tree = [10, 100, 500]\n",
    "depth = [30, 40, 50, None]\n",
    "split = [2, 5, 10]\n",
    "leaf =  [1, 2, 4]\n",
    "\n",
    "RF_gridsearch(num_tree, depth, split, leaf, X_GS_original, y_GS_original, \\\n",
    "        X_test_original.loc[:, rfe_original.support_], y_test_original)"
   ]
  },
  {
   "cell_type": "markdown",
   "id": "eba45b52",
   "metadata": {},
   "source": [
    "The parameter of max_depth is still 30. So, I'll use max_depth=30. Also, the parameter of n_estimators is 500, and it's on the edge of the range. I'll check some values for n_estimators."
   ]
  },
  {
   "cell_type": "code",
   "execution_count": 23,
   "id": "10ec3418",
   "metadata": {
    "scrolled": true
   },
   "outputs": [
    {
     "data": {
      "image/png": "[encoded data removed]",
      "text/plain": [
       "<Figure size 640x480 with 1 Axes>"
      ]
     },
     "metadata": {},
     "output_type": "display_data"
    },
    {
     "data": {
      "text/html": [
       "<div>\n",
       "<style scoped>\n",
       "    .dataframe tbody tr th:only-of-type {\n",
       "        vertical-align: middle;\n",
       "    }\n",
       "\n",
       "    .dataframe tbody tr th {\n",
       "        vertical-align: top;\n",
       "    }\n",
       "\n",
       "    .dataframe thead th {\n",
       "        text-align: right;\n",
       "    }\n",
       "</style>\n",
       "<table border=\"1\" class=\"dataframe\">\n",
       "  <thead>\n",
       "    <tr style=\"text-align: right;\">\n",
       "      <th></th>\n",
       "      <th>tree:10</th>\n",
       "      <th>tree:50</th>\n",
       "      <th>tree:100</th>\n",
       "      <th>tree:300</th>\n",
       "      <th>tree:500</th>\n",
       "      <th>tree:600</th>\n",
       "    </tr>\n",
       "  </thead>\n",
       "  <tbody>\n",
       "    <tr>\n",
       "      <th>Train Score</th>\n",
       "      <td>0.974927</td>\n",
       "      <td>0.987374</td>\n",
       "      <td>0.988314</td>\n",
       "      <td>0.988314</td>\n",
       "      <td>0.988314</td>\n",
       "      <td>0.988314</td>\n",
       "    </tr>\n",
       "    <tr>\n",
       "      <th>Test Score</th>\n",
       "      <td>0.884353</td>\n",
       "      <td>0.880383</td>\n",
       "      <td>0.879746</td>\n",
       "      <td>0.878931</td>\n",
       "      <td>0.878972</td>\n",
       "      <td>0.878889</td>\n",
       "    </tr>\n",
       "    <tr>\n",
       "      <th>F1 Score</th>\n",
       "      <td>0.193384</td>\n",
       "      <td>0.204640</td>\n",
       "      <td>0.206740</td>\n",
       "      <td>0.205852</td>\n",
       "      <td>0.206670</td>\n",
       "      <td>0.206774</td>\n",
       "    </tr>\n",
       "  </tbody>\n",
       "</table>\n",
       "</div>"
      ],
      "text/plain": [
       "              tree:10   tree:50  tree:100  tree:300  tree:500  tree:600\n",
       "Train Score  0.974927  0.987374  0.988314  0.988314  0.988314  0.988314\n",
       "Test Score   0.884353  0.880383  0.879746  0.878931  0.878972  0.878889\n",
       "F1 Score     0.193384  0.204640  0.206740  0.205852  0.206670  0.206774"
      ]
     },
     "execution_count": 23,
     "metadata": {},
     "output_type": "execute_result"
    }
   ],
   "source": [
    "num_tree = [10, 50, 100, 300, 500, 600]\n",
    "\n",
    "train_scores = []\n",
    "test_scores = []\n",
    "f1_scores = []\n",
    "\n",
    "scaler = StandardScaler()\n",
    "scaler.fit(X_GS_original)\n",
    "X_scaled_train = scaler.transform(X_GS_original)\n",
    "X_scaled_test = scaler.transform(X_test_original.loc[:, rfe_original.support_])\n",
    "    \n",
    "    \n",
    "for num in num_tree:\n",
    "    RF_model = RandomForestClassifier(max_depth=30, n_estimators=num, random_state=42)\n",
    "\n",
    "    RF_model.fit(X_scaled_train, y_GS_original)\n",
    "    \n",
    "    train_scores.append(RF_model.score(X_scaled_train, y_GS_original))\n",
    "    test_scores.append(RF_model.score(X_scaled_test, y_test_original))\n",
    "    \n",
    "    y_pred = RF_model.predict(X_scaled_test)\n",
    "    f1_scores.append(f1_score(y_test_original, y_pred, pos_label=1))    \n",
    "    \n",
    "# plot\n",
    "plt.figure()\n",
    "plt.plot(num_tree, train_scores, label=\"Train Score\",marker='.')\n",
    "plt.plot(num_tree, test_scores,label=\"Test Score\",marker='.')\n",
    "plt.xlabel('Number of Tree')\n",
    "plt.ylabel('Accuracy')\n",
    "plt.legend()\n",
    "plt.show();\n",
    "\n",
    "score_data = [train_scores, test_scores, f1_scores]\n",
    "score_original = pd.DataFrame(score_data, columns=[\"tree:10\", \"tree:50\" , \"tree:100\", \"tree:300\", \"tree:500\", \"tree:600\"], \n",
    "                              index=[\"Train Score\", \"Test Score\", \"F1 Score\"])\n",
    "\n",
    "score_original"
   ]
  },
  {
   "cell_type": "markdown",
   "id": "9a4cfa12",
   "metadata": {},
   "source": [
    "The test score with n_estimators=10 is the best. However, The f1 score with n_estimators=100 is the highest. Therefore, I'll use n_estimators=100 for creating the model."
   ]
  },
  {
   "cell_type": "markdown",
   "id": "1ecb6a5a",
   "metadata": {},
   "source": [
    "I'll check the model accuracy with/without PCA."
   ]
  },
  {
   "cell_type": "code",
   "execution_count": 28,
   "id": "898077a0",
   "metadata": {},
   "outputs": [
    {
     "name": "stdout",
     "output_type": "stream",
     "text": [
      "With no PCA\n",
      "\n",
      "Train score: 0.9625432615031945\n",
      "Test score: 0.8876642778044754\n",
      "              precision    recall  f1-score   support\n",
      "\n",
      "           0       0.93      0.95      0.94     87544\n",
      "           1       0.27      0.18      0.21      8178\n",
      "\n",
      "    accuracy                           0.89     95722\n",
      "   macro avg       0.60      0.57      0.58     95722\n",
      "weighted avg       0.87      0.89      0.88     95722\n",
      "\n"
     ]
    }
   ],
   "source": [
    "# Without PCA\n",
    "\n",
    "scaler = StandardScaler()\n",
    "scaler.fit(X_train_original.loc[:, rfe_original.support_])\n",
    "X_scaled_train = scaler.transform(X_train_original.loc[:, rfe_original.support_])\n",
    "X_scaled_test = scaler.transform(X_test_original.loc[:, rfe_original.support_])\n",
    "        \n",
    "RF_model = RandomForestClassifier(max_depth=30, n_estimators=100, random_state=42)\n",
    "RF_model.fit(X_scaled_train, y_train_original)\n",
    "    \n",
    "train_score = RF_model.score(X_scaled_train, y_train_original)\n",
    "test_score = RF_model.score(X_scaled_test, y_test_original)\n",
    "    \n",
    "    # Evaluation(precision & Recall)\n",
    "y_pred = RF_model.predict(X_scaled_test)\n",
    "\n",
    "report_initial = classification_report(y_test_original, y_pred)\n",
    "\n",
    "print(\"With no PCA\\n\")\n",
    "    \n",
    "print(f\"Train score: {train_score}\\nTest score: {test_score}\\n{report_initial}\")"
   ]
  },
  {
   "cell_type": "code",
   "execution_count": 37,
   "id": "4dd80c3a",
   "metadata": {},
   "outputs": [
    {
     "name": "stdout",
     "output_type": "stream",
     "text": [
      "With PCA\n",
      "\n",
      "Train score: 0.9624402845745038\n",
      "Test score: 0.8922400284156202\n",
      "              precision    recall  f1-score   support\n",
      "\n",
      "           0       0.92      0.96      0.94     87544\n",
      "           1       0.27      0.16      0.20      8178\n",
      "\n",
      "    accuracy                           0.89     95722\n",
      "   macro avg       0.60      0.56      0.57     95722\n",
      "weighted avg       0.87      0.89      0.88     95722\n",
      "\n"
     ]
    }
   ],
   "source": [
    "# With PCA\n",
    "\n",
    "scaler = StandardScaler()\n",
    "scaler.fit(X_train_original.loc[:, rfe_original.support_])\n",
    "X_scaled_train = scaler.transform(X_train_original.loc[:, rfe_original.support_])\n",
    "X_scaled_test = scaler.transform(X_test_original.loc[:, rfe_original.support_])\n",
    "      \n",
    "my_PCA = PCA()\n",
    "my_PCA.fit(X_scaled_train)\n",
    "\n",
    "X_train_PCA = my_PCA.transform(X_scaled_train)\n",
    "X_test_PCA = my_PCA.transform(X_scaled_test)   \n",
    "    \n",
    "RF_model = RandomForestClassifier(max_depth=30, n_estimators=100, random_state=42)\n",
    "RF_model.fit(X_train_PCA, y_train_original)\n",
    "    \n",
    "train_score = RF_model.score(X_train_PCA, y_train_original)\n",
    "test_score = RF_model.score(X_test_PCA, y_test_original)\n",
    "    \n",
    "    # Evaluation(precision & Recall)\n",
    "y_pred = RF_model.predict(X_test_PCA)\n",
    "\n",
    "report_initial = classification_report(y_test_original, y_pred)\n",
    "\n",
    "print(\"With PCA\\n\")\n",
    "    \n",
    "print(f\"Train score: {train_score}\\nTest score: {test_score}\\n{report_initial}\")"
   ]
  },
  {
   "cell_type": "markdown",
   "id": "2f5c09b3",
   "metadata": {},
   "source": [
    "The test score of the model with PCA is better than the one without PCA. However, f1 score of the model with PCA is better than the other. Therefore, I'll evaluate the model without PCA."
   ]
  },
  {
   "cell_type": "code",
   "execution_count": 30,
   "id": "40db3599",
   "metadata": {},
   "outputs": [
    {
     "name": "stdout",
     "output_type": "stream",
     "text": [
      "After optimization\n",
      "\n",
      "Train score: 0.9625432615031945\n",
      "Test score: 0.8876642778044754\n",
      "              precision    recall  f1-score   support\n",
      "\n",
      "           0       0.93      0.95      0.94     87544\n",
      "           1       0.27      0.18      0.21      8178\n",
      "\n",
      "    accuracy                           0.89     95722\n",
      "   macro avg       0.60      0.57      0.58     95722\n",
      "weighted avg       0.87      0.89      0.88     95722\n",
      "\n"
     ]
    }
   ],
   "source": [
    "scaler = StandardScaler()\n",
    "scaler.fit(X_train_original.loc[:, rfe_original.support_])\n",
    "X_scaled_train = scaler.transform(X_train_original.loc[:, rfe_original.support_])\n",
    "X_scaled_test = scaler.transform(X_test_original.loc[:, rfe_original.support_])\n",
    "    \n",
    "RF_model_original = RandomForestClassifier(max_depth=30, n_estimators=100, random_state=42)\n",
    "\n",
    "RF_model_original.fit(X_scaled_train, y_train_original)\n",
    "    \n",
    "train_score = RF_model_original.score(X_scaled_train, y_train_original)\n",
    "test_score = RF_model_original.score(X_scaled_test, y_test_original)\n",
    "    \n",
    "    # Evaluation(precision & Recall)\n",
    "y_pred = RF_model_original.predict(X_scaled_test)\n",
    "\n",
    "report_initial = classification_report(y_test_original, y_pred)\n",
    "\n",
    "print(\"After optimization\\n\")\n",
    "    \n",
    "print(f\"Train score: {train_score}\\nTest score: {test_score}\\n{report_initial}\")"
   ]
  },
  {
   "cell_type": "code",
   "execution_count": 35,
   "id": "a02dc918",
   "metadata": {},
   "outputs": [
    {
     "name": "stdout",
     "output_type": "stream",
     "text": [
      "Before optimization\n",
      "\n",
      "Train score: 0.962583556823117\n",
      "Test score: 0.8874448925012014\n",
      "              precision    recall  f1-score   support\n",
      "\n",
      "           0       0.93      0.95      0.94     87544\n",
      "           1       0.26      0.18      0.21      8178\n",
      "\n",
      "    accuracy                           0.89     95722\n",
      "   macro avg       0.59      0.57      0.58     95722\n",
      "weighted avg       0.87      0.89      0.88     95722\n",
      "\n"
     ]
    }
   ],
   "source": [
    "print(\"Before optimization\\n\")\n",
    "\n",
    "R_forest_w_normalize(X_train_original.loc[:, rfe_original.support_], y_train_original, \\\n",
    "            X_test_original.loc[:, rfe_original.support_], y_test_original)"
   ]
  },
  {
   "cell_type": "markdown",
   "id": "4e05d8e2",
   "metadata": {},
   "source": [
    "The test score bemace better slightly. However, recall score for 1 is too low, so this model cannot be my final model."
   ]
  },
  {
   "cell_type": "markdown",
   "id": "46046713",
   "metadata": {},
   "source": [
    "**Under sampled data**"
   ]
  },
  {
   "cell_type": "markdown",
   "id": "602662d5",
   "metadata": {},
   "source": [
    "train size = 0.1　"
   ]
  },
  {
   "cell_type": "code",
   "execution_count": 102,
   "id": "a533665d",
   "metadata": {},
   "outputs": [
    {
     "name": "stdout",
     "output_type": "stream",
     "text": [
      "Hyperparameter :\n",
      " RandomForestClassifier(max_depth=10, min_samples_leaf=4, min_samples_split=10,\n",
      "                       random_state=42)\n",
      "Train score:\n",
      " 0.786013619696176\n",
      "Test score:\n",
      " 0.7035477737615178\n",
      "Best F1 Score: 0.31672726397149115\n",
      "CPU times: total: 12min 1s\n",
      "Wall time: 13min 17s\n"
     ]
    }
   ],
   "source": [
    "%%time\n",
    "\n",
    "num_tree = [10, 100, 500]\n",
    "depth = [10, 20, 30, None]\n",
    "split = [2, 5, 10]\n",
    "leaf =  [1, 2, 4]\n",
    "\n",
    "RF_gridsearch(num_tree, depth, split, leaf, X_GS_under, y_GS_under, \\\n",
    "        X_test_sampled.loc[:, rfe_under.support_], y_test_sampled)"
   ]
  },
  {
   "cell_type": "markdown",
   "id": "058245ff",
   "metadata": {},
   "source": [
    "All hyperparameters of max_depth, sample_split, and sample_leaf are on edge of the range. So, all the best parameters might be higher/lower. Therefore, I'll set the range of sample_split and sample_leaf parameters higher than above and do GridSearch."
   ]
  },
  {
   "cell_type": "code",
   "execution_count": 106,
   "id": "7b7e63e7",
   "metadata": {},
   "outputs": [
    {
     "name": "stdout",
     "output_type": "stream",
     "text": [
      "Hyperparameter :\n",
      " RandomForestClassifier(max_depth=20, min_samples_leaf=6, min_samples_split=20,\n",
      "                       n_estimators=10, random_state=42)\n",
      "Train score:\n",
      " 0.7778941854374017\n",
      "Test score:\n",
      " 0.7183197175153048\n",
      "Best F1 Score: 0.323981446659145\n",
      "CPU times: total: 12min 34s\n",
      "Wall time: 12min 44s\n"
     ]
    }
   ],
   "source": [
    "%%time\n",
    "\n",
    "num_tree = [10, 100, 500]\n",
    "depth = [10, 20, 30, None]\n",
    "split = [10, 15, 20]\n",
    "leaf =  [4, 6, 8, 10]\n",
    "\n",
    "RF_gridsearch(num_tree, depth, split, leaf, X_GS_under, y_GS_under, \\\n",
    "        X_test_sampled.loc[:, rfe_under.support_], y_test_sampled)"
   ]
  },
  {
   "cell_type": "markdown",
   "id": "7480157e",
   "metadata": {},
   "source": [
    "The min_samples_split parameter is still on the edge. Therefore, I'll set the range of sample_split parameter higher than above and more detail number for other patameters."
   ]
  },
  {
   "cell_type": "code",
   "execution_count": 124,
   "id": "d9a89ed7",
   "metadata": {},
   "outputs": [
    {
     "name": "stdout",
     "output_type": "stream",
     "text": [
      "Hyperparameter :\n",
      " RandomForestClassifier(max_depth=20, min_samples_leaf=6, min_samples_split=20,\n",
      "                       n_estimators=10, random_state=42)\n",
      "Train score:\n",
      " 0.7778941854374017\n",
      "Test score:\n",
      " 0.7183197175153048\n",
      "Best F1 Score: 0.323981446659145\n",
      "CPU times: total: 32.7 s\n",
      "Wall time: 1min 59s\n"
     ]
    }
   ],
   "source": [
    "%%time\n",
    "\n",
    "num_tree = [10, 20, 30]\n",
    "depth = [15, 20, 25, None]\n",
    "split = [15, 20, 25]\n",
    "leaf =  [4, 6, 8, 10]\n",
    "\n",
    "RF_gridsearch(num_tree, depth, split, leaf, X_GS_under, y_GS_under, \\\n",
    "        X_test_sampled.loc[:, rfe_under.support_], y_test_sampled)"
   ]
  },
  {
   "cell_type": "markdown",
   "id": "66477842",
   "metadata": {},
   "source": [
    "Even I used more detail number, the best hyperparameters didn't change. Therefore, I'll use these hyperparameters and check if this model work better with PCA."
   ]
  },
  {
   "cell_type": "markdown",
   "id": "9fe3e5c7",
   "metadata": {},
   "source": [
    "I'll check the model accuracy with/without PCA."
   ]
  },
  {
   "cell_type": "code",
   "execution_count": 38,
   "id": "1c4d8663",
   "metadata": {},
   "outputs": [
    {
     "name": "stdout",
     "output_type": "stream",
     "text": [
      "With no PCA\n",
      "\n",
      "Train score: 0.7682677701534755\n",
      "Test score: 0.7126992749838073\n",
      "              precision    recall  f1-score   support\n",
      "\n",
      "           0       0.97      0.70      0.82     87544\n",
      "           1       0.20      0.80      0.32      8178\n",
      "\n",
      "    accuracy                           0.71     95722\n",
      "   macro avg       0.59      0.75      0.57     95722\n",
      "weighted avg       0.91      0.71      0.78     95722\n",
      "\n"
     ]
    }
   ],
   "source": [
    "# Without PCA\n",
    "\n",
    "scaler = StandardScaler()\n",
    "scaler.fit(X_train_under.loc[:, rfe_under.support_])\n",
    "X_scaled_train = scaler.transform(X_train_under.loc[:, rfe_under.support_])\n",
    "X_scaled_test = scaler.transform(X_test_sampled.loc[:, rfe_under.support_])\n",
    "     \n",
    "RF_model = RandomForestClassifier(max_depth=20, min_samples_leaf=6, \n",
    "                                  min_samples_split=20,n_estimators=10, random_state=42)\n",
    "RF_model.fit(X_scaled_train, y_train_under)\n",
    "    \n",
    "train_score = RF_model.score(X_scaled_train, y_train_under)\n",
    "test_score = RF_model.score(X_scaled_test, y_test_sampled)\n",
    "    \n",
    "    # Evaluation(precision & Recall)\n",
    "y_pred = RF_model.predict(X_scaled_test)\n",
    "\n",
    "report_initial = classification_report(y_test_sampled, y_pred)\n",
    "\n",
    "print(\"With no PCA\\n\")\n",
    "    \n",
    "print(f\"Train score: {train_score}\\nTest score: {test_score}\\n{report_initial}\")"
   ]
  },
  {
   "cell_type": "code",
   "execution_count": 36,
   "id": "ec228f59",
   "metadata": {},
   "outputs": [
    {
     "name": "stdout",
     "output_type": "stream",
     "text": [
      "With PCA\n",
      "\n",
      "Train score: 0.7811010423759887\n",
      "Test score: 0.7131171517519483\n",
      "              precision    recall  f1-score   support\n",
      "\n",
      "           0       0.97      0.71      0.82     87544\n",
      "           1       0.20      0.79      0.32      8178\n",
      "\n",
      "    accuracy                           0.71     95722\n",
      "   macro avg       0.59      0.75      0.57     95722\n",
      "weighted avg       0.91      0.71      0.78     95722\n",
      "\n"
     ]
    }
   ],
   "source": [
    "# With PCA\n",
    "\n",
    "scaler = StandardScaler()\n",
    "scaler.fit(X_train_under.loc[:, rfe_under.support_])\n",
    "X_scaled_train = scaler.transform(X_train_under.loc[:, rfe_under.support_])\n",
    "X_scaled_test = scaler.transform(X_test_sampled.loc[:, rfe_under.support_])\n",
    "   \n",
    "my_PCA = PCA()\n",
    "my_PCA.fit(X_scaled_train)\n",
    "\n",
    "X_train_PCA = my_PCA.transform(X_scaled_train)\n",
    "X_test_PCA = my_PCA.transform(X_scaled_test)   \n",
    "    \n",
    "RF_model = RandomForestClassifier(max_depth=20, min_samples_leaf=6, \n",
    "                                  min_samples_split=20,n_estimators=10, random_state=42)\n",
    "RF_model.fit(X_train_PCA, y_train_under)\n",
    "    \n",
    "train_score = RF_model.score(X_train_PCA, y_train_under)\n",
    "test_score = RF_model.score(X_test_PCA, y_test_sampled)\n",
    "    \n",
    "    # Evaluation(precision & Recall)\n",
    "y_pred = RF_model.predict(X_test_PCA)\n",
    "\n",
    "report_initial = classification_report(y_test_sampled, y_pred)\n",
    "\n",
    "print(\"With PCA\\n\")\n",
    "    \n",
    "print(f\"Train score: {train_score}\\nTest score: {test_score}\\n{report_initial}\")"
   ]
  },
  {
   "cell_type": "markdown",
   "id": "aa76c9c4",
   "metadata": {},
   "source": [
    "The test score of the model with PCA is slightly better. Also, the both recall scores are almost same. Therefore, I'll evaluate the model with PCA."
   ]
  },
  {
   "cell_type": "code",
   "execution_count": 39,
   "id": "dfd2e04c",
   "metadata": {},
   "outputs": [
    {
     "name": "stdout",
     "output_type": "stream",
     "text": [
      "After optimization\n",
      "\n",
      "Train score: 0.7811010423759887\n",
      "Test score: 0.7131171517519483\n",
      "              precision    recall  f1-score   support\n",
      "\n",
      "           0       0.97      0.71      0.82     87544\n",
      "           1       0.20      0.79      0.32      8178\n",
      "\n",
      "    accuracy                           0.71     95722\n",
      "   macro avg       0.59      0.75      0.57     95722\n",
      "weighted avg       0.91      0.71      0.78     95722\n",
      "\n"
     ]
    }
   ],
   "source": [
    "scaler = StandardScaler()\n",
    "scaler.fit(X_train_under.loc[:, rfe_under.support_])\n",
    "X_scaled_train = scaler.transform(X_train_under.loc[:, rfe_under.support_])\n",
    "X_scaled_test = scaler.transform(X_test_sampled.loc[:, rfe_under.support_])\n",
    "   \n",
    "my_PCA = PCA()\n",
    "my_PCA.fit(X_scaled_train)\n",
    "\n",
    "X_train_PCA = my_PCA.transform(X_scaled_train)\n",
    "X_test_PCA = my_PCA.transform(X_scaled_test)   \n",
    "    \n",
    "RF_model_under = RandomForestClassifier(max_depth=20, min_samples_leaf=6, \n",
    "                                  min_samples_split=20,n_estimators=10, random_state=42)\n",
    "RF_model_under.fit(X_train_PCA, y_train_under)\n",
    "    \n",
    "train_score = RF_model_under.score(X_train_PCA, y_train_under)\n",
    "test_score = RF_model_under.score(X_test_PCA, y_test_sampled)\n",
    "    \n",
    "    # Evaluation(precision & Recall)\n",
    "y_pred = RF_model_under.predict(X_test_PCA)\n",
    "\n",
    "report_initial = classification_report(y_test_sampled, y_pred)\n",
    "\n",
    "print(\"After optimization\\n\")\n",
    "    \n",
    "print(f\"Train score: {train_score}\\nTest score: {test_score}\\n{report_initial}\")"
   ]
  },
  {
   "cell_type": "code",
   "execution_count": 40,
   "id": "e9d70298",
   "metadata": {},
   "outputs": [
    {
     "name": "stdout",
     "output_type": "stream",
     "text": [
      "Before optimization\n",
      "\n",
      "Train score: 0.8011628516054685\n",
      "Test score: 0.7102024612941643\n",
      "              precision    recall  f1-score   support\n",
      "\n",
      "           0       0.97      0.70      0.82     87544\n",
      "           1       0.20      0.77      0.31      8178\n",
      "\n",
      "    accuracy                           0.71     95722\n",
      "   macro avg       0.58      0.74      0.56     95722\n",
      "weighted avg       0.90      0.71      0.77     95722\n",
      "\n"
     ]
    }
   ],
   "source": [
    "print(\"Before optimization\\n\")\n",
    "\n",
    "R_forest_w_normalize(X_train_under.loc[:, rfe_under.support_], y_train_under, \\\n",
    "        X_test_sampled.loc[:, rfe_under.support_], y_test_sampled)"
   ]
  },
  {
   "cell_type": "markdown",
   "id": "77ebc4d3",
   "metadata": {},
   "source": [
    "The test score and other evaluation scores after optimizing became slightly better. Also, the recall score for 1 is almost 0.80 and as high as the models I'm keeping for final model comparison. Therefore, I'll compare this model to other models of RandomForest at the end."
   ]
  },
  {
   "cell_type": "markdown",
   "id": "74a72913",
   "metadata": {},
   "source": [
    "**Over sampled data**"
   ]
  },
  {
   "cell_type": "markdown",
   "id": "e0752268",
   "metadata": {},
   "source": [
    "train size = 0.1　　"
   ]
  },
  {
   "cell_type": "code",
   "execution_count": 104,
   "id": "b64fc66c",
   "metadata": {},
   "outputs": [
    {
     "name": "stdout",
     "output_type": "stream",
     "text": [
      "Hyperparameter :\n",
      " RandomForestClassifier(max_depth=20, n_estimators=500, random_state=42)\n",
      "Train score:\n",
      " 0.9497454225007343\n",
      "Test score:\n",
      " 0.7317440086918368\n",
      "Best F1 Score: 0.31158176943699734\n",
      "CPU times: total: 3h 11min 51s\n",
      "Wall time: 3h 13min 50s\n"
     ]
    }
   ],
   "source": [
    "%%time\n",
    "\n",
    "num_tree = [10, 100, 500]\n",
    "depth = [10, 20, 30, None]\n",
    "split = [2, 5, 10]\n",
    "leaf =  [1, 2, 4]\n",
    "\n",
    "RF_gridsearch(num_tree, depth, split, leaf, X_GS_over, y_GS_over, \\\n",
    "        X_test_sampled.loc[:, rfe_over.support_], y_test_sampled)"
   ]
  },
  {
   "cell_type": "markdown",
   "id": "30e7f502",
   "metadata": {},
   "source": [
    "The parameter of n_estimators is on the edge of the range, so I'll try other values of n_estimators."
   ]
  },
  {
   "cell_type": "code",
   "execution_count": 27,
   "id": "c65ade82",
   "metadata": {},
   "outputs": [
    {
     "data": {
      "image/png": "[encoded data removed]",
      "text/plain": [
       "<Figure size 640x480 with 1 Axes>"
      ]
     },
     "metadata": {},
     "output_type": "display_data"
    },
    {
     "data": {
      "text/html": [
       "<div>\n",
       "<style scoped>\n",
       "    .dataframe tbody tr th:only-of-type {\n",
       "        vertical-align: middle;\n",
       "    }\n",
       "\n",
       "    .dataframe tbody tr th {\n",
       "        vertical-align: top;\n",
       "    }\n",
       "\n",
       "    .dataframe thead th {\n",
       "        text-align: right;\n",
       "    }\n",
       "</style>\n",
       "<table border=\"1\" class=\"dataframe\">\n",
       "  <thead>\n",
       "    <tr style=\"text-align: right;\">\n",
       "      <th></th>\n",
       "      <th>tree:10</th>\n",
       "      <th>tree:50</th>\n",
       "      <th>tree:100</th>\n",
       "      <th>tree:300</th>\n",
       "      <th>tree:500</th>\n",
       "      <th>tree:600</th>\n",
       "    </tr>\n",
       "  </thead>\n",
       "  <tbody>\n",
       "    <tr>\n",
       "      <th>Train Score</th>\n",
       "      <td>0.970430</td>\n",
       "      <td>0.982645</td>\n",
       "      <td>0.983379</td>\n",
       "      <td>0.983477</td>\n",
       "      <td>0.983501</td>\n",
       "      <td>0.983550</td>\n",
       "    </tr>\n",
       "    <tr>\n",
       "      <th>Test Score</th>\n",
       "      <td>0.746673</td>\n",
       "      <td>0.738931</td>\n",
       "      <td>0.736873</td>\n",
       "      <td>0.736988</td>\n",
       "      <td>0.736800</td>\n",
       "      <td>0.737020</td>\n",
       "    </tr>\n",
       "    <tr>\n",
       "      <th>F1 Score</th>\n",
       "      <td>0.291317</td>\n",
       "      <td>0.298270</td>\n",
       "      <td>0.297845</td>\n",
       "      <td>0.297584</td>\n",
       "      <td>0.297709</td>\n",
       "      <td>0.298001</td>\n",
       "    </tr>\n",
       "  </tbody>\n",
       "</table>\n",
       "</div>"
      ],
      "text/plain": [
       "              tree:10   tree:50  tree:100  tree:300  tree:500  tree:600\n",
       "Train Score  0.970430  0.982645  0.983379  0.983477  0.983501  0.983550\n",
       "Test Score   0.746673  0.738931  0.736873  0.736988  0.736800  0.737020\n",
       "F1 Score     0.291317  0.298270  0.297845  0.297584  0.297709  0.298001"
      ]
     },
     "execution_count": 27,
     "metadata": {},
     "output_type": "execute_result"
    }
   ],
   "source": [
    "num_tree = [10, 50, 100, 300, 500, 600]\n",
    "\n",
    "train_scores = []\n",
    "test_scores = []\n",
    "f1_scores = []\n",
    "\n",
    "scaler = StandardScaler()\n",
    "scaler.fit(X_GS_over)\n",
    "X_scaled_train = scaler.transform(X_GS_over)\n",
    "X_scaled_test = scaler.transform(X_test_sampled.loc[:, rfe_over.support_])\n",
    "    \n",
    "    \n",
    "for num in num_tree:\n",
    "    RF_model = RandomForestClassifier(max_depth=30, n_estimators=num, random_state=42)\n",
    "\n",
    "    RF_model.fit(X_scaled_train, y_GS_over)\n",
    "    \n",
    "    train_scores.append(RF_model.score(X_scaled_train, y_GS_over))\n",
    "    test_scores.append(RF_model.score(X_scaled_test, y_test_sampled))\n",
    "\n",
    "    y_pred = RF_model.predict(X_scaled_test)\n",
    "    f1_scores.append(f1_score(y_test_sampled, y_pred, pos_label=1))    \n",
    "    \n",
    "    \n",
    "# plot\n",
    "plt.figure()\n",
    "plt.plot(num_tree, train_scores, label=\"Train Score\",marker='.')\n",
    "plt.plot(num_tree, test_scores,label=\"Test Score\",marker='.')\n",
    "plt.xlabel('Number of Tree')\n",
    "plt.ylabel('Accuracy')\n",
    "plt.legend()\n",
    "plt.show();\n",
    "\n",
    "\n",
    "score_data = [train_scores, test_scores, f1_scores]\n",
    "score_over = pd.DataFrame(score_data, columns=[\"tree:10\", \"tree:50\" , \"tree:100\", \"tree:300\", \"tree:500\", \"tree:600\"],\n",
    "                          index=[\"Train Score\", \"Test Score\", \"F1 Score\"])\n",
    "\n",
    "score_over"
   ]
  },
  {
   "cell_type": "markdown",
   "id": "7526746d",
   "metadata": {},
   "source": [
    "The test score with n_estimators=10 is the highest. However, The f1 score with n_estimators=50 is the best. Therefore, I'll use n_estimators=50 for creating a model."
   ]
  },
  {
   "cell_type": "markdown",
   "id": "f69d9a70",
   "metadata": {},
   "source": [
    "I'll check the model accuracy with/without PCA."
   ]
  },
  {
   "cell_type": "code",
   "execution_count": 41,
   "id": "39a00011",
   "metadata": {},
   "outputs": [
    {
     "name": "stdout",
     "output_type": "stream",
     "text": [
      "With no PCA\n",
      "\n",
      "Train score: 0.9723440712816998\n",
      "Test score: 0.8462840308393055\n",
      "              precision    recall  f1-score   support\n",
      "\n",
      "           0       0.93      0.90      0.91     87544\n",
      "           1       0.21      0.28      0.24      8178\n",
      "\n",
      "    accuracy                           0.85     95722\n",
      "   macro avg       0.57      0.59      0.58     95722\n",
      "weighted avg       0.87      0.85      0.86     95722\n",
      "\n"
     ]
    }
   ],
   "source": [
    "# Without PCA\n",
    "\n",
    "scaler = StandardScaler()\n",
    "scaler.fit(X_train_over.loc[:, rfe_over.support_])\n",
    "X_scaled_train = scaler.transform(X_train_over.loc[:, rfe_over.support_])\n",
    "X_scaled_test = scaler.transform(X_test_sampled.loc[:, rfe_over.support_])\n",
    "     \n",
    "RF_model = RandomForestClassifier(max_depth=30, n_estimators=50, random_state=42)\n",
    "RF_model.fit(X_scaled_train, y_train_over)\n",
    "    \n",
    "train_score = RF_model.score(X_scaled_train, y_train_over)\n",
    "test_score = RF_model.score(X_scaled_test, y_test_sampled)\n",
    "    \n",
    "    # Evaluation(precision & Recall)\n",
    "y_pred = RF_model.predict(X_scaled_test)\n",
    "\n",
    "report_initial = classification_report(y_test_sampled, y_pred)\n",
    "\n",
    "print(\"With no PCA\\n\")\n",
    "    \n",
    "print(f\"Train score: {train_score}\\nTest score: {test_score}\\n{report_initial}\")"
   ]
  },
  {
   "cell_type": "code",
   "execution_count": 43,
   "id": "cda8fb44",
   "metadata": {},
   "outputs": [
    {
     "name": "stdout",
     "output_type": "stream",
     "text": [
      "With PCA\n",
      "\n",
      "Train score: 0.9716292959953001\n",
      "Test score: 0.8479137502350557\n",
      "              precision    recall  f1-score   support\n",
      "\n",
      "           0       0.93      0.90      0.92     87544\n",
      "           1       0.22      0.30      0.25      8178\n",
      "\n",
      "    accuracy                           0.85     95722\n",
      "   macro avg       0.58      0.60      0.58     95722\n",
      "weighted avg       0.87      0.85      0.86     95722\n",
      "\n"
     ]
    }
   ],
   "source": [
    "# With PCA\n",
    "\n",
    "scaler = StandardScaler()\n",
    "scaler.fit(X_train_over.loc[:, rfe_over.support_])\n",
    "X_scaled_train = scaler.transform(X_train_over.loc[:, rfe_over.support_])\n",
    "X_scaled_test = scaler.transform(X_test_sampled.loc[:, rfe_over.support_])\n",
    " \n",
    "my_PCA = PCA()\n",
    "my_PCA.fit(X_scaled_train)\n",
    "\n",
    "X_train_PCA = my_PCA.transform(X_scaled_train)\n",
    "X_test_PCA = my_PCA.transform(X_scaled_test)   \n",
    "    \n",
    "RF_model = RandomForestClassifier(max_depth=30, n_estimators=50, random_state=42)\n",
    "RF_model.fit(X_train_PCA, y_train_over)\n",
    "    \n",
    "train_score = RF_model.score(X_train_PCA, y_train_over)\n",
    "test_score = RF_model.score(X_test_PCA, y_test_sampled)\n",
    "    \n",
    "    # Evaluation(precision & Recall)\n",
    "y_pred = RF_model.predict(X_test_PCA)\n",
    "\n",
    "report_initial = classification_report(y_test_sampled, y_pred)\n",
    "\n",
    "print(\"With PCA\\n\")\n",
    "    \n",
    "print(f\"Train score: {train_score}\\nTest score: {test_score}\\n{report_initial}\")"
   ]
  },
  {
   "cell_type": "markdown",
   "id": "e7387317",
   "metadata": {},
   "source": [
    "The model with PCA improved a little bit. Therefore, I'll use the model with PCA for evaluating the model."
   ]
  },
  {
   "cell_type": "code",
   "execution_count": 45,
   "id": "04ba06bc",
   "metadata": {},
   "outputs": [
    {
     "name": "stdout",
     "output_type": "stream",
     "text": [
      "After optimization\n",
      "\n",
      "Train score: 0.9716292959953001\n",
      "Test score: 0.8479137502350557\n",
      "              precision    recall  f1-score   support\n",
      "\n",
      "           0       0.93      0.90      0.92     87544\n",
      "           1       0.22      0.30      0.25      8178\n",
      "\n",
      "    accuracy                           0.85     95722\n",
      "   macro avg       0.58      0.60      0.58     95722\n",
      "weighted avg       0.87      0.85      0.86     95722\n",
      "\n"
     ]
    }
   ],
   "source": [
    "scaler = StandardScaler()\n",
    "scaler.fit(X_train_over.loc[:, rfe_over.support_])\n",
    "X_scaled_train = scaler.transform(X_train_over.loc[:, rfe_over.support_])\n",
    "X_scaled_test = scaler.transform(X_test_sampled.loc[:, rfe_over.support_])\n",
    " \n",
    "my_PCA = PCA()\n",
    "my_PCA.fit(X_scaled_train)\n",
    "\n",
    "X_train_PCA = my_PCA.transform(X_scaled_train)\n",
    "X_test_PCA = my_PCA.transform(X_scaled_test)   \n",
    "    \n",
    "RF_model = RandomForestClassifier(max_depth=30, n_estimators=50, random_state=42)\n",
    "RF_model.fit(X_train_PCA, y_train_over)\n",
    "    \n",
    "train_score = RF_model.score(X_train_PCA, y_train_over)\n",
    "test_score = RF_model.score(X_test_PCA, y_test_sampled)\n",
    "    \n",
    "    # Evaluation(precision & Recall)\n",
    "y_pred = RF_model.predict(X_test_PCA)\n",
    "\n",
    "report_initial = classification_report(y_test_sampled, y_pred)\n",
    "   \n",
    "print(\"After optimization\\n\")    \n",
    "    \n",
    "print(f\"Train score: {train_score}\\nTest score: {test_score}\\n{report_initial}\")"
   ]
  },
  {
   "cell_type": "code",
   "execution_count": 44,
   "id": "4186b498",
   "metadata": {},
   "outputs": [
    {
     "name": "stdout",
     "output_type": "stream",
     "text": [
      "Before optimization\n",
      "\n",
      "Train score: 0.9752937432683835\n",
      "Test score: 0.8481540293767368\n",
      "              precision    recall  f1-score   support\n",
      "\n",
      "           0       0.93      0.90      0.92     87544\n",
      "           1       0.20      0.26      0.23      8178\n",
      "\n",
      "    accuracy                           0.85     95722\n",
      "   macro avg       0.57      0.58      0.57     95722\n",
      "weighted avg       0.87      0.85      0.86     95722\n",
      "\n"
     ]
    }
   ],
   "source": [
    "print(\"Before optimization\\n\")\n",
    "\n",
    "R_forest_w_normalize(X_train_over.loc[:, rfe_over.support_], y_train_over, \\\n",
    "        X_test_sampled.loc[:, rfe_over.support_], y_test_sampled)"
   ]
  },
  {
   "cell_type": "markdown",
   "id": "a5d147c0",
   "metadata": {},
   "source": [
    "The test score became lower, but the precision and recall score for 1 improved. However, the recall and f1 score for 1 are too low. Therefor, this model cannot be my final model."
   ]
  },
  {
   "cell_type": "markdown",
   "id": "e57ce4ee",
   "metadata": {},
   "source": [
    "**SMOTE data**"
   ]
  },
  {
   "cell_type": "markdown",
   "id": "84b1dbac",
   "metadata": {},
   "source": [
    "train size = 0.1　　"
   ]
  },
  {
   "cell_type": "code",
   "execution_count": 103,
   "id": "cf17f7d5",
   "metadata": {},
   "outputs": [
    {
     "name": "stdout",
     "output_type": "stream",
     "text": [
      "Hyperparameter :\n",
      " RandomForestClassifier(max_depth=20, min_samples_leaf=2, min_samples_split=5,\n",
      "                       random_state=42)\n",
      "Train score:\n",
      " 0.8060315284441398\n",
      "Test score:\n",
      " 0.7519065627546436\n",
      "Best F1 Score: 0.3060604289638244\n",
      "CPU times: total: 45min 9s\n",
      "Wall time: 47min 39s\n"
     ]
    }
   ],
   "source": [
    "%%time\n",
    "\n",
    "num_tree = [10, 100, 500]\n",
    "depth = [10, 20, 30, None]\n",
    "split = [2, 5, 10]\n",
    "leaf =  [1, 2, 4]\n",
    "\n",
    "RF_gridsearch(num_tree, depth, split, leaf, X_GS_smote, y_GS_smote, \\\n",
    "        X_test_smote.loc[:, rfe_smote.support_], y_test_smote)"
   ]
  },
  {
   "cell_type": "markdown",
   "id": "9e8767d3",
   "metadata": {},
   "source": [
    "All the hyperparameters are within the range. I'll set mode detail number and do GridSearch."
   ]
  },
  {
   "cell_type": "code",
   "execution_count": 114,
   "id": "bdf548f0",
   "metadata": {},
   "outputs": [
    {
     "name": "stdout",
     "output_type": "stream",
     "text": [
      "Hyperparameter :\n",
      " RandomForestClassifier(max_depth=18, min_samples_leaf=2, min_samples_split=5,\n",
      "                       n_estimators=50, random_state=42)\n",
      "Train score:\n",
      " 0.805958092627044\n",
      "Test score:\n",
      " 0.751655836693759\n",
      "Best F1 Score: 0.30560261728106564\n",
      "CPU times: total: 4min 46s\n",
      "Wall time: 4min 54s\n"
     ]
    }
   ],
   "source": [
    "%%time\n",
    "\n",
    "num_tree = [10, 50, 100]\n",
    "depth = [16, 18, 20, None]\n",
    "split = [4, 5, 6]\n",
    "leaf =  [1, 2, 3]\n",
    "\n",
    "RF_gridsearch(num_tree, depth, split, leaf, X_GS_smote, y_GS_smote, \\\n",
    "        X_test_smote.loc[:, rfe_smote.support_], y_test_smote)"
   ]
  },
  {
   "cell_type": "markdown",
   "id": "fbf02d16",
   "metadata": {},
   "source": [
    "The both score of test and f1 became lower. Therefore, I'll use the hyperparameters one before and check if this model work better with PCA."
   ]
  },
  {
   "cell_type": "code",
   "execution_count": 127,
   "id": "79a62587",
   "metadata": {},
   "outputs": [
    {
     "name": "stdout",
     "output_type": "stream",
     "text": [
      "With no PCA\n",
      "\n",
      "Train score: 0.8058503867619701\n",
      "Test score: 0.753598963665615\n",
      "              precision    recall  f1-score   support\n",
      "\n",
      "           0       0.96      0.76      0.85     87544\n",
      "           1       0.20      0.64      0.31      8178\n",
      "\n",
      "    accuracy                           0.75     95722\n",
      "   macro avg       0.58      0.70      0.58     95722\n",
      "weighted avg       0.89      0.75      0.80     95722\n",
      "\n"
     ]
    }
   ],
   "source": [
    "# Without PCA\n",
    "\n",
    "scaler = StandardScaler()\n",
    "scaler.fit(X_train_smote.loc[:, rfe_smote.support_])\n",
    "X_scaled_train = scaler.transform(X_train_smote.loc[:, rfe_smote.support_])\n",
    "X_scaled_test = scaler.transform(X_test_smote.loc[:, rfe_smote.support_])\n",
    "     \n",
    "RF_model = RandomForestClassifier(max_depth=18, min_samples_leaf=2, \n",
    "                                  min_samples_split=5,n_estimators=50, random_state=42)\n",
    "RF_model.fit(X_scaled_train, y_train_smote)\n",
    "    \n",
    "train_score = RF_model.score(X_scaled_train, y_train_smote)\n",
    "test_score = RF_model.score(X_scaled_test, y_test_smote)\n",
    "    \n",
    "    # Evaluation(precision & Recall)\n",
    "y_pred = RF_model.predict(X_scaled_test)\n",
    "\n",
    "report_initial = classification_report(y_test_smote, y_pred)\n",
    "\n",
    "print(\"With no PCA\\n\")\n",
    "    \n",
    "print(f\"Train score: {train_score}\\nTest score: {test_score}\\n{report_initial}\")"
   ]
  },
  {
   "cell_type": "code",
   "execution_count": 48,
   "id": "27418f9e",
   "metadata": {},
   "outputs": [
    {
     "name": "stdout",
     "output_type": "stream",
     "text": [
      "With PCA\n",
      "\n",
      "Train score: 0.8058650739253892\n",
      "Test score: 0.7535153883119868\n",
      "              precision    recall  f1-score   support\n",
      "\n",
      "           0       0.96      0.76      0.85     87544\n",
      "           1       0.20      0.64      0.31      8178\n",
      "\n",
      "    accuracy                           0.75     95722\n",
      "   macro avg       0.58      0.70      0.58     95722\n",
      "weighted avg       0.89      0.75      0.80     95722\n",
      "\n"
     ]
    }
   ],
   "source": [
    "# With PCA\n",
    "\n",
    "scaler = StandardScaler()\n",
    "scaler.fit(X_train_smote.loc[:, rfe_smote.support_])\n",
    "X_scaled_train = scaler.transform(X_train_smote.loc[:, rfe_smote.support_])\n",
    "X_scaled_test = scaler.transform(X_test_smote.loc[:, rfe_smote.support_])\n",
    "   \n",
    "my_PCA = PCA()\n",
    "my_PCA.fit(X_scaled_train)\n",
    "\n",
    "X_train_PCA = my_PCA.transform(X_scaled_train)\n",
    "X_test_PCA = my_PCA.transform(X_scaled_test)   \n",
    "    \n",
    "RF_model = RandomForestClassifier(max_depth=18, min_samples_leaf=2, \n",
    "                                  min_samples_split=5,n_estimators=50, random_state=42)\n",
    "RF_model.fit(X_train_PCA, y_train_smote)\n",
    "    \n",
    "train_score = RF_model.score(X_train_PCA, y_train_smote)\n",
    "test_score = RF_model.score(X_test_PCA, y_test_smote)\n",
    "    \n",
    "    # Evaluation(precision & Recall)\n",
    "y_pred = RF_model.predict(X_test_PCA)\n",
    "\n",
    "report_initial = classification_report(y_test_smote, y_pred)\n",
    "\n",
    "print(\"With PCA\\n\")\n",
    "    \n",
    "print(f\"Train score: {train_score}\\nTest score: {test_score}\\n{report_initial}\")"
   ]
  },
  {
   "cell_type": "markdown",
   "id": "d13c24a1",
   "metadata": {},
   "source": [
    "All scores are almost the same. However, the test score without PCA is slightly better. So, I'll use the model without PCA for evaluating the model."
   ]
  },
  {
   "cell_type": "code",
   "execution_count": 46,
   "id": "71de6d17",
   "metadata": {},
   "outputs": [
    {
     "name": "stdout",
     "output_type": "stream",
     "text": [
      "After optimization\n",
      "\n",
      "Train score: 0.8058503867619701\n",
      "Test score: 0.753598963665615\n",
      "              precision    recall  f1-score   support\n",
      "\n",
      "           0       0.96      0.76      0.85     87544\n",
      "           1       0.20      0.64      0.31      8178\n",
      "\n",
      "    accuracy                           0.75     95722\n",
      "   macro avg       0.58      0.70      0.58     95722\n",
      "weighted avg       0.89      0.75      0.80     95722\n",
      "\n"
     ]
    }
   ],
   "source": [
    "scaler = StandardScaler()\n",
    "scaler.fit(X_train_smote.loc[:, rfe_smote.support_])\n",
    "X_scaled_train = scaler.transform(X_train_smote.loc[:, rfe_smote.support_])\n",
    "X_scaled_test = scaler.transform(X_test_smote.loc[:, rfe_smote.support_])\n",
    "     \n",
    "RF_model_smote = RandomForestClassifier(max_depth=18, min_samples_leaf=2, \n",
    "                                  min_samples_split=5,n_estimators=50, random_state=42)\n",
    "RF_model_smote.fit(X_scaled_train, y_train_smote)\n",
    "    \n",
    "train_score = RF_model_smote.score(X_scaled_train, y_train_smote)\n",
    "test_score = RF_model_smote.score(X_scaled_test, y_test_smote)\n",
    "    \n",
    "    # Evaluation(precision & Recall)\n",
    "y_pred = RF_model_smote.predict(X_scaled_test)\n",
    "\n",
    "report_initial = classification_report(y_test_smote, y_pred)\n",
    "\n",
    "print(\"After optimization\\n\")\n",
    "    \n",
    "print(f\"Train score: {train_score}\\nTest score: {test_score}\\n{report_initial}\")"
   ]
  },
  {
   "cell_type": "code",
   "execution_count": 47,
   "id": "e604c6ad",
   "metadata": {},
   "outputs": [
    {
     "name": "stdout",
     "output_type": "stream",
     "text": [
      "Before optimization\n",
      "\n",
      "Train score: 0.8059678840693234\n",
      "Test score: 0.7534422598775621\n",
      "              precision    recall  f1-score   support\n",
      "\n",
      "           0       0.96      0.76      0.85     87544\n",
      "           1       0.20      0.64      0.31      8178\n",
      "\n",
      "    accuracy                           0.75     95722\n",
      "   macro avg       0.58      0.70      0.58     95722\n",
      "weighted avg       0.89      0.75      0.80     95722\n",
      "\n"
     ]
    }
   ],
   "source": [
    "print(\"Before optimization\\n\")\n",
    "\n",
    "R_forest_w_normalize(X_train_smote.loc[:, rfe_smote.support_], y_train_smote, \\\n",
    "        X_test_smote.loc[:, rfe_smote.support_], y_test_smote)"
   ]
  },
  {
   "cell_type": "markdown",
   "id": "82699e72",
   "metadata": {},
   "source": [
    "The test score of the model after optimizing improved slightly, but the other scores are exact same. However, the model has better test score than the other models, so I'll compare this model to the other models."
   ]
  },
  {
   "cell_type": "markdown",
   "id": "12b46926",
   "metadata": {},
   "source": [
    "### Model Comparison"
   ]
  },
  {
   "cell_type": "code",
   "execution_count": 50,
   "id": "8019a0dc",
   "metadata": {},
   "outputs": [
    {
     "name": "stdout",
     "output_type": "stream",
     "text": [
      "Under Sampled data\n",
      "\n",
      "Train score: 0.7811010423759887\n",
      "Test score: 0.7131171517519483\n",
      "              precision    recall  f1-score   support\n",
      "\n",
      "           0       0.97      0.71      0.82     87544\n",
      "           1       0.20      0.79      0.32      8178\n",
      "\n",
      "    accuracy                           0.71     95722\n",
      "   macro avg       0.59      0.75      0.57     95722\n",
      "weighted avg       0.91      0.71      0.78     95722\n",
      "\n"
     ]
    }
   ],
   "source": [
    "# Under sampled data\n",
    "\n",
    "scaler = StandardScaler()\n",
    "scaler.fit(X_train_under.loc[:, rfe_under.support_])\n",
    "X_scaled_train = scaler.transform(X_train_under.loc[:, rfe_under.support_])\n",
    "X_scaled_test = scaler.transform(X_test_sampled.loc[:, rfe_under.support_])\n",
    "   \n",
    "my_PCA = PCA()\n",
    "my_PCA.fit(X_scaled_train)\n",
    "\n",
    "X_train_PCA = my_PCA.transform(X_scaled_train)\n",
    "X_test_PCA = my_PCA.transform(X_scaled_test)   \n",
    "    \n",
    "RF_model_under = RandomForestClassifier(max_depth=20, min_samples_leaf=6, \n",
    "                                  min_samples_split=20,n_estimators=10, random_state=42)\n",
    "RF_model_under.fit(X_train_PCA, y_train_under)\n",
    "    \n",
    "train_score = RF_model_under.score(X_train_PCA, y_train_under)\n",
    "test_score = RF_model_under.score(X_test_PCA, y_test_sampled)\n",
    "    \n",
    "    # Evaluation(precision & Recall)\n",
    "y_pred = RF_model_under.predict(X_test_PCA)\n",
    "\n",
    "report_initial = classification_report(y_test_sampled, y_pred)\n",
    "\n",
    "print(\"Under Sampled data\\n\")\n",
    "    \n",
    "print(f\"Train score: {train_score}\\nTest score: {test_score}\\n{report_initial}\")"
   ]
  },
  {
   "cell_type": "code",
   "execution_count": 49,
   "id": "a7fa87a3",
   "metadata": {},
   "outputs": [
    {
     "name": "stdout",
     "output_type": "stream",
     "text": [
      "SMOTE data\n",
      "\n",
      "Train score: 0.8058503867619701\n",
      "Test score: 0.753598963665615\n",
      "              precision    recall  f1-score   support\n",
      "\n",
      "           0       0.96      0.76      0.85     87544\n",
      "           1       0.20      0.64      0.31      8178\n",
      "\n",
      "    accuracy                           0.75     95722\n",
      "   macro avg       0.58      0.70      0.58     95722\n",
      "weighted avg       0.89      0.75      0.80     95722\n",
      "\n"
     ]
    }
   ],
   "source": [
    "# SMOTE data\n",
    "\n",
    "scaler = StandardScaler()\n",
    "scaler.fit(X_train_smote.loc[:, rfe_smote.support_])\n",
    "X_scaled_train = scaler.transform(X_train_smote.loc[:, rfe_smote.support_])\n",
    "X_scaled_test = scaler.transform(X_test_smote.loc[:, rfe_smote.support_])\n",
    "     \n",
    "RF_model_smote = RandomForestClassifier(max_depth=18, min_samples_leaf=2, \n",
    "                                  min_samples_split=5,n_estimators=50, random_state=42)\n",
    "RF_model_smote.fit(X_scaled_train, y_train_smote)\n",
    "    \n",
    "train_score = RF_model_smote.score(X_scaled_train, y_train_smote)\n",
    "test_score = RF_model_smote.score(X_scaled_test, y_test_smote)\n",
    "    \n",
    "    # Evaluation(precision & Recall)\n",
    "y_pred = RF_model_smote.predict(X_scaled_test)\n",
    "\n",
    "report_initial = classification_report(y_test_smote, y_pred)\n",
    "\n",
    "print(\"SMOTE data\\n\")\n",
    "    \n",
    "print(f\"Train score: {train_score}\\nTest score: {test_score}\\n{report_initial}\")"
   ]
  },
  {
   "cell_type": "markdown",
   "id": "17fab616",
   "metadata": {},
   "source": [
    "The test score of SMOTE data model is higher. However, recall score for 1 of Under sampled data is better than the one of SMOTE data. I need a model which can predict persno who has heart disease. Thefore, I'll choose the model of Under sampled data from RandomForest correctly."
   ]
  },
  {
   "cell_type": "markdown",
   "id": "4eef922f",
   "metadata": {},
   "source": [
    "**From Logistic Regression: Under Sampled dataset**"
   ]
  },
  {
   "cell_type": "code",
   "execution_count": null,
   "id": "4cf46fb8",
   "metadata": {},
   "outputs": [],
   "source": []
  }
 ],
 "metadata": {
  "kernelspec": {
   "display_name": "Python 3 (ipykernel)",
   "language": "python",
   "name": "python3"
  },
  "language_info": {
   "codemirror_mode": {
    "name": "ipython",
    "version": 3
   },
   "file_extension": ".py",
   "mimetype": "text/x-python",
   "name": "python",
   "nbconvert_exporter": "python",
   "pygments_lexer": "ipython3",
   "version": "3.11.7"
  }
 },
 "nbformat": 4,
 "nbformat_minor": 5
}
