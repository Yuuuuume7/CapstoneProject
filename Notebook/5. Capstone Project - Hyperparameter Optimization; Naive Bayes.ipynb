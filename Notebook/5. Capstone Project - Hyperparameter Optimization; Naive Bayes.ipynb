{
 "cells": [
  {
   "cell_type": "markdown",
   "id": "227479fa",
   "metadata": {},
   "source": [
    "# 5. Capstone Project - Hyperparameter Optimization; Naive Bayes"
   ]
  },
  {
   "cell_type": "markdown",
   "id": "86ca5492",
   "metadata": {},
   "source": [
    "#### Loading data and libralies"
   ]
  },
  {
   "cell_type": "code",
   "execution_count": 70,
   "id": "5edf0509",
   "metadata": {},
   "outputs": [],
   "source": [
    "import pandas as pd\n",
    "import numpy as np\n",
    "import matplotlib.pyplot as plt\n",
    "import seaborn as sns\n",
    "import scipy as stats\n",
    "\n",
    "from sklearn.preprocessing import StandardScaler\n",
    "from sklearn.linear_model import LogisticRegression"
   ]
  },
  {
   "cell_type": "code",
   "execution_count": 15,
   "id": "92f56c3c",
   "metadata": {},
   "outputs": [],
   "source": [
    "from sklearn.metrics import accuracy_score\n",
    "from sklearn.metrics import classification_report"
   ]
  },
  {
   "cell_type": "code",
   "execution_count": 2,
   "id": "68315005",
   "metadata": {},
   "outputs": [],
   "source": [
    "# Original data set\n",
    "original_df = pd.read_csv(\"./capstone_clean_heart_disease_fe.csv\")\n",
    "\n",
    "# Train set : Under sampled data set and Over sampled data set\n",
    "under_sampled_df = pd.read_csv(\"./under_sampled_df_fe.csv\")\n",
    "over_sampled_df = pd.read_csv(\"./over_sampled_df_fe.csv\")\n",
    "# Test set : Under sampled data set and Over sampled data set\n",
    "test_sampled_df = pd.read_csv(\"./test_sampled_df_fe.csv\")\n",
    "               \n",
    "# Train set : SMOTE data set         \n",
    "smote_df = pd.read_csv(\"./smote_df.csv\")\n",
    "# Test set : SMOTE data set  \n",
    "test_smote_df = pd.read_csv(\"./test_smote_df.csv\")"
   ]
  },
  {
   "cell_type": "markdown",
   "id": "fc0d33cb",
   "metadata": {},
   "source": [
    "Split each dataset into train set and test set"
   ]
  },
  {
   "cell_type": "code",
   "execution_count": 3,
   "id": "2828fc68",
   "metadata": {},
   "outputs": [],
   "source": [
    "# Split the original data set into train and test set\n",
    "X = original_df.drop(columns=\"HeartDisease\")\n",
    "y = original_df[\"HeartDisease\"]\n",
    "\n",
    "from sklearn.model_selection import train_test_split\n",
    "\n",
    "X_train_original, X_test_original, y_train_original, y_test_original = train_test_split(X, y, test_size = 0.3, random_state=42)"
   ]
  },
  {
   "cell_type": "code",
   "execution_count": 4,
   "id": "7a5f8bda",
   "metadata": {},
   "outputs": [],
   "source": [
    "# Split other data set into X and y\n",
    "X_train_under = under_sampled_df.drop(columns=\"HeartDisease\")\n",
    "y_train_under = under_sampled_df[\"HeartDisease\"]\n",
    "\n",
    "X_train_over = over_sampled_df.drop(columns=\"HeartDisease\")\n",
    "y_train_over = over_sampled_df[\"HeartDisease\"]\n",
    "\n",
    "X_test_sampled = test_sampled_df.drop(columns=\"HeartDisease\")\n",
    "y_test_sampled = test_sampled_df[\"HeartDisease\"]\n",
    "\n",
    "X_train_smote = smote_df.drop(columns=\"HeartDisease\")\n",
    "y_train_smote = smote_df[\"HeartDisease\"]\n",
    "\n",
    "X_test_smote = test_smote_df.drop(columns=\"HeartDisease\")\n",
    "y_test_smote = test_smote_df[\"HeartDisease\"]"
   ]
  },
  {
   "cell_type": "code",
   "execution_count": 5,
   "id": "274afe0e",
   "metadata": {},
   "outputs": [],
   "source": [
    "X_train = [X_train_original, X_train_under, X_train_over, X_train_smote]\n",
    "X_test = [X_test_original, X_test_sampled, X_test_sampled, X_test_smote]\n",
    "y_train = [y_train_original, y_train_under, y_train_over,y_train_smote]\n",
    "y_test = [y_test_original, y_test_sampled, y_test_sampled, y_test_smote]\n",
    "\n",
    "train_score = []\n",
    "test_score = []\n",
    "\n",
    "for index in range(4):\n",
    "    \n",
    "    scaler = StandardScaler()\n",
    "    scaler.fit(X_train[index])\n",
    "    X_scaled_train = scaler.transform(X_train[index])\n",
    "    X_scaled_test = scaler.transform(X_test[index])\n",
    "    \n",
    "    model = LogisticRegression(max_iter=1000, random_state=42)\n",
    "    model.fit(X_scaled_train,y_train[index])\n",
    "    \n",
    "    train_score.append(model.score(X_scaled_train,y_train[index])*100)\n",
    "    test_score.append(model.score(X_scaled_test,y_test[index])*100)"
   ]
  },
  {
   "cell_type": "code",
   "execution_count": 6,
   "id": "faf6e454",
   "metadata": {},
   "outputs": [
    {
     "data": {
      "text/html": [
       "<div>\n",
       "<style scoped>\n",
       "    .dataframe tbody tr th:only-of-type {\n",
       "        vertical-align: middle;\n",
       "    }\n",
       "\n",
       "    .dataframe tbody tr th {\n",
       "        vertical-align: top;\n",
       "    }\n",
       "\n",
       "    .dataframe thead th {\n",
       "        text-align: right;\n",
       "    }\n",
       "</style>\n",
       "<table border=\"1\" class=\"dataframe\">\n",
       "  <thead>\n",
       "    <tr style=\"text-align: right;\">\n",
       "      <th></th>\n",
       "      <th>Original</th>\n",
       "      <th>Under Sampled</th>\n",
       "      <th>Over Sampled</th>\n",
       "      <th>SMOTE</th>\n",
       "    </tr>\n",
       "  </thead>\n",
       "  <tbody>\n",
       "    <tr>\n",
       "      <th>Train score</th>\n",
       "      <td>91.452915</td>\n",
       "      <td>75.787020</td>\n",
       "      <td>75.675365</td>\n",
       "      <td>80.968618</td>\n",
       "    </tr>\n",
       "    <tr>\n",
       "      <th>Test score</th>\n",
       "      <td>91.389649</td>\n",
       "      <td>73.322747</td>\n",
       "      <td>73.284094</td>\n",
       "      <td>77.891185</td>\n",
       "    </tr>\n",
       "  </tbody>\n",
       "</table>\n",
       "</div>"
      ],
      "text/plain": [
       "              Original  Under Sampled  Over Sampled      SMOTE\n",
       "Train score  91.452915      75.787020     75.675365  80.968618\n",
       "Test score   91.389649      73.322747     73.284094  77.891185"
      ]
     },
     "execution_count": 6,
     "metadata": {},
     "output_type": "execute_result"
    }
   ],
   "source": [
    "before_selection = pd.DataFrame((train_score, test_score), columns=[\"Original\", \"Under Sampled\", \"Over Sampled\", \"SMOTE\"], \n",
    "                                index=[\"Train score\", \"Test score\"])\n",
    "before_selection"
   ]
  },
  {
   "cell_type": "markdown",
   "id": "5a5499a7",
   "metadata": {},
   "source": [
    "**Festure selection: RFE**  \n",
    "The columns that I'll use for modeling"
   ]
  },
  {
   "cell_type": "code",
   "execution_count": 7,
   "id": "932af7b7",
   "metadata": {},
   "outputs": [],
   "source": [
    "# RFE : Original data final\n",
    "\n",
    "from sklearn.feature_selection import RFE\n",
    "\n",
    "scaler = StandardScaler()\n",
    "scaler.fit(X_train_original)\n",
    "X_scaled_train = scaler.transform(X_train_original)\n",
    "X_scaled_test = scaler.transform(X_test_original)\n",
    "\n",
    "rfe_original = RFE(estimator=LogisticRegression(max_iter=1000, random_state=42), n_features_to_select=7)\n",
    "rfe_original.fit(X_scaled_train,y_train_original)\n",
    "    \n",
    "train_score_or_rfe = rfe_original.score(X_scaled_train,y_train_original)\n",
    "test_score_or_rfe = rfe_original.score(X_scaled_test,y_test_original)"
   ]
  },
  {
   "cell_type": "code",
   "execution_count": 8,
   "id": "ef0c14db",
   "metadata": {},
   "outputs": [
    {
     "data": {
      "text/html": [
       "<div>\n",
       "<style scoped>\n",
       "    .dataframe tbody tr th:only-of-type {\n",
       "        vertical-align: middle;\n",
       "    }\n",
       "\n",
       "    .dataframe tbody tr th {\n",
       "        vertical-align: top;\n",
       "    }\n",
       "\n",
       "    .dataframe thead th {\n",
       "        text-align: right;\n",
       "    }\n",
       "</style>\n",
       "<table border=\"1\" class=\"dataframe\">\n",
       "  <thead>\n",
       "    <tr style=\"text-align: right;\">\n",
       "      <th></th>\n",
       "      <th>BMI</th>\n",
       "      <th>Smoking</th>\n",
       "      <th>DiffWalking</th>\n",
       "      <th>Sex</th>\n",
       "      <th>AgeCategory</th>\n",
       "      <th>GenHealth</th>\n",
       "      <th>Asthma</th>\n",
       "    </tr>\n",
       "  </thead>\n",
       "  <tbody>\n",
       "    <tr>\n",
       "      <th>176993</th>\n",
       "      <td>27.12</td>\n",
       "      <td>1</td>\n",
       "      <td>0</td>\n",
       "      <td>1</td>\n",
       "      <td>35</td>\n",
       "      <td>3</td>\n",
       "      <td>0</td>\n",
       "    </tr>\n",
       "    <tr>\n",
       "      <th>267593</th>\n",
       "      <td>30.23</td>\n",
       "      <td>0</td>\n",
       "      <td>0</td>\n",
       "      <td>0</td>\n",
       "      <td>18</td>\n",
       "      <td>2</td>\n",
       "      <td>0</td>\n",
       "    </tr>\n",
       "    <tr>\n",
       "      <th>175707</th>\n",
       "      <td>32.55</td>\n",
       "      <td>0</td>\n",
       "      <td>0</td>\n",
       "      <td>1</td>\n",
       "      <td>60</td>\n",
       "      <td>3</td>\n",
       "      <td>0</td>\n",
       "    </tr>\n",
       "    <tr>\n",
       "      <th>317039</th>\n",
       "      <td>33.07</td>\n",
       "      <td>0</td>\n",
       "      <td>0</td>\n",
       "      <td>0</td>\n",
       "      <td>55</td>\n",
       "      <td>3</td>\n",
       "      <td>0</td>\n",
       "    </tr>\n",
       "    <tr>\n",
       "      <th>262926</th>\n",
       "      <td>23.06</td>\n",
       "      <td>0</td>\n",
       "      <td>0</td>\n",
       "      <td>1</td>\n",
       "      <td>30</td>\n",
       "      <td>4</td>\n",
       "      <td>0</td>\n",
       "    </tr>\n",
       "    <tr>\n",
       "      <th>...</th>\n",
       "      <td>...</td>\n",
       "      <td>...</td>\n",
       "      <td>...</td>\n",
       "      <td>...</td>\n",
       "      <td>...</td>\n",
       "      <td>...</td>\n",
       "      <td>...</td>\n",
       "    </tr>\n",
       "    <tr>\n",
       "      <th>119879</th>\n",
       "      <td>26.62</td>\n",
       "      <td>0</td>\n",
       "      <td>0</td>\n",
       "      <td>0</td>\n",
       "      <td>40</td>\n",
       "      <td>4</td>\n",
       "      <td>0</td>\n",
       "    </tr>\n",
       "    <tr>\n",
       "      <th>259178</th>\n",
       "      <td>25.04</td>\n",
       "      <td>0</td>\n",
       "      <td>0</td>\n",
       "      <td>1</td>\n",
       "      <td>25</td>\n",
       "      <td>4</td>\n",
       "      <td>0</td>\n",
       "    </tr>\n",
       "    <tr>\n",
       "      <th>131932</th>\n",
       "      <td>36.05</td>\n",
       "      <td>0</td>\n",
       "      <td>0</td>\n",
       "      <td>0</td>\n",
       "      <td>18</td>\n",
       "      <td>1</td>\n",
       "      <td>0</td>\n",
       "    </tr>\n",
       "    <tr>\n",
       "      <th>146867</th>\n",
       "      <td>27.44</td>\n",
       "      <td>0</td>\n",
       "      <td>0</td>\n",
       "      <td>0</td>\n",
       "      <td>40</td>\n",
       "      <td>3</td>\n",
       "      <td>0</td>\n",
       "    </tr>\n",
       "    <tr>\n",
       "      <th>121958</th>\n",
       "      <td>19.77</td>\n",
       "      <td>1</td>\n",
       "      <td>0</td>\n",
       "      <td>1</td>\n",
       "      <td>55</td>\n",
       "      <td>4</td>\n",
       "      <td>0</td>\n",
       "    </tr>\n",
       "  </tbody>\n",
       "</table>\n",
       "<p>223351 rows × 7 columns</p>\n",
       "</div>"
      ],
      "text/plain": [
       "          BMI  Smoking  DiffWalking  Sex  AgeCategory  GenHealth  Asthma\n",
       "176993  27.12        1            0    1           35          3       0\n",
       "267593  30.23        0            0    0           18          2       0\n",
       "175707  32.55        0            0    1           60          3       0\n",
       "317039  33.07        0            0    0           55          3       0\n",
       "262926  23.06        0            0    1           30          4       0\n",
       "...       ...      ...          ...  ...          ...        ...     ...\n",
       "119879  26.62        0            0    0           40          4       0\n",
       "259178  25.04        0            0    1           25          4       0\n",
       "131932  36.05        0            0    0           18          1       0\n",
       "146867  27.44        0            0    0           40          3       0\n",
       "121958  19.77        1            0    1           55          4       0\n",
       "\n",
       "[223351 rows x 7 columns]"
      ]
     },
     "execution_count": 8,
     "metadata": {},
     "output_type": "execute_result"
    }
   ],
   "source": [
    "X_train_original.loc[:, rfe_original.support_]"
   ]
  },
  {
   "cell_type": "code",
   "execution_count": 9,
   "id": "5ca83560",
   "metadata": {},
   "outputs": [],
   "source": [
    "# RFE : Under sampled data final\n",
    "\n",
    "scaler = StandardScaler()\n",
    "scaler.fit(X_train_under)\n",
    "X_scaled_train = scaler.transform(X_train_under)\n",
    "X_scaled_test = scaler.transform(X_test_sampled)\n",
    "   \n",
    "rfe_under = RFE(estimator=LogisticRegression(max_iter=1000, random_state=42), n_features_to_select=9)\n",
    "rfe_under.fit(X_scaled_train,y_train_under)\n",
    "    \n",
    "train_score_u_rfe = rfe_under.score(X_scaled_train,y_train_under)\n",
    "test_score_u_rfe = rfe_under.score(X_scaled_test,y_test_sampled)"
   ]
  },
  {
   "cell_type": "code",
   "execution_count": 10,
   "id": "eda056a6",
   "metadata": {},
   "outputs": [
    {
     "data": {
      "text/html": [
       "<div>\n",
       "<style scoped>\n",
       "    .dataframe tbody tr th:only-of-type {\n",
       "        vertical-align: middle;\n",
       "    }\n",
       "\n",
       "    .dataframe tbody tr th {\n",
       "        vertical-align: top;\n",
       "    }\n",
       "\n",
       "    .dataframe thead th {\n",
       "        text-align: right;\n",
       "    }\n",
       "</style>\n",
       "<table border=\"1\" class=\"dataframe\">\n",
       "  <thead>\n",
       "    <tr style=\"text-align: right;\">\n",
       "      <th></th>\n",
       "      <th>Smoking</th>\n",
       "      <th>AlcoholDrinking</th>\n",
       "      <th>PhysicalHealth</th>\n",
       "      <th>DiffWalking</th>\n",
       "      <th>Sex</th>\n",
       "      <th>AgeCategory</th>\n",
       "      <th>GenHealth</th>\n",
       "      <th>Asthma</th>\n",
       "      <th>Race_Asian</th>\n",
       "    </tr>\n",
       "  </thead>\n",
       "  <tbody>\n",
       "    <tr>\n",
       "      <th>0</th>\n",
       "      <td>1</td>\n",
       "      <td>0</td>\n",
       "      <td>0.0</td>\n",
       "      <td>0</td>\n",
       "      <td>1</td>\n",
       "      <td>65</td>\n",
       "      <td>1</td>\n",
       "      <td>0</td>\n",
       "      <td>0</td>\n",
       "    </tr>\n",
       "    <tr>\n",
       "      <th>1</th>\n",
       "      <td>0</td>\n",
       "      <td>0</td>\n",
       "      <td>5.0</td>\n",
       "      <td>0</td>\n",
       "      <td>0</td>\n",
       "      <td>80</td>\n",
       "      <td>0</td>\n",
       "      <td>0</td>\n",
       "      <td>0</td>\n",
       "    </tr>\n",
       "    <tr>\n",
       "      <th>2</th>\n",
       "      <td>0</td>\n",
       "      <td>0</td>\n",
       "      <td>0.0</td>\n",
       "      <td>0</td>\n",
       "      <td>0</td>\n",
       "      <td>40</td>\n",
       "      <td>4</td>\n",
       "      <td>0</td>\n",
       "      <td>0</td>\n",
       "    </tr>\n",
       "    <tr>\n",
       "      <th>3</th>\n",
       "      <td>0</td>\n",
       "      <td>0</td>\n",
       "      <td>7.0</td>\n",
       "      <td>1</td>\n",
       "      <td>0</td>\n",
       "      <td>60</td>\n",
       "      <td>2</td>\n",
       "      <td>0</td>\n",
       "      <td>0</td>\n",
       "    </tr>\n",
       "    <tr>\n",
       "      <th>4</th>\n",
       "      <td>1</td>\n",
       "      <td>0</td>\n",
       "      <td>0.0</td>\n",
       "      <td>0</td>\n",
       "      <td>1</td>\n",
       "      <td>70</td>\n",
       "      <td>3</td>\n",
       "      <td>0</td>\n",
       "      <td>0</td>\n",
       "    </tr>\n",
       "    <tr>\n",
       "      <th>...</th>\n",
       "      <td>...</td>\n",
       "      <td>...</td>\n",
       "      <td>...</td>\n",
       "      <td>...</td>\n",
       "      <td>...</td>\n",
       "      <td>...</td>\n",
       "      <td>...</td>\n",
       "      <td>...</td>\n",
       "      <td>...</td>\n",
       "    </tr>\n",
       "    <tr>\n",
       "      <th>38177</th>\n",
       "      <td>0</td>\n",
       "      <td>0</td>\n",
       "      <td>0.0</td>\n",
       "      <td>0</td>\n",
       "      <td>1</td>\n",
       "      <td>75</td>\n",
       "      <td>3</td>\n",
       "      <td>0</td>\n",
       "      <td>0</td>\n",
       "    </tr>\n",
       "    <tr>\n",
       "      <th>38178</th>\n",
       "      <td>0</td>\n",
       "      <td>0</td>\n",
       "      <td>30.0</td>\n",
       "      <td>1</td>\n",
       "      <td>0</td>\n",
       "      <td>50</td>\n",
       "      <td>0</td>\n",
       "      <td>0</td>\n",
       "      <td>0</td>\n",
       "    </tr>\n",
       "    <tr>\n",
       "      <th>38179</th>\n",
       "      <td>0</td>\n",
       "      <td>0</td>\n",
       "      <td>0.0</td>\n",
       "      <td>0</td>\n",
       "      <td>0</td>\n",
       "      <td>75</td>\n",
       "      <td>2</td>\n",
       "      <td>0</td>\n",
       "      <td>0</td>\n",
       "    </tr>\n",
       "    <tr>\n",
       "      <th>38180</th>\n",
       "      <td>1</td>\n",
       "      <td>0</td>\n",
       "      <td>15.0</td>\n",
       "      <td>0</td>\n",
       "      <td>1</td>\n",
       "      <td>70</td>\n",
       "      <td>3</td>\n",
       "      <td>0</td>\n",
       "      <td>0</td>\n",
       "    </tr>\n",
       "    <tr>\n",
       "      <th>38181</th>\n",
       "      <td>1</td>\n",
       "      <td>0</td>\n",
       "      <td>4.0</td>\n",
       "      <td>0</td>\n",
       "      <td>1</td>\n",
       "      <td>50</td>\n",
       "      <td>2</td>\n",
       "      <td>0</td>\n",
       "      <td>0</td>\n",
       "    </tr>\n",
       "  </tbody>\n",
       "</table>\n",
       "<p>38182 rows × 9 columns</p>\n",
       "</div>"
      ],
      "text/plain": [
       "       Smoking  AlcoholDrinking  PhysicalHealth  DiffWalking  Sex  \\\n",
       "0            1                0             0.0            0    1   \n",
       "1            0                0             5.0            0    0   \n",
       "2            0                0             0.0            0    0   \n",
       "3            0                0             7.0            1    0   \n",
       "4            1                0             0.0            0    1   \n",
       "...        ...              ...             ...          ...  ...   \n",
       "38177        0                0             0.0            0    1   \n",
       "38178        0                0            30.0            1    0   \n",
       "38179        0                0             0.0            0    0   \n",
       "38180        1                0            15.0            0    1   \n",
       "38181        1                0             4.0            0    1   \n",
       "\n",
       "       AgeCategory  GenHealth  Asthma  Race_Asian  \n",
       "0               65          1       0           0  \n",
       "1               80          0       0           0  \n",
       "2               40          4       0           0  \n",
       "3               60          2       0           0  \n",
       "4               70          3       0           0  \n",
       "...            ...        ...     ...         ...  \n",
       "38177           75          3       0           0  \n",
       "38178           50          0       0           0  \n",
       "38179           75          2       0           0  \n",
       "38180           70          3       0           0  \n",
       "38181           50          2       0           0  \n",
       "\n",
       "[38182 rows x 9 columns]"
      ]
     },
     "execution_count": 10,
     "metadata": {},
     "output_type": "execute_result"
    }
   ],
   "source": [
    "X_train_under.loc[:, rfe_under.support_]"
   ]
  },
  {
   "cell_type": "code",
   "execution_count": 11,
   "id": "2dd1752e",
   "metadata": {},
   "outputs": [],
   "source": [
    "# RFE : Over sampled data final\n",
    "\n",
    "scaler = StandardScaler()\n",
    "scaler.fit(X_train_over)\n",
    "X_scaled_train = scaler.transform(X_train_over)\n",
    "X_scaled_test = scaler.transform(X_test_sampled)\n",
    "   \n",
    "rfe_over = RFE(estimator=LogisticRegression(max_iter=1000, random_state=42), n_features_to_select=11)\n",
    "rfe_over.fit(X_scaled_train,y_train_over)\n",
    "    \n",
    "train_score_ov_rfe = rfe_over.score(X_scaled_train,y_train_over)\n",
    "test_score_ov_rfe = rfe_over.score(X_scaled_test,y_test_sampled)"
   ]
  },
  {
   "cell_type": "code",
   "execution_count": 12,
   "id": "57f8a14a",
   "metadata": {},
   "outputs": [
    {
     "data": {
      "text/html": [
       "<div>\n",
       "<style scoped>\n",
       "    .dataframe tbody tr th:only-of-type {\n",
       "        vertical-align: middle;\n",
       "    }\n",
       "\n",
       "    .dataframe tbody tr th {\n",
       "        vertical-align: top;\n",
       "    }\n",
       "\n",
       "    .dataframe thead th {\n",
       "        text-align: right;\n",
       "    }\n",
       "</style>\n",
       "<table border=\"1\" class=\"dataframe\">\n",
       "  <thead>\n",
       "    <tr style=\"text-align: right;\">\n",
       "      <th></th>\n",
       "      <th>BMI</th>\n",
       "      <th>Smoking</th>\n",
       "      <th>AlcoholDrinking</th>\n",
       "      <th>PhysicalHealth</th>\n",
       "      <th>MentalHealth</th>\n",
       "      <th>DiffWalking</th>\n",
       "      <th>Sex</th>\n",
       "      <th>AgeCategory</th>\n",
       "      <th>GenHealth</th>\n",
       "      <th>Asthma</th>\n",
       "      <th>Race_Asian</th>\n",
       "    </tr>\n",
       "  </thead>\n",
       "  <tbody>\n",
       "    <tr>\n",
       "      <th>0</th>\n",
       "      <td>27.12</td>\n",
       "      <td>1</td>\n",
       "      <td>0</td>\n",
       "      <td>0.0</td>\n",
       "      <td>2.0</td>\n",
       "      <td>0</td>\n",
       "      <td>1</td>\n",
       "      <td>35</td>\n",
       "      <td>3</td>\n",
       "      <td>0</td>\n",
       "      <td>0</td>\n",
       "    </tr>\n",
       "    <tr>\n",
       "      <th>1</th>\n",
       "      <td>30.23</td>\n",
       "      <td>0</td>\n",
       "      <td>0</td>\n",
       "      <td>0.0</td>\n",
       "      <td>0.0</td>\n",
       "      <td>0</td>\n",
       "      <td>0</td>\n",
       "      <td>18</td>\n",
       "      <td>2</td>\n",
       "      <td>0</td>\n",
       "      <td>0</td>\n",
       "    </tr>\n",
       "    <tr>\n",
       "      <th>2</th>\n",
       "      <td>32.55</td>\n",
       "      <td>0</td>\n",
       "      <td>0</td>\n",
       "      <td>0.0</td>\n",
       "      <td>0.0</td>\n",
       "      <td>0</td>\n",
       "      <td>1</td>\n",
       "      <td>60</td>\n",
       "      <td>3</td>\n",
       "      <td>0</td>\n",
       "      <td>0</td>\n",
       "    </tr>\n",
       "    <tr>\n",
       "      <th>3</th>\n",
       "      <td>33.07</td>\n",
       "      <td>0</td>\n",
       "      <td>0</td>\n",
       "      <td>0.0</td>\n",
       "      <td>0.0</td>\n",
       "      <td>0</td>\n",
       "      <td>0</td>\n",
       "      <td>55</td>\n",
       "      <td>3</td>\n",
       "      <td>0</td>\n",
       "      <td>0</td>\n",
       "    </tr>\n",
       "    <tr>\n",
       "      <th>4</th>\n",
       "      <td>23.06</td>\n",
       "      <td>0</td>\n",
       "      <td>0</td>\n",
       "      <td>0.0</td>\n",
       "      <td>0.0</td>\n",
       "      <td>0</td>\n",
       "      <td>1</td>\n",
       "      <td>30</td>\n",
       "      <td>4</td>\n",
       "      <td>0</td>\n",
       "      <td>0</td>\n",
       "    </tr>\n",
       "    <tr>\n",
       "      <th>...</th>\n",
       "      <td>...</td>\n",
       "      <td>...</td>\n",
       "      <td>...</td>\n",
       "      <td>...</td>\n",
       "      <td>...</td>\n",
       "      <td>...</td>\n",
       "      <td>...</td>\n",
       "      <td>...</td>\n",
       "      <td>...</td>\n",
       "      <td>...</td>\n",
       "      <td>...</td>\n",
       "    </tr>\n",
       "    <tr>\n",
       "      <th>408515</th>\n",
       "      <td>42.87</td>\n",
       "      <td>0</td>\n",
       "      <td>0</td>\n",
       "      <td>30.0</td>\n",
       "      <td>0.0</td>\n",
       "      <td>1</td>\n",
       "      <td>0</td>\n",
       "      <td>60</td>\n",
       "      <td>2</td>\n",
       "      <td>0</td>\n",
       "      <td>0</td>\n",
       "    </tr>\n",
       "    <tr>\n",
       "      <th>408516</th>\n",
       "      <td>24.41</td>\n",
       "      <td>0</td>\n",
       "      <td>0</td>\n",
       "      <td>0.0</td>\n",
       "      <td>0.0</td>\n",
       "      <td>0</td>\n",
       "      <td>1</td>\n",
       "      <td>65</td>\n",
       "      <td>2</td>\n",
       "      <td>0</td>\n",
       "      <td>0</td>\n",
       "    </tr>\n",
       "    <tr>\n",
       "      <th>408517</th>\n",
       "      <td>33.00</td>\n",
       "      <td>0</td>\n",
       "      <td>0</td>\n",
       "      <td>0.0</td>\n",
       "      <td>0.0</td>\n",
       "      <td>0</td>\n",
       "      <td>1</td>\n",
       "      <td>60</td>\n",
       "      <td>1</td>\n",
       "      <td>0</td>\n",
       "      <td>0</td>\n",
       "    </tr>\n",
       "    <tr>\n",
       "      <th>408518</th>\n",
       "      <td>31.32</td>\n",
       "      <td>1</td>\n",
       "      <td>0</td>\n",
       "      <td>3.0</td>\n",
       "      <td>2.0</td>\n",
       "      <td>0</td>\n",
       "      <td>0</td>\n",
       "      <td>65</td>\n",
       "      <td>2</td>\n",
       "      <td>1</td>\n",
       "      <td>0</td>\n",
       "    </tr>\n",
       "    <tr>\n",
       "      <th>408519</th>\n",
       "      <td>27.71</td>\n",
       "      <td>1</td>\n",
       "      <td>0</td>\n",
       "      <td>15.0</td>\n",
       "      <td>30.0</td>\n",
       "      <td>1</td>\n",
       "      <td>1</td>\n",
       "      <td>75</td>\n",
       "      <td>1</td>\n",
       "      <td>0</td>\n",
       "      <td>0</td>\n",
       "    </tr>\n",
       "  </tbody>\n",
       "</table>\n",
       "<p>408520 rows × 11 columns</p>\n",
       "</div>"
      ],
      "text/plain": [
       "          BMI  Smoking  AlcoholDrinking  PhysicalHealth  MentalHealth  \\\n",
       "0       27.12        1                0             0.0           2.0   \n",
       "1       30.23        0                0             0.0           0.0   \n",
       "2       32.55        0                0             0.0           0.0   \n",
       "3       33.07        0                0             0.0           0.0   \n",
       "4       23.06        0                0             0.0           0.0   \n",
       "...       ...      ...              ...             ...           ...   \n",
       "408515  42.87        0                0            30.0           0.0   \n",
       "408516  24.41        0                0             0.0           0.0   \n",
       "408517  33.00        0                0             0.0           0.0   \n",
       "408518  31.32        1                0             3.0           2.0   \n",
       "408519  27.71        1                0            15.0          30.0   \n",
       "\n",
       "        DiffWalking  Sex  AgeCategory  GenHealth  Asthma  Race_Asian  \n",
       "0                 0    1           35          3       0           0  \n",
       "1                 0    0           18          2       0           0  \n",
       "2                 0    1           60          3       0           0  \n",
       "3                 0    0           55          3       0           0  \n",
       "4                 0    1           30          4       0           0  \n",
       "...             ...  ...          ...        ...     ...         ...  \n",
       "408515            1    0           60          2       0           0  \n",
       "408516            0    1           65          2       0           0  \n",
       "408517            0    1           60          1       0           0  \n",
       "408518            0    0           65          2       1           0  \n",
       "408519            1    1           75          1       0           0  \n",
       "\n",
       "[408520 rows x 11 columns]"
      ]
     },
     "execution_count": 12,
     "metadata": {},
     "output_type": "execute_result"
    }
   ],
   "source": [
    "X_train_over.loc[:, rfe_over.support_]"
   ]
  },
  {
   "cell_type": "code",
   "execution_count": 13,
   "id": "759d5896",
   "metadata": {},
   "outputs": [],
   "source": [
    "# RFE : SMOTE data final\n",
    "\n",
    "scaler = StandardScaler()\n",
    "scaler.fit(X_train_smote)\n",
    "X_scaled_train = scaler.transform(X_train_smote)\n",
    "X_scaled_test = scaler.transform(X_test_smote)\n",
    "    \n",
    "rfe_smote = RFE(estimator=LogisticRegression(max_iter=1500, random_state=42), n_features_to_select=10)\n",
    "rfe_smote.fit(X_scaled_train,y_train_smote)\n",
    "    \n",
    "train_score_s_rfe = rfe_smote.score(X_scaled_train,y_train_smote)\n",
    "test_score_s_rfe = rfe_smote.score(X_scaled_test,y_test_smote)"
   ]
  },
  {
   "cell_type": "code",
   "execution_count": 14,
   "id": "9744f360",
   "metadata": {},
   "outputs": [
    {
     "data": {
      "text/html": [
       "<div>\n",
       "<style scoped>\n",
       "    .dataframe tbody tr th:only-of-type {\n",
       "        vertical-align: middle;\n",
       "    }\n",
       "\n",
       "    .dataframe tbody tr th {\n",
       "        vertical-align: top;\n",
       "    }\n",
       "\n",
       "    .dataframe thead th {\n",
       "        text-align: right;\n",
       "    }\n",
       "</style>\n",
       "<table border=\"1\" class=\"dataframe\">\n",
       "  <thead>\n",
       "    <tr style=\"text-align: right;\">\n",
       "      <th></th>\n",
       "      <th>AlcoholDrinking</th>\n",
       "      <th>AgeCategory</th>\n",
       "      <th>GenHealth</th>\n",
       "      <th>Asthma</th>\n",
       "      <th>Race_American Indian/Alaskan Native</th>\n",
       "      <th>Race_Asian</th>\n",
       "      <th>Race_Black</th>\n",
       "      <th>Race_Hispanic</th>\n",
       "      <th>Race_Other</th>\n",
       "      <th>Race_White</th>\n",
       "    </tr>\n",
       "  </thead>\n",
       "  <tbody>\n",
       "    <tr>\n",
       "      <th>0</th>\n",
       "      <td>0</td>\n",
       "      <td>35</td>\n",
       "      <td>3</td>\n",
       "      <td>0</td>\n",
       "      <td>0</td>\n",
       "      <td>0</td>\n",
       "      <td>0</td>\n",
       "      <td>0</td>\n",
       "      <td>0</td>\n",
       "      <td>1</td>\n",
       "    </tr>\n",
       "    <tr>\n",
       "      <th>1</th>\n",
       "      <td>0</td>\n",
       "      <td>18</td>\n",
       "      <td>2</td>\n",
       "      <td>0</td>\n",
       "      <td>0</td>\n",
       "      <td>0</td>\n",
       "      <td>0</td>\n",
       "      <td>1</td>\n",
       "      <td>0</td>\n",
       "      <td>0</td>\n",
       "    </tr>\n",
       "    <tr>\n",
       "      <th>2</th>\n",
       "      <td>0</td>\n",
       "      <td>60</td>\n",
       "      <td>3</td>\n",
       "      <td>0</td>\n",
       "      <td>0</td>\n",
       "      <td>0</td>\n",
       "      <td>0</td>\n",
       "      <td>0</td>\n",
       "      <td>0</td>\n",
       "      <td>1</td>\n",
       "    </tr>\n",
       "    <tr>\n",
       "      <th>3</th>\n",
       "      <td>0</td>\n",
       "      <td>55</td>\n",
       "      <td>3</td>\n",
       "      <td>0</td>\n",
       "      <td>0</td>\n",
       "      <td>0</td>\n",
       "      <td>0</td>\n",
       "      <td>1</td>\n",
       "      <td>0</td>\n",
       "      <td>0</td>\n",
       "    </tr>\n",
       "    <tr>\n",
       "      <th>4</th>\n",
       "      <td>0</td>\n",
       "      <td>30</td>\n",
       "      <td>4</td>\n",
       "      <td>0</td>\n",
       "      <td>0</td>\n",
       "      <td>0</td>\n",
       "      <td>1</td>\n",
       "      <td>0</td>\n",
       "      <td>0</td>\n",
       "      <td>0</td>\n",
       "    </tr>\n",
       "    <tr>\n",
       "      <th>...</th>\n",
       "      <td>...</td>\n",
       "      <td>...</td>\n",
       "      <td>...</td>\n",
       "      <td>...</td>\n",
       "      <td>...</td>\n",
       "      <td>...</td>\n",
       "      <td>...</td>\n",
       "      <td>...</td>\n",
       "      <td>...</td>\n",
       "      <td>...</td>\n",
       "    </tr>\n",
       "    <tr>\n",
       "      <th>408515</th>\n",
       "      <td>0</td>\n",
       "      <td>80</td>\n",
       "      <td>1</td>\n",
       "      <td>0</td>\n",
       "      <td>0</td>\n",
       "      <td>0</td>\n",
       "      <td>0</td>\n",
       "      <td>0</td>\n",
       "      <td>0</td>\n",
       "      <td>1</td>\n",
       "    </tr>\n",
       "    <tr>\n",
       "      <th>408516</th>\n",
       "      <td>0</td>\n",
       "      <td>65</td>\n",
       "      <td>3</td>\n",
       "      <td>0</td>\n",
       "      <td>0</td>\n",
       "      <td>0</td>\n",
       "      <td>0</td>\n",
       "      <td>0</td>\n",
       "      <td>0</td>\n",
       "      <td>1</td>\n",
       "    </tr>\n",
       "    <tr>\n",
       "      <th>408517</th>\n",
       "      <td>0</td>\n",
       "      <td>70</td>\n",
       "      <td>2</td>\n",
       "      <td>0</td>\n",
       "      <td>0</td>\n",
       "      <td>0</td>\n",
       "      <td>0</td>\n",
       "      <td>0</td>\n",
       "      <td>0</td>\n",
       "      <td>0</td>\n",
       "    </tr>\n",
       "    <tr>\n",
       "      <th>408518</th>\n",
       "      <td>0</td>\n",
       "      <td>75</td>\n",
       "      <td>2</td>\n",
       "      <td>0</td>\n",
       "      <td>0</td>\n",
       "      <td>0</td>\n",
       "      <td>0</td>\n",
       "      <td>0</td>\n",
       "      <td>0</td>\n",
       "      <td>1</td>\n",
       "    </tr>\n",
       "    <tr>\n",
       "      <th>408519</th>\n",
       "      <td>0</td>\n",
       "      <td>75</td>\n",
       "      <td>3</td>\n",
       "      <td>0</td>\n",
       "      <td>0</td>\n",
       "      <td>0</td>\n",
       "      <td>0</td>\n",
       "      <td>0</td>\n",
       "      <td>0</td>\n",
       "      <td>1</td>\n",
       "    </tr>\n",
       "  </tbody>\n",
       "</table>\n",
       "<p>408520 rows × 10 columns</p>\n",
       "</div>"
      ],
      "text/plain": [
       "        AlcoholDrinking  AgeCategory  GenHealth  Asthma  \\\n",
       "0                     0           35          3       0   \n",
       "1                     0           18          2       0   \n",
       "2                     0           60          3       0   \n",
       "3                     0           55          3       0   \n",
       "4                     0           30          4       0   \n",
       "...                 ...          ...        ...     ...   \n",
       "408515                0           80          1       0   \n",
       "408516                0           65          3       0   \n",
       "408517                0           70          2       0   \n",
       "408518                0           75          2       0   \n",
       "408519                0           75          3       0   \n",
       "\n",
       "        Race_American Indian/Alaskan Native  Race_Asian  Race_Black  \\\n",
       "0                                         0           0           0   \n",
       "1                                         0           0           0   \n",
       "2                                         0           0           0   \n",
       "3                                         0           0           0   \n",
       "4                                         0           0           1   \n",
       "...                                     ...         ...         ...   \n",
       "408515                                    0           0           0   \n",
       "408516                                    0           0           0   \n",
       "408517                                    0           0           0   \n",
       "408518                                    0           0           0   \n",
       "408519                                    0           0           0   \n",
       "\n",
       "        Race_Hispanic  Race_Other  Race_White  \n",
       "0                   0           0           1  \n",
       "1                   1           0           0  \n",
       "2                   0           0           1  \n",
       "3                   1           0           0  \n",
       "4                   0           0           0  \n",
       "...               ...         ...         ...  \n",
       "408515              0           0           1  \n",
       "408516              0           0           1  \n",
       "408517              0           0           0  \n",
       "408518              0           0           1  \n",
       "408519              0           0           1  \n",
       "\n",
       "[408520 rows x 10 columns]"
      ]
     },
     "execution_count": 14,
     "metadata": {},
     "output_type": "execute_result"
    }
   ],
   "source": [
    "X_train_smote.loc[:, rfe_smote.support_]"
   ]
  },
  {
   "cell_type": "markdown",
   "id": "71fd13ff",
   "metadata": {},
   "source": [
    "## Optimizing Hyperparameters: Naive Bayes Classifier"
   ]
  },
  {
   "cell_type": "markdown",
   "id": "e3db66e1",
   "metadata": {},
   "source": [
    "### Gaussian Naive Bayes"
   ]
  },
  {
   "cell_type": "markdown",
   "id": "6a7052ab",
   "metadata": {},
   "source": [
    "First, I'll create models without optimizing. GaussianNB supports continuous values and stores mean and standard deviation (sd) of each value for a continuous variables, so I'll use this method for now."
   ]
  },
  {
   "cell_type": "code",
   "execution_count": 16,
   "id": "930a046e",
   "metadata": {},
   "outputs": [],
   "source": [
    "from sklearn.naive_bayes import GaussianNB\n",
    "\n",
    "def naive_gaus(X_train, y_train, X_test, y_test):\n",
    "    scaler = StandardScaler()\n",
    "    scaler.fit(X_train)\n",
    "    X_scaled_train = scaler.transform(X_train)\n",
    "    X_scaled_test = scaler.transform(X_test)\n",
    "    \n",
    "    my_gaussian_nb = GaussianNB().fit(X_scaled_train, y_train)\n",
    "    \n",
    "    train_pred = my_gaussian_nb.predict(X_scaled_train)\n",
    "    test_pred = my_gaussian_nb.predict(X_scaled_test)\n",
    "    \n",
    "    train_score = accuracy_score(y_train, train_pred)\n",
    "    test_score = accuracy_score(y_test, test_pred)\n",
    "    \n",
    "    evaluation = classification_report(y_test, test_pred)\n",
    "    \n",
    "    return print(f\"Train score: {train_score}\\nTest score: {test_score}\\n{evaluation}\")"
   ]
  },
  {
   "cell_type": "code",
   "execution_count": 22,
   "id": "37457807",
   "metadata": {},
   "outputs": [
    {
     "name": "stdout",
     "output_type": "stream",
     "text": [
      "Original dataset\n",
      "Train score: 0.8601976261579308\n",
      "Test score: 0.8584860324690249\n",
      "              precision    recall  f1-score   support\n",
      "\n",
      "           0       0.94      0.90      0.92     87544\n",
      "           1       0.26      0.36      0.31      8178\n",
      "\n",
      "    accuracy                           0.86     95722\n",
      "   macro avg       0.60      0.63      0.61     95722\n",
      "weighted avg       0.88      0.86      0.87     95722\n",
      "\n"
     ]
    }
   ],
   "source": [
    "print(\"Original dataset\")\n",
    "naive_gaus(X_train_original.loc[:, rfe_original.support_], y_train_original, \\\n",
    "            X_test_original.loc[:, rfe_original.support_], y_test_original)"
   ]
  },
  {
   "cell_type": "markdown",
   "id": "71c8a518",
   "metadata": {},
   "source": [
    "The accuracy scores became lower than the result of logistic regression with original dataset. However, the recall score for 1 became higher, and the f1 score is improved, too."
   ]
  },
  {
   "cell_type": "code",
   "execution_count": 23,
   "id": "26dc0ea3",
   "metadata": {},
   "outputs": [
    {
     "name": "stdout",
     "output_type": "stream",
     "text": [
      "Under sampled dataset\n",
      "Train score: 0.7373107747105966\n",
      "Test score: 0.733196130461127\n",
      "              precision    recall  f1-score   support\n",
      "\n",
      "           0       0.97      0.73      0.83     87544\n",
      "           1       0.20      0.74      0.32      8178\n",
      "\n",
      "    accuracy                           0.73     95722\n",
      "   macro avg       0.59      0.74      0.58     95722\n",
      "weighted avg       0.90      0.73      0.79     95722\n",
      "\n"
     ]
    }
   ],
   "source": [
    "print(\"Under sampled dataset\")\n",
    "naive_gaus(X_train_under.loc[:, rfe_under.support_], y_train_under, \\\n",
    "        X_test_sampled.loc[:, rfe_under.support_], y_test_sampled)"
   ]
  },
  {
   "cell_type": "code",
   "execution_count": 24,
   "id": "f8c28e46",
   "metadata": {},
   "outputs": [
    {
     "name": "stdout",
     "output_type": "stream",
     "text": [
      "Over sampled dataset\n",
      "Train score: 0.7328600802898267\n",
      "Test score: 0.7393389189528008\n",
      "              precision    recall  f1-score   support\n",
      "\n",
      "           0       0.97      0.74      0.84     87544\n",
      "           1       0.21      0.72      0.32      8178\n",
      "\n",
      "    accuracy                           0.74     95722\n",
      "   macro avg       0.59      0.73      0.58     95722\n",
      "weighted avg       0.90      0.74      0.79     95722\n",
      "\n"
     ]
    }
   ],
   "source": [
    "print(\"Over sampled dataset\")\n",
    "naive_gaus(X_train_over.loc[:, rfe_over.support_], y_train_over, \\\n",
    "        X_test_sampled.loc[:, rfe_over.support_], y_test_sampled)"
   ]
  },
  {
   "cell_type": "markdown",
   "id": "a8594236",
   "metadata": {},
   "source": [
    "The accuracy scores and the evaluation scores of the both dataset are almost the same as the results of logistic regression."
   ]
  },
  {
   "cell_type": "code",
   "execution_count": 25,
   "id": "0e0aba13",
   "metadata": {},
   "outputs": [
    {
     "name": "stdout",
     "output_type": "stream",
     "text": [
      "SMOTE dataset\n",
      "Train score: 0.6518163125428376\n",
      "Test score: 0.3922295814964167\n",
      "              precision    recall  f1-score   support\n",
      "\n",
      "           0       0.95      0.36      0.52     87544\n",
      "           1       0.10      0.78      0.18      8178\n",
      "\n",
      "    accuracy                           0.39     95722\n",
      "   macro avg       0.52      0.57      0.35     95722\n",
      "weighted avg       0.87      0.39      0.49     95722\n",
      "\n"
     ]
    }
   ],
   "source": [
    "print(\"SMOTE dataset\")\n",
    "naive_gaus(X_train_smote.loc[:, rfe_smote.support_], y_train_smote, \\\n",
    "        X_test_smote.loc[:, rfe_smote.support_], y_test_smote)"
   ]
  },
  {
   "cell_type": "markdown",
   "id": "4574c2e4",
   "metadata": {},
   "source": [
    "Almost all the scores are very low, especially the test accuracy score. It seems like SMOTE data doesn't do well with GaussianNB."
   ]
  },
  {
   "cell_type": "markdown",
   "id": "c47303b4",
   "metadata": {},
   "source": [
    "Split train set into train_v set and validation set first."
   ]
  },
  {
   "cell_type": "code",
   "execution_count": 17,
   "id": "4782e28a",
   "metadata": {},
   "outputs": [],
   "source": [
    "# Split the train set into train_v and validation\n",
    "\n",
    "X_train_v_original, X_validation_original, y_train_v_original, y_validation_original = \\\n",
    "                train_test_split(X_train_original.loc[:, rfe_original.support_], y_train_original, test_size = 0.3, random_state=42)\n",
    "\n",
    "X_train_v_under, X_validation_under, y_train_v_under, y_validation_under = \\\n",
    "                train_test_split(X_train_under.loc[:, rfe_under.support_], y_train_under, test_size = 0.3, random_state=42)\n",
    "\n",
    "X_train_v_over, X_validation_over, y_train_v_over, y_validation_over = \\\n",
    "                train_test_split(X_train_over.loc[:, rfe_over.support_], y_train_over, test_size = 0.3, random_state=42)\n",
    "\n",
    "X_train_v_smote, X_validation_smote, y_train_v_smote, y_validation_smote = \\\n",
    "                train_test_split(X_train_smote.loc[:, rfe_smote.support_], y_train_smote, test_size = 0.3, random_state=42)"
   ]
  },
  {
   "cell_type": "code",
   "execution_count": 18,
   "id": "03f01177",
   "metadata": {},
   "outputs": [],
   "source": [
    "# create a plot with log scaled\n",
    "def gaussian_smoothing(v_smoothing, X_train, y_train, X_test, y_test):\n",
    "    \n",
    "    test_scores = []\n",
    "    train_scores = []\n",
    "    \n",
    "    scaler = StandardScaler()\n",
    "    scaler.fit(X_train)\n",
    "    X_scaled_train = scaler.transform(X_train)\n",
    "    X_scaled_test = scaler.transform(X_test)\n",
    "    \n",
    "    for v in v_smoothing:\n",
    "        my_g_nb = GaussianNB(var_smoothing = v)\n",
    "        my_g_nb.fit(X_scaled_train, y_train)\n",
    "        \n",
    "        train_pred = my_g_nb.predict(X_scaled_train)\n",
    "        test_pred = my_g_nb.predict(X_scaled_test)     \n",
    "        \n",
    "        # train on traning set\n",
    "        train_scores.append(accuracy_score(y_train, train_pred))\n",
    "        # score on validation set\n",
    "        test_scores.append(accuracy_score(y_test, test_pred))\n",
    "        \n",
    "    plt.figure()\n",
    "    plt.plot(v_smoothing, train_scores, label=\"Train Score\",marker='.')\n",
    "    plt.plot(v_smoothing, test_scores,label=\"Test Score\",marker='.')\n",
    "    plt.xscale('log')\n",
    "    plt.xlabel('var_smoothing values')\n",
    "    plt.ylabel('Accuracy')\n",
    "    plt.legend()\n",
    "    plt.show();"
   ]
  },
  {
   "cell_type": "markdown",
   "id": "21b5baad",
   "metadata": {},
   "source": [
    "**Original dataset**"
   ]
  },
  {
   "cell_type": "code",
   "execution_count": 45,
   "id": "12d49176",
   "metadata": {},
   "outputs": [
    {
     "name": "stdout",
     "output_type": "stream",
     "text": [
      "Original data: train_v and validation\n"
     ]
    },
    {
     "data": {
      "image/png": "[encoded data removed]",
      "text/plain": [
       "<Figure size 640x480 with 1 Axes>"
      ]
     },
     "metadata": {},
     "output_type": "display_data"
    }
   ],
   "source": [
    "print(\"Original data: train_v and validation\")\n",
    "v_value = [1e-10, 1e-9, 1e-8, 1e-7, 1e-6, 1e-5, 1e-4, 1e-3, 1e-2, 1e-1, 1, 10, 100]\n",
    "gaussian_smoothing(v_value, X_train_v_original, y_train_v_original, X_validation_original, y_validation_original)"
   ]
  },
  {
   "cell_type": "markdown",
   "id": "a7be6d53",
   "metadata": {},
   "source": [
    "The both scores improved when var_smoothing=1. However, the test score(validation set) is better than the train score, so the model became underfitting. Therefore, I'll check the accuracy scores with var_smoothing is less than 1 for train set and test set."
   ]
  },
  {
   "cell_type": "code",
   "execution_count": 24,
   "id": "a0d742c4",
   "metadata": {},
   "outputs": [
    {
     "name": "stdout",
     "output_type": "stream",
     "text": [
      "Original data: train and test\n"
     ]
    },
    {
     "data": {
      "image/png": "[encoded data removed]",
      "text/plain": [
       "<Figure size 640x480 with 1 Axes>"
      ]
     },
     "metadata": {},
     "output_type": "display_data"
    }
   ],
   "source": [
    "print(\"Original data: train and test\")\n",
    "v_value = [1e-4, 1e-3, 1e-2, 1e-1, 1]\n",
    "gaussian_smoothing(v_value, X_train_original.loc[:, rfe_original.support_], y_train_original, X_test_original.loc[:, rfe_original.support_], y_test_original)"
   ]
  },
  {
   "cell_type": "markdown",
   "id": "2c09cc55",
   "metadata": {},
   "source": [
    "The accuracy scores stays flat until var_smoothing=1e-2 then get improved. Therefore, I'll use var_smoothing=1 and 1e-1 for the pipeline."
   ]
  },
  {
   "cell_type": "code",
   "execution_count": 80,
   "id": "d6470ca7",
   "metadata": {},
   "outputs": [
    {
     "name": "stdout",
     "output_type": "stream",
     "text": [
      "CPU times: total: 14.7 s\n",
      "Wall time: 18.9 s\n"
     ]
    },
    {
     "name": "stderr",
     "output_type": "stream",
     "text": [
      "C:\\Users\\yumem\\anaconda3\\Lib\\site-packages\\sklearn\\model_selection\\_validation.py:425: FitFailedWarning: \n",
      "45 fits failed out of a total of 135.\n",
      "The score on these train-test partitions for these parameters will be set to nan.\n",
      "If these failures are not expected, you can try to debug them by setting error_score='raise'.\n",
      "\n",
      "Below are more details about the failures:\n",
      "--------------------------------------------------------------------------------\n",
      "9 fits failed with the following error:\n",
      "Traceback (most recent call last):\n",
      "  File \"C:\\Users\\yumem\\anaconda3\\Lib\\site-packages\\sklearn\\model_selection\\_validation.py\", line 729, in _fit_and_score\n",
      "    estimator.fit(X_train, y_train, **fit_params)\n",
      "  File \"C:\\Users\\yumem\\anaconda3\\Lib\\site-packages\\sklearn\\base.py\", line 1152, in wrapper\n",
      "    return fit_method(estimator, *args, **kwargs)\n",
      "           ^^^^^^^^^^^^^^^^^^^^^^^^^^^^^^^^^^^^^^\n",
      "  File \"C:\\Users\\yumem\\anaconda3\\Lib\\site-packages\\sklearn\\pipeline.py\", line 423, in fit\n",
      "    Xt = self._fit(X, y, **fit_params_steps)\n",
      "         ^^^^^^^^^^^^^^^^^^^^^^^^^^^^^^^^^^^\n",
      "  File \"C:\\Users\\yumem\\anaconda3\\Lib\\site-packages\\sklearn\\pipeline.py\", line 377, in _fit\n",
      "    X, fitted_transformer = fit_transform_one_cached(\n",
      "                            ^^^^^^^^^^^^^^^^^^^^^^^^^\n",
      "  File \"C:\\Users\\yumem\\anaconda3\\Lib\\site-packages\\joblib\\memory.py\", line 353, in __call__\n",
      "    return self.func(*args, **kwargs)\n",
      "           ^^^^^^^^^^^^^^^^^^^^^^^^^^\n",
      "  File \"C:\\Users\\yumem\\anaconda3\\Lib\\site-packages\\sklearn\\pipeline.py\", line 957, in _fit_transform_one\n",
      "    res = transformer.fit_transform(X, y, **fit_params)\n",
      "          ^^^^^^^^^^^^^^^^^^^^^^^^^^^^^^^^^^^^^^^^^^^^^\n",
      "  File \"C:\\Users\\yumem\\anaconda3\\Lib\\site-packages\\sklearn\\utils\\_set_output.py\", line 157, in wrapped\n",
      "    data_to_wrap = f(self, X, *args, **kwargs)\n",
      "                   ^^^^^^^^^^^^^^^^^^^^^^^^^^^\n",
      "  File \"C:\\Users\\yumem\\anaconda3\\Lib\\site-packages\\sklearn\\decomposition\\_kernel_pca.py\", line 469, in fit_transform\n",
      "    self.fit(X, **params)\n",
      "  File \"C:\\Users\\yumem\\anaconda3\\Lib\\site-packages\\sklearn\\base.py\", line 1152, in wrapper\n",
      "    return fit_method(estimator, *args, **kwargs)\n",
      "           ^^^^^^^^^^^^^^^^^^^^^^^^^^^^^^^^^^^^^^\n",
      "  File \"C:\\Users\\yumem\\anaconda3\\Lib\\site-packages\\sklearn\\decomposition\\_kernel_pca.py\", line 436, in fit\n",
      "    K = self._get_kernel(X)\n",
      "        ^^^^^^^^^^^^^^^^^^^\n",
      "  File \"C:\\Users\\yumem\\anaconda3\\Lib\\site-packages\\sklearn\\decomposition\\_kernel_pca.py\", line 317, in _get_kernel\n",
      "    return pairwise_kernels(\n",
      "           ^^^^^^^^^^^^^^^^^\n",
      "  File \"C:\\Users\\yumem\\anaconda3\\Lib\\site-packages\\sklearn\\metrics\\pairwise.py\", line 2366, in pairwise_kernels\n",
      "    return _parallel_pairwise(X, Y, func, n_jobs, **kwds)\n",
      "           ^^^^^^^^^^^^^^^^^^^^^^^^^^^^^^^^^^^^^^^^^^^^^^\n",
      "  File \"C:\\Users\\yumem\\anaconda3\\Lib\\site-packages\\sklearn\\metrics\\pairwise.py\", line 1766, in _parallel_pairwise\n",
      "    return func(X, Y, **kwds)\n",
      "           ^^^^^^^^^^^^^^^^^^\n",
      "  File \"C:\\Users\\yumem\\anaconda3\\Lib\\site-packages\\sklearn\\utils\\_param_validation.py\", line 187, in wrapper\n",
      "    return func(*args, **kwargs)\n",
      "           ^^^^^^^^^^^^^^^^^^^^^\n",
      "  File \"C:\\Users\\yumem\\anaconda3\\Lib\\site-packages\\sklearn\\metrics\\pairwise.py\", line 1330, in linear_kernel\n",
      "    return safe_sparse_dot(X, Y.T, dense_output=dense_output)\n",
      "           ^^^^^^^^^^^^^^^^^^^^^^^^^^^^^^^^^^^^^^^^^^^^^^^^^^\n",
      "  File \"C:\\Users\\yumem\\anaconda3\\Lib\\site-packages\\sklearn\\utils\\extmath.py\", line 192, in safe_sparse_dot\n",
      "    ret = a @ b\n",
      "          ~~^~~\n",
      "numpy.core._exceptions._ArrayMemoryError: Unable to allocate 238. GiB for an array with shape (178680, 178680) and data type float64\n",
      "\n",
      "--------------------------------------------------------------------------------\n",
      "36 fits failed with the following error:\n",
      "Traceback (most recent call last):\n",
      "  File \"C:\\Users\\yumem\\anaconda3\\Lib\\site-packages\\sklearn\\model_selection\\_validation.py\", line 729, in _fit_and_score\n",
      "    estimator.fit(X_train, y_train, **fit_params)\n",
      "  File \"C:\\Users\\yumem\\anaconda3\\Lib\\site-packages\\sklearn\\base.py\", line 1152, in wrapper\n",
      "    return fit_method(estimator, *args, **kwargs)\n",
      "           ^^^^^^^^^^^^^^^^^^^^^^^^^^^^^^^^^^^^^^\n",
      "  File \"C:\\Users\\yumem\\anaconda3\\Lib\\site-packages\\sklearn\\pipeline.py\", line 423, in fit\n",
      "    Xt = self._fit(X, y, **fit_params_steps)\n",
      "         ^^^^^^^^^^^^^^^^^^^^^^^^^^^^^^^^^^^\n",
      "  File \"C:\\Users\\yumem\\anaconda3\\Lib\\site-packages\\sklearn\\pipeline.py\", line 377, in _fit\n",
      "    X, fitted_transformer = fit_transform_one_cached(\n",
      "                            ^^^^^^^^^^^^^^^^^^^^^^^^^\n",
      "  File \"C:\\Users\\yumem\\anaconda3\\Lib\\site-packages\\joblib\\memory.py\", line 353, in __call__\n",
      "    return self.func(*args, **kwargs)\n",
      "           ^^^^^^^^^^^^^^^^^^^^^^^^^^\n",
      "  File \"C:\\Users\\yumem\\anaconda3\\Lib\\site-packages\\sklearn\\pipeline.py\", line 957, in _fit_transform_one\n",
      "    res = transformer.fit_transform(X, y, **fit_params)\n",
      "          ^^^^^^^^^^^^^^^^^^^^^^^^^^^^^^^^^^^^^^^^^^^^^\n",
      "  File \"C:\\Users\\yumem\\anaconda3\\Lib\\site-packages\\sklearn\\utils\\_set_output.py\", line 157, in wrapped\n",
      "    data_to_wrap = f(self, X, *args, **kwargs)\n",
      "                   ^^^^^^^^^^^^^^^^^^^^^^^^^^^\n",
      "  File \"C:\\Users\\yumem\\anaconda3\\Lib\\site-packages\\sklearn\\decomposition\\_kernel_pca.py\", line 469, in fit_transform\n",
      "    self.fit(X, **params)\n",
      "  File \"C:\\Users\\yumem\\anaconda3\\Lib\\site-packages\\sklearn\\base.py\", line 1152, in wrapper\n",
      "    return fit_method(estimator, *args, **kwargs)\n",
      "           ^^^^^^^^^^^^^^^^^^^^^^^^^^^^^^^^^^^^^^\n",
      "  File \"C:\\Users\\yumem\\anaconda3\\Lib\\site-packages\\sklearn\\decomposition\\_kernel_pca.py\", line 436, in fit\n",
      "    K = self._get_kernel(X)\n",
      "        ^^^^^^^^^^^^^^^^^^^\n",
      "  File \"C:\\Users\\yumem\\anaconda3\\Lib\\site-packages\\sklearn\\decomposition\\_kernel_pca.py\", line 317, in _get_kernel\n",
      "    return pairwise_kernels(\n",
      "           ^^^^^^^^^^^^^^^^^\n",
      "  File \"C:\\Users\\yumem\\anaconda3\\Lib\\site-packages\\sklearn\\metrics\\pairwise.py\", line 2366, in pairwise_kernels\n",
      "    return _parallel_pairwise(X, Y, func, n_jobs, **kwds)\n",
      "           ^^^^^^^^^^^^^^^^^^^^^^^^^^^^^^^^^^^^^^^^^^^^^^\n",
      "  File \"C:\\Users\\yumem\\anaconda3\\Lib\\site-packages\\sklearn\\metrics\\pairwise.py\", line 1766, in _parallel_pairwise\n",
      "    return func(X, Y, **kwds)\n",
      "           ^^^^^^^^^^^^^^^^^^\n",
      "  File \"C:\\Users\\yumem\\anaconda3\\Lib\\site-packages\\sklearn\\utils\\_param_validation.py\", line 187, in wrapper\n",
      "    return func(*args, **kwargs)\n",
      "           ^^^^^^^^^^^^^^^^^^^^^\n",
      "  File \"C:\\Users\\yumem\\anaconda3\\Lib\\site-packages\\sklearn\\metrics\\pairwise.py\", line 1330, in linear_kernel\n",
      "    return safe_sparse_dot(X, Y.T, dense_output=dense_output)\n",
      "           ^^^^^^^^^^^^^^^^^^^^^^^^^^^^^^^^^^^^^^^^^^^^^^^^^^\n",
      "  File \"C:\\Users\\yumem\\anaconda3\\Lib\\site-packages\\sklearn\\utils\\extmath.py\", line 192, in safe_sparse_dot\n",
      "    ret = a @ b\n",
      "          ~~^~~\n",
      "numpy.core._exceptions._ArrayMemoryError: Unable to allocate 238. GiB for an array with shape (178681, 178681) and data type float64\n",
      "\n",
      "  warnings.warn(some_fits_failed_message, FitFailedWarning)\n",
      "C:\\Users\\yumem\\anaconda3\\Lib\\site-packages\\sklearn\\model_selection\\_search.py:979: UserWarning: One or more of the test scores are non-finite: [0.9131412  0.91289047 0.91452467 0.91452467 0.91452467 0.91452467\n",
      " 0.91452467 0.91452467 0.91452467        nan        nan        nan\n",
      "        nan        nan        nan        nan        nan        nan\n",
      " 0.86754928 0.87875138 0.91452467 0.91344565 0.91452467 0.91452467\n",
      " 0.91452467 0.91452467 0.91452467]\n",
      "  warnings.warn(\n"
     ]
    },
    {
     "data": {
      "text/plain": [
       "{'dim_reducer': PCA(),\n",
       " 'model': GaussianNB(),\n",
       " 'model__var_smoothing': 0.1,\n",
       " 'normalise': None}"
      ]
     },
     "execution_count": 80,
     "metadata": {},
     "output_type": "execute_result"
    }
   ],
   "source": [
    "%%time\n",
    "\n",
    "from sklearn.preprocessing import MinMaxScaler\n",
    "from sklearn.pipeline import Pipeline\n",
    "from sklearn.decomposition import PCA, KernelPCA\n",
    "from sklearn.model_selection import GridSearchCV\n",
    "\n",
    "estimators = [('normalise', StandardScaler()),\n",
    "              ('dim_reducer', None),\n",
    "              ('model', GaussianNB())]\n",
    "\n",
    "pipe = Pipeline(estimators)\n",
    "\n",
    "param_grid = [\n",
    "            {'model': [GaussianNB()], \n",
    "             'normalise': [StandardScaler(), MinMaxScaler(),None],\n",
    "             'dim_reducer': [PCA(), KernelPCA(), None],\n",
    "             'model__var_smoothing': [1e-1, 1, 10]}\n",
    "]\n",
    "\n",
    "grid = GridSearchCV(pipe, param_grid, cv=5)\n",
    "fittedgrid_gnb_original = grid.fit(X_train_original.loc[:, rfe_original.support_], y_train_original)\n",
    "\n",
    "fittedgrid_gnb_original.best_params_"
   ]
  },
  {
   "cell_type": "code",
   "execution_count": 81,
   "id": "5f9c8d5a",
   "metadata": {},
   "outputs": [
    {
     "data": {
      "text/plain": [
       "0.9145246719289369"
      ]
     },
     "execution_count": 81,
     "metadata": {},
     "output_type": "execute_result"
    }
   ],
   "source": [
    "fittedgrid_gnb_original.score(X_train_original.loc[:, rfe_original.support_], y_train_original)\n"
   ]
  },
  {
   "cell_type": "code",
   "execution_count": 82,
   "id": "ad6d222f",
   "metadata": {},
   "outputs": [
    {
     "data": {
      "text/plain": [
       "0.9145650947535572"
      ]
     },
     "execution_count": 82,
     "metadata": {},
     "output_type": "execute_result"
    }
   ],
   "source": [
    "fittedgrid_gnb_original.score(X_test_original.loc[:, rfe_original.support_], y_test_original)"
   ]
  },
  {
   "cell_type": "code",
   "execution_count": 106,
   "id": "5fe2c1a2",
   "metadata": {},
   "outputs": [
    {
     "name": "stdout",
     "output_type": "stream",
     "text": [
      "Train score: 0.9145246719289369\n",
      "Test score: 0.9145650947535572\n",
      "              precision    recall  f1-score   support\n",
      "\n",
      "           0       0.91      1.00      0.96     87544\n",
      "           1       0.00      0.00      0.00      8178\n",
      "\n",
      "    accuracy                           0.91     95722\n",
      "   macro avg       0.46      0.50      0.48     95722\n",
      "weighted avg       0.84      0.91      0.87     95722\n",
      "\n"
     ]
    },
    {
     "name": "stderr",
     "output_type": "stream",
     "text": [
      "C:\\Users\\yumem\\anaconda3\\Lib\\site-packages\\sklearn\\metrics\\_classification.py:1471: UndefinedMetricWarning: Precision and F-score are ill-defined and being set to 0.0 in labels with no predicted samples. Use `zero_division` parameter to control this behavior.\n",
      "  _warn_prf(average, modifier, msg_start, len(result))\n",
      "C:\\Users\\yumem\\anaconda3\\Lib\\site-packages\\sklearn\\metrics\\_classification.py:1471: UndefinedMetricWarning: Precision and F-score are ill-defined and being set to 0.0 in labels with no predicted samples. Use `zero_division` parameter to control this behavior.\n",
      "  _warn_prf(average, modifier, msg_start, len(result))\n",
      "C:\\Users\\yumem\\anaconda3\\Lib\\site-packages\\sklearn\\metrics\\_classification.py:1471: UndefinedMetricWarning: Precision and F-score are ill-defined and being set to 0.0 in labels with no predicted samples. Use `zero_division` parameter to control this behavior.\n",
      "  _warn_prf(average, modifier, msg_start, len(result))\n"
     ]
    }
   ],
   "source": [
    "my_PCA = PCA()\n",
    "my_PCA.fit(X_train_original.loc[:, rfe_original.support_])\n",
    "\n",
    "X_train_PCA = my_PCA.transform(X_train_original.loc[:, rfe_original.support_])\n",
    "X_test_PCA = my_PCA.transform(X_test_original.loc[:, rfe_original.support_])   \n",
    "    \n",
    "my_gau_nb = GaussianNB(var_smoothing=0.1).fit(X_train_PCA, y_train_original)\n",
    "    \n",
    "train_pred = my_gau_nb.predict(X_train_PCA)\n",
    "test_pred = my_gau_nb.predict(X_test_PCA)\n",
    "    \n",
    "train_score = accuracy_score(y_train_original, train_pred)\n",
    "test_score = accuracy_score(y_test_original, test_pred)\n",
    "    \n",
    "evaluation = classification_report(y_test_original, test_pred)\n",
    "    \n",
    "print(f\"Train score: {train_score}\\nTest score: {test_score}\\n{evaluation}\")"
   ]
  },
  {
   "cell_type": "markdown",
   "id": "76d7c34b",
   "metadata": {},
   "source": [
    "The accuracy score was 85.849, so it improved. However, the score of precision an recall for 1 became 0, so the model is not predicting heart disease at all."
   ]
  },
  {
   "cell_type": "markdown",
   "id": "7a7f3f5c",
   "metadata": {},
   "source": [
    "**Under sampled dataset**"
   ]
  },
  {
   "cell_type": "code",
   "execution_count": 55,
   "id": "5010ece4",
   "metadata": {},
   "outputs": [
    {
     "name": "stdout",
     "output_type": "stream",
     "text": [
      "Under sampled data: train_v and validation\n"
     ]
    },
    {
     "data": {
      "image/png": "[encoded data removed]",
      "text/plain": [
       "<Figure size 640x480 with 1 Axes>"
      ]
     },
     "metadata": {},
     "output_type": "display_data"
    }
   ],
   "source": [
    "print(\"Under sampled data: train_v and validation\")\n",
    "v_value = [1e-10, 1e-9, 1e-8, 1e-7, 1e-6, 1e-5, 1e-4, 1e-3, 1e-2, 1e-1, 1, 10, 100]\n",
    "gaussian_smoothing(v_value, X_train_v_under, y_train_v_under, X_validation_under, y_validation_under)"
   ]
  },
  {
   "cell_type": "markdown",
   "id": "5d8a5c37",
   "metadata": {},
   "source": [
    "The accuracy score of test set started improving when var_smoothing=1e-2. Also, the train score started improving when var_smoothing=1e-1. Therefore, I'll check the accuracy score of var_smoothing from 1e-3 to 100."
   ]
  },
  {
   "cell_type": "code",
   "execution_count": 56,
   "id": "e70ef739",
   "metadata": {},
   "outputs": [
    {
     "name": "stdout",
     "output_type": "stream",
     "text": [
      "Under sampled data: train and test\n"
     ]
    },
    {
     "data": {
      "image/png": "[encoded data removed]",
      "text/plain": [
       "<Figure size 640x480 with 1 Axes>"
      ]
     },
     "metadata": {},
     "output_type": "display_data"
    }
   ],
   "source": [
    "print(\"Under sampled data: train and test\")\n",
    "v_value = [1e-3, 1e-2, 1e-1, 1, 10, 100]\n",
    "gaussian_smoothing(v_value, X_train_under.loc[:, rfe_under.support_], y_train_under, X_test_sampled.loc[:, rfe_under.support_], y_test_sampled)"
   ]
  },
  {
   "cell_type": "markdown",
   "id": "83e033f5",
   "metadata": {},
   "source": [
    "The both accuracy scores were improving as var_smoothing is increasing. However, the test score became greater than the train score when var_smoothing is 1. Therefore, I'll use var_smoothing = 1e-2, 1e-1, 1 for the pipeline.  \n",
    "The pipeline takes too long to execute, so I'll split the process into 2 steps. First, I'll find the best dimention reducer method, then I'll use the value and find the best other hyperparameters."
   ]
  },
  {
   "cell_type": "code",
   "execution_count": 54,
   "id": "c2e0ffd3",
   "metadata": {},
   "outputs": [
    {
     "name": "stdout",
     "output_type": "stream",
     "text": [
      "CPU times: total: 19h 49min 27s\n",
      "Wall time: 3h 15min 4s\n"
     ]
    },
    {
     "data": {
      "text/plain": [
       "{'dim_reducer': PCA(), 'model': GaussianNB()}"
      ]
     },
     "execution_count": 54,
     "metadata": {},
     "output_type": "execute_result"
    }
   ],
   "source": [
    "%%time\n",
    "\n",
    "from sklearn.preprocessing import MinMaxScaler\n",
    "from sklearn.pipeline import Pipeline\n",
    "from sklearn.decomposition import PCA, KernelPCA\n",
    "from sklearn.model_selection import GridSearchCV\n",
    "\n",
    "estimators = [('normalise', StandardScaler()),\n",
    "              ('dim_reducer', None),\n",
    "              ('model', GaussianNB())]\n",
    "\n",
    "pipe = Pipeline(estimators)\n",
    "\n",
    "param_grid = [\n",
    "            {'model': [GaussianNB()], \n",
    "#             'normalise': [StandardScaler(), MinMaxScaler()],\n",
    "             'dim_reducer': [PCA(), KernelPCA(), None]}\n",
    "#             'model__var_smoothing': [1e-2, 1e-1, 1]}\n",
    "]\n",
    "\n",
    "grid = GridSearchCV(pipe, param_grid, cv=5)\n",
    "fittedgrid_gnb_under = grid.fit(X_train_under.loc[:, rfe_under.support_], y_train_under)\n",
    "\n",
    "fittedgrid_gnb_under.best_params_"
   ]
  },
  {
   "cell_type": "code",
   "execution_count": 83,
   "id": "cd9cfaf0",
   "metadata": {},
   "outputs": [
    {
     "name": "stdout",
     "output_type": "stream",
     "text": [
      "CPU times: total: 1.72 s\n",
      "Wall time: 3.44 s\n"
     ]
    },
    {
     "data": {
      "text/plain": [
       "{'dim_reducer': PCA(),\n",
       " 'model': GaussianNB(),\n",
       " 'model__var_smoothing': 1,\n",
       " 'normalise': StandardScaler()}"
      ]
     },
     "execution_count": 83,
     "metadata": {},
     "output_type": "execute_result"
    }
   ],
   "source": [
    "%%time\n",
    "\n",
    "from sklearn.preprocessing import MinMaxScaler\n",
    "from sklearn.pipeline import Pipeline\n",
    "from sklearn.decomposition import PCA, KernelPCA\n",
    "from sklearn.model_selection import GridSearchCV\n",
    "\n",
    "estimators = [('normalise', StandardScaler()),\n",
    "              ('dim_reducer', None),\n",
    "              ('model', GaussianNB())]\n",
    "\n",
    "pipe = Pipeline(estimators)\n",
    "\n",
    "param_grid = [\n",
    "            {'model': [GaussianNB()], \n",
    "             'normalise': [StandardScaler(), MinMaxScaler(), None],\n",
    "             'dim_reducer': [PCA()],\n",
    "             'model__var_smoothing': [1e-2, 1e-1, 1, 10]}\n",
    "]\n",
    "\n",
    "grid = GridSearchCV(pipe, param_grid, cv=5)\n",
    "fittedgrid_gnb_under = grid.fit(X_train_under.loc[:, rfe_under.support_], y_train_under)\n",
    "\n",
    "fittedgrid_gnb_under.best_params_"
   ]
  },
  {
   "cell_type": "code",
   "execution_count": 84,
   "id": "23a28a65",
   "metadata": {},
   "outputs": [
    {
     "data": {
      "text/plain": [
       "0.7481273898695721"
      ]
     },
     "execution_count": 84,
     "metadata": {},
     "output_type": "execute_result"
    }
   ],
   "source": [
    "fittedgrid_gnb_under.score(X_train_under.loc[:, rfe_under.support_], y_train_under)"
   ]
  },
  {
   "cell_type": "code",
   "execution_count": 85,
   "id": "56b36330",
   "metadata": {},
   "outputs": [
    {
     "data": {
      "text/plain": [
       "0.7421491402185495"
      ]
     },
     "execution_count": 85,
     "metadata": {},
     "output_type": "execute_result"
    }
   ],
   "source": [
    "fittedgrid_gnb_under.score(X_test_sampled.loc[:, rfe_under.support_], y_test_sampled)"
   ]
  },
  {
   "cell_type": "code",
   "execution_count": 108,
   "id": "17010f69",
   "metadata": {},
   "outputs": [
    {
     "name": "stdout",
     "output_type": "stream",
     "text": [
      "Train score: 0.7481273898695721\n",
      "Test score: 0.7421491402185495\n",
      "              precision    recall  f1-score   support\n",
      "\n",
      "           0       0.97      0.74      0.84     87544\n",
      "           1       0.21      0.75      0.33      8178\n",
      "\n",
      "    accuracy                           0.74     95722\n",
      "   macro avg       0.59      0.75      0.59     95722\n",
      "weighted avg       0.91      0.74      0.80     95722\n",
      "\n"
     ]
    }
   ],
   "source": [
    "scaler = StandardScaler()\n",
    "scaler.fit(X_train_under.loc[:, rfe_under.support_])\n",
    "X_scaled_train = scaler.transform(X_train_under.loc[:, rfe_under.support_])\n",
    "X_scaled_test = scaler.transform(X_test_sampled.loc[:, rfe_under.support_])\n",
    "    \n",
    "my_PCA = PCA()\n",
    "my_PCA.fit(X_scaled_train)\n",
    "\n",
    "X_train_PCA = my_PCA.transform(X_scaled_train)\n",
    "X_test_PCA = my_PCA.transform(X_scaled_test)\n",
    "\n",
    "my_gaussian_nb = GaussianNB(var_smoothing=1).fit(X_train_PCA, y_train_under)\n",
    "    \n",
    "train_pred = my_gaussian_nb.predict(X_train_PCA)\n",
    "test_pred = my_gaussian_nb.predict(X_test_PCA)\n",
    "    \n",
    "train_score = accuracy_score(y_train_under, train_pred)\n",
    "test_score = accuracy_score(y_test_sampled, test_pred)\n",
    "    \n",
    "evaluation = classification_report(y_test_sampled, test_pred)\n",
    "    \n",
    "print(f\"Train score: {train_score}\\nTest score: {test_score}\\n{evaluation}\")"
   ]
  },
  {
   "cell_type": "markdown",
   "id": "0bf71790",
   "metadata": {},
   "source": [
    "The accuracy scores were around 73 before optimizing hyperparameters, so the model is improved. The f1 score is also a little bit better."
   ]
  },
  {
   "cell_type": "markdown",
   "id": "06b2c2bd",
   "metadata": {},
   "source": [
    "**Over sampled data**"
   ]
  },
  {
   "cell_type": "code",
   "execution_count": 59,
   "id": "8715b0dd",
   "metadata": {},
   "outputs": [
    {
     "name": "stdout",
     "output_type": "stream",
     "text": [
      "Over sampled data: train_v and validation\n"
     ]
    },
    {
     "data": {
      "image/png": "[encoded data removed]",
      "text/plain": [
       "<Figure size 640x480 with 1 Axes>"
      ]
     },
     "metadata": {},
     "output_type": "display_data"
    }
   ],
   "source": [
    "print(\"Over sampled data: train_v and validation\")\n",
    "v_value = [1e-10, 1e-9, 1e-8, 1e-7, 1e-6, 1e-5, 1e-4, 1e-3, 1e-2, 1e-1, 1, 10, 100]\n",
    "gaussian_smoothing(v_value, X_train_v_over, y_train_v_over, X_validation_over, y_validation_over)"
   ]
  },
  {
   "cell_type": "markdown",
   "id": "fa104e13",
   "metadata": {},
   "source": [
    "The accuracy scores get worse when var_smoothing=1e-1, then it starts improving when var_smoothing is around 1. However, the test score is greater than the train score entire time, so this dataset probably not good for modeling with GaussianNB. I'll check the accuracy scores with train set and test set using var_smoothing from 1e-3 to 100."
   ]
  },
  {
   "cell_type": "code",
   "execution_count": 60,
   "id": "1990dde7",
   "metadata": {
    "scrolled": true
   },
   "outputs": [
    {
     "name": "stdout",
     "output_type": "stream",
     "text": [
      "Over sampled data: train and test\n"
     ]
    },
    {
     "data": {
      "image/png": "[encoded data removed]",
      "text/plain": [
       "<Figure size 640x480 with 1 Axes>"
      ]
     },
     "metadata": {},
     "output_type": "display_data"
    }
   ],
   "source": [
    "print(\"Over sampled data: train and test\")\n",
    "v_value = [1e-3, 1e-2, 1e-1, 1, 10, 100]\n",
    "gaussian_smoothing(v_value, X_train_over.loc[:, rfe_over.support_], y_train_over, X_test_sampled.loc[:, rfe_over.support_], y_test_sampled)"
   ]
  },
  {
   "cell_type": "markdown",
   "id": "3a3df367",
   "metadata": {},
   "source": [
    "The test scores are greater than the train scores entire time as well. The test score started inproving when var_smoothing=1e-1, but the train score is not. Therefore, I'll use var_smoothing=1e-1 and 1e-2 for the pipeline since the smaller difference between train score and test score is better."
   ]
  },
  {
   "cell_type": "code",
   "execution_count": 19,
   "id": "bee86e05",
   "metadata": {},
   "outputs": [
    {
     "name": "stderr",
     "output_type": "stream",
     "text": [
      "C:\\Users\\yumem\\anaconda3\\Lib\\site-packages\\sklearn\\model_selection\\_validation.py:425: FitFailedWarning: \n",
      "5 fits failed out of a total of 15.\n",
      "The score on these train-test partitions for these parameters will be set to nan.\n",
      "If these failures are not expected, you can try to debug them by setting error_score='raise'.\n",
      "\n",
      "Below are more details about the failures:\n",
      "--------------------------------------------------------------------------------\n",
      "5 fits failed with the following error:\n",
      "Traceback (most recent call last):\n",
      "  File \"C:\\Users\\yumem\\anaconda3\\Lib\\site-packages\\sklearn\\model_selection\\_validation.py\", line 729, in _fit_and_score\n",
      "    estimator.fit(X_train, y_train, **fit_params)\n",
      "  File \"C:\\Users\\yumem\\anaconda3\\Lib\\site-packages\\sklearn\\base.py\", line 1152, in wrapper\n",
      "    return fit_method(estimator, *args, **kwargs)\n",
      "           ^^^^^^^^^^^^^^^^^^^^^^^^^^^^^^^^^^^^^^\n",
      "  File \"C:\\Users\\yumem\\anaconda3\\Lib\\site-packages\\sklearn\\pipeline.py\", line 423, in fit\n",
      "    Xt = self._fit(X, y, **fit_params_steps)\n",
      "         ^^^^^^^^^^^^^^^^^^^^^^^^^^^^^^^^^^^\n",
      "  File \"C:\\Users\\yumem\\anaconda3\\Lib\\site-packages\\sklearn\\pipeline.py\", line 377, in _fit\n",
      "    X, fitted_transformer = fit_transform_one_cached(\n",
      "                            ^^^^^^^^^^^^^^^^^^^^^^^^^\n",
      "  File \"C:\\Users\\yumem\\anaconda3\\Lib\\site-packages\\joblib\\memory.py\", line 353, in __call__\n",
      "    return self.func(*args, **kwargs)\n",
      "           ^^^^^^^^^^^^^^^^^^^^^^^^^^\n",
      "  File \"C:\\Users\\yumem\\anaconda3\\Lib\\site-packages\\sklearn\\pipeline.py\", line 957, in _fit_transform_one\n",
      "    res = transformer.fit_transform(X, y, **fit_params)\n",
      "          ^^^^^^^^^^^^^^^^^^^^^^^^^^^^^^^^^^^^^^^^^^^^^\n",
      "  File \"C:\\Users\\yumem\\anaconda3\\Lib\\site-packages\\sklearn\\utils\\_set_output.py\", line 157, in wrapped\n",
      "    data_to_wrap = f(self, X, *args, **kwargs)\n",
      "                   ^^^^^^^^^^^^^^^^^^^^^^^^^^^\n",
      "  File \"C:\\Users\\yumem\\anaconda3\\Lib\\site-packages\\sklearn\\decomposition\\_kernel_pca.py\", line 469, in fit_transform\n",
      "    self.fit(X, **params)\n",
      "  File \"C:\\Users\\yumem\\anaconda3\\Lib\\site-packages\\sklearn\\base.py\", line 1152, in wrapper\n",
      "    return fit_method(estimator, *args, **kwargs)\n",
      "           ^^^^^^^^^^^^^^^^^^^^^^^^^^^^^^^^^^^^^^\n",
      "  File \"C:\\Users\\yumem\\anaconda3\\Lib\\site-packages\\sklearn\\decomposition\\_kernel_pca.py\", line 436, in fit\n",
      "    K = self._get_kernel(X)\n",
      "        ^^^^^^^^^^^^^^^^^^^\n",
      "  File \"C:\\Users\\yumem\\anaconda3\\Lib\\site-packages\\sklearn\\decomposition\\_kernel_pca.py\", line 317, in _get_kernel\n",
      "    return pairwise_kernels(\n",
      "           ^^^^^^^^^^^^^^^^^\n",
      "  File \"C:\\Users\\yumem\\anaconda3\\Lib\\site-packages\\sklearn\\metrics\\pairwise.py\", line 2366, in pairwise_kernels\n",
      "    return _parallel_pairwise(X, Y, func, n_jobs, **kwds)\n",
      "           ^^^^^^^^^^^^^^^^^^^^^^^^^^^^^^^^^^^^^^^^^^^^^^\n",
      "  File \"C:\\Users\\yumem\\anaconda3\\Lib\\site-packages\\sklearn\\metrics\\pairwise.py\", line 1766, in _parallel_pairwise\n",
      "    return func(X, Y, **kwds)\n",
      "           ^^^^^^^^^^^^^^^^^^\n",
      "  File \"C:\\Users\\yumem\\anaconda3\\Lib\\site-packages\\sklearn\\utils\\_param_validation.py\", line 187, in wrapper\n",
      "    return func(*args, **kwargs)\n",
      "           ^^^^^^^^^^^^^^^^^^^^^\n",
      "  File \"C:\\Users\\yumem\\anaconda3\\Lib\\site-packages\\sklearn\\metrics\\pairwise.py\", line 1330, in linear_kernel\n",
      "    return safe_sparse_dot(X, Y.T, dense_output=dense_output)\n",
      "           ^^^^^^^^^^^^^^^^^^^^^^^^^^^^^^^^^^^^^^^^^^^^^^^^^^\n",
      "  File \"C:\\Users\\yumem\\anaconda3\\Lib\\site-packages\\sklearn\\utils\\extmath.py\", line 192, in safe_sparse_dot\n",
      "    ret = a @ b\n",
      "          ~~^~~\n",
      "numpy.core._exceptions._ArrayMemoryError: Unable to allocate 796. GiB for an array with shape (326816, 326816) and data type float64\n",
      "\n",
      "  warnings.warn(some_fits_failed_message, FitFailedWarning)\n",
      "C:\\Users\\yumem\\anaconda3\\Lib\\site-packages\\sklearn\\model_selection\\_search.py:979: UserWarning: One or more of the test scores are non-finite: [0.74651914        nan 0.7328919 ]\n",
      "  warnings.warn(\n"
     ]
    },
    {
     "name": "stdout",
     "output_type": "stream",
     "text": [
      "CPU times: total: 2.19 s\n",
      "Wall time: 3.56 s\n"
     ]
    },
    {
     "data": {
      "text/plain": [
       "{'dim_reducer': PCA(), 'model': GaussianNB()}"
      ]
     },
     "execution_count": 19,
     "metadata": {},
     "output_type": "execute_result"
    }
   ],
   "source": [
    "%%time\n",
    "\n",
    "from sklearn.preprocessing import MinMaxScaler\n",
    "from sklearn.pipeline import Pipeline\n",
    "from sklearn.decomposition import PCA, KernelPCA\n",
    "from sklearn.model_selection import GridSearchCV\n",
    "\n",
    "estimators = [('normalise', StandardScaler()),\n",
    "              ('dim_reducer', None),\n",
    "              ('model', GaussianNB())]\n",
    "\n",
    "pipe = Pipeline(estimators)\n",
    "\n",
    "param_grid = [\n",
    "            {'model': [GaussianNB()], \n",
    "#             'normalise': [StandardScaler(), MinMaxScaler()],\n",
    "             'dim_reducer': [PCA(), KernelPCA(), None]}\n",
    "#             'model__var_smoothing': [1e-2, 1e-1]}\n",
    "]\n",
    "\n",
    "grid = GridSearchCV(pipe, param_grid, cv=5)\n",
    "fittedgrid_gnb_over = grid.fit(X_train_over.loc[:, rfe_over.support_], y_train_over)\n",
    "\n",
    "fittedgrid_gnb_over.best_params_"
   ]
  },
  {
   "cell_type": "code",
   "execution_count": 86,
   "id": "491747b2",
   "metadata": {},
   "outputs": [
    {
     "name": "stdout",
     "output_type": "stream",
     "text": [
      "CPU times: total: 18 s\n",
      "Wall time: 24.4 s\n"
     ]
    },
    {
     "data": {
      "text/plain": [
       "{'dim_reducer': PCA(),\n",
       " 'model': GaussianNB(),\n",
       " 'model__var_smoothing': 0.1,\n",
       " 'normalise': StandardScaler()}"
      ]
     },
     "execution_count": 86,
     "metadata": {},
     "output_type": "execute_result"
    }
   ],
   "source": [
    "%%time\n",
    "\n",
    "from sklearn.preprocessing import MinMaxScaler\n",
    "from sklearn.pipeline import Pipeline\n",
    "from sklearn.decomposition import PCA, KernelPCA\n",
    "from sklearn.model_selection import GridSearchCV\n",
    "\n",
    "estimators = [('normalise', StandardScaler()),\n",
    "              ('dim_reducer', PCA()),\n",
    "              ('model', GaussianNB())]\n",
    "\n",
    "pipe = Pipeline(estimators)\n",
    "\n",
    "param_grid = [\n",
    "            {'model': [GaussianNB()], \n",
    "             'normalise': [StandardScaler(), MinMaxScaler(), None],\n",
    "             'dim_reducer': [PCA()],\n",
    "             'model__var_smoothing': [1e-2, 1e-1, 1]}\n",
    "]\n",
    "\n",
    "grid = GridSearchCV(pipe, param_grid, cv=5)\n",
    "fittedgrid_gnb_over = grid.fit(X_train_over.loc[:, rfe_over.support_], y_train_over)\n",
    "\n",
    "fittedgrid_gnb_over.best_params_"
   ]
  },
  {
   "cell_type": "code",
   "execution_count": 87,
   "id": "6c7bc20c",
   "metadata": {},
   "outputs": [
    {
     "data": {
      "text/plain": [
       "0.7496719866836385"
      ]
     },
     "execution_count": 87,
     "metadata": {},
     "output_type": "execute_result"
    }
   ],
   "source": [
    "fittedgrid_gnb_over.score(X_train_over.loc[:, rfe_over.support_], y_train_over)"
   ]
  },
  {
   "cell_type": "code",
   "execution_count": 88,
   "id": "9c6676a5",
   "metadata": {},
   "outputs": [
    {
     "data": {
      "text/plain": [
       "0.7213075364075134"
      ]
     },
     "execution_count": 88,
     "metadata": {},
     "output_type": "execute_result"
    }
   ],
   "source": [
    "fittedgrid_gnb_over.score(X_test_sampled.loc[:, rfe_over.support_], y_test_sampled)"
   ]
  },
  {
   "cell_type": "code",
   "execution_count": 109,
   "id": "173e7900",
   "metadata": {},
   "outputs": [
    {
     "name": "stdout",
     "output_type": "stream",
     "text": [
      "Train score: 0.7496719866836385\n",
      "Test score: 0.7213075364075134\n",
      "              precision    recall  f1-score   support\n",
      "\n",
      "           0       0.97      0.72      0.82     87544\n",
      "           1       0.21      0.79      0.33      8178\n",
      "\n",
      "    accuracy                           0.72     95722\n",
      "   macro avg       0.59      0.75      0.57     95722\n",
      "weighted avg       0.91      0.72      0.78     95722\n",
      "\n"
     ]
    }
   ],
   "source": [
    "scaler = StandardScaler()\n",
    "scaler.fit(X_train_over.loc[:, rfe_over.support_])\n",
    "X_scaled_train = scaler.transform(X_train_over.loc[:, rfe_over.support_])\n",
    "X_scaled_test = scaler.transform(X_test_sampled.loc[:, rfe_over.support_])\n",
    "    \n",
    "my_PCA = PCA()\n",
    "my_PCA.fit(X_scaled_train)\n",
    "\n",
    "X_train_PCA = my_PCA.transform(X_scaled_train)\n",
    "X_test_PCA = my_PCA.transform(X_scaled_test)\n",
    "\n",
    "my_gaussian_nb = GaussianNB(var_smoothing=0.1).fit(X_train_PCA, y_train_over)\n",
    "    \n",
    "train_pred = my_gaussian_nb.predict(X_train_PCA)\n",
    "test_pred = my_gaussian_nb.predict(X_test_PCA)\n",
    "    \n",
    "train_score = accuracy_score(y_train_over, train_pred)\n",
    "test_score = accuracy_score(y_test_sampled, test_pred)\n",
    "    \n",
    "evaluation = classification_report(y_test_sampled, test_pred)\n",
    "    \n",
    "print(f\"Train score: {train_score}\\nTest score: {test_score}\\n{evaluation}\")"
   ]
  },
  {
   "cell_type": "markdown",
   "id": "4f7309f9",
   "metadata": {},
   "source": [
    "The train score is better than the test score, so optimizing hyperparameters improved the model. Also, the recall score for 1 improved, too."
   ]
  },
  {
   "cell_type": "markdown",
   "id": "eb959b36",
   "metadata": {},
   "source": [
    "**SMOTE data**"
   ]
  },
  {
   "cell_type": "code",
   "execution_count": 65,
   "id": "30ff17e2",
   "metadata": {},
   "outputs": [
    {
     "name": "stdout",
     "output_type": "stream",
     "text": [
      "SMOTE data: train_v and validation\n"
     ]
    },
    {
     "data": {
      "image/png": "[encoded data removed]",
      "text/plain": [
       "<Figure size 640x480 with 1 Axes>"
      ]
     },
     "metadata": {},
     "output_type": "display_data"
    }
   ],
   "source": [
    "print(\"SMOTE data: train_v and validation\")\n",
    "v_value = [1e-10, 1e-9, 1e-8, 1e-7, 1e-6, 1e-5, 1e-4, 1e-3, 1e-2, 1e-1, 1, 10, 100]\n",
    "gaussian_smoothing(v_value, X_train_v_smote, y_train_v_smote, X_validation_smote, y_validation_smote)"
   ]
  },
  {
   "cell_type": "markdown",
   "id": "85db3d02",
   "metadata": {},
   "source": [
    "The both accuracy scores get worse when var_smoothing=1e-1. Therefore, I'll check the accuracy scores for train set and test set with var_smoothing less than 1e-1. "
   ]
  },
  {
   "cell_type": "code",
   "execution_count": 68,
   "id": "e1e5fba0",
   "metadata": {},
   "outputs": [
    {
     "name": "stdout",
     "output_type": "stream",
     "text": [
      "SMOTE data: train and test\n"
     ]
    },
    {
     "data": {
      "image/png": "[encoded data removed]",
      "text/plain": [
       "<Figure size 640x480 with 1 Axes>"
      ]
     },
     "metadata": {},
     "output_type": "display_data"
    }
   ],
   "source": [
    "print(\"SMOTE data: train and test\")\n",
    "v_value = [1e-6, 1e-5, 1e-4, 1e-3, 1e-2, 1e-1]\n",
    "gaussian_smoothing(v_value, X_train_smote.loc[:, rfe_smote.support_], y_train_smote, X_test_smote.loc[:, rfe_smote.support_], y_test_smote)"
   ]
  },
  {
   "cell_type": "markdown",
   "id": "677dcb71",
   "metadata": {},
   "source": [
    "The both accuracy scores stay almost flat then get worse when var_smoothing=1e-1. Also, the test score is too low for predicting heart disease. Therefore, I won't use this method."
   ]
  },
  {
   "cell_type": "markdown",
   "id": "87ac3d5a",
   "metadata": {},
   "source": [
    "### Multinomial Naive Bayes"
   ]
  },
  {
   "cell_type": "markdown",
   "id": "835cee80",
   "metadata": {},
   "source": [
    "MultinomialNB is suitable for classification with discrete features. It fails when features have negative values, so I'll use MinMaxScaler for this modeling."
   ]
  },
  {
   "cell_type": "code",
   "execution_count": 19,
   "id": "3f080008",
   "metadata": {},
   "outputs": [],
   "source": [
    "from sklearn.preprocessing import MinMaxScaler\n",
    "from sklearn.naive_bayes import MultinomialNB\n",
    "\n",
    "def naive_multi(X_train, y_train, X_test, y_test):\n",
    "    scaler = MinMaxScaler()\n",
    "    scaler.fit(X_train)\n",
    "    X_scaled_train = scaler.transform(X_train)\n",
    "    X_scaled_test = scaler.transform(X_test)\n",
    "    \n",
    "    my_multi_nb = MultinomialNB().fit(X_scaled_train, y_train)\n",
    "    \n",
    "    train_pred = my_multi_nb.predict(X_scaled_train)\n",
    "    test_pred = my_multi_nb.predict(X_scaled_test)\n",
    "    \n",
    "    train_score = accuracy_score(y_train, train_pred)\n",
    "    test_score = accuracy_score(y_test, test_pred)\n",
    "    \n",
    "    evaluation = classification_report(y_test, test_pred)\n",
    "    \n",
    "    return print(f\"Train score: {train_score}\\nTest score: {test_score}\\n{evaluation}\")"
   ]
  },
  {
   "cell_type": "code",
   "execution_count": 34,
   "id": "dae3efb7",
   "metadata": {},
   "outputs": [
    {
     "name": "stdout",
     "output_type": "stream",
     "text": [
      "Original dataset\n",
      "Train score: 0.9145246719289369\n",
      "Test score: 0.9145650947535572\n",
      "              precision    recall  f1-score   support\n",
      "\n",
      "           0       0.91      1.00      0.96     87544\n",
      "           1       0.00      0.00      0.00      8178\n",
      "\n",
      "    accuracy                           0.91     95722\n",
      "   macro avg       0.46      0.50      0.48     95722\n",
      "weighted avg       0.84      0.91      0.87     95722\n",
      "\n"
     ]
    },
    {
     "name": "stderr",
     "output_type": "stream",
     "text": [
      "C:\\Users\\yumem\\anaconda3\\Lib\\site-packages\\sklearn\\metrics\\_classification.py:1471: UndefinedMetricWarning: Precision and F-score are ill-defined and being set to 0.0 in labels with no predicted samples. Use `zero_division` parameter to control this behavior.\n",
      "  _warn_prf(average, modifier, msg_start, len(result))\n",
      "C:\\Users\\yumem\\anaconda3\\Lib\\site-packages\\sklearn\\metrics\\_classification.py:1471: UndefinedMetricWarning: Precision and F-score are ill-defined and being set to 0.0 in labels with no predicted samples. Use `zero_division` parameter to control this behavior.\n",
      "  _warn_prf(average, modifier, msg_start, len(result))\n",
      "C:\\Users\\yumem\\anaconda3\\Lib\\site-packages\\sklearn\\metrics\\_classification.py:1471: UndefinedMetricWarning: Precision and F-score are ill-defined and being set to 0.0 in labels with no predicted samples. Use `zero_division` parameter to control this behavior.\n",
      "  _warn_prf(average, modifier, msg_start, len(result))\n"
     ]
    }
   ],
   "source": [
    "print(\"Original dataset\")\n",
    "naive_multi(X_train_original.loc[:, rfe_original.support_], y_train_original, \\\n",
    "            X_test_original.loc[:, rfe_original.support_], y_test_original)"
   ]
  },
  {
   "cell_type": "markdown",
   "id": "a165d595",
   "metadata": {},
   "source": [
    "The both scores of precision and recall are 0. This model is not predicting  heart disease at all. The model need to be adjusted."
   ]
  },
  {
   "cell_type": "code",
   "execution_count": 35,
   "id": "54ee811f",
   "metadata": {},
   "outputs": [
    {
     "name": "stdout",
     "output_type": "stream",
     "text": [
      "Under sampled dataset\n",
      "Train score: 0.6720444188361008\n",
      "Test score: 0.7913332358287541\n",
      "              precision    recall  f1-score   support\n",
      "\n",
      "           0       0.95      0.82      0.88     87544\n",
      "           1       0.21      0.52      0.30      8178\n",
      "\n",
      "    accuracy                           0.79     95722\n",
      "   macro avg       0.58      0.67      0.59     95722\n",
      "weighted avg       0.88      0.79      0.83     95722\n",
      "\n"
     ]
    }
   ],
   "source": [
    "print(\"Under sampled dataset\")\n",
    "naive_multi(X_train_under.loc[:, rfe_under.support_], y_train_under, \\\n",
    "        X_test_sampled.loc[:, rfe_under.support_], y_test_sampled)"
   ]
  },
  {
   "cell_type": "code",
   "execution_count": 36,
   "id": "e41ef7d3",
   "metadata": {},
   "outputs": [
    {
     "name": "stdout",
     "output_type": "stream",
     "text": [
      "Over sampled dataset\n",
      "Train score: 0.672907079212768\n",
      "Test score: 0.7937151334071583\n",
      "              precision    recall  f1-score   support\n",
      "\n",
      "           0       0.95      0.82      0.88     87544\n",
      "           1       0.21      0.52      0.30      8178\n",
      "\n",
      "    accuracy                           0.79     95722\n",
      "   macro avg       0.58      0.67      0.59     95722\n",
      "weighted avg       0.88      0.79      0.83     95722\n",
      "\n"
     ]
    }
   ],
   "source": [
    "print(\"Over sampled dataset\")\n",
    "naive_multi(X_train_over.loc[:, rfe_over.support_], y_train_over, \\\n",
    "        X_test_sampled.loc[:, rfe_over.support_], y_test_sampled)"
   ]
  },
  {
   "cell_type": "markdown",
   "id": "28d0e8c7",
   "metadata": {},
   "source": [
    "The all scores of under/over sampled dataset are almost the same. The both test score is greater than the train score, so they need to be adjusted, too. Comparing to the Logistic regression models, the recall scores of MultinomialNB are lower than the scores of Logistic regression."
   ]
  },
  {
   "cell_type": "code",
   "execution_count": 30,
   "id": "821f90b9",
   "metadata": {},
   "outputs": [
    {
     "name": "stdout",
     "output_type": "stream",
     "text": [
      "SMOTE dataset\n",
      "Train score: 0.6847914422794478\n",
      "Test score: 0.4944422389837237\n",
      "              precision    recall  f1-score   support\n",
      "\n",
      "           0       0.94      0.48      0.63     87544\n",
      "           1       0.11      0.70      0.19      8178\n",
      "\n",
      "    accuracy                           0.49     95722\n",
      "   macro avg       0.53      0.59      0.41     95722\n",
      "weighted avg       0.87      0.49      0.59     95722\n",
      "\n"
     ]
    }
   ],
   "source": [
    "print(\"SMOTE dataset\")\n",
    "naive_multi(X_train_smote.loc[:, rfe_smote.support_], y_train_smote, \\\n",
    "        X_test_smote.loc[:, rfe_smote.support_], y_test_smote)"
   ]
  },
  {
   "cell_type": "markdown",
   "id": "90157169",
   "metadata": {},
   "source": [
    "The test score is too lower than the train set like the result of GaussianNB. This might not be able to use for the predintion."
   ]
  },
  {
   "cell_type": "markdown",
   "id": "c517a695",
   "metadata": {},
   "source": [
    "All models of MultinomialNB have some problems, such as 0 for the f1 score, too underfitting, too low accuracy score. I considered those cannot improve by optimizing hyperparameters, so I'll move on to next NB method."
   ]
  },
  {
   "cell_type": "markdown",
   "id": "c645f9c6",
   "metadata": {},
   "source": [
    "### Bernoulli Naive Bayes"
   ]
  },
  {
   "cell_type": "markdown",
   "id": "b1a07b51",
   "metadata": {},
   "source": [
    "BernoulliNB suitable for discrete data like MultinomialNB, but BernoulliNB is designed for binary/boolean features. The data I have is mostly binary/boolean features, but some of them is continuous variables, such as BMI. However, I'll give it a try."
   ]
  },
  {
   "cell_type": "code",
   "execution_count": 31,
   "id": "b72d41fa",
   "metadata": {},
   "outputs": [],
   "source": [
    "from sklearn.naive_bayes import BernoulliNB\n",
    "def naive_bernou(X_train, y_train, X_test, y_test):\n",
    "    scaler = StandardScaler()\n",
    "    scaler.fit(X_train)\n",
    "    X_scaled_train = scaler.transform(X_train)\n",
    "    X_scaled_test = scaler.transform(X_test)\n",
    "    \n",
    "    my_bernoulli_nb = BernoulliNB().fit(X_scaled_train, y_train)\n",
    "    \n",
    "    train_pred = my_bernoulli_nb.predict(X_scaled_train)\n",
    "    test_pred = my_bernoulli_nb.predict(X_scaled_test)\n",
    "    \n",
    "    train_score = accuracy_score(y_train, train_pred)\n",
    "    test_score = accuracy_score(y_test, test_pred)\n",
    "    \n",
    "    evaluation = classification_report(y_test, test_pred)\n",
    "    \n",
    "    return print(f\"Train score: {train_score}\\nTest score: {test_score}\\n{evaluation}\")"
   ]
  },
  {
   "cell_type": "code",
   "execution_count": 32,
   "id": "bdc0e3d4",
   "metadata": {},
   "outputs": [
    {
     "name": "stdout",
     "output_type": "stream",
     "text": [
      "Original dataset\n",
      "Train score: 0.8991318597185596\n",
      "Test score: 0.8968575667035791\n",
      "              precision    recall  f1-score   support\n",
      "\n",
      "           0       0.92      0.97      0.94     87544\n",
      "           1       0.30      0.16      0.21      8178\n",
      "\n",
      "    accuracy                           0.90     95722\n",
      "   macro avg       0.61      0.56      0.58     95722\n",
      "weighted avg       0.87      0.90      0.88     95722\n",
      "\n"
     ]
    }
   ],
   "source": [
    "print(\"Original dataset\")\n",
    "naive_bernou(X_train_original.loc[:, rfe_original.support_], y_train_original, \\\n",
    "            X_test_original.loc[:, rfe_original.support_], y_test_original)"
   ]
  },
  {
   "cell_type": "code",
   "execution_count": 33,
   "id": "d8c5ad7a",
   "metadata": {},
   "outputs": [
    {
     "name": "stdout",
     "output_type": "stream",
     "text": [
      "Under sampled dataset\n",
      "Train score: 0.7243727410821853\n",
      "Test score: 0.7600969474102087\n",
      "              precision    recall  f1-score   support\n",
      "\n",
      "           0       0.96      0.77      0.85     87544\n",
      "           1       0.21      0.67      0.32      8178\n",
      "\n",
      "    accuracy                           0.76     95722\n",
      "   macro avg       0.59      0.72      0.59     95722\n",
      "weighted avg       0.90      0.76      0.81     95722\n",
      "\n"
     ]
    }
   ],
   "source": [
    "print(\"Under sampled dataset\")\n",
    "naive_bernou(X_train_under.loc[:, rfe_under.support_], y_train_under, \\\n",
    "        X_test_sampled.loc[:, rfe_under.support_], y_test_sampled)"
   ]
  },
  {
   "cell_type": "code",
   "execution_count": 34,
   "id": "58d41a99",
   "metadata": {},
   "outputs": [
    {
     "name": "stdout",
     "output_type": "stream",
     "text": [
      "Over sampled dataset\n",
      "Train score: 0.7252056202878684\n",
      "Test score: 0.7465786339608449\n",
      "              precision    recall  f1-score   support\n",
      "\n",
      "           0       0.96      0.75      0.84     87544\n",
      "           1       0.21      0.69      0.32      8178\n",
      "\n",
      "    accuracy                           0.75     95722\n",
      "   macro avg       0.58      0.72      0.58     95722\n",
      "weighted avg       0.90      0.75      0.80     95722\n",
      "\n"
     ]
    }
   ],
   "source": [
    "print(\"Over sampled dataset\")\n",
    "naive_bernou(X_train_over.loc[:, rfe_over.support_], y_train_over, \\\n",
    "        X_test_sampled.loc[:, rfe_over.support_], y_test_sampled)"
   ]
  },
  {
   "cell_type": "code",
   "execution_count": 35,
   "id": "e021d2d9",
   "metadata": {},
   "outputs": [
    {
     "name": "stdout",
     "output_type": "stream",
     "text": [
      "SMOTE dataset\n",
      "Train score: 0.7316288064231862\n",
      "Test score: 0.8098138358997932\n",
      "              precision    recall  f1-score   support\n",
      "\n",
      "           0       0.95      0.84      0.89     87544\n",
      "           1       0.23      0.50      0.31      8178\n",
      "\n",
      "    accuracy                           0.81     95722\n",
      "   macro avg       0.59      0.67      0.60     95722\n",
      "weighted avg       0.89      0.81      0.84     95722\n",
      "\n"
     ]
    }
   ],
   "source": [
    "print(\"SMOTE dataset\")\n",
    "naive_bernou(X_train_smote.loc[:, rfe_smote.support_], y_train_smote, \\\n",
    "        X_test_smote.loc[:, rfe_smote.support_], y_test_smote)"
   ]
  },
  {
   "cell_type": "code",
   "execution_count": 42,
   "id": "c750b68d",
   "metadata": {},
   "outputs": [],
   "source": [
    "# create a plot with log scaled\n",
    "def bernoulli_alpha(b_alpha, X_train, y_train, X_test, y_test):\n",
    "    \n",
    "    test_scores = []\n",
    "    train_scores = []\n",
    "    \n",
    "    scaler = StandardScaler()\n",
    "    scaler.fit(X_train)\n",
    "    X_scaled_train = scaler.transform(X_train)\n",
    "    X_scaled_test = scaler.transform(X_test)\n",
    "    \n",
    "    for a in b_alpha:\n",
    "        my_b_nb = BernoulliNB(alpha = a)\n",
    "        my_b_nb.fit(X_scaled_train, y_train)\n",
    "        \n",
    "        train_pred = my_b_nb.predict(X_scaled_train)\n",
    "        test_pred = my_b_nb.predict(X_scaled_test)     \n",
    "        \n",
    "        # train on traning set\n",
    "        train_scores.append(accuracy_score(y_train, train_pred))\n",
    "        # score on validation set\n",
    "        test_scores.append(accuracy_score(y_test, test_pred))\n",
    "        \n",
    "    plt.figure()\n",
    "    plt.plot(b_alpha, train_scores, label=\"Train Score\",marker='.')\n",
    "    plt.plot(b_alpha, test_scores,label=\"Test Score\",marker='.')\n",
    "#    plt.xscale('log')\n",
    "    plt.xlabel('alpha values')\n",
    "    plt.ylabel('Accuracy')\n",
    "    plt.legend()\n",
    "    plt.show();"
   ]
  },
  {
   "cell_type": "code",
   "execution_count": 43,
   "id": "dffd6613",
   "metadata": {},
   "outputs": [
    {
     "name": "stdout",
     "output_type": "stream",
     "text": [
      "Original data: train_v and validation\n"
     ]
    },
    {
     "data": {
      "image/png": "[encoded data removed]",
      "text/plain": [
       "<Figure size 640x480 with 1 Axes>"
      ]
     },
     "metadata": {},
     "output_type": "display_data"
    }
   ],
   "source": [
    "print(\"Original data: train_v and validation\")\n",
    "b_alpha = [0.1, 0.5, 1, 2, 5, 10]\n",
    "bernoulli_alpha(b_alpha, X_train_v_original, y_train_v_original, X_validation_original, y_validation_original)"
   ]
  },
  {
   "cell_type": "markdown",
   "id": "70c191a1",
   "metadata": {},
   "source": [
    "The accuracy score doesn't cgange by the alpha values. I'll use the same alpha values for the train/test set."
   ]
  },
  {
   "cell_type": "code",
   "execution_count": 44,
   "id": "7f51f1bf",
   "metadata": {},
   "outputs": [
    {
     "name": "stdout",
     "output_type": "stream",
     "text": [
      "Original data: train and test\n"
     ]
    },
    {
     "data": {
      "image/png": "[encoded data removed]",
      "text/plain": [
       "<Figure size 640x480 with 1 Axes>"
      ]
     },
     "metadata": {},
     "output_type": "display_data"
    }
   ],
   "source": [
    "print(\"Original data: train and test\")\n",
    "b_alpha = [0.1, 0.5, 1, 2, 5, 10]\n",
    "bernoulli_alpha(b_alpha, X_train_original.loc[:, rfe_original.support_], y_train_original, X_test_original.loc[:, rfe_original.support_], y_test_original)"
   ]
  },
  {
   "cell_type": "markdown",
   "id": "0a6fb576",
   "metadata": {},
   "source": [
    "The accuracy score doesn't cgange by the alpha values for the model of train and test set. I'll use 1, 5, 10, and 0 for the alpha of pipeline."
   ]
  },
  {
   "cell_type": "code",
   "execution_count": 51,
   "id": "3ad0e068",
   "metadata": {},
   "outputs": [
    {
     "name": "stderr",
     "output_type": "stream",
     "text": [
      "C:\\Users\\yumem\\anaconda3\\Lib\\site-packages\\sklearn\\naive_bayes.py:633: UserWarning: alpha too small will result in numeric errors, setting alpha = 1.0e-10. Use `force_alpha=True` to keep alpha unchanged.\n",
      "  warnings.warn(\n",
      "C:\\Users\\yumem\\anaconda3\\Lib\\site-packages\\sklearn\\naive_bayes.py:633: UserWarning: alpha too small will result in numeric errors, setting alpha = 1.0e-10. Use `force_alpha=True` to keep alpha unchanged.\n",
      "  warnings.warn(\n",
      "C:\\Users\\yumem\\anaconda3\\Lib\\site-packages\\sklearn\\naive_bayes.py:633: UserWarning: alpha too small will result in numeric errors, setting alpha = 1.0e-10. Use `force_alpha=True` to keep alpha unchanged.\n",
      "  warnings.warn(\n",
      "C:\\Users\\yumem\\anaconda3\\Lib\\site-packages\\sklearn\\naive_bayes.py:633: UserWarning: alpha too small will result in numeric errors, setting alpha = 1.0e-10. Use `force_alpha=True` to keep alpha unchanged.\n",
      "  warnings.warn(\n",
      "C:\\Users\\yumem\\anaconda3\\Lib\\site-packages\\sklearn\\naive_bayes.py:633: UserWarning: alpha too small will result in numeric errors, setting alpha = 1.0e-10. Use `force_alpha=True` to keep alpha unchanged.\n",
      "  warnings.warn(\n",
      "C:\\Users\\yumem\\anaconda3\\Lib\\site-packages\\sklearn\\naive_bayes.py:633: UserWarning: alpha too small will result in numeric errors, setting alpha = 1.0e-10. Use `force_alpha=True` to keep alpha unchanged.\n",
      "  warnings.warn(\n",
      "C:\\Users\\yumem\\anaconda3\\Lib\\site-packages\\sklearn\\naive_bayes.py:633: UserWarning: alpha too small will result in numeric errors, setting alpha = 1.0e-10. Use `force_alpha=True` to keep alpha unchanged.\n",
      "  warnings.warn(\n",
      "C:\\Users\\yumem\\anaconda3\\Lib\\site-packages\\sklearn\\naive_bayes.py:633: UserWarning: alpha too small will result in numeric errors, setting alpha = 1.0e-10. Use `force_alpha=True` to keep alpha unchanged.\n",
      "  warnings.warn(\n",
      "C:\\Users\\yumem\\anaconda3\\Lib\\site-packages\\sklearn\\naive_bayes.py:633: UserWarning: alpha too small will result in numeric errors, setting alpha = 1.0e-10. Use `force_alpha=True` to keep alpha unchanged.\n",
      "  warnings.warn(\n",
      "C:\\Users\\yumem\\anaconda3\\Lib\\site-packages\\sklearn\\naive_bayes.py:633: UserWarning: alpha too small will result in numeric errors, setting alpha = 1.0e-10. Use `force_alpha=True` to keep alpha unchanged.\n",
      "  warnings.warn(\n",
      "C:\\Users\\yumem\\anaconda3\\Lib\\site-packages\\sklearn\\naive_bayes.py:633: UserWarning: alpha too small will result in numeric errors, setting alpha = 1.0e-10. Use `force_alpha=True` to keep alpha unchanged.\n",
      "  warnings.warn(\n",
      "C:\\Users\\yumem\\anaconda3\\Lib\\site-packages\\sklearn\\naive_bayes.py:633: UserWarning: alpha too small will result in numeric errors, setting alpha = 1.0e-10. Use `force_alpha=True` to keep alpha unchanged.\n",
      "  warnings.warn(\n",
      "C:\\Users\\yumem\\anaconda3\\Lib\\site-packages\\sklearn\\naive_bayes.py:633: UserWarning: alpha too small will result in numeric errors, setting alpha = 1.0e-10. Use `force_alpha=True` to keep alpha unchanged.\n",
      "  warnings.warn(\n",
      "C:\\Users\\yumem\\anaconda3\\Lib\\site-packages\\sklearn\\naive_bayes.py:633: UserWarning: alpha too small will result in numeric errors, setting alpha = 1.0e-10. Use `force_alpha=True` to keep alpha unchanged.\n",
      "  warnings.warn(\n",
      "C:\\Users\\yumem\\anaconda3\\Lib\\site-packages\\sklearn\\naive_bayes.py:633: UserWarning: alpha too small will result in numeric errors, setting alpha = 1.0e-10. Use `force_alpha=True` to keep alpha unchanged.\n",
      "  warnings.warn(\n",
      "C:\\Users\\yumem\\anaconda3\\Lib\\site-packages\\sklearn\\naive_bayes.py:633: UserWarning: alpha too small will result in numeric errors, setting alpha = 1.0e-10. Use `force_alpha=True` to keep alpha unchanged.\n",
      "  warnings.warn(\n",
      "C:\\Users\\yumem\\anaconda3\\Lib\\site-packages\\sklearn\\naive_bayes.py:633: UserWarning: alpha too small will result in numeric errors, setting alpha = 1.0e-10. Use `force_alpha=True` to keep alpha unchanged.\n",
      "  warnings.warn(\n",
      "C:\\Users\\yumem\\anaconda3\\Lib\\site-packages\\sklearn\\naive_bayes.py:633: UserWarning: alpha too small will result in numeric errors, setting alpha = 1.0e-10. Use `force_alpha=True` to keep alpha unchanged.\n",
      "  warnings.warn(\n",
      "C:\\Users\\yumem\\anaconda3\\Lib\\site-packages\\sklearn\\naive_bayes.py:633: UserWarning: alpha too small will result in numeric errors, setting alpha = 1.0e-10. Use `force_alpha=True` to keep alpha unchanged.\n",
      "  warnings.warn(\n",
      "C:\\Users\\yumem\\anaconda3\\Lib\\site-packages\\sklearn\\naive_bayes.py:633: UserWarning: alpha too small will result in numeric errors, setting alpha = 1.0e-10. Use `force_alpha=True` to keep alpha unchanged.\n",
      "  warnings.warn(\n",
      "C:\\Users\\yumem\\anaconda3\\Lib\\site-packages\\sklearn\\naive_bayes.py:1227: RuntimeWarning: divide by zero encountered in log\n",
      "  neg_prob = np.log(1 - np.exp(self.feature_log_prob_))\n",
      "C:\\Users\\yumem\\anaconda3\\Lib\\site-packages\\sklearn\\naive_bayes.py:1230: RuntimeWarning: invalid value encountered in add\n",
      "  jll += self.class_log_prior_ + neg_prob.sum(axis=1)\n",
      "C:\\Users\\yumem\\anaconda3\\Lib\\site-packages\\sklearn\\naive_bayes.py:1227: RuntimeWarning: divide by zero encountered in log\n",
      "  neg_prob = np.log(1 - np.exp(self.feature_log_prob_))\n",
      "C:\\Users\\yumem\\anaconda3\\Lib\\site-packages\\sklearn\\naive_bayes.py:1230: RuntimeWarning: invalid value encountered in add\n",
      "  jll += self.class_log_prior_ + neg_prob.sum(axis=1)\n",
      "C:\\Users\\yumem\\anaconda3\\Lib\\site-packages\\sklearn\\naive_bayes.py:1227: RuntimeWarning: divide by zero encountered in log\n",
      "  neg_prob = np.log(1 - np.exp(self.feature_log_prob_))\n",
      "C:\\Users\\yumem\\anaconda3\\Lib\\site-packages\\sklearn\\utils\\extmath.py:192: RuntimeWarning: invalid value encountered in matmul\n",
      "  ret = a @ b\n",
      "C:\\Users\\yumem\\anaconda3\\Lib\\site-packages\\sklearn\\naive_bayes.py:1230: RuntimeWarning: invalid value encountered in add\n",
      "  jll += self.class_log_prior_ + neg_prob.sum(axis=1)\n",
      "C:\\Users\\yumem\\anaconda3\\Lib\\site-packages\\sklearn\\naive_bayes.py:1227: RuntimeWarning: divide by zero encountered in log\n",
      "  neg_prob = np.log(1 - np.exp(self.feature_log_prob_))\n",
      "C:\\Users\\yumem\\anaconda3\\Lib\\site-packages\\sklearn\\naive_bayes.py:1230: RuntimeWarning: invalid value encountered in add\n",
      "  jll += self.class_log_prior_ + neg_prob.sum(axis=1)\n",
      "C:\\Users\\yumem\\anaconda3\\Lib\\site-packages\\sklearn\\naive_bayes.py:1227: RuntimeWarning: divide by zero encountered in log\n",
      "  neg_prob = np.log(1 - np.exp(self.feature_log_prob_))\n",
      "C:\\Users\\yumem\\anaconda3\\Lib\\site-packages\\sklearn\\naive_bayes.py:1230: RuntimeWarning: invalid value encountered in add\n",
      "  jll += self.class_log_prior_ + neg_prob.sum(axis=1)\n",
      "C:\\Users\\yumem\\anaconda3\\Lib\\site-packages\\sklearn\\naive_bayes.py:633: UserWarning: alpha too small will result in numeric errors, setting alpha = 1.0e-10. Use `force_alpha=True` to keep alpha unchanged.\n",
      "  warnings.warn(\n",
      "C:\\Users\\yumem\\anaconda3\\Lib\\site-packages\\sklearn\\naive_bayes.py:633: UserWarning: alpha too small will result in numeric errors, setting alpha = 1.0e-10. Use `force_alpha=True` to keep alpha unchanged.\n",
      "  warnings.warn(\n",
      "C:\\Users\\yumem\\anaconda3\\Lib\\site-packages\\sklearn\\naive_bayes.py:633: UserWarning: alpha too small will result in numeric errors, setting alpha = 1.0e-10. Use `force_alpha=True` to keep alpha unchanged.\n",
      "  warnings.warn(\n",
      "C:\\Users\\yumem\\anaconda3\\Lib\\site-packages\\sklearn\\naive_bayes.py:633: UserWarning: alpha too small will result in numeric errors, setting alpha = 1.0e-10. Use `force_alpha=True` to keep alpha unchanged.\n",
      "  warnings.warn(\n",
      "C:\\Users\\yumem\\anaconda3\\Lib\\site-packages\\sklearn\\naive_bayes.py:633: UserWarning: alpha too small will result in numeric errors, setting alpha = 1.0e-10. Use `force_alpha=True` to keep alpha unchanged.\n",
      "  warnings.warn(\n",
      "C:\\Users\\yumem\\anaconda3\\Lib\\site-packages\\sklearn\\naive_bayes.py:633: UserWarning: alpha too small will result in numeric errors, setting alpha = 1.0e-10. Use `force_alpha=True` to keep alpha unchanged.\n",
      "  warnings.warn(\n",
      "C:\\Users\\yumem\\anaconda3\\Lib\\site-packages\\sklearn\\naive_bayes.py:633: UserWarning: alpha too small will result in numeric errors, setting alpha = 1.0e-10. Use `force_alpha=True` to keep alpha unchanged.\n",
      "  warnings.warn(\n",
      "C:\\Users\\yumem\\anaconda3\\Lib\\site-packages\\sklearn\\naive_bayes.py:633: UserWarning: alpha too small will result in numeric errors, setting alpha = 1.0e-10. Use `force_alpha=True` to keep alpha unchanged.\n",
      "  warnings.warn(\n",
      "C:\\Users\\yumem\\anaconda3\\Lib\\site-packages\\sklearn\\naive_bayes.py:633: UserWarning: alpha too small will result in numeric errors, setting alpha = 1.0e-10. Use `force_alpha=True` to keep alpha unchanged.\n",
      "  warnings.warn(\n",
      "C:\\Users\\yumem\\anaconda3\\Lib\\site-packages\\sklearn\\naive_bayes.py:633: UserWarning: alpha too small will result in numeric errors, setting alpha = 1.0e-10. Use `force_alpha=True` to keep alpha unchanged.\n",
      "  warnings.warn(\n",
      "C:\\Users\\yumem\\anaconda3\\Lib\\site-packages\\sklearn\\naive_bayes.py:1227: RuntimeWarning: divide by zero encountered in log\n",
      "  neg_prob = np.log(1 - np.exp(self.feature_log_prob_))\n",
      "C:\\Users\\yumem\\anaconda3\\Lib\\site-packages\\sklearn\\naive_bayes.py:1230: RuntimeWarning: invalid value encountered in add\n",
      "  jll += self.class_log_prior_ + neg_prob.sum(axis=1)\n",
      "C:\\Users\\yumem\\anaconda3\\Lib\\site-packages\\sklearn\\naive_bayes.py:1227: RuntimeWarning: divide by zero encountered in log\n",
      "  neg_prob = np.log(1 - np.exp(self.feature_log_prob_))\n",
      "C:\\Users\\yumem\\anaconda3\\Lib\\site-packages\\sklearn\\naive_bayes.py:1230: RuntimeWarning: invalid value encountered in add\n",
      "  jll += self.class_log_prior_ + neg_prob.sum(axis=1)\n",
      "C:\\Users\\yumem\\anaconda3\\Lib\\site-packages\\sklearn\\naive_bayes.py:1227: RuntimeWarning: divide by zero encountered in log\n",
      "  neg_prob = np.log(1 - np.exp(self.feature_log_prob_))\n",
      "C:\\Users\\yumem\\anaconda3\\Lib\\site-packages\\sklearn\\utils\\extmath.py:192: RuntimeWarning: invalid value encountered in matmul\n",
      "  ret = a @ b\n",
      "C:\\Users\\yumem\\anaconda3\\Lib\\site-packages\\sklearn\\naive_bayes.py:1230: RuntimeWarning: invalid value encountered in add\n",
      "  jll += self.class_log_prior_ + neg_prob.sum(axis=1)\n",
      "C:\\Users\\yumem\\anaconda3\\Lib\\site-packages\\sklearn\\naive_bayes.py:1227: RuntimeWarning: divide by zero encountered in log\n",
      "  neg_prob = np.log(1 - np.exp(self.feature_log_prob_))\n",
      "C:\\Users\\yumem\\anaconda3\\Lib\\site-packages\\sklearn\\naive_bayes.py:1230: RuntimeWarning: invalid value encountered in add\n",
      "  jll += self.class_log_prior_ + neg_prob.sum(axis=1)\n",
      "C:\\Users\\yumem\\anaconda3\\Lib\\site-packages\\sklearn\\naive_bayes.py:1227: RuntimeWarning: divide by zero encountered in log\n",
      "  neg_prob = np.log(1 - np.exp(self.feature_log_prob_))\n",
      "C:\\Users\\yumem\\anaconda3\\Lib\\site-packages\\sklearn\\naive_bayes.py:1230: RuntimeWarning: invalid value encountered in add\n",
      "  jll += self.class_log_prior_ + neg_prob.sum(axis=1)\n",
      "C:\\Users\\yumem\\anaconda3\\Lib\\site-packages\\sklearn\\naive_bayes.py:633: UserWarning: alpha too small will result in numeric errors, setting alpha = 1.0e-10. Use `force_alpha=True` to keep alpha unchanged.\n",
      "  warnings.warn(\n",
      "C:\\Users\\yumem\\anaconda3\\Lib\\site-packages\\sklearn\\naive_bayes.py:633: UserWarning: alpha too small will result in numeric errors, setting alpha = 1.0e-10. Use `force_alpha=True` to keep alpha unchanged.\n",
      "  warnings.warn(\n",
      "C:\\Users\\yumem\\anaconda3\\Lib\\site-packages\\sklearn\\naive_bayes.py:633: UserWarning: alpha too small will result in numeric errors, setting alpha = 1.0e-10. Use `force_alpha=True` to keep alpha unchanged.\n",
      "  warnings.warn(\n",
      "C:\\Users\\yumem\\anaconda3\\Lib\\site-packages\\sklearn\\naive_bayes.py:633: UserWarning: alpha too small will result in numeric errors, setting alpha = 1.0e-10. Use `force_alpha=True` to keep alpha unchanged.\n",
      "  warnings.warn(\n",
      "C:\\Users\\yumem\\anaconda3\\Lib\\site-packages\\sklearn\\naive_bayes.py:633: UserWarning: alpha too small will result in numeric errors, setting alpha = 1.0e-10. Use `force_alpha=True` to keep alpha unchanged.\n",
      "  warnings.warn(\n",
      "C:\\Users\\yumem\\anaconda3\\Lib\\site-packages\\sklearn\\naive_bayes.py:633: UserWarning: alpha too small will result in numeric errors, setting alpha = 1.0e-10. Use `force_alpha=True` to keep alpha unchanged.\n",
      "  warnings.warn(\n",
      "C:\\Users\\yumem\\anaconda3\\Lib\\site-packages\\sklearn\\naive_bayes.py:633: UserWarning: alpha too small will result in numeric errors, setting alpha = 1.0e-10. Use `force_alpha=True` to keep alpha unchanged.\n",
      "  warnings.warn(\n",
      "C:\\Users\\yumem\\anaconda3\\Lib\\site-packages\\sklearn\\naive_bayes.py:633: UserWarning: alpha too small will result in numeric errors, setting alpha = 1.0e-10. Use `force_alpha=True` to keep alpha unchanged.\n",
      "  warnings.warn(\n",
      "C:\\Users\\yumem\\anaconda3\\Lib\\site-packages\\sklearn\\naive_bayes.py:633: UserWarning: alpha too small will result in numeric errors, setting alpha = 1.0e-10. Use `force_alpha=True` to keep alpha unchanged.\n",
      "  warnings.warn(\n",
      "C:\\Users\\yumem\\anaconda3\\Lib\\site-packages\\sklearn\\naive_bayes.py:633: UserWarning: alpha too small will result in numeric errors, setting alpha = 1.0e-10. Use `force_alpha=True` to keep alpha unchanged.\n",
      "  warnings.warn(\n"
     ]
    },
    {
     "name": "stdout",
     "output_type": "stream",
     "text": [
      "CPU times: total: 29.4 s\n",
      "Wall time: 41.3 s\n"
     ]
    },
    {
     "name": "stderr",
     "output_type": "stream",
     "text": [
      "C:\\Users\\yumem\\anaconda3\\Lib\\site-packages\\sklearn\\model_selection\\_validation.py:425: FitFailedWarning: \n",
      "160 fits failed out of a total of 480.\n",
      "The score on these train-test partitions for these parameters will be set to nan.\n",
      "If these failures are not expected, you can try to debug them by setting error_score='raise'.\n",
      "\n",
      "Below are more details about the failures:\n",
      "--------------------------------------------------------------------------------\n",
      "32 fits failed with the following error:\n",
      "Traceback (most recent call last):\n",
      "  File \"C:\\Users\\yumem\\anaconda3\\Lib\\site-packages\\sklearn\\model_selection\\_validation.py\", line 729, in _fit_and_score\n",
      "    estimator.fit(X_train, y_train, **fit_params)\n",
      "  File \"C:\\Users\\yumem\\anaconda3\\Lib\\site-packages\\sklearn\\base.py\", line 1152, in wrapper\n",
      "    return fit_method(estimator, *args, **kwargs)\n",
      "           ^^^^^^^^^^^^^^^^^^^^^^^^^^^^^^^^^^^^^^\n",
      "  File \"C:\\Users\\yumem\\anaconda3\\Lib\\site-packages\\sklearn\\pipeline.py\", line 423, in fit\n",
      "    Xt = self._fit(X, y, **fit_params_steps)\n",
      "         ^^^^^^^^^^^^^^^^^^^^^^^^^^^^^^^^^^^\n",
      "  File \"C:\\Users\\yumem\\anaconda3\\Lib\\site-packages\\sklearn\\pipeline.py\", line 377, in _fit\n",
      "    X, fitted_transformer = fit_transform_one_cached(\n",
      "                            ^^^^^^^^^^^^^^^^^^^^^^^^^\n",
      "  File \"C:\\Users\\yumem\\anaconda3\\Lib\\site-packages\\joblib\\memory.py\", line 353, in __call__\n",
      "    return self.func(*args, **kwargs)\n",
      "           ^^^^^^^^^^^^^^^^^^^^^^^^^^\n",
      "  File \"C:\\Users\\yumem\\anaconda3\\Lib\\site-packages\\sklearn\\pipeline.py\", line 957, in _fit_transform_one\n",
      "    res = transformer.fit_transform(X, y, **fit_params)\n",
      "          ^^^^^^^^^^^^^^^^^^^^^^^^^^^^^^^^^^^^^^^^^^^^^\n",
      "  File \"C:\\Users\\yumem\\anaconda3\\Lib\\site-packages\\sklearn\\utils\\_set_output.py\", line 157, in wrapped\n",
      "    data_to_wrap = f(self, X, *args, **kwargs)\n",
      "                   ^^^^^^^^^^^^^^^^^^^^^^^^^^^\n",
      "  File \"C:\\Users\\yumem\\anaconda3\\Lib\\site-packages\\sklearn\\decomposition\\_kernel_pca.py\", line 469, in fit_transform\n",
      "    self.fit(X, **params)\n",
      "  File \"C:\\Users\\yumem\\anaconda3\\Lib\\site-packages\\sklearn\\base.py\", line 1152, in wrapper\n",
      "    return fit_method(estimator, *args, **kwargs)\n",
      "           ^^^^^^^^^^^^^^^^^^^^^^^^^^^^^^^^^^^^^^\n",
      "  File \"C:\\Users\\yumem\\anaconda3\\Lib\\site-packages\\sklearn\\decomposition\\_kernel_pca.py\", line 436, in fit\n",
      "    K = self._get_kernel(X)\n",
      "        ^^^^^^^^^^^^^^^^^^^\n",
      "  File \"C:\\Users\\yumem\\anaconda3\\Lib\\site-packages\\sklearn\\decomposition\\_kernel_pca.py\", line 317, in _get_kernel\n",
      "    return pairwise_kernels(\n",
      "           ^^^^^^^^^^^^^^^^^\n",
      "  File \"C:\\Users\\yumem\\anaconda3\\Lib\\site-packages\\sklearn\\metrics\\pairwise.py\", line 2366, in pairwise_kernels\n",
      "    return _parallel_pairwise(X, Y, func, n_jobs, **kwds)\n",
      "           ^^^^^^^^^^^^^^^^^^^^^^^^^^^^^^^^^^^^^^^^^^^^^^\n",
      "  File \"C:\\Users\\yumem\\anaconda3\\Lib\\site-packages\\sklearn\\metrics\\pairwise.py\", line 1766, in _parallel_pairwise\n",
      "    return func(X, Y, **kwds)\n",
      "           ^^^^^^^^^^^^^^^^^^\n",
      "  File \"C:\\Users\\yumem\\anaconda3\\Lib\\site-packages\\sklearn\\utils\\_param_validation.py\", line 187, in wrapper\n",
      "    return func(*args, **kwargs)\n",
      "           ^^^^^^^^^^^^^^^^^^^^^\n",
      "  File \"C:\\Users\\yumem\\anaconda3\\Lib\\site-packages\\sklearn\\metrics\\pairwise.py\", line 1330, in linear_kernel\n",
      "    return safe_sparse_dot(X, Y.T, dense_output=dense_output)\n",
      "           ^^^^^^^^^^^^^^^^^^^^^^^^^^^^^^^^^^^^^^^^^^^^^^^^^^\n",
      "  File \"C:\\Users\\yumem\\anaconda3\\Lib\\site-packages\\sklearn\\utils\\extmath.py\", line 192, in safe_sparse_dot\n",
      "    ret = a @ b\n",
      "          ~~^~~\n",
      "numpy.core._exceptions._ArrayMemoryError: Unable to allocate 238. GiB for an array with shape (178680, 178680) and data type float64\n",
      "\n",
      "--------------------------------------------------------------------------------\n",
      "128 fits failed with the following error:\n",
      "Traceback (most recent call last):\n",
      "  File \"C:\\Users\\yumem\\anaconda3\\Lib\\site-packages\\sklearn\\model_selection\\_validation.py\", line 729, in _fit_and_score\n",
      "    estimator.fit(X_train, y_train, **fit_params)\n",
      "  File \"C:\\Users\\yumem\\anaconda3\\Lib\\site-packages\\sklearn\\base.py\", line 1152, in wrapper\n",
      "    return fit_method(estimator, *args, **kwargs)\n",
      "           ^^^^^^^^^^^^^^^^^^^^^^^^^^^^^^^^^^^^^^\n",
      "  File \"C:\\Users\\yumem\\anaconda3\\Lib\\site-packages\\sklearn\\pipeline.py\", line 423, in fit\n",
      "    Xt = self._fit(X, y, **fit_params_steps)\n",
      "         ^^^^^^^^^^^^^^^^^^^^^^^^^^^^^^^^^^^\n",
      "  File \"C:\\Users\\yumem\\anaconda3\\Lib\\site-packages\\sklearn\\pipeline.py\", line 377, in _fit\n",
      "    X, fitted_transformer = fit_transform_one_cached(\n",
      "                            ^^^^^^^^^^^^^^^^^^^^^^^^^\n",
      "  File \"C:\\Users\\yumem\\anaconda3\\Lib\\site-packages\\joblib\\memory.py\", line 353, in __call__\n",
      "    return self.func(*args, **kwargs)\n",
      "           ^^^^^^^^^^^^^^^^^^^^^^^^^^\n",
      "  File \"C:\\Users\\yumem\\anaconda3\\Lib\\site-packages\\sklearn\\pipeline.py\", line 957, in _fit_transform_one\n",
      "    res = transformer.fit_transform(X, y, **fit_params)\n",
      "          ^^^^^^^^^^^^^^^^^^^^^^^^^^^^^^^^^^^^^^^^^^^^^\n",
      "  File \"C:\\Users\\yumem\\anaconda3\\Lib\\site-packages\\sklearn\\utils\\_set_output.py\", line 157, in wrapped\n",
      "    data_to_wrap = f(self, X, *args, **kwargs)\n",
      "                   ^^^^^^^^^^^^^^^^^^^^^^^^^^^\n",
      "  File \"C:\\Users\\yumem\\anaconda3\\Lib\\site-packages\\sklearn\\decomposition\\_kernel_pca.py\", line 469, in fit_transform\n",
      "    self.fit(X, **params)\n",
      "  File \"C:\\Users\\yumem\\anaconda3\\Lib\\site-packages\\sklearn\\base.py\", line 1152, in wrapper\n",
      "    return fit_method(estimator, *args, **kwargs)\n",
      "           ^^^^^^^^^^^^^^^^^^^^^^^^^^^^^^^^^^^^^^\n",
      "  File \"C:\\Users\\yumem\\anaconda3\\Lib\\site-packages\\sklearn\\decomposition\\_kernel_pca.py\", line 436, in fit\n",
      "    K = self._get_kernel(X)\n",
      "        ^^^^^^^^^^^^^^^^^^^\n",
      "  File \"C:\\Users\\yumem\\anaconda3\\Lib\\site-packages\\sklearn\\decomposition\\_kernel_pca.py\", line 317, in _get_kernel\n",
      "    return pairwise_kernels(\n",
      "           ^^^^^^^^^^^^^^^^^\n",
      "  File \"C:\\Users\\yumem\\anaconda3\\Lib\\site-packages\\sklearn\\metrics\\pairwise.py\", line 2366, in pairwise_kernels\n",
      "    return _parallel_pairwise(X, Y, func, n_jobs, **kwds)\n",
      "           ^^^^^^^^^^^^^^^^^^^^^^^^^^^^^^^^^^^^^^^^^^^^^^\n",
      "  File \"C:\\Users\\yumem\\anaconda3\\Lib\\site-packages\\sklearn\\metrics\\pairwise.py\", line 1766, in _parallel_pairwise\n",
      "    return func(X, Y, **kwds)\n",
      "           ^^^^^^^^^^^^^^^^^^\n",
      "  File \"C:\\Users\\yumem\\anaconda3\\Lib\\site-packages\\sklearn\\utils\\_param_validation.py\", line 187, in wrapper\n",
      "    return func(*args, **kwargs)\n",
      "           ^^^^^^^^^^^^^^^^^^^^^\n",
      "  File \"C:\\Users\\yumem\\anaconda3\\Lib\\site-packages\\sklearn\\metrics\\pairwise.py\", line 1330, in linear_kernel\n",
      "    return safe_sparse_dot(X, Y.T, dense_output=dense_output)\n",
      "           ^^^^^^^^^^^^^^^^^^^^^^^^^^^^^^^^^^^^^^^^^^^^^^^^^^\n",
      "  File \"C:\\Users\\yumem\\anaconda3\\Lib\\site-packages\\sklearn\\utils\\extmath.py\", line 192, in safe_sparse_dot\n",
      "    ret = a @ b\n",
      "          ~~^~~\n",
      "numpy.core._exceptions._ArrayMemoryError: Unable to allocate 238. GiB for an array with shape (178681, 178681) and data type float64\n",
      "\n",
      "  warnings.warn(some_fits_failed_message, FitFailedWarning)\n",
      "C:\\Users\\yumem\\anaconda3\\Lib\\site-packages\\sklearn\\model_selection\\_search.py:979: UserWarning: One or more of the test scores are non-finite: [0.91452467 0.91452467 0.91452467 0.91452467 0.67609277 0.62357007\n",
      " 0.67609277 0.62357007 0.91452467 0.91452467 0.91452467 0.91452467\n",
      " 0.67609277 0.62357007 0.67609277 0.62357007 0.91452467 0.91452467\n",
      " 0.91452467 0.91452467 0.6748257  0.62357007 0.6748257  0.62357007\n",
      " 0.91452467 0.91452467 0.91452467 0.91452467 0.6748257  0.62357007\n",
      " 0.6748257  0.62357007        nan        nan        nan        nan\n",
      "        nan        nan        nan        nan        nan        nan\n",
      "        nan        nan        nan        nan        nan        nan\n",
      "        nan        nan        nan        nan        nan        nan\n",
      "        nan        nan        nan        nan        nan        nan\n",
      "        nan        nan        nan        nan 0.89913186 0.08547533\n",
      " 0.89913186 0.90992653 0.73517914 0.08547533 0.73517914 0.68496671\n",
      " 0.89913186 0.90992205 0.89913186 0.90992205 0.73517914 0.68496223\n",
      " 0.73517914 0.68496223 0.89913186 0.90992205 0.89913186 0.90992205\n",
      " 0.73517914 0.68496223 0.73517914 0.68496223 0.89913186 0.90992205\n",
      " 0.89913186 0.90992205 0.73517914 0.68495328 0.73517914 0.68495328]\n",
      "  warnings.warn(\n"
     ]
    },
    {
     "data": {
      "text/plain": [
       "{'dim_reducer': PCA(),\n",
       " 'model': BernoulliNB(),\n",
       " 'model__alpha': 0,\n",
       " 'model__fit_prior': True,\n",
       " 'model__force_alpha': True,\n",
       " 'normalise': StandardScaler()}"
      ]
     },
     "execution_count": 51,
     "metadata": {},
     "output_type": "execute_result"
    }
   ],
   "source": [
    "%%time\n",
    "\n",
    "from sklearn.preprocessing import MinMaxScaler\n",
    "from sklearn.pipeline import Pipeline\n",
    "from sklearn.decomposition import PCA, KernelPCA\n",
    "from sklearn.model_selection import GridSearchCV\n",
    "\n",
    "estimators = [('normalise', StandardScaler()),\n",
    "              ('dim_reducer', None),\n",
    "              ('model', BernoulliNB())]\n",
    "\n",
    "pipe = Pipeline(estimators)\n",
    "\n",
    "param_grid = [\n",
    "            {'model': [BernoulliNB()], \n",
    "             'normalise': [StandardScaler(), MinMaxScaler()],\n",
    "             'dim_reducer': [PCA(), KernelPCA(), None],\n",
    "             'model__alpha': [0, 1, 5, 10],\n",
    "             'model__force_alpha': [True, False],\n",
    "             'model__fit_prior': [True, False]}\n",
    "]\n",
    "\n",
    "grid = GridSearchCV(pipe, param_grid, cv=5)\n",
    "fittedgrid_bnb_original = grid.fit(X_train_original.loc[:, rfe_original.support_], y_train_original)\n",
    "\n",
    "fittedgrid_bnb_original.best_params_"
   ]
  },
  {
   "cell_type": "code",
   "execution_count": 52,
   "id": "c524d612",
   "metadata": {},
   "outputs": [
    {
     "data": {
      "text/plain": [
       "0.9145246719289369"
      ]
     },
     "execution_count": 52,
     "metadata": {},
     "output_type": "execute_result"
    }
   ],
   "source": [
    "fittedgrid_bnb_original.score(X_train_original.loc[:, rfe_original.support_], y_train_original)"
   ]
  },
  {
   "cell_type": "code",
   "execution_count": 53,
   "id": "3c668856",
   "metadata": {},
   "outputs": [
    {
     "data": {
      "text/plain": [
       "0.9145650947535572"
      ]
     },
     "execution_count": 53,
     "metadata": {},
     "output_type": "execute_result"
    }
   ],
   "source": [
    "fittedgrid_bnb_original.score(X_test_original.loc[:, rfe_original.support_], y_test_original)"
   ]
  },
  {
   "cell_type": "code",
   "execution_count": 101,
   "id": "24941ee3",
   "metadata": {},
   "outputs": [
    {
     "name": "stdout",
     "output_type": "stream",
     "text": [
      "Train score: 0.9145246719289369\n",
      "Test score: 0.9145650947535572\n",
      "              precision    recall  f1-score   support\n",
      "\n",
      "           0       0.91      1.00      0.96     87544\n",
      "           1       0.00      0.00      0.00      8178\n",
      "\n",
      "    accuracy                           0.91     95722\n",
      "   macro avg       0.46      0.50      0.48     95722\n",
      "weighted avg       0.84      0.91      0.87     95722\n",
      "\n"
     ]
    },
    {
     "name": "stderr",
     "output_type": "stream",
     "text": [
      "C:\\Users\\yumem\\anaconda3\\Lib\\site-packages\\sklearn\\metrics\\_classification.py:1471: UndefinedMetricWarning: Precision and F-score are ill-defined and being set to 0.0 in labels with no predicted samples. Use `zero_division` parameter to control this behavior.\n",
      "  _warn_prf(average, modifier, msg_start, len(result))\n",
      "C:\\Users\\yumem\\anaconda3\\Lib\\site-packages\\sklearn\\metrics\\_classification.py:1471: UndefinedMetricWarning: Precision and F-score are ill-defined and being set to 0.0 in labels with no predicted samples. Use `zero_division` parameter to control this behavior.\n",
      "  _warn_prf(average, modifier, msg_start, len(result))\n",
      "C:\\Users\\yumem\\anaconda3\\Lib\\site-packages\\sklearn\\metrics\\_classification.py:1471: UndefinedMetricWarning: Precision and F-score are ill-defined and being set to 0.0 in labels with no predicted samples. Use `zero_division` parameter to control this behavior.\n",
      "  _warn_prf(average, modifier, msg_start, len(result))\n"
     ]
    }
   ],
   "source": [
    "scaler = MinMaxScaler()\n",
    "scaler.fit(X_train_original.loc[:, rfe_original.support_])\n",
    "X_scaled_train = scaler.transform(X_train_original.loc[:, rfe_original.support_])\n",
    "X_scaled_test = scaler.transform(X_test_original.loc[:, rfe_original.support_])\n",
    "    \n",
    "my_PCA = PCA()\n",
    "my_PCA.fit(X_scaled_train)\n",
    "\n",
    "X_train_PCA = my_PCA.transform(X_scaled_train)\n",
    "X_test_PCA = my_PCA.transform(X_scaled_test)   \n",
    "    \n",
    "my_berno_nb = BernoulliNB(alpha=0, fit_prior=True, force_alpha=True).fit(X_train_PCA, y_train_original)\n",
    "    \n",
    "train_pred = my_berno_nb.predict(X_train_PCA)\n",
    "test_pred = my_berno_nb.predict(X_test_PCA)\n",
    "    \n",
    "train_score = accuracy_score(y_train_original, train_pred)\n",
    "test_score = accuracy_score(y_test_original, test_pred)\n",
    "    \n",
    "evaluation = classification_report(y_test_original, test_pred)\n",
    "    \n",
    "print(f\"Train score: {train_score}\\nTest score: {test_score}\\n{evaluation}\")"
   ]
  },
  {
   "cell_type": "markdown",
   "id": "95f30563",
   "metadata": {},
   "source": [
    "The accuracy score improved, but the precision and recall score for 1 became 0. Thefore, the model before the pipeline is better. However, the recall score is 0.16 and the precision score is not high either."
   ]
  },
  {
   "cell_type": "markdown",
   "id": "7d7d33cd",
   "metadata": {},
   "source": [
    "**Under sampled data**"
   ]
  },
  {
   "cell_type": "code",
   "execution_count": 45,
   "id": "37e61e94",
   "metadata": {},
   "outputs": [
    {
     "name": "stdout",
     "output_type": "stream",
     "text": [
      "Under sampled data: train_v and validation\n"
     ]
    },
    {
     "data": {
      "image/png": "[encoded data removed]",
      "text/plain": [
       "<Figure size 640x480 with 1 Axes>"
      ]
     },
     "metadata": {},
     "output_type": "display_data"
    }
   ],
   "source": [
    "print(\"Under sampled data: train_v and validation\")\n",
    "b_alpha = [0.1, 0.5, 1, 2, 5, 10]\n",
    "bernoulli_alpha(b_alpha, X_train_v_under, y_train_v_under, X_validation_under, y_validation_under)"
   ]
  },
  {
   "cell_type": "markdown",
   "id": "b97c5377",
   "metadata": {},
   "source": [
    "The accuracy score doesn't cgange by the alpha values. I'll use the same alpha values for the train/test set."
   ]
  },
  {
   "cell_type": "code",
   "execution_count": 46,
   "id": "a45a4a31",
   "metadata": {},
   "outputs": [
    {
     "name": "stdout",
     "output_type": "stream",
     "text": [
      "Under sampled data: train and test\n"
     ]
    },
    {
     "data": {
      "image/png": "[encoded data removed]",
      "text/plain": [
       "<Figure size 640x480 with 1 Axes>"
      ]
     },
     "metadata": {},
     "output_type": "display_data"
    }
   ],
   "source": [
    "print(\"Under sampled data: train and test\")\n",
    "b_alpha = [0.1, 0.5, 1, 2, 5, 10]\n",
    "bernoulli_alpha(b_alpha, X_train_under.loc[:, rfe_under.support_], y_train_under, X_test_sampled.loc[:, rfe_under.support_], y_test_sampled)"
   ]
  },
  {
   "cell_type": "markdown",
   "id": "ec3ed35c",
   "metadata": {},
   "source": [
    "The accuracy score doesn't cgange by the alpha values for the model of train and test set. Also, the test score is greater than the train score, so the model is underfitting.  \n",
    "I'll use 1, 5, 10, and 0 for the alpha of pipeline. Also, the same code of the pipeline earlier takes long time to execute for the under sampled dataset, so I'll split the pipeline into 2 steps."
   ]
  },
  {
   "cell_type": "code",
   "execution_count": 72,
   "id": "546d6561",
   "metadata": {},
   "outputs": [
    {
     "name": "stdout",
     "output_type": "stream",
     "text": [
      "CPU times: total: 17h 36min 46s\n",
      "Wall time: 3h 31min 46s\n"
     ]
    },
    {
     "data": {
      "text/plain": [
       "{'dim_reducer': None, 'model': BernoulliNB()}"
      ]
     },
     "execution_count": 72,
     "metadata": {},
     "output_type": "execute_result"
    }
   ],
   "source": [
    "%%time\n",
    "\n",
    "from sklearn.preprocessing import MinMaxScaler\n",
    "from sklearn.pipeline import Pipeline\n",
    "from sklearn.decomposition import PCA, KernelPCA\n",
    "from sklearn.model_selection import GridSearchCV\n",
    "\n",
    "estimators = [('normalise', StandardScaler()),\n",
    "              ('dim_reducer', None),\n",
    "              ('model', BernoulliNB())]\n",
    "\n",
    "pipe = Pipeline(estimators)\n",
    "\n",
    "param_grid = [\n",
    "            {'model': [BernoulliNB()], \n",
    "#             'normalise': [StandardScaler(), MinMaxScaler()],\n",
    "             'dim_reducer': [PCA(), KernelPCA(), None]}\n",
    "#             'model__alpha': [0, 1, 5, 10],\n",
    "#             'model__force_alpha': [True, False],\n",
    "#             'model__fit_prior': [True, False]}\n",
    "]\n",
    "\n",
    "grid = GridSearchCV(pipe, param_grid, cv=5)\n",
    "fittedgrid_bnb_under = grid.fit(X_train_under.loc[:, rfe_under.support_], y_train_under)\n",
    "\n",
    "fittedgrid_bnb_under.best_params_"
   ]
  },
  {
   "cell_type": "code",
   "execution_count": 74,
   "id": "7ffdf2ab",
   "metadata": {},
   "outputs": [
    {
     "name": "stderr",
     "output_type": "stream",
     "text": [
      "C:\\Users\\yumem\\anaconda3\\Lib\\site-packages\\sklearn\\naive_bayes.py:633: UserWarning: alpha too small will result in numeric errors, setting alpha = 1.0e-10. Use `force_alpha=True` to keep alpha unchanged.\n",
      "  warnings.warn(\n",
      "C:\\Users\\yumem\\anaconda3\\Lib\\site-packages\\sklearn\\naive_bayes.py:633: UserWarning: alpha too small will result in numeric errors, setting alpha = 1.0e-10. Use `force_alpha=True` to keep alpha unchanged.\n",
      "  warnings.warn(\n",
      "C:\\Users\\yumem\\anaconda3\\Lib\\site-packages\\sklearn\\naive_bayes.py:633: UserWarning: alpha too small will result in numeric errors, setting alpha = 1.0e-10. Use `force_alpha=True` to keep alpha unchanged.\n",
      "  warnings.warn(\n",
      "C:\\Users\\yumem\\anaconda3\\Lib\\site-packages\\sklearn\\naive_bayes.py:633: UserWarning: alpha too small will result in numeric errors, setting alpha = 1.0e-10. Use `force_alpha=True` to keep alpha unchanged.\n",
      "  warnings.warn(\n",
      "C:\\Users\\yumem\\anaconda3\\Lib\\site-packages\\sklearn\\naive_bayes.py:633: UserWarning: alpha too small will result in numeric errors, setting alpha = 1.0e-10. Use `force_alpha=True` to keep alpha unchanged.\n",
      "  warnings.warn(\n",
      "C:\\Users\\yumem\\anaconda3\\Lib\\site-packages\\sklearn\\naive_bayes.py:633: UserWarning: alpha too small will result in numeric errors, setting alpha = 1.0e-10. Use `force_alpha=True` to keep alpha unchanged.\n",
      "  warnings.warn(\n",
      "C:\\Users\\yumem\\anaconda3\\Lib\\site-packages\\sklearn\\naive_bayes.py:633: UserWarning: alpha too small will result in numeric errors, setting alpha = 1.0e-10. Use `force_alpha=True` to keep alpha unchanged.\n",
      "  warnings.warn(\n",
      "C:\\Users\\yumem\\anaconda3\\Lib\\site-packages\\sklearn\\naive_bayes.py:633: UserWarning: alpha too small will result in numeric errors, setting alpha = 1.0e-10. Use `force_alpha=True` to keep alpha unchanged.\n",
      "  warnings.warn(\n",
      "C:\\Users\\yumem\\anaconda3\\Lib\\site-packages\\sklearn\\naive_bayes.py:633: UserWarning: alpha too small will result in numeric errors, setting alpha = 1.0e-10. Use `force_alpha=True` to keep alpha unchanged.\n",
      "  warnings.warn(\n",
      "C:\\Users\\yumem\\anaconda3\\Lib\\site-packages\\sklearn\\naive_bayes.py:633: UserWarning: alpha too small will result in numeric errors, setting alpha = 1.0e-10. Use `force_alpha=True` to keep alpha unchanged.\n",
      "  warnings.warn(\n",
      "C:\\Users\\yumem\\anaconda3\\Lib\\site-packages\\sklearn\\naive_bayes.py:633: UserWarning: alpha too small will result in numeric errors, setting alpha = 1.0e-10. Use `force_alpha=True` to keep alpha unchanged.\n",
      "  warnings.warn(\n",
      "C:\\Users\\yumem\\anaconda3\\Lib\\site-packages\\sklearn\\naive_bayes.py:633: UserWarning: alpha too small will result in numeric errors, setting alpha = 1.0e-10. Use `force_alpha=True` to keep alpha unchanged.\n",
      "  warnings.warn(\n",
      "C:\\Users\\yumem\\anaconda3\\Lib\\site-packages\\sklearn\\naive_bayes.py:633: UserWarning: alpha too small will result in numeric errors, setting alpha = 1.0e-10. Use `force_alpha=True` to keep alpha unchanged.\n",
      "  warnings.warn(\n",
      "C:\\Users\\yumem\\anaconda3\\Lib\\site-packages\\sklearn\\naive_bayes.py:633: UserWarning: alpha too small will result in numeric errors, setting alpha = 1.0e-10. Use `force_alpha=True` to keep alpha unchanged.\n",
      "  warnings.warn(\n",
      "C:\\Users\\yumem\\anaconda3\\Lib\\site-packages\\sklearn\\naive_bayes.py:633: UserWarning: alpha too small will result in numeric errors, setting alpha = 1.0e-10. Use `force_alpha=True` to keep alpha unchanged.\n",
      "  warnings.warn(\n",
      "C:\\Users\\yumem\\anaconda3\\Lib\\site-packages\\sklearn\\naive_bayes.py:633: UserWarning: alpha too small will result in numeric errors, setting alpha = 1.0e-10. Use `force_alpha=True` to keep alpha unchanged.\n",
      "  warnings.warn(\n",
      "C:\\Users\\yumem\\anaconda3\\Lib\\site-packages\\sklearn\\naive_bayes.py:633: UserWarning: alpha too small will result in numeric errors, setting alpha = 1.0e-10. Use `force_alpha=True` to keep alpha unchanged.\n",
      "  warnings.warn(\n",
      "C:\\Users\\yumem\\anaconda3\\Lib\\site-packages\\sklearn\\naive_bayes.py:633: UserWarning: alpha too small will result in numeric errors, setting alpha = 1.0e-10. Use `force_alpha=True` to keep alpha unchanged.\n",
      "  warnings.warn(\n",
      "C:\\Users\\yumem\\anaconda3\\Lib\\site-packages\\sklearn\\naive_bayes.py:633: UserWarning: alpha too small will result in numeric errors, setting alpha = 1.0e-10. Use `force_alpha=True` to keep alpha unchanged.\n",
      "  warnings.warn(\n",
      "C:\\Users\\yumem\\anaconda3\\Lib\\site-packages\\sklearn\\naive_bayes.py:633: UserWarning: alpha too small will result in numeric errors, setting alpha = 1.0e-10. Use `force_alpha=True` to keep alpha unchanged.\n",
      "  warnings.warn(\n"
     ]
    },
    {
     "name": "stdout",
     "output_type": "stream",
     "text": [
      "CPU times: total: 1.36 s\n",
      "Wall time: 4.03 s\n"
     ]
    },
    {
     "data": {
      "text/plain": [
       "{'dim_reducer': None,\n",
       " 'model': BernoulliNB(),\n",
       " 'model__alpha': 10,\n",
       " 'model__fit_prior': True,\n",
       " 'model__force_alpha': True,\n",
       " 'normalise': StandardScaler()}"
      ]
     },
     "execution_count": 74,
     "metadata": {},
     "output_type": "execute_result"
    }
   ],
   "source": [
    "%%time\n",
    "\n",
    "from sklearn.preprocessing import MinMaxScaler\n",
    "from sklearn.pipeline import Pipeline\n",
    "from sklearn.decomposition import PCA, KernelPCA\n",
    "from sklearn.model_selection import GridSearchCV\n",
    "\n",
    "estimators = [('normalise', StandardScaler()),\n",
    "              ('dim_reducer', None),\n",
    "              ('model', BernoulliNB())]\n",
    "\n",
    "pipe = Pipeline(estimators)\n",
    "\n",
    "param_grid = [\n",
    "            {'model': [BernoulliNB()], \n",
    "             'normalise': [StandardScaler(), MinMaxScaler()],\n",
    "             'dim_reducer': [None],\n",
    "             'model__alpha': [0, 1, 5, 10,100],\n",
    "             'model__force_alpha': [True, False],\n",
    "             'model__fit_prior': [True, False]}\n",
    "]\n",
    "\n",
    "grid = GridSearchCV(pipe, param_grid, cv=5)\n",
    "fittedgrid_bnb_under = grid.fit(X_train_under.loc[:, rfe_under.support_], y_train_under)\n",
    "\n",
    "fittedgrid_bnb_under.best_params_"
   ]
  },
  {
   "cell_type": "code",
   "execution_count": 75,
   "id": "6e0826f5",
   "metadata": {},
   "outputs": [
    {
     "data": {
      "text/plain": [
       "0.7243727410821853"
      ]
     },
     "execution_count": 75,
     "metadata": {},
     "output_type": "execute_result"
    }
   ],
   "source": [
    "fittedgrid_bnb_under.score(X_train_under.loc[:, rfe_under.support_], y_train_under)"
   ]
  },
  {
   "cell_type": "code",
   "execution_count": 76,
   "id": "4cbc22fe",
   "metadata": {},
   "outputs": [
    {
     "data": {
      "text/plain": [
       "0.7600969474102087"
      ]
     },
     "execution_count": 76,
     "metadata": {},
     "output_type": "execute_result"
    }
   ],
   "source": [
    "fittedgrid_bnb_under.score(X_test_sampled.loc[:, rfe_under.support_], y_test_sampled)"
   ]
  },
  {
   "cell_type": "code",
   "execution_count": 102,
   "id": "6d346061",
   "metadata": {},
   "outputs": [
    {
     "name": "stdout",
     "output_type": "stream",
     "text": [
      "Train score: 0.7243727410821853\n",
      "Test score: 0.7600969474102087\n",
      "              precision    recall  f1-score   support\n",
      "\n",
      "           0       0.96      0.77      0.85     87544\n",
      "           1       0.21      0.67      0.32      8178\n",
      "\n",
      "    accuracy                           0.76     95722\n",
      "   macro avg       0.59      0.72      0.59     95722\n",
      "weighted avg       0.90      0.76      0.81     95722\n",
      "\n"
     ]
    }
   ],
   "source": [
    "scaler = StandardScaler()\n",
    "scaler.fit(X_train_under.loc[:, rfe_under.support_])\n",
    "X_scaled_train = scaler.transform(X_train_under.loc[:, rfe_under.support_])\n",
    "X_scaled_test = scaler.transform(X_test_sampled.loc[:, rfe_under.support_])\n",
    "      \n",
    "my_berno_nb = BernoulliNB(alpha=10, fit_prior=True, force_alpha=True).fit(X_scaled_train, y_train_under)\n",
    "    \n",
    "train_pred = my_berno_nb.predict(X_scaled_train)\n",
    "test_pred = my_berno_nb.predict(X_scaled_test)\n",
    "    \n",
    "train_score = accuracy_score(y_train_under, train_pred)\n",
    "test_score = accuracy_score(y_test_sampled, test_pred)\n",
    "    \n",
    "evaluation = classification_report(y_test_sampled, test_pred)\n",
    "    \n",
    "print(f\"Train score: {train_score}\\nTest score: {test_score}\\n{evaluation}\")"
   ]
  },
  {
   "cell_type": "markdown",
   "id": "5e698a62",
   "metadata": {},
   "source": [
    "The model is still underfitting and any of the scores couldn't improved."
   ]
  },
  {
   "cell_type": "markdown",
   "id": "39654d44",
   "metadata": {},
   "source": [
    "**Over sampled data**"
   ]
  },
  {
   "cell_type": "code",
   "execution_count": 47,
   "id": "0ef15769",
   "metadata": {},
   "outputs": [
    {
     "name": "stdout",
     "output_type": "stream",
     "text": [
      "Over sampled data: train_v and validation\n"
     ]
    },
    {
     "data": {
      "image/png": "[encoded data removed]",
      "text/plain": [
       "<Figure size 640x480 with 1 Axes>"
      ]
     },
     "metadata": {},
     "output_type": "display_data"
    }
   ],
   "source": [
    "print(\"Over sampled data: train_v and validation\")\n",
    "b_alpha = [0.1, 0.5, 1, 2, 5, 10]\n",
    "bernoulli_alpha(b_alpha, X_train_v_over, y_train_v_over, X_validation_over, y_validation_over)"
   ]
  },
  {
   "cell_type": "markdown",
   "id": "3d91a493",
   "metadata": {},
   "source": [
    "The accuracy score doesn't cgange by the alpha values. I'll use the same alpha values for the train/test set."
   ]
  },
  {
   "cell_type": "code",
   "execution_count": 48,
   "id": "929280d9",
   "metadata": {},
   "outputs": [
    {
     "name": "stdout",
     "output_type": "stream",
     "text": [
      "Over sampled data: train and test\n"
     ]
    },
    {
     "data": {
      "image/png": "[encoded data removed]",
      "text/plain": [
       "<Figure size 640x480 with 1 Axes>"
      ]
     },
     "metadata": {},
     "output_type": "display_data"
    }
   ],
   "source": [
    "print(\"Over sampled data: train and test\")\n",
    "b_alpha = [0.1, 0.5, 1, 2, 5, 10]\n",
    "bernoulli_alpha(b_alpha, X_train_over.loc[:, rfe_over.support_], y_train_over, X_test_sampled.loc[:, rfe_over.support_], y_test_sampled)"
   ]
  },
  {
   "cell_type": "markdown",
   "id": "7ca9896e",
   "metadata": {},
   "source": [
    "The accuracy score doesn't cgange by the alpha values for the model of train and test set. Also, the test score is greater than the train score, so the model is underfitting.\n",
    "I'll use 1, 5, 10, and 0 for the alpha of pipeline. Also, the same code of the pipeline earlier takes long time to execute for the over sampled dataset, so I'll split the pipeline into 2 steps."
   ]
  },
  {
   "cell_type": "code",
   "execution_count": 54,
   "id": "70e508d8",
   "metadata": {},
   "outputs": [
    {
     "name": "stderr",
     "output_type": "stream",
     "text": [
      "C:\\Users\\yumem\\anaconda3\\Lib\\site-packages\\sklearn\\model_selection\\_validation.py:425: FitFailedWarning: \n",
      "5 fits failed out of a total of 15.\n",
      "The score on these train-test partitions for these parameters will be set to nan.\n",
      "If these failures are not expected, you can try to debug them by setting error_score='raise'.\n",
      "\n",
      "Below are more details about the failures:\n",
      "--------------------------------------------------------------------------------\n",
      "5 fits failed with the following error:\n",
      "Traceback (most recent call last):\n",
      "  File \"C:\\Users\\yumem\\anaconda3\\Lib\\site-packages\\sklearn\\model_selection\\_validation.py\", line 729, in _fit_and_score\n",
      "    estimator.fit(X_train, y_train, **fit_params)\n",
      "  File \"C:\\Users\\yumem\\anaconda3\\Lib\\site-packages\\sklearn\\base.py\", line 1152, in wrapper\n",
      "    return fit_method(estimator, *args, **kwargs)\n",
      "           ^^^^^^^^^^^^^^^^^^^^^^^^^^^^^^^^^^^^^^\n",
      "  File \"C:\\Users\\yumem\\anaconda3\\Lib\\site-packages\\sklearn\\pipeline.py\", line 423, in fit\n",
      "    Xt = self._fit(X, y, **fit_params_steps)\n",
      "         ^^^^^^^^^^^^^^^^^^^^^^^^^^^^^^^^^^^\n",
      "  File \"C:\\Users\\yumem\\anaconda3\\Lib\\site-packages\\sklearn\\pipeline.py\", line 377, in _fit\n",
      "    X, fitted_transformer = fit_transform_one_cached(\n",
      "                            ^^^^^^^^^^^^^^^^^^^^^^^^^\n",
      "  File \"C:\\Users\\yumem\\anaconda3\\Lib\\site-packages\\joblib\\memory.py\", line 353, in __call__\n",
      "    return self.func(*args, **kwargs)\n",
      "           ^^^^^^^^^^^^^^^^^^^^^^^^^^\n",
      "  File \"C:\\Users\\yumem\\anaconda3\\Lib\\site-packages\\sklearn\\pipeline.py\", line 957, in _fit_transform_one\n",
      "    res = transformer.fit_transform(X, y, **fit_params)\n",
      "          ^^^^^^^^^^^^^^^^^^^^^^^^^^^^^^^^^^^^^^^^^^^^^\n",
      "  File \"C:\\Users\\yumem\\anaconda3\\Lib\\site-packages\\sklearn\\utils\\_set_output.py\", line 157, in wrapped\n",
      "    data_to_wrap = f(self, X, *args, **kwargs)\n",
      "                   ^^^^^^^^^^^^^^^^^^^^^^^^^^^\n",
      "  File \"C:\\Users\\yumem\\anaconda3\\Lib\\site-packages\\sklearn\\decomposition\\_kernel_pca.py\", line 469, in fit_transform\n",
      "    self.fit(X, **params)\n",
      "  File \"C:\\Users\\yumem\\anaconda3\\Lib\\site-packages\\sklearn\\base.py\", line 1152, in wrapper\n",
      "    return fit_method(estimator, *args, **kwargs)\n",
      "           ^^^^^^^^^^^^^^^^^^^^^^^^^^^^^^^^^^^^^^\n",
      "  File \"C:\\Users\\yumem\\anaconda3\\Lib\\site-packages\\sklearn\\decomposition\\_kernel_pca.py\", line 436, in fit\n",
      "    K = self._get_kernel(X)\n",
      "        ^^^^^^^^^^^^^^^^^^^\n",
      "  File \"C:\\Users\\yumem\\anaconda3\\Lib\\site-packages\\sklearn\\decomposition\\_kernel_pca.py\", line 317, in _get_kernel\n",
      "    return pairwise_kernels(\n",
      "           ^^^^^^^^^^^^^^^^^\n",
      "  File \"C:\\Users\\yumem\\anaconda3\\Lib\\site-packages\\sklearn\\metrics\\pairwise.py\", line 2366, in pairwise_kernels\n",
      "    return _parallel_pairwise(X, Y, func, n_jobs, **kwds)\n",
      "           ^^^^^^^^^^^^^^^^^^^^^^^^^^^^^^^^^^^^^^^^^^^^^^\n",
      "  File \"C:\\Users\\yumem\\anaconda3\\Lib\\site-packages\\sklearn\\metrics\\pairwise.py\", line 1766, in _parallel_pairwise\n",
      "    return func(X, Y, **kwds)\n",
      "           ^^^^^^^^^^^^^^^^^^\n",
      "  File \"C:\\Users\\yumem\\anaconda3\\Lib\\site-packages\\sklearn\\utils\\_param_validation.py\", line 187, in wrapper\n",
      "    return func(*args, **kwargs)\n",
      "           ^^^^^^^^^^^^^^^^^^^^^\n",
      "  File \"C:\\Users\\yumem\\anaconda3\\Lib\\site-packages\\sklearn\\metrics\\pairwise.py\", line 1330, in linear_kernel\n",
      "    return safe_sparse_dot(X, Y.T, dense_output=dense_output)\n",
      "           ^^^^^^^^^^^^^^^^^^^^^^^^^^^^^^^^^^^^^^^^^^^^^^^^^^\n",
      "  File \"C:\\Users\\yumem\\anaconda3\\Lib\\site-packages\\sklearn\\utils\\extmath.py\", line 192, in safe_sparse_dot\n",
      "    ret = a @ b\n",
      "          ~~^~~\n",
      "numpy.core._exceptions._ArrayMemoryError: Unable to allocate 796. GiB for an array with shape (326816, 326816) and data type float64\n",
      "\n",
      "  warnings.warn(some_fits_failed_message, FitFailedWarning)\n",
      "C:\\Users\\yumem\\anaconda3\\Lib\\site-packages\\sklearn\\model_selection\\_search.py:979: UserWarning: One or more of the test scores are non-finite: [0.71379859        nan 0.72587878]\n",
      "  warnings.warn(\n"
     ]
    },
    {
     "name": "stdout",
     "output_type": "stream",
     "text": [
      "CPU times: total: 3.11 s\n",
      "Wall time: 3.69 s\n"
     ]
    },
    {
     "data": {
      "text/plain": [
       "{'dim_reducer': None, 'model': BernoulliNB()}"
      ]
     },
     "execution_count": 54,
     "metadata": {},
     "output_type": "execute_result"
    }
   ],
   "source": [
    "%%time\n",
    "\n",
    "from sklearn.preprocessing import MinMaxScaler\n",
    "from sklearn.pipeline import Pipeline\n",
    "from sklearn.decomposition import PCA, KernelPCA\n",
    "from sklearn.model_selection import GridSearchCV\n",
    "\n",
    "estimators = [('normalise', StandardScaler()),\n",
    "              ('dim_reducer', None),\n",
    "              ('model', BernoulliNB())]\n",
    "\n",
    "pipe = Pipeline(estimators)\n",
    "\n",
    "param_grid = [\n",
    "            {'model': [BernoulliNB()], \n",
    "#             'normalise': [StandardScaler(), MinMaxScaler()],\n",
    "             'dim_reducer': [PCA(), KernelPCA(), None]}\n",
    "#             'model__alpha': [0, 1, 5, 10],\n",
    "#             'model__force_alpha': [True, False],\n",
    "#             'model__fit_prior': [True, False]}\n",
    "]\n",
    "\n",
    "grid = GridSearchCV(pipe, param_grid, cv=5)\n",
    "fittedgrid_bnb_over = grid.fit(X_train_over.loc[:, rfe_over.support_], y_train_over)\n",
    "\n",
    "fittedgrid_bnb_over.best_params_"
   ]
  },
  {
   "cell_type": "code",
   "execution_count": 55,
   "id": "001d4c3e",
   "metadata": {},
   "outputs": [
    {
     "name": "stderr",
     "output_type": "stream",
     "text": [
      "C:\\Users\\yumem\\anaconda3\\Lib\\site-packages\\sklearn\\naive_bayes.py:1227: RuntimeWarning: divide by zero encountered in log\n",
      "  neg_prob = np.log(1 - np.exp(self.feature_log_prob_))\n",
      "C:\\Users\\yumem\\anaconda3\\Lib\\site-packages\\sklearn\\naive_bayes.py:1230: RuntimeWarning: invalid value encountered in add\n",
      "  jll += self.class_log_prior_ + neg_prob.sum(axis=1)\n",
      "C:\\Users\\yumem\\anaconda3\\Lib\\site-packages\\sklearn\\naive_bayes.py:1227: RuntimeWarning: divide by zero encountered in log\n",
      "  neg_prob = np.log(1 - np.exp(self.feature_log_prob_))\n",
      "C:\\Users\\yumem\\anaconda3\\Lib\\site-packages\\sklearn\\naive_bayes.py:1230: RuntimeWarning: invalid value encountered in add\n",
      "  jll += self.class_log_prior_ + neg_prob.sum(axis=1)\n",
      "C:\\Users\\yumem\\anaconda3\\Lib\\site-packages\\sklearn\\naive_bayes.py:1227: RuntimeWarning: divide by zero encountered in log\n",
      "  neg_prob = np.log(1 - np.exp(self.feature_log_prob_))\n",
      "C:\\Users\\yumem\\anaconda3\\Lib\\site-packages\\sklearn\\utils\\extmath.py:192: RuntimeWarning: invalid value encountered in matmul\n",
      "  ret = a @ b\n",
      "C:\\Users\\yumem\\anaconda3\\Lib\\site-packages\\sklearn\\naive_bayes.py:1230: RuntimeWarning: invalid value encountered in add\n",
      "  jll += self.class_log_prior_ + neg_prob.sum(axis=1)\n",
      "C:\\Users\\yumem\\anaconda3\\Lib\\site-packages\\sklearn\\naive_bayes.py:1227: RuntimeWarning: divide by zero encountered in log\n",
      "  neg_prob = np.log(1 - np.exp(self.feature_log_prob_))\n",
      "C:\\Users\\yumem\\anaconda3\\Lib\\site-packages\\sklearn\\naive_bayes.py:1230: RuntimeWarning: invalid value encountered in add\n",
      "  jll += self.class_log_prior_ + neg_prob.sum(axis=1)\n",
      "C:\\Users\\yumem\\anaconda3\\Lib\\site-packages\\sklearn\\naive_bayes.py:1227: RuntimeWarning: divide by zero encountered in log\n",
      "  neg_prob = np.log(1 - np.exp(self.feature_log_prob_))\n",
      "C:\\Users\\yumem\\anaconda3\\Lib\\site-packages\\sklearn\\utils\\extmath.py:192: RuntimeWarning: invalid value encountered in matmul\n",
      "  ret = a @ b\n",
      "C:\\Users\\yumem\\anaconda3\\Lib\\site-packages\\sklearn\\naive_bayes.py:1230: RuntimeWarning: invalid value encountered in add\n",
      "  jll += self.class_log_prior_ + neg_prob.sum(axis=1)\n",
      "C:\\Users\\yumem\\anaconda3\\Lib\\site-packages\\sklearn\\naive_bayes.py:633: UserWarning: alpha too small will result in numeric errors, setting alpha = 1.0e-10. Use `force_alpha=True` to keep alpha unchanged.\n",
      "  warnings.warn(\n",
      "C:\\Users\\yumem\\anaconda3\\Lib\\site-packages\\sklearn\\naive_bayes.py:633: UserWarning: alpha too small will result in numeric errors, setting alpha = 1.0e-10. Use `force_alpha=True` to keep alpha unchanged.\n",
      "  warnings.warn(\n",
      "C:\\Users\\yumem\\anaconda3\\Lib\\site-packages\\sklearn\\naive_bayes.py:633: UserWarning: alpha too small will result in numeric errors, setting alpha = 1.0e-10. Use `force_alpha=True` to keep alpha unchanged.\n",
      "  warnings.warn(\n",
      "C:\\Users\\yumem\\anaconda3\\Lib\\site-packages\\sklearn\\naive_bayes.py:633: UserWarning: alpha too small will result in numeric errors, setting alpha = 1.0e-10. Use `force_alpha=True` to keep alpha unchanged.\n",
      "  warnings.warn(\n",
      "C:\\Users\\yumem\\anaconda3\\Lib\\site-packages\\sklearn\\naive_bayes.py:633: UserWarning: alpha too small will result in numeric errors, setting alpha = 1.0e-10. Use `force_alpha=True` to keep alpha unchanged.\n",
      "  warnings.warn(\n",
      "C:\\Users\\yumem\\anaconda3\\Lib\\site-packages\\sklearn\\naive_bayes.py:633: UserWarning: alpha too small will result in numeric errors, setting alpha = 1.0e-10. Use `force_alpha=True` to keep alpha unchanged.\n",
      "  warnings.warn(\n",
      "C:\\Users\\yumem\\anaconda3\\Lib\\site-packages\\sklearn\\naive_bayes.py:1227: RuntimeWarning: divide by zero encountered in log\n",
      "  neg_prob = np.log(1 - np.exp(self.feature_log_prob_))\n",
      "C:\\Users\\yumem\\anaconda3\\Lib\\site-packages\\sklearn\\naive_bayes.py:1230: RuntimeWarning: invalid value encountered in add\n",
      "  jll += self.class_log_prior_ + neg_prob.sum(axis=1)\n",
      "C:\\Users\\yumem\\anaconda3\\Lib\\site-packages\\sklearn\\naive_bayes.py:633: UserWarning: alpha too small will result in numeric errors, setting alpha = 1.0e-10. Use `force_alpha=True` to keep alpha unchanged.\n",
      "  warnings.warn(\n",
      "C:\\Users\\yumem\\anaconda3\\Lib\\site-packages\\sklearn\\naive_bayes.py:1227: RuntimeWarning: divide by zero encountered in log\n",
      "  neg_prob = np.log(1 - np.exp(self.feature_log_prob_))\n",
      "C:\\Users\\yumem\\anaconda3\\Lib\\site-packages\\sklearn\\naive_bayes.py:1230: RuntimeWarning: invalid value encountered in add\n",
      "  jll += self.class_log_prior_ + neg_prob.sum(axis=1)\n",
      "C:\\Users\\yumem\\anaconda3\\Lib\\site-packages\\sklearn\\naive_bayes.py:633: UserWarning: alpha too small will result in numeric errors, setting alpha = 1.0e-10. Use `force_alpha=True` to keep alpha unchanged.\n",
      "  warnings.warn(\n",
      "C:\\Users\\yumem\\anaconda3\\Lib\\site-packages\\sklearn\\naive_bayes.py:1227: RuntimeWarning: divide by zero encountered in log\n",
      "  neg_prob = np.log(1 - np.exp(self.feature_log_prob_))\n",
      "C:\\Users\\yumem\\anaconda3\\Lib\\site-packages\\sklearn\\utils\\extmath.py:192: RuntimeWarning: invalid value encountered in matmul\n",
      "  ret = a @ b\n",
      "C:\\Users\\yumem\\anaconda3\\Lib\\site-packages\\sklearn\\naive_bayes.py:1230: RuntimeWarning: invalid value encountered in add\n",
      "  jll += self.class_log_prior_ + neg_prob.sum(axis=1)\n",
      "C:\\Users\\yumem\\anaconda3\\Lib\\site-packages\\sklearn\\naive_bayes.py:633: UserWarning: alpha too small will result in numeric errors, setting alpha = 1.0e-10. Use `force_alpha=True` to keep alpha unchanged.\n",
      "  warnings.warn(\n",
      "C:\\Users\\yumem\\anaconda3\\Lib\\site-packages\\sklearn\\naive_bayes.py:1227: RuntimeWarning: divide by zero encountered in log\n",
      "  neg_prob = np.log(1 - np.exp(self.feature_log_prob_))\n",
      "C:\\Users\\yumem\\anaconda3\\Lib\\site-packages\\sklearn\\naive_bayes.py:1230: RuntimeWarning: invalid value encountered in add\n",
      "  jll += self.class_log_prior_ + neg_prob.sum(axis=1)\n",
      "C:\\Users\\yumem\\anaconda3\\Lib\\site-packages\\sklearn\\naive_bayes.py:633: UserWarning: alpha too small will result in numeric errors, setting alpha = 1.0e-10. Use `force_alpha=True` to keep alpha unchanged.\n",
      "  warnings.warn(\n",
      "C:\\Users\\yumem\\anaconda3\\Lib\\site-packages\\sklearn\\naive_bayes.py:1227: RuntimeWarning: divide by zero encountered in log\n",
      "  neg_prob = np.log(1 - np.exp(self.feature_log_prob_))\n",
      "C:\\Users\\yumem\\anaconda3\\Lib\\site-packages\\sklearn\\utils\\extmath.py:192: RuntimeWarning: invalid value encountered in matmul\n",
      "  ret = a @ b\n",
      "C:\\Users\\yumem\\anaconda3\\Lib\\site-packages\\sklearn\\naive_bayes.py:1230: RuntimeWarning: invalid value encountered in add\n",
      "  jll += self.class_log_prior_ + neg_prob.sum(axis=1)\n",
      "C:\\Users\\yumem\\anaconda3\\Lib\\site-packages\\sklearn\\naive_bayes.py:1227: RuntimeWarning: divide by zero encountered in log\n",
      "  neg_prob = np.log(1 - np.exp(self.feature_log_prob_))\n",
      "C:\\Users\\yumem\\anaconda3\\Lib\\site-packages\\sklearn\\naive_bayes.py:1230: RuntimeWarning: invalid value encountered in add\n",
      "  jll += self.class_log_prior_ + neg_prob.sum(axis=1)\n",
      "C:\\Users\\yumem\\anaconda3\\Lib\\site-packages\\sklearn\\naive_bayes.py:1227: RuntimeWarning: divide by zero encountered in log\n",
      "  neg_prob = np.log(1 - np.exp(self.feature_log_prob_))\n",
      "C:\\Users\\yumem\\anaconda3\\Lib\\site-packages\\sklearn\\naive_bayes.py:1230: RuntimeWarning: invalid value encountered in add\n",
      "  jll += self.class_log_prior_ + neg_prob.sum(axis=1)\n",
      "C:\\Users\\yumem\\anaconda3\\Lib\\site-packages\\sklearn\\naive_bayes.py:1227: RuntimeWarning: divide by zero encountered in log\n",
      "  neg_prob = np.log(1 - np.exp(self.feature_log_prob_))\n",
      "C:\\Users\\yumem\\anaconda3\\Lib\\site-packages\\sklearn\\utils\\extmath.py:192: RuntimeWarning: invalid value encountered in matmul\n",
      "  ret = a @ b\n",
      "C:\\Users\\yumem\\anaconda3\\Lib\\site-packages\\sklearn\\naive_bayes.py:1230: RuntimeWarning: invalid value encountered in add\n",
      "  jll += self.class_log_prior_ + neg_prob.sum(axis=1)\n",
      "C:\\Users\\yumem\\anaconda3\\Lib\\site-packages\\sklearn\\naive_bayes.py:1227: RuntimeWarning: divide by zero encountered in log\n",
      "  neg_prob = np.log(1 - np.exp(self.feature_log_prob_))\n",
      "C:\\Users\\yumem\\anaconda3\\Lib\\site-packages\\sklearn\\naive_bayes.py:1230: RuntimeWarning: invalid value encountered in add\n",
      "  jll += self.class_log_prior_ + neg_prob.sum(axis=1)\n",
      "C:\\Users\\yumem\\anaconda3\\Lib\\site-packages\\sklearn\\naive_bayes.py:1227: RuntimeWarning: divide by zero encountered in log\n",
      "  neg_prob = np.log(1 - np.exp(self.feature_log_prob_))\n",
      "C:\\Users\\yumem\\anaconda3\\Lib\\site-packages\\sklearn\\utils\\extmath.py:192: RuntimeWarning: invalid value encountered in matmul\n",
      "  ret = a @ b\n",
      "C:\\Users\\yumem\\anaconda3\\Lib\\site-packages\\sklearn\\naive_bayes.py:1230: RuntimeWarning: invalid value encountered in add\n",
      "  jll += self.class_log_prior_ + neg_prob.sum(axis=1)\n",
      "C:\\Users\\yumem\\anaconda3\\Lib\\site-packages\\sklearn\\naive_bayes.py:633: UserWarning: alpha too small will result in numeric errors, setting alpha = 1.0e-10. Use `force_alpha=True` to keep alpha unchanged.\n",
      "  warnings.warn(\n",
      "C:\\Users\\yumem\\anaconda3\\Lib\\site-packages\\sklearn\\naive_bayes.py:633: UserWarning: alpha too small will result in numeric errors, setting alpha = 1.0e-10. Use `force_alpha=True` to keep alpha unchanged.\n",
      "  warnings.warn(\n",
      "C:\\Users\\yumem\\anaconda3\\Lib\\site-packages\\sklearn\\naive_bayes.py:633: UserWarning: alpha too small will result in numeric errors, setting alpha = 1.0e-10. Use `force_alpha=True` to keep alpha unchanged.\n",
      "  warnings.warn(\n",
      "C:\\Users\\yumem\\anaconda3\\Lib\\site-packages\\sklearn\\naive_bayes.py:633: UserWarning: alpha too small will result in numeric errors, setting alpha = 1.0e-10. Use `force_alpha=True` to keep alpha unchanged.\n",
      "  warnings.warn(\n",
      "C:\\Users\\yumem\\anaconda3\\Lib\\site-packages\\sklearn\\naive_bayes.py:633: UserWarning: alpha too small will result in numeric errors, setting alpha = 1.0e-10. Use `force_alpha=True` to keep alpha unchanged.\n",
      "  warnings.warn(\n",
      "C:\\Users\\yumem\\anaconda3\\Lib\\site-packages\\sklearn\\naive_bayes.py:633: UserWarning: alpha too small will result in numeric errors, setting alpha = 1.0e-10. Use `force_alpha=True` to keep alpha unchanged.\n",
      "  warnings.warn(\n",
      "C:\\Users\\yumem\\anaconda3\\Lib\\site-packages\\sklearn\\naive_bayes.py:1227: RuntimeWarning: divide by zero encountered in log\n",
      "  neg_prob = np.log(1 - np.exp(self.feature_log_prob_))\n",
      "C:\\Users\\yumem\\anaconda3\\Lib\\site-packages\\sklearn\\naive_bayes.py:1230: RuntimeWarning: invalid value encountered in add\n",
      "  jll += self.class_log_prior_ + neg_prob.sum(axis=1)\n",
      "C:\\Users\\yumem\\anaconda3\\Lib\\site-packages\\sklearn\\naive_bayes.py:633: UserWarning: alpha too small will result in numeric errors, setting alpha = 1.0e-10. Use `force_alpha=True` to keep alpha unchanged.\n",
      "  warnings.warn(\n",
      "C:\\Users\\yumem\\anaconda3\\Lib\\site-packages\\sklearn\\naive_bayes.py:1227: RuntimeWarning: divide by zero encountered in log\n",
      "  neg_prob = np.log(1 - np.exp(self.feature_log_prob_))\n",
      "C:\\Users\\yumem\\anaconda3\\Lib\\site-packages\\sklearn\\naive_bayes.py:1230: RuntimeWarning: invalid value encountered in add\n",
      "  jll += self.class_log_prior_ + neg_prob.sum(axis=1)\n",
      "C:\\Users\\yumem\\anaconda3\\Lib\\site-packages\\sklearn\\naive_bayes.py:633: UserWarning: alpha too small will result in numeric errors, setting alpha = 1.0e-10. Use `force_alpha=True` to keep alpha unchanged.\n",
      "  warnings.warn(\n",
      "C:\\Users\\yumem\\anaconda3\\Lib\\site-packages\\sklearn\\naive_bayes.py:1227: RuntimeWarning: divide by zero encountered in log\n",
      "  neg_prob = np.log(1 - np.exp(self.feature_log_prob_))\n",
      "C:\\Users\\yumem\\anaconda3\\Lib\\site-packages\\sklearn\\utils\\extmath.py:192: RuntimeWarning: invalid value encountered in matmul\n",
      "  ret = a @ b\n",
      "C:\\Users\\yumem\\anaconda3\\Lib\\site-packages\\sklearn\\naive_bayes.py:1230: RuntimeWarning: invalid value encountered in add\n",
      "  jll += self.class_log_prior_ + neg_prob.sum(axis=1)\n",
      "C:\\Users\\yumem\\anaconda3\\Lib\\site-packages\\sklearn\\naive_bayes.py:633: UserWarning: alpha too small will result in numeric errors, setting alpha = 1.0e-10. Use `force_alpha=True` to keep alpha unchanged.\n",
      "  warnings.warn(\n",
      "C:\\Users\\yumem\\anaconda3\\Lib\\site-packages\\sklearn\\naive_bayes.py:1227: RuntimeWarning: divide by zero encountered in log\n",
      "  neg_prob = np.log(1 - np.exp(self.feature_log_prob_))\n",
      "C:\\Users\\yumem\\anaconda3\\Lib\\site-packages\\sklearn\\naive_bayes.py:1230: RuntimeWarning: invalid value encountered in add\n",
      "  jll += self.class_log_prior_ + neg_prob.sum(axis=1)\n",
      "C:\\Users\\yumem\\anaconda3\\Lib\\site-packages\\sklearn\\naive_bayes.py:633: UserWarning: alpha too small will result in numeric errors, setting alpha = 1.0e-10. Use `force_alpha=True` to keep alpha unchanged.\n",
      "  warnings.warn(\n",
      "C:\\Users\\yumem\\anaconda3\\Lib\\site-packages\\sklearn\\naive_bayes.py:1227: RuntimeWarning: divide by zero encountered in log\n",
      "  neg_prob = np.log(1 - np.exp(self.feature_log_prob_))\n",
      "C:\\Users\\yumem\\anaconda3\\Lib\\site-packages\\sklearn\\utils\\extmath.py:192: RuntimeWarning: invalid value encountered in matmul\n",
      "  ret = a @ b\n",
      "C:\\Users\\yumem\\anaconda3\\Lib\\site-packages\\sklearn\\naive_bayes.py:1230: RuntimeWarning: invalid value encountered in add\n",
      "  jll += self.class_log_prior_ + neg_prob.sum(axis=1)\n"
     ]
    },
    {
     "name": "stdout",
     "output_type": "stream",
     "text": [
      "CPU times: total: 28.8 s\n",
      "Wall time: 31.9 s\n"
     ]
    },
    {
     "data": {
      "text/plain": [
       "{'dim_reducer': None,\n",
       " 'model': BernoulliNB(),\n",
       " 'model__alpha': 0,\n",
       " 'model__fit_prior': True,\n",
       " 'model__force_alpha': True,\n",
       " 'normalise': StandardScaler()}"
      ]
     },
     "execution_count": 55,
     "metadata": {},
     "output_type": "execute_result"
    }
   ],
   "source": [
    "%%time\n",
    "\n",
    "from sklearn.preprocessing import MinMaxScaler\n",
    "from sklearn.pipeline import Pipeline\n",
    "from sklearn.decomposition import PCA, KernelPCA\n",
    "from sklearn.model_selection import GridSearchCV\n",
    "\n",
    "estimators = [('normalise', StandardScaler()),\n",
    "              ('dim_reducer', None),\n",
    "              ('model', BernoulliNB())]\n",
    "\n",
    "pipe = Pipeline(estimators)\n",
    "\n",
    "param_grid = [\n",
    "            {'model': [BernoulliNB()], \n",
    "             'normalise': [StandardScaler(), MinMaxScaler()],\n",
    "             'dim_reducer': [None],\n",
    "             'model__alpha': [0, 1, 5, 10],\n",
    "             'model__force_alpha': [True, False],\n",
    "             'model__fit_prior': [True, False]}\n",
    "]\n",
    "\n",
    "grid = GridSearchCV(pipe, param_grid, cv=5)\n",
    "fittedgrid_bnb_over = grid.fit(X_train_over.loc[:, rfe_over.support_], y_train_over)\n",
    "\n",
    "fittedgrid_bnb_over.best_params_"
   ]
  },
  {
   "cell_type": "code",
   "execution_count": 56,
   "id": "a55fc601",
   "metadata": {},
   "outputs": [
    {
     "data": {
      "text/plain": [
       "0.7252056202878684"
      ]
     },
     "execution_count": 56,
     "metadata": {},
     "output_type": "execute_result"
    }
   ],
   "source": [
    "fittedgrid_bnb_over.score(X_train_over.loc[:, rfe_over.support_], y_train_over)"
   ]
  },
  {
   "cell_type": "code",
   "execution_count": 57,
   "id": "822332a1",
   "metadata": {},
   "outputs": [
    {
     "data": {
      "text/plain": [
       "0.7465786339608449"
      ]
     },
     "execution_count": 57,
     "metadata": {},
     "output_type": "execute_result"
    }
   ],
   "source": [
    "fittedgrid_bnb_over.score(X_test_sampled.loc[:, rfe_over.support_], y_test_sampled)"
   ]
  },
  {
   "cell_type": "code",
   "execution_count": 103,
   "id": "6a58575e",
   "metadata": {},
   "outputs": [
    {
     "name": "stdout",
     "output_type": "stream",
     "text": [
      "Train score: 0.7252056202878684\n",
      "Test score: 0.7465786339608449\n",
      "              precision    recall  f1-score   support\n",
      "\n",
      "           0       0.96      0.75      0.84     87544\n",
      "           1       0.21      0.69      0.32      8178\n",
      "\n",
      "    accuracy                           0.75     95722\n",
      "   macro avg       0.58      0.72      0.58     95722\n",
      "weighted avg       0.90      0.75      0.80     95722\n",
      "\n"
     ]
    }
   ],
   "source": [
    "scaler = StandardScaler()\n",
    "scaler.fit(X_train_over.loc[:, rfe_over.support_])\n",
    "X_scaled_train = scaler.transform(X_train_over.loc[:, rfe_over.support_])\n",
    "X_scaled_test = scaler.transform(X_test_sampled.loc[:, rfe_over.support_])\n",
    "      \n",
    "my_berno_nb = BernoulliNB(alpha=0, fit_prior=True, force_alpha=True).fit(X_scaled_train, y_train_over)\n",
    "    \n",
    "train_pred = my_berno_nb.predict(X_scaled_train)\n",
    "test_pred = my_berno_nb.predict(X_scaled_test)\n",
    "    \n",
    "train_score = accuracy_score(y_train_over, train_pred)\n",
    "test_score = accuracy_score(y_test_sampled, test_pred)\n",
    "    \n",
    "evaluation = classification_report(y_test_sampled, test_pred)\n",
    "    \n",
    "print(f\"Train score: {train_score}\\nTest score: {test_score}\\n{evaluation}\")"
   ]
  },
  {
   "cell_type": "markdown",
   "id": "9e1717aa",
   "metadata": {},
   "source": [
    "The model is still underfitting and any of the scores couldn't improved."
   ]
  },
  {
   "cell_type": "markdown",
   "id": "1c00516a",
   "metadata": {},
   "source": [
    "**SMOTE data**"
   ]
  },
  {
   "cell_type": "code",
   "execution_count": 49,
   "id": "80ae6390",
   "metadata": {},
   "outputs": [
    {
     "name": "stdout",
     "output_type": "stream",
     "text": [
      "SMOTE data: train_v and validation\n"
     ]
    },
    {
     "data": {
      "image/png": "[encoded data removed]",
      "text/plain": [
       "<Figure size 640x480 with 1 Axes>"
      ]
     },
     "metadata": {},
     "output_type": "display_data"
    }
   ],
   "source": [
    "print(\"SMOTE data: train_v and validation\")\n",
    "b_alpha = [0.1, 0.5, 1, 2, 5, 10]\n",
    "bernoulli_alpha(b_alpha, X_train_v_smote, y_train_v_smote, X_validation_smote, y_validation_smote)"
   ]
  },
  {
   "cell_type": "markdown",
   "id": "158e4726",
   "metadata": {},
   "source": [
    "The accuracy score doesn't cgange by the alpha values. I'll use the same alpha values for the train/test set."
   ]
  },
  {
   "cell_type": "code",
   "execution_count": 50,
   "id": "b2117574",
   "metadata": {},
   "outputs": [
    {
     "name": "stdout",
     "output_type": "stream",
     "text": [
      "SMOTE data: train and test\n"
     ]
    },
    {
     "data": {
      "image/png": "[encoded data removed]",
      "text/plain": [
       "<Figure size 640x480 with 1 Axes>"
      ]
     },
     "metadata": {},
     "output_type": "display_data"
    }
   ],
   "source": [
    "print(\"SMOTE data: train and test\")\n",
    "b_alpha = [0.1, 0.5, 1, 2, 5, 10]\n",
    "bernoulli_alpha(b_alpha, X_train_smote.loc[:, rfe_smote.support_], y_train_smote, X_test_smote.loc[:, rfe_smote.support_], y_test_smote)"
   ]
  },
  {
   "cell_type": "markdown",
   "id": "d747ebed",
   "metadata": {},
   "source": [
    "The accuracy score doesn't cgange by the alpha values for the model of train and test set. Also, the test score is greater than the train score, so the model is underfitting.\n",
    "I'll use 1, 5, 10, and 0 for the alpha of pipeline. Also, the same code of the pipeline earlier takes long time to execute for the SMOTE dataset, so I'll split the pipeline into 2 steps."
   ]
  },
  {
   "cell_type": "code",
   "execution_count": 58,
   "id": "52b0705e",
   "metadata": {},
   "outputs": [
    {
     "name": "stderr",
     "output_type": "stream",
     "text": [
      "C:\\Users\\yumem\\anaconda3\\Lib\\site-packages\\sklearn\\model_selection\\_validation.py:425: FitFailedWarning: \n",
      "5 fits failed out of a total of 15.\n",
      "The score on these train-test partitions for these parameters will be set to nan.\n",
      "If these failures are not expected, you can try to debug them by setting error_score='raise'.\n",
      "\n",
      "Below are more details about the failures:\n",
      "--------------------------------------------------------------------------------\n",
      "5 fits failed with the following error:\n",
      "Traceback (most recent call last):\n",
      "  File \"C:\\Users\\yumem\\anaconda3\\Lib\\site-packages\\sklearn\\model_selection\\_validation.py\", line 729, in _fit_and_score\n",
      "    estimator.fit(X_train, y_train, **fit_params)\n",
      "  File \"C:\\Users\\yumem\\anaconda3\\Lib\\site-packages\\sklearn\\base.py\", line 1152, in wrapper\n",
      "    return fit_method(estimator, *args, **kwargs)\n",
      "           ^^^^^^^^^^^^^^^^^^^^^^^^^^^^^^^^^^^^^^\n",
      "  File \"C:\\Users\\yumem\\anaconda3\\Lib\\site-packages\\sklearn\\pipeline.py\", line 423, in fit\n",
      "    Xt = self._fit(X, y, **fit_params_steps)\n",
      "         ^^^^^^^^^^^^^^^^^^^^^^^^^^^^^^^^^^^\n",
      "  File \"C:\\Users\\yumem\\anaconda3\\Lib\\site-packages\\sklearn\\pipeline.py\", line 377, in _fit\n",
      "    X, fitted_transformer = fit_transform_one_cached(\n",
      "                            ^^^^^^^^^^^^^^^^^^^^^^^^^\n",
      "  File \"C:\\Users\\yumem\\anaconda3\\Lib\\site-packages\\joblib\\memory.py\", line 353, in __call__\n",
      "    return self.func(*args, **kwargs)\n",
      "           ^^^^^^^^^^^^^^^^^^^^^^^^^^\n",
      "  File \"C:\\Users\\yumem\\anaconda3\\Lib\\site-packages\\sklearn\\pipeline.py\", line 957, in _fit_transform_one\n",
      "    res = transformer.fit_transform(X, y, **fit_params)\n",
      "          ^^^^^^^^^^^^^^^^^^^^^^^^^^^^^^^^^^^^^^^^^^^^^\n",
      "  File \"C:\\Users\\yumem\\anaconda3\\Lib\\site-packages\\sklearn\\utils\\_set_output.py\", line 157, in wrapped\n",
      "    data_to_wrap = f(self, X, *args, **kwargs)\n",
      "                   ^^^^^^^^^^^^^^^^^^^^^^^^^^^\n",
      "  File \"C:\\Users\\yumem\\anaconda3\\Lib\\site-packages\\sklearn\\decomposition\\_kernel_pca.py\", line 469, in fit_transform\n",
      "    self.fit(X, **params)\n",
      "  File \"C:\\Users\\yumem\\anaconda3\\Lib\\site-packages\\sklearn\\base.py\", line 1152, in wrapper\n",
      "    return fit_method(estimator, *args, **kwargs)\n",
      "           ^^^^^^^^^^^^^^^^^^^^^^^^^^^^^^^^^^^^^^\n",
      "  File \"C:\\Users\\yumem\\anaconda3\\Lib\\site-packages\\sklearn\\decomposition\\_kernel_pca.py\", line 436, in fit\n",
      "    K = self._get_kernel(X)\n",
      "        ^^^^^^^^^^^^^^^^^^^\n",
      "  File \"C:\\Users\\yumem\\anaconda3\\Lib\\site-packages\\sklearn\\decomposition\\_kernel_pca.py\", line 317, in _get_kernel\n",
      "    return pairwise_kernels(\n",
      "           ^^^^^^^^^^^^^^^^^\n",
      "  File \"C:\\Users\\yumem\\anaconda3\\Lib\\site-packages\\sklearn\\metrics\\pairwise.py\", line 2366, in pairwise_kernels\n",
      "    return _parallel_pairwise(X, Y, func, n_jobs, **kwds)\n",
      "           ^^^^^^^^^^^^^^^^^^^^^^^^^^^^^^^^^^^^^^^^^^^^^^\n",
      "  File \"C:\\Users\\yumem\\anaconda3\\Lib\\site-packages\\sklearn\\metrics\\pairwise.py\", line 1766, in _parallel_pairwise\n",
      "    return func(X, Y, **kwds)\n",
      "           ^^^^^^^^^^^^^^^^^^\n",
      "  File \"C:\\Users\\yumem\\anaconda3\\Lib\\site-packages\\sklearn\\utils\\_param_validation.py\", line 187, in wrapper\n",
      "    return func(*args, **kwargs)\n",
      "           ^^^^^^^^^^^^^^^^^^^^^\n",
      "  File \"C:\\Users\\yumem\\anaconda3\\Lib\\site-packages\\sklearn\\metrics\\pairwise.py\", line 1330, in linear_kernel\n",
      "    return safe_sparse_dot(X, Y.T, dense_output=dense_output)\n",
      "           ^^^^^^^^^^^^^^^^^^^^^^^^^^^^^^^^^^^^^^^^^^^^^^^^^^\n",
      "  File \"C:\\Users\\yumem\\anaconda3\\Lib\\site-packages\\sklearn\\utils\\extmath.py\", line 192, in safe_sparse_dot\n",
      "    ret = a @ b\n",
      "          ~~^~~\n",
      "numpy.core._exceptions._ArrayMemoryError: Unable to allocate 796. GiB for an array with shape (326816, 326816) and data type float64\n",
      "\n",
      "  warnings.warn(some_fits_failed_message, FitFailedWarning)\n",
      "C:\\Users\\yumem\\anaconda3\\Lib\\site-packages\\sklearn\\model_selection\\_search.py:979: UserWarning: One or more of the test scores are non-finite: [0.75699843        nan 0.72859346]\n",
      "  warnings.warn(\n"
     ]
    },
    {
     "name": "stdout",
     "output_type": "stream",
     "text": [
      "CPU times: total: 2.64 s\n",
      "Wall time: 3.21 s\n"
     ]
    },
    {
     "data": {
      "text/plain": [
       "{'dim_reducer': PCA(), 'model': BernoulliNB()}"
      ]
     },
     "execution_count": 58,
     "metadata": {},
     "output_type": "execute_result"
    }
   ],
   "source": [
    "%%time\n",
    "\n",
    "from sklearn.preprocessing import MinMaxScaler\n",
    "from sklearn.pipeline import Pipeline\n",
    "from sklearn.decomposition import PCA, KernelPCA\n",
    "from sklearn.model_selection import GridSearchCV\n",
    "\n",
    "estimators = [('normalise', StandardScaler()),\n",
    "              ('dim_reducer', None),\n",
    "              ('model', BernoulliNB())]\n",
    "\n",
    "pipe = Pipeline(estimators)\n",
    "\n",
    "param_grid = [\n",
    "            {'model': [BernoulliNB()], \n",
    "#             'normalise': [StandardScaler(), MinMaxScaler()],\n",
    "             'dim_reducer': [PCA(), KernelPCA(), None]}\n",
    "#             'model__alpha': [0, 1, 5, 10],\n",
    "#             'model__force_alpha': [True, False],\n",
    "#             'model__fit_prior': [True, False]}\n",
    "]\n",
    "\n",
    "grid = GridSearchCV(pipe, param_grid, cv=5)\n",
    "fittedgrid_bnb_smote = grid.fit(X_train_smote.loc[:, rfe_smote.support_], y_train_smote)\n",
    "\n",
    "fittedgrid_bnb_smote.best_params_"
   ]
  },
  {
   "cell_type": "code",
   "execution_count": 77,
   "id": "6c0b0613",
   "metadata": {},
   "outputs": [
    {
     "name": "stderr",
     "output_type": "stream",
     "text": [
      "C:\\Users\\yumem\\anaconda3\\Lib\\site-packages\\sklearn\\naive_bayes.py:633: UserWarning: alpha too small will result in numeric errors, setting alpha = 1.0e-10. Use `force_alpha=True` to keep alpha unchanged.\n",
      "  warnings.warn(\n",
      "C:\\Users\\yumem\\anaconda3\\Lib\\site-packages\\sklearn\\naive_bayes.py:633: UserWarning: alpha too small will result in numeric errors, setting alpha = 1.0e-10. Use `force_alpha=True` to keep alpha unchanged.\n",
      "  warnings.warn(\n",
      "C:\\Users\\yumem\\anaconda3\\Lib\\site-packages\\sklearn\\naive_bayes.py:633: UserWarning: alpha too small will result in numeric errors, setting alpha = 1.0e-10. Use `force_alpha=True` to keep alpha unchanged.\n",
      "  warnings.warn(\n",
      "C:\\Users\\yumem\\anaconda3\\Lib\\site-packages\\sklearn\\naive_bayes.py:633: UserWarning: alpha too small will result in numeric errors, setting alpha = 1.0e-10. Use `force_alpha=True` to keep alpha unchanged.\n",
      "  warnings.warn(\n",
      "C:\\Users\\yumem\\anaconda3\\Lib\\site-packages\\sklearn\\naive_bayes.py:633: UserWarning: alpha too small will result in numeric errors, setting alpha = 1.0e-10. Use `force_alpha=True` to keep alpha unchanged.\n",
      "  warnings.warn(\n",
      "C:\\Users\\yumem\\anaconda3\\Lib\\site-packages\\sklearn\\naive_bayes.py:633: UserWarning: alpha too small will result in numeric errors, setting alpha = 1.0e-10. Use `force_alpha=True` to keep alpha unchanged.\n",
      "  warnings.warn(\n",
      "C:\\Users\\yumem\\anaconda3\\Lib\\site-packages\\sklearn\\naive_bayes.py:633: UserWarning: alpha too small will result in numeric errors, setting alpha = 1.0e-10. Use `force_alpha=True` to keep alpha unchanged.\n",
      "  warnings.warn(\n",
      "C:\\Users\\yumem\\anaconda3\\Lib\\site-packages\\sklearn\\naive_bayes.py:633: UserWarning: alpha too small will result in numeric errors, setting alpha = 1.0e-10. Use `force_alpha=True` to keep alpha unchanged.\n",
      "  warnings.warn(\n",
      "C:\\Users\\yumem\\anaconda3\\Lib\\site-packages\\sklearn\\naive_bayes.py:633: UserWarning: alpha too small will result in numeric errors, setting alpha = 1.0e-10. Use `force_alpha=True` to keep alpha unchanged.\n",
      "  warnings.warn(\n",
      "C:\\Users\\yumem\\anaconda3\\Lib\\site-packages\\sklearn\\naive_bayes.py:633: UserWarning: alpha too small will result in numeric errors, setting alpha = 1.0e-10. Use `force_alpha=True` to keep alpha unchanged.\n",
      "  warnings.warn(\n",
      "C:\\Users\\yumem\\anaconda3\\Lib\\site-packages\\sklearn\\naive_bayes.py:633: UserWarning: alpha too small will result in numeric errors, setting alpha = 1.0e-10. Use `force_alpha=True` to keep alpha unchanged.\n",
      "  warnings.warn(\n",
      "C:\\Users\\yumem\\anaconda3\\Lib\\site-packages\\sklearn\\naive_bayes.py:633: UserWarning: alpha too small will result in numeric errors, setting alpha = 1.0e-10. Use `force_alpha=True` to keep alpha unchanged.\n",
      "  warnings.warn(\n",
      "C:\\Users\\yumem\\anaconda3\\Lib\\site-packages\\sklearn\\naive_bayes.py:633: UserWarning: alpha too small will result in numeric errors, setting alpha = 1.0e-10. Use `force_alpha=True` to keep alpha unchanged.\n",
      "  warnings.warn(\n",
      "C:\\Users\\yumem\\anaconda3\\Lib\\site-packages\\sklearn\\naive_bayes.py:633: UserWarning: alpha too small will result in numeric errors, setting alpha = 1.0e-10. Use `force_alpha=True` to keep alpha unchanged.\n",
      "  warnings.warn(\n",
      "C:\\Users\\yumem\\anaconda3\\Lib\\site-packages\\sklearn\\naive_bayes.py:633: UserWarning: alpha too small will result in numeric errors, setting alpha = 1.0e-10. Use `force_alpha=True` to keep alpha unchanged.\n",
      "  warnings.warn(\n",
      "C:\\Users\\yumem\\anaconda3\\Lib\\site-packages\\sklearn\\naive_bayes.py:633: UserWarning: alpha too small will result in numeric errors, setting alpha = 1.0e-10. Use `force_alpha=True` to keep alpha unchanged.\n",
      "  warnings.warn(\n",
      "C:\\Users\\yumem\\anaconda3\\Lib\\site-packages\\sklearn\\naive_bayes.py:633: UserWarning: alpha too small will result in numeric errors, setting alpha = 1.0e-10. Use `force_alpha=True` to keep alpha unchanged.\n",
      "  warnings.warn(\n",
      "C:\\Users\\yumem\\anaconda3\\Lib\\site-packages\\sklearn\\naive_bayes.py:633: UserWarning: alpha too small will result in numeric errors, setting alpha = 1.0e-10. Use `force_alpha=True` to keep alpha unchanged.\n",
      "  warnings.warn(\n",
      "C:\\Users\\yumem\\anaconda3\\Lib\\site-packages\\sklearn\\naive_bayes.py:633: UserWarning: alpha too small will result in numeric errors, setting alpha = 1.0e-10. Use `force_alpha=True` to keep alpha unchanged.\n",
      "  warnings.warn(\n",
      "C:\\Users\\yumem\\anaconda3\\Lib\\site-packages\\sklearn\\naive_bayes.py:633: UserWarning: alpha too small will result in numeric errors, setting alpha = 1.0e-10. Use `force_alpha=True` to keep alpha unchanged.\n",
      "  warnings.warn(\n",
      "C:\\Users\\yumem\\anaconda3\\Lib\\site-packages\\sklearn\\naive_bayes.py:633: UserWarning: alpha too small will result in numeric errors, setting alpha = 1.0e-10. Use `force_alpha=True` to keep alpha unchanged.\n",
      "  warnings.warn(\n",
      "C:\\Users\\yumem\\anaconda3\\Lib\\site-packages\\sklearn\\naive_bayes.py:633: UserWarning: alpha too small will result in numeric errors, setting alpha = 1.0e-10. Use `force_alpha=True` to keep alpha unchanged.\n",
      "  warnings.warn(\n",
      "C:\\Users\\yumem\\anaconda3\\Lib\\site-packages\\sklearn\\naive_bayes.py:633: UserWarning: alpha too small will result in numeric errors, setting alpha = 1.0e-10. Use `force_alpha=True` to keep alpha unchanged.\n",
      "  warnings.warn(\n",
      "C:\\Users\\yumem\\anaconda3\\Lib\\site-packages\\sklearn\\naive_bayes.py:633: UserWarning: alpha too small will result in numeric errors, setting alpha = 1.0e-10. Use `force_alpha=True` to keep alpha unchanged.\n",
      "  warnings.warn(\n",
      "C:\\Users\\yumem\\anaconda3\\Lib\\site-packages\\sklearn\\naive_bayes.py:633: UserWarning: alpha too small will result in numeric errors, setting alpha = 1.0e-10. Use `force_alpha=True` to keep alpha unchanged.\n",
      "  warnings.warn(\n",
      "C:\\Users\\yumem\\anaconda3\\Lib\\site-packages\\sklearn\\naive_bayes.py:633: UserWarning: alpha too small will result in numeric errors, setting alpha = 1.0e-10. Use `force_alpha=True` to keep alpha unchanged.\n",
      "  warnings.warn(\n",
      "C:\\Users\\yumem\\anaconda3\\Lib\\site-packages\\sklearn\\naive_bayes.py:633: UserWarning: alpha too small will result in numeric errors, setting alpha = 1.0e-10. Use `force_alpha=True` to keep alpha unchanged.\n",
      "  warnings.warn(\n",
      "C:\\Users\\yumem\\anaconda3\\Lib\\site-packages\\sklearn\\naive_bayes.py:633: UserWarning: alpha too small will result in numeric errors, setting alpha = 1.0e-10. Use `force_alpha=True` to keep alpha unchanged.\n",
      "  warnings.warn(\n",
      "C:\\Users\\yumem\\anaconda3\\Lib\\site-packages\\sklearn\\naive_bayes.py:633: UserWarning: alpha too small will result in numeric errors, setting alpha = 1.0e-10. Use `force_alpha=True` to keep alpha unchanged.\n",
      "  warnings.warn(\n",
      "C:\\Users\\yumem\\anaconda3\\Lib\\site-packages\\sklearn\\naive_bayes.py:633: UserWarning: alpha too small will result in numeric errors, setting alpha = 1.0e-10. Use `force_alpha=True` to keep alpha unchanged.\n",
      "  warnings.warn(\n"
     ]
    },
    {
     "name": "stdout",
     "output_type": "stream",
     "text": [
      "CPU times: total: 1min 31s\n",
      "Wall time: 1min 59s\n"
     ]
    },
    {
     "data": {
      "text/plain": [
       "{'dim_reducer': PCA(),\n",
       " 'model': BernoulliNB(),\n",
       " 'model__alpha': 0,\n",
       " 'model__fit_prior': True,\n",
       " 'model__force_alpha': True,\n",
       " 'normalise': StandardScaler()}"
      ]
     },
     "execution_count": 77,
     "metadata": {},
     "output_type": "execute_result"
    }
   ],
   "source": [
    "%%time\n",
    "\n",
    "from sklearn.preprocessing import MinMaxScaler\n",
    "from sklearn.pipeline import Pipeline\n",
    "from sklearn.decomposition import PCA, KernelPCA\n",
    "from sklearn.model_selection import GridSearchCV\n",
    "\n",
    "estimators = [('normalise', StandardScaler()),\n",
    "              ('dim_reducer', None),\n",
    "              ('model', BernoulliNB())]\n",
    "\n",
    "pipe = Pipeline(estimators)\n",
    "\n",
    "param_grid = [\n",
    "            {'model': [BernoulliNB()], \n",
    "             'normalise': [StandardScaler(), MinMaxScaler(), None],\n",
    "             'dim_reducer': [PCA()],\n",
    "             'model__alpha': [0, 1, 5, 10],\n",
    "             'model__force_alpha': [True, False],\n",
    "             'model__fit_prior': [True, False]}\n",
    "]\n",
    "\n",
    "grid = GridSearchCV(pipe, param_grid, cv=5)\n",
    "fittedgrid_bnb_smote = grid.fit(X_train_smote.loc[:, rfe_smote.support_], y_train_smote)\n",
    "\n",
    "fittedgrid_bnb_smote.best_params_"
   ]
  },
  {
   "cell_type": "code",
   "execution_count": 78,
   "id": "ed6a3a78",
   "metadata": {},
   "outputs": [
    {
     "data": {
      "text/plain": [
       "0.759289630862626"
      ]
     },
     "execution_count": 78,
     "metadata": {},
     "output_type": "execute_result"
    }
   ],
   "source": [
    "fittedgrid_bnb_smote.score(X_train_smote.loc[:, rfe_smote.support_], y_train_smote)"
   ]
  },
  {
   "cell_type": "code",
   "execution_count": 79,
   "id": "1728582e",
   "metadata": {},
   "outputs": [
    {
     "data": {
      "text/plain": [
       "0.7693006832285159"
      ]
     },
     "execution_count": 79,
     "metadata": {},
     "output_type": "execute_result"
    }
   ],
   "source": [
    "fittedgrid_bnb_smote.score(X_test_smote.loc[:, rfe_smote.support_], y_test_smote)"
   ]
  },
  {
   "cell_type": "code",
   "execution_count": 107,
   "id": "cdd123c7",
   "metadata": {},
   "outputs": [
    {
     "name": "stdout",
     "output_type": "stream",
     "text": [
      "Train score: 0.759289630862626\n",
      "Test score: 0.7693006832285159\n",
      "              precision    recall  f1-score   support\n",
      "\n",
      "           0       0.95      0.79      0.86     87544\n",
      "           1       0.19      0.53      0.28      8178\n",
      "\n",
      "    accuracy                           0.77     95722\n",
      "   macro avg       0.57      0.66      0.57     95722\n",
      "weighted avg       0.88      0.77      0.81     95722\n",
      "\n"
     ]
    }
   ],
   "source": [
    "scaler = StandardScaler()\n",
    "scaler.fit(X_train_smote.loc[:, rfe_smote.support_])\n",
    "X_scaled_train = scaler.transform(X_train_smote.loc[:, rfe_smote.support_])\n",
    "X_scaled_test = scaler.transform(X_test_smote.loc[:, rfe_smote.support_])\n",
    "    \n",
    "my_PCA = PCA()\n",
    "my_PCA.fit(X_scaled_train)\n",
    "\n",
    "X_train_PCA = my_PCA.transform(X_scaled_train)\n",
    "X_test_PCA = my_PCA.transform(X_scaled_test)   \n",
    "    \n",
    "my_berno_nb = BernoulliNB(alpha=0, fit_prior=True, force_alpha=True).fit(X_train_PCA, y_train_smote)\n",
    "    \n",
    "train_pred = my_berno_nb.predict(X_train_PCA)\n",
    "test_pred = my_berno_nb.predict(X_test_PCA)\n",
    "    \n",
    "train_score = accuracy_score(y_train_smote, train_pred)\n",
    "test_score = accuracy_score(y_test_smote, test_pred)\n",
    "    \n",
    "evaluation = classification_report(y_test_smote, test_pred)\n",
    "    \n",
    "print(f\"Train score: {train_score}\\nTest score: {test_score}\\n{evaluation}\")"
   ]
  },
  {
   "cell_type": "markdown",
   "id": "b9bd8adf",
   "metadata": {},
   "source": [
    "The model became less underfitting. Therefore, the f1 score became lower."
   ]
  },
  {
   "cell_type": "markdown",
   "id": "6bfcb05b",
   "metadata": {},
   "source": [
    "I thoght the models of BernoulliNB can improve better at the begining, but any models couldn't improved. That may be why my dataset have continuos features besides binary features.  "
   ]
  },
  {
   "cell_type": "markdown",
   "id": "d04be789",
   "metadata": {},
   "source": [
    "### Model Comparison"
   ]
  },
  {
   "cell_type": "markdown",
   "id": "05ab93e6",
   "metadata": {},
   "source": [
    "All models of BernoulliNB cannot be used same as GaussianNB model with original data and SMOTE data. Therefore, I'll compare 2 models below."
   ]
  },
  {
   "cell_type": "code",
   "execution_count": 112,
   "id": "7a60c317",
   "metadata": {},
   "outputs": [
    {
     "name": "stdout",
     "output_type": "stream",
     "text": [
      "Under Sampled data\n",
      "Train score: 0.7481273898695721\n",
      "Test score: 0.7421491402185495\n",
      "              precision    recall  f1-score   support\n",
      "\n",
      "           0       0.97      0.74      0.84     87544\n",
      "           1       0.21      0.75      0.33      8178\n",
      "\n",
      "    accuracy                           0.74     95722\n",
      "   macro avg       0.59      0.75      0.59     95722\n",
      "weighted avg       0.91      0.74      0.80     95722\n",
      "\n"
     ]
    }
   ],
   "source": [
    "scaler = StandardScaler()\n",
    "scaler.fit(X_train_under.loc[:, rfe_under.support_])\n",
    "X_scaled_train = scaler.transform(X_train_under.loc[:, rfe_under.support_])\n",
    "X_scaled_test = scaler.transform(X_test_sampled.loc[:, rfe_under.support_])\n",
    "    \n",
    "my_PCA = PCA()\n",
    "my_PCA.fit(X_scaled_train)\n",
    "\n",
    "X_train_PCA = my_PCA.transform(X_scaled_train)\n",
    "X_test_PCA = my_PCA.transform(X_scaled_test)\n",
    "\n",
    "my_gaussian_nb = GaussianNB(var_smoothing=1).fit(X_train_PCA, y_train_under)\n",
    "    \n",
    "train_pred = my_gaussian_nb.predict(X_train_PCA)\n",
    "test_pred = my_gaussian_nb.predict(X_test_PCA)\n",
    "    \n",
    "train_score = accuracy_score(y_train_under, train_pred)\n",
    "test_score = accuracy_score(y_test_sampled, test_pred)\n",
    "    \n",
    "evaluation = classification_report(y_test_sampled, test_pred)\n",
    "    \n",
    "print(f\"Under Sampled data\\nTrain score: {train_score}\\nTest score: {test_score}\\n{evaluation}\")"
   ]
  },
  {
   "cell_type": "code",
   "execution_count": 113,
   "id": "256aca79",
   "metadata": {},
   "outputs": [
    {
     "name": "stdout",
     "output_type": "stream",
     "text": [
      "Over Sampled data\n",
      "Train score: 0.7496719866836385\n",
      "Test score: 0.7213075364075134\n",
      "              precision    recall  f1-score   support\n",
      "\n",
      "           0       0.97      0.72      0.82     87544\n",
      "           1       0.21      0.79      0.33      8178\n",
      "\n",
      "    accuracy                           0.72     95722\n",
      "   macro avg       0.59      0.75      0.57     95722\n",
      "weighted avg       0.91      0.72      0.78     95722\n",
      "\n"
     ]
    }
   ],
   "source": [
    "scaler = StandardScaler()\n",
    "scaler.fit(X_train_over.loc[:, rfe_over.support_])\n",
    "X_scaled_train = scaler.transform(X_train_over.loc[:, rfe_over.support_])\n",
    "X_scaled_test = scaler.transform(X_test_sampled.loc[:, rfe_over.support_])\n",
    "    \n",
    "my_PCA = PCA()\n",
    "my_PCA.fit(X_scaled_train)\n",
    "\n",
    "X_train_PCA = my_PCA.transform(X_scaled_train)\n",
    "X_test_PCA = my_PCA.transform(X_scaled_test)\n",
    "\n",
    "my_gaussian_nb = GaussianNB(var_smoothing=0.1).fit(X_train_PCA, y_train_over)\n",
    "    \n",
    "train_pred = my_gaussian_nb.predict(X_train_PCA)\n",
    "test_pred = my_gaussian_nb.predict(X_test_PCA)\n",
    "    \n",
    "train_score = accuracy_score(y_train_over, train_pred)\n",
    "test_score = accuracy_score(y_test_sampled, test_pred)\n",
    "    \n",
    "evaluation = classification_report(y_test_sampled, test_pred)\n",
    "    \n",
    "print(f\"Over Sampled data\\nTrain score: {train_score}\\nTest score: {test_score}\\n{evaluation}\")"
   ]
  },
  {
   "cell_type": "markdown",
   "id": "d3bc4aa2",
   "metadata": {},
   "source": [
    "The test score of under sampled data is greater than the test score of over sampled data. However, the recall score of over sampled data is better than under sampled data's. I'd like to give importance to recall score, i'll keep the model with over sampled data."
   ]
  },
  {
   "cell_type": "markdown",
   "id": "415ace74",
   "metadata": {},
   "source": [
    "**From Naive Bayes Clasifier: Over Sampled dataset**"
   ]
  },
  {
   "cell_type": "code",
   "execution_count": null,
   "id": "24fd3574",
   "metadata": {},
   "outputs": [],
   "source": []
  }
 ],
 "metadata": {
  "kernelspec": {
   "display_name": "Python 3 (ipykernel)",
   "language": "python",
   "name": "python3"
  },
  "language_info": {
   "codemirror_mode": {
    "name": "ipython",
    "version": 3
   },
   "file_extension": ".py",
   "mimetype": "text/x-python",
   "name": "python",
   "nbconvert_exporter": "python",
   "pygments_lexer": "ipython3",
   "version": "3.11.7"
  }
 },
 "nbformat": 4,
 "nbformat_minor": 5
}
